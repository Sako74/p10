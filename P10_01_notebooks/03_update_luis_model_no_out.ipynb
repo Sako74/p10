{
 "cells": [
  {
   "cell_type": "markdown",
   "id": "b40c89db",
   "metadata": {
    "toc": true
   },
   "source": [
    "<h1>Sommaire<span class=\"tocSkip\"></span></h1>\n",
    "<div class=\"toc\"><ul class=\"toc-item\"><li><span><a href=\"#Introduction\" data-toc-modified-id=\"Introduction-1\"><span class=\"toc-item-num\">1&nbsp;&nbsp;</span>Introduction</a></span></li><li><span><a href=\"#Création-d'une-nouvelle-branche-git\" data-toc-modified-id=\"Création-d'une-nouvelle-branche-git-2\"><span class=\"toc-item-num\">2&nbsp;&nbsp;</span>Création d'une nouvelle branche git</a></span></li><li><span><a href=\"#Chargement-des-ressources\" data-toc-modified-id=\"Chargement-des-ressources-3\"><span class=\"toc-item-num\">3&nbsp;&nbsp;</span>Chargement des ressources</a></span><ul class=\"toc-item\"><li><span><a href=\"#Chargement-du-workspace\" data-toc-modified-id=\"Chargement-du-workspace-3.1\"><span class=\"toc-item-num\">3.1&nbsp;&nbsp;</span>Chargement du workspace</a></span></li><li><span><a href=\"#Chargement-du-magasin-des-données\" data-toc-modified-id=\"Chargement-du-magasin-des-données-3.2\"><span class=\"toc-item-num\">3.2&nbsp;&nbsp;</span>Chargement du magasin des données</a></span></li><li><span><a href=\"#Chargement-des-paramètres-de-LUIS\" data-toc-modified-id=\"Chargement-des-paramètres-de-LUIS-3.3\"><span class=\"toc-item-num\">3.3&nbsp;&nbsp;</span>Chargement des paramètres de LUIS</a></span></li></ul></li><li><span><a href=\"#Mise-à-jour-du-jeu-de-données\" data-toc-modified-id=\"Mise-à-jour-du-jeu-de-données-4\"><span class=\"toc-item-num\">4&nbsp;&nbsp;</span>Mise à jour du jeu de données</a></span><ul class=\"toc-item\"><li><span><a href=\"#Chargement-des-textes-à-labelliser\" data-toc-modified-id=\"Chargement-des-textes-à-labelliser-4.1\"><span class=\"toc-item-num\">4.1&nbsp;&nbsp;</span>Chargement des textes à labelliser</a></span><ul class=\"toc-item\"><li><span><a href=\"#Intent-book_flight\" data-toc-modified-id=\"Intent-book_flight-4.1.1\"><span class=\"toc-item-num\">4.1.1&nbsp;&nbsp;</span>Intent <code>book_flight</code></a></span></li><li><span><a href=\"#Intent-None\" data-toc-modified-id=\"Intent-None-4.1.2\"><span class=\"toc-item-num\">4.1.2&nbsp;&nbsp;</span>Intent <code>None</code></a></span></li></ul></li><li><span><a href=\"#Chargement-du-précédent-jeu-de-données\" data-toc-modified-id=\"Chargement-du-précédent-jeu-de-données-4.2\"><span class=\"toc-item-num\">4.2&nbsp;&nbsp;</span>Chargement du précédent jeu de données</a></span></li><li><span><a href=\"#Suppression-des-doublons\" data-toc-modified-id=\"Suppression-des-doublons-4.3\"><span class=\"toc-item-num\">4.3&nbsp;&nbsp;</span>Suppression des doublons</a></span><ul class=\"toc-item\"><li><span><a href=\"#Intent-book_flight\" data-toc-modified-id=\"Intent-book_flight-4.3.1\"><span class=\"toc-item-num\">4.3.1&nbsp;&nbsp;</span>Intent <code>book_flight</code></a></span></li><li><span><a href=\"#Intent-None\" data-toc-modified-id=\"Intent-None-4.3.2\"><span class=\"toc-item-num\">4.3.2&nbsp;&nbsp;</span>Intent <code>None</code></a></span></li></ul></li><li><span><a href=\"#Transformation-des-données\" data-toc-modified-id=\"Transformation-des-données-4.4\"><span class=\"toc-item-num\">4.4&nbsp;&nbsp;</span>Transformation des données</a></span><ul class=\"toc-item\"><li><span><a href=\"#Intent-book_flight\" data-toc-modified-id=\"Intent-book_flight-4.4.1\"><span class=\"toc-item-num\">4.4.1&nbsp;&nbsp;</span>Intent <code>book_flight</code></a></span></li><li><span><a href=\"#Intent-None\" data-toc-modified-id=\"Intent-None-4.4.2\"><span class=\"toc-item-num\">4.4.2&nbsp;&nbsp;</span>Intent <code>None</code></a></span></li></ul></li><li><span><a href=\"#Labellisation-des-nouveaux-textes\" data-toc-modified-id=\"Labellisation-des-nouveaux-textes-4.5\"><span class=\"toc-item-num\">4.5&nbsp;&nbsp;</span>Labellisation des nouveaux textes</a></span><ul class=\"toc-item\"><li><span><a href=\"#Création-d'un-modèle-LUIS-pour-la-labellisation\" data-toc-modified-id=\"Création-d'un-modèle-LUIS-pour-la-labellisation-4.5.1\"><span class=\"toc-item-num\">4.5.1&nbsp;&nbsp;</span>Création d'un modèle LUIS pour la labellisation</a></span></li><li><span><a href=\"#Labellisation-manuelle\" data-toc-modified-id=\"Labellisation-manuelle-4.5.2\"><span class=\"toc-item-num\">4.5.2&nbsp;&nbsp;</span>Labellisation manuelle</a></span></li><li><span><a href=\"#Téléchargement-des-utterances-labellisées\" data-toc-modified-id=\"Téléchargement-des-utterances-labellisées-4.5.3\"><span class=\"toc-item-num\">4.5.3&nbsp;&nbsp;</span>Téléchargement des utterances labellisées</a></span></li></ul></li><li><span><a href=\"#Split-des-données\" data-toc-modified-id=\"Split-des-données-4.6\"><span class=\"toc-item-num\">4.6&nbsp;&nbsp;</span>Split des données</a></span></li><li><span><a href=\"#Ajout-des-précédentes-utterances\" data-toc-modified-id=\"Ajout-des-précédentes-utterances-4.7\"><span class=\"toc-item-num\">4.7&nbsp;&nbsp;</span>Ajout des précédentes utterances</a></span></li><li><span><a href=\"#Enregistrement-des-datasets\" data-toc-modified-id=\"Enregistrement-des-datasets-4.8\"><span class=\"toc-item-num\">4.8&nbsp;&nbsp;</span>Enregistrement des datasets</a></span></li></ul></li><li><span><a href=\"#Enregistrement-des-paramètres-de-LUIS-sur-Github\" data-toc-modified-id=\"Enregistrement-des-paramètres-de-LUIS-sur-Github-5\"><span class=\"toc-item-num\">5&nbsp;&nbsp;</span>Enregistrement des paramètres de LUIS sur Github</a></span><ul class=\"toc-item\"><li><span><a href=\"#Mise-à-jour-des-paramètres-de-LUIS\" data-toc-modified-id=\"Mise-à-jour-des-paramètres-de-LUIS-5.1\"><span class=\"toc-item-num\">5.1&nbsp;&nbsp;</span>Mise à jour des paramètres de LUIS</a></span></li><li><span><a href=\"#Evaluation-du-nouveau-modèle\" data-toc-modified-id=\"Evaluation-du-nouveau-modèle-5.2\"><span class=\"toc-item-num\">5.2&nbsp;&nbsp;</span>Evaluation du nouveau modèle</a></span></li><li><span><a href=\"#Enregistrement-du-Github\" data-toc-modified-id=\"Enregistrement-du-Github-5.3\"><span class=\"toc-item-num\">5.3&nbsp;&nbsp;</span>Enregistrement du Github</a></span></li></ul></li></ul></div>"
   ]
  },
  {
   "cell_type": "code",
   "execution_count": 1,
   "id": "69c7ffef",
   "metadata": {},
   "outputs": [],
   "source": [
    "%load_ext autoreload\n",
    "%autoreload 2\n",
    "\n",
    "from notebook import *"
   ]
  },
  {
   "cell_type": "code",
   "execution_count": 2,
   "id": "89a0975b",
   "metadata": {},
   "outputs": [],
   "source": [
    "# # Copie les notebooks et supprime les sorties.\n",
    "# # Décommenter et exécuter cette cellule avant de commiter/pusher\n",
    "# # les modifications du notebook sur Github.\n",
    "# copy_and_clean_notebooks()"
   ]
  },
  {
   "cell_type": "markdown",
   "id": "0beb874e",
   "metadata": {},
   "source": [
    "# Introduction\n",
    "\n",
    "Ce notebook va nous permettre de mettre à jour le jeu de données de LUIS et de mettre à jour les paramètres de LUIS en conséquence. Nous allons notamment ajouter dans le jeu de données les textes extraits des analyses d'insatisfactions.\n",
    "\n",
    "<img src=\"./data/img/archi_update_luis.png\" alt=\"Mise à jour de LUIS\" width=\"700\"/>\n",
    "<p style=\"text-align: center; text-decoration: underline;\">Mise à jour de LUIS</p>\n",
    "\n",
    "Attention de ne pas exécuter ce notebook après chaque analyse des insatisfactions. D'après la documentation de LUIS ([en savoir plus](https://docs.microsoft.com/en-us/azure/cognitive-services/luis/luis-concept-best-practices#dont-train-and-publish-with-every-single-example-utterance)), il est recommendé d'avoir au moins 15 nouveaux textes à ajouter au jeu de données pour observer des améliorations du modèle."
   ]
  },
  {
   "cell_type": "markdown",
   "id": "5d57a3b1",
   "metadata": {},
   "source": [
    "# Création d'une nouvelle branche git\n",
    "\n",
    "Commencer par créer une nouvelle branche git pour effectuer et tester vos modifications."
   ]
  },
  {
   "cell_type": "markdown",
   "id": "f3367f80",
   "metadata": {},
   "source": [
    "# Chargement des ressources\n",
    "\n",
    "Nous allons charger toutes les ressources Azure qui vont nous permettre de créer et d'enregistrer des jeux de données.\n",
    "\n",
    "Nous allons aussi charger les paramètres du modèle LUIS actuel."
   ]
  },
  {
   "cell_type": "markdown",
   "id": "5cab4bcd",
   "metadata": {},
   "source": [
    "## Chargement du workspace"
   ]
  },
  {
   "cell_type": "code",
   "execution_count": 7,
   "id": "27df5ae2",
   "metadata": {},
   "outputs": [],
   "source": [
    "# On charge l’espace de travail Azure Machine Learning existant\n",
    "ws = Workspace.from_config()"
   ]
  },
  {
   "cell_type": "markdown",
   "id": "833dfc16",
   "metadata": {},
   "source": [
    "## Chargement du magasin des données"
   ]
  },
  {
   "cell_type": "code",
   "execution_count": 8,
   "id": "7c3e09e3",
   "metadata": {},
   "outputs": [],
   "source": [
    "# On charge le magasin de données par défaut\n",
    "datastore = ws.get_default_datastore()"
   ]
  },
  {
   "cell_type": "markdown",
   "id": "7d77bf90",
   "metadata": {},
   "source": [
    "## Chargement des paramètres de LUIS"
   ]
  },
  {
   "cell_type": "code",
   "execution_count": 9,
   "id": "192ce075",
   "metadata": {},
   "outputs": [],
   "source": [
    "# On charge les variables d'environnement de LUIS\n",
    "env = LUISEnv(\"../P10_02_luis/.env\")"
   ]
  },
  {
   "cell_type": "code",
   "execution_count": 10,
   "id": "452e36b4",
   "metadata": {},
   "outputs": [],
   "source": [
    "# On charge les paramètres du modèle\n",
    "with open(\"../P10_02_luis/params.json\") as f:\n",
    "    params = json.load(f)"
   ]
  },
  {
   "cell_type": "markdown",
   "id": "b61986cb",
   "metadata": {},
   "source": [
    "# Mise à jour du jeu de données\n",
    "\n",
    "Dans cette partie, nous allons labelliser de nouvelles données et les ajouter au jeu de données existant."
   ]
  },
  {
   "cell_type": "markdown",
   "id": "6aa0e218",
   "metadata": {},
   "source": [
    "## Chargement des textes à labelliser"
   ]
  },
  {
   "cell_type": "markdown",
   "id": "29790bce",
   "metadata": {},
   "source": [
    "### Intent `book_flight`\n",
    "\n",
    "Copier dans la liste ci-dessous les textes ayant pour intent `book_flight` :"
   ]
  },
  {
   "cell_type": "code",
   "execution_count": 11,
   "id": "236fcbf9",
   "metadata": {},
   "outputs": [
    {
     "data": {
      "text/plain": [
       "23"
      ]
     },
     "execution_count": 11,
     "metadata": {},
     "output_type": "execute_result"
    }
   ],
   "source": [
    "# On colle les nouveaux textes à labelliser\n",
    "book_flight_texts = [\n",
    "    \"Need two tickets out of Buenos Aires!\",\n",
    "    \"august 25-september 3\",\n",
    "    \"Hi! My 3 best friends and I are looking for a trip to Neverland between August 16 and 19 on a very tight budget of $3500. What can you do for us?\",\n",
    "    \"Hey hey! So spring break is Sept 26 - Oct 3.\",\n",
    "    \"I would like to find a great package from Birmingham to Porto for 6 days.\",\n",
    "    \"Long Beach to Kingston, business only\",\n",
    "    \"hi. i need a vacation. im in berlin and wondering about trips to milan\",\n",
    "    \"Good Morning I Am Writing To Inquire About Possible Booking Availabilities\",\n",
    "    \"HI THERE. I NEED TO FIND MADONNA TO TAKE PICTURES OF HER AND HER FRIEND. I WORK FOR INTOUCH MAGAZINE. CAN YOU GET ME TO SAO PAULO FROM PORTO?\",\n",
    "    \"Hey I live in Mos Eisley and I need to book a flight!\",\n",
    "    \"I'd like to take a vacation between august 30th and September 2nd for 5 adults and 1 kid for 2700.\",\n",
    "    \"THIS IS WHAT I NEED: TIX FOR 3 ADULTS FROM BERLIN TO SENDAI. LEAVING SEPT 2 OR SOMETIME CLOSE AFTER THAT. CAN I GET THIS DONE FOR &lt;$2400?\",\n",
    "    \"I'm looking to book a trip to Fukuoka from Mannheim leaving on August 27th for my honeymoon.\",\n",
    "    \"I want a vacation from Sydney to Washington\",\n",
    "    \"Hello I am currently in Tel Aviv on business and would like to get to Houston next Saturday, August 27th.\",\n",
    "    \"Hello! I am located in Germany and I'm getting married next month, We would really like to go to Naples . can you find me a nice package please!\",\n",
    "    \"Hi there! My wife and I have 5 lovely children.\",\n",
    "    \"We are free to travel between August 31 and September 18.\",\n",
    "    \"We have a few destinations in mind, first one is Sacramento.\",\n",
    "    \"Oh, and we're located in Sendai.\",\n",
    "    \"I need to find something between september 8th and 27th for under 4300 from frankfurt\",\n",
    "    \"a vacatoin\",\n",
    "    \"I absolutely positively must get my parents out of Salvador as long as possible between September 17 and October 8!:persevere:\"\n",
    "]\n",
    "\n",
    "len(book_flight_texts)"
   ]
  },
  {
   "cell_type": "markdown",
   "id": "f2bd46c2",
   "metadata": {},
   "source": [
    "### Intent `None`\n",
    "\n",
    "Copier dans la liste ci-dessous les textes ayant pour intent `None` :"
   ]
  },
  {
   "cell_type": "code",
   "execution_count": 12,
   "id": "036fb2f0",
   "metadata": {},
   "outputs": [
    {
     "data": {
      "text/plain": [
       "6"
      ]
     },
     "execution_count": 12,
     "metadata": {},
     "output_type": "execute_result"
    }
   ],
   "source": [
    "# On colle les nouveaux textes à labelliser\n",
    "none_texts = [\n",
    "    \"Hey !!!\",\n",
    "    \"Can I speek with a human?\",\n",
    "    \"hello\",\n",
    "    \"Common, another bot...\",\n",
    "    \"Hello my dear bot\",\n",
    "    \"Do you speak French?\"\n",
    "]\n",
    "\n",
    "len(none_texts)"
   ]
  },
  {
   "cell_type": "markdown",
   "id": "ef68a943",
   "metadata": {},
   "source": [
    "## Chargement du précédent jeu de données\n",
    "\n",
    "On va récupérer le jeu d'entrainement et le jeu de test du dataset utilisé pour entrainer le modèle actuel."
   ]
  },
  {
   "cell_type": "code",
   "execution_count": 13,
   "id": "c090ff79",
   "metadata": {},
   "outputs": [],
   "source": [
    "# On récupère les information du dataset\n",
    "ds_name = params[\"dataset\"][\"name\"]\n",
    "ds_version = params[\"dataset\"][\"version\"]"
   ]
  },
  {
   "cell_type": "code",
   "execution_count": 14,
   "id": "ab5be7f9",
   "metadata": {},
   "outputs": [],
   "source": [
    "with tempfile.TemporaryDirectory() as tmp_dir_name:\n",
    "    dataset = Dataset.get_by_name(ws, **params[\"dataset\"])\n",
    "    dataset.download(target_path=tmp_dir_name, overwrite=False)\n",
    "\n",
    "    # On charge le jeu d'entrainement\n",
    "    file_path = os.path.join(tmp_dir_name, \"utterances_train.json\")\n",
    "    with open(file_path) as f:\n",
    "        utterances_train = json.load(f)\n",
    "\n",
    "    # On charge le jeu de test\n",
    "    file_path = os.path.join(tmp_dir_name, \"utterances_test.json\")\n",
    "    with open(file_path) as f:\n",
    "        utterances_test = json.load(f)"
   ]
  },
  {
   "cell_type": "markdown",
   "id": "abe9e796",
   "metadata": {},
   "source": [
    "## Suppression des doublons\n",
    "\n",
    "On va extraire les textes de ces jeux de données afin de supprimer les doublons dans les nouveaux textes à labelliser :"
   ]
  },
  {
   "cell_type": "code",
   "execution_count": 15,
   "id": "aa3e0b08",
   "metadata": {},
   "outputs": [],
   "source": [
    "# Extraction des textes du jeu de données pour l'intent \"book_flight\"\n",
    "old_texts = get_texts_from_dataset(\n",
    "    utterances_train,\n",
    "    utterances_test,\n",
    "    \"book_flight\"\n",
    ")\n",
    "\n",
    "# Extraction des textes du jeu de données pour l'intent \"None\"\n",
    "old_texts += get_texts_from_dataset(\n",
    "    utterances_train,\n",
    "    utterances_test,\n",
    "    \"None\"\n",
    ")"
   ]
  },
  {
   "cell_type": "markdown",
   "id": "9d5cdea6",
   "metadata": {},
   "source": [
    "### Intent `book_flight`\n",
    "\n",
    "On supprime les doublons pour l'intent `book_flight`."
   ]
  },
  {
   "cell_type": "code",
   "execution_count": 16,
   "id": "57731fd1",
   "metadata": {},
   "outputs": [
    {
     "data": {
      "text/plain": [
       "23"
      ]
     },
     "execution_count": 16,
     "metadata": {},
     "output_type": "execute_result"
    }
   ],
   "source": [
    "# On supprime les doublons\n",
    "book_flight_texts = [i for i in book_flight_texts if i not in old_texts]\n",
    "\n",
    "len(book_flight_texts)"
   ]
  },
  {
   "cell_type": "markdown",
   "id": "8d90280a",
   "metadata": {},
   "source": [
    "### Intent `None`\n",
    "\n",
    "On supprime les doublons pour l'intent `None`."
   ]
  },
  {
   "cell_type": "code",
   "execution_count": 17,
   "id": "4cc66a77",
   "metadata": {},
   "outputs": [
    {
     "data": {
      "text/plain": [
       "5"
      ]
     },
     "execution_count": 17,
     "metadata": {},
     "output_type": "execute_result"
    }
   ],
   "source": [
    "# On supprime les doublons\n",
    "none_texts = [i for i in none_texts if i not in old_texts]\n",
    "\n",
    "len(none_texts)"
   ]
  },
  {
   "cell_type": "markdown",
   "id": "fac40b97",
   "metadata": {},
   "source": [
    "## Transformation des données\n",
    "\n",
    "Nous allons maintenant convertir nos textes pour les mettre au format LUIS."
   ]
  },
  {
   "cell_type": "markdown",
   "id": "acdb1f7e",
   "metadata": {},
   "source": [
    "### Intent `book_flight`"
   ]
  },
  {
   "cell_type": "code",
   "execution_count": 18,
   "id": "5112870f",
   "metadata": {},
   "outputs": [],
   "source": [
    "# On convertit les textes au format LUIS\n",
    "new_utterances = texts_to_luis_utterances(book_flight_texts, \"book_flight\")"
   ]
  },
  {
   "cell_type": "markdown",
   "id": "9ba44514",
   "metadata": {},
   "source": [
    "### Intent `None`"
   ]
  },
  {
   "cell_type": "code",
   "execution_count": 19,
   "id": "669fb68e",
   "metadata": {},
   "outputs": [],
   "source": [
    "# On convertit les textes au format LUIS\n",
    "new_utterances += texts_to_luis_utterances(none_texts, \"None\")"
   ]
  },
  {
   "cell_type": "markdown",
   "id": "17193ae7",
   "metadata": {},
   "source": [
    "## Labellisation des nouveaux textes\n",
    "\n",
    "Afin de labelliser les nouveaux textes, nous allons utiliser l'outil de labellisation de LUIS Portal ([en savoir plus](https://docs.microsoft.com/en-us/azure/cognitive-services/luis/sign-in-luis-portal))."
   ]
  },
  {
   "cell_type": "markdown",
   "id": "0f9d563d",
   "metadata": {},
   "source": [
    "### Création d'un modèle LUIS pour la labellisation\n",
    "\n",
    "Nous allons commencer par créer une version du modèle actuel sans aucun texte :"
   ]
  },
  {
   "cell_type": "code",
   "execution_count": 20,
   "id": "22637f44",
   "metadata": {},
   "outputs": [],
   "source": [
    "# Nom de version spécial pour la labellisation\n",
    "labellisation_app_version = \"labellisation\""
   ]
  },
  {
   "cell_type": "code",
   "execution_count": 21,
   "id": "e8973268",
   "metadata": {},
   "outputs": [],
   "source": [
    "# On crée la nouvelle version\n",
    "create_new_version(env, labellisation_app_version, params[\"model\"], new_utterances)"
   ]
  },
  {
   "cell_type": "markdown",
   "id": "717e18b9",
   "metadata": {},
   "source": [
    "### Labellisation manuelle\n",
    "\n",
    "La labellisation des nouveaux textes doit se faire manuellement ([en savoir plus](https://docs.microsoft.com/en-us/azure/cognitive-services/luis/label-entity-example-utterance)) :\n",
    "- Aller sur LUIS Portal.\n",
    "- Dans la section `MANAGE/Versions` sélectionner la version `labellisation` et cliquer sur `Activate` pour l'activer.\n",
    "- Aller ensuite dans la section `BUILD/Intents` et sélectionner l'intent `book_flight`.\n",
    "- Labelliser les textes de l'intent en sélectionnant les entities et en leur attribuant un label.\n",
    "\n",
    "<img src=\"./data/img/data_labellisation.png\" alt=\"Exemple de labellisation d'une phrase sur LUIS Portal\" width=\"700\"/>\n",
    "<p style=\"text-align: center; text-decoration: underline;\">Exemple de labellisation d'une phrase sur LUIS Portal</p>"
   ]
  },
  {
   "cell_type": "markdown",
   "id": "0760d58e",
   "metadata": {},
   "source": [
    "### Téléchargement des utterances labellisées\n",
    "\n",
    "Une fois les textes labellisés sur LUIS Portal, il nous suffit de les télécharger :"
   ]
  },
  {
   "cell_type": "code",
   "execution_count": 22,
   "id": "f039721f",
   "metadata": {},
   "outputs": [],
   "source": [
    "new_utterances = get_utterances(env, labellisation_app_version)"
   ]
  },
  {
   "cell_type": "markdown",
   "id": "b03f7ce9",
   "metadata": {},
   "source": [
    "Observons une des données afin de vérifier que la labellisation a bien été effectuée :"
   ]
  },
  {
   "cell_type": "code",
   "execution_count": 25,
   "id": "908cfbe8",
   "metadata": {},
   "outputs": [
    {
     "name": "stdout",
     "output_type": "stream",
     "text": [
      "{\n",
      "  \"text\": \"book me a flight from london to paris tomorrow. i have only 100\\u20ac.\",\n",
      "  \"intent\": \"book_flight\",\n",
      "  \"entities\": [\n",
      "    {\n",
      "      \"entity\": \"from_city\",\n",
      "      \"startPos\": 22,\n",
      "      \"endPos\": 27,\n",
      "      \"children\": []\n",
      "    },\n",
      "    {\n",
      "      \"entity\": \"to_city\",\n",
      "      \"startPos\": 32,\n",
      "      \"endPos\": 36,\n",
      "      \"children\": []\n",
      "    },\n",
      "    {\n",
      "      \"entity\": \"from_dt\",\n",
      "      \"startPos\": 38,\n",
      "      \"endPos\": 45,\n",
      "      \"children\": []\n",
      "    },\n",
      "    {\n",
      "      \"entity\": \"budget\",\n",
      "      \"startPos\": 60,\n",
      "      \"endPos\": 63,\n",
      "      \"children\": []\n",
      "    }\n",
      "  ]\n",
      "}\n"
     ]
    }
   ],
   "source": [
    "pprint_dict(new_utterances[2])"
   ]
  },
  {
   "cell_type": "code",
   "execution_count": 26,
   "id": "cef55cb6",
   "metadata": {},
   "outputs": [],
   "source": [
    "# On ssuprime la version temporaire de labellisation\n",
    "delete(env, labellisation_app_version)"
   ]
  },
  {
   "cell_type": "markdown",
   "id": "65ae3c98",
   "metadata": {},
   "source": [
    "## Split des données\n",
    "\n",
    "Nous allons séparer nos données en un jeu d'entrainement et un jeu de test."
   ]
  },
  {
   "cell_type": "code",
   "execution_count": 27,
   "id": "ba4435d1",
   "metadata": {},
   "outputs": [],
   "source": [
    "# On va prendre 70% des données pour le jeu d'entrainement\n",
    "train_nb = int(len(new_utterances) * 0.7)"
   ]
  },
  {
   "cell_type": "code",
   "execution_count": 28,
   "id": "e6c514fd",
   "metadata": {},
   "outputs": [],
   "source": [
    "# On mélanges les utterances\n",
    "random.shuffle(new_utterances)"
   ]
  },
  {
   "cell_type": "code",
   "execution_count": 31,
   "id": "5ffac64f",
   "metadata": {},
   "outputs": [
    {
     "data": {
      "text/plain": [
       "19"
      ]
     },
     "execution_count": 31,
     "metadata": {},
     "output_type": "execute_result"
    }
   ],
   "source": [
    "# On crée le jeu d'entrainement\n",
    "new_utterances_train = new_utterances[:train_nb]\n",
    "len(new_utterances_train)"
   ]
  },
  {
   "cell_type": "code",
   "execution_count": 32,
   "id": "4d4cfa68",
   "metadata": {},
   "outputs": [
    {
     "data": {
      "text/plain": [
       "9"
      ]
     },
     "execution_count": 32,
     "metadata": {},
     "output_type": "execute_result"
    }
   ],
   "source": [
    "# On crée le jeu de test\n",
    "new_utterances_test = new_utterances[train_nb:]\n",
    "len(new_utterances_test)"
   ]
  },
  {
   "cell_type": "markdown",
   "id": "af93ff52",
   "metadata": {},
   "source": [
    "## Ajout des précédentes utterances\n",
    "\n",
    "On ajoute les nouveaux textes labellisés au précédents jeux de données :"
   ]
  },
  {
   "cell_type": "code",
   "execution_count": 33,
   "id": "eeb845cc",
   "metadata": {},
   "outputs": [],
   "source": [
    "# On ajoute des nouveaux textes au jeu d'entrainement\n",
    "utterances_train += new_utterances_train"
   ]
  },
  {
   "cell_type": "code",
   "execution_count": 34,
   "id": "68fbf7ed",
   "metadata": {},
   "outputs": [],
   "source": [
    "# On ajoute des nouveaux textes au jeu de test\n",
    "utterances_test[\"LabeledTestSetUtterances\"] += new_utterances_test"
   ]
  },
  {
   "cell_type": "markdown",
   "id": "524445b3",
   "metadata": {},
   "source": [
    "## Enregistrement des datasets\n",
    "\n",
    "Nous allons enregistrer nos données au format JSON dans le Datastore :"
   ]
  },
  {
   "cell_type": "code",
   "execution_count": 36,
   "id": "b4b54db1",
   "metadata": {},
   "outputs": [
    {
     "name": "stdout",
     "output_type": "stream",
     "text": [
      "Validating arguments.\n",
      "Arguments validated.\n",
      "Uploading file to utterances/2022_01_02_20_42_00\n",
      "Uploading an estimated of 2 files\n",
      "Uploading /tmp/tmpf60_fch9/utterances_test.json\n",
      "Uploaded /tmp/tmpf60_fch9/utterances_test.json, 1 files out of an estimated total of 2\n",
      "Uploading /tmp/tmpf60_fch9/utterances_train.json\n",
      "Uploaded /tmp/tmpf60_fch9/utterances_train.json, 2 files out of an estimated total of 2\n",
      "Uploaded 2 files\n",
      "Creating new dataset\n"
     ]
    }
   ],
   "source": [
    "with tempfile.TemporaryDirectory() as tmp_dir_name:\n",
    "    # On enregistre les données\n",
    "    file_path = os.path.join(tmp_dir_name, \"utterances_train.json\")\n",
    "    with open(file_path, \"w\") as f:\n",
    "        json.dump(utterances_train, f)\n",
    "        \n",
    "    file_path = os.path.join(tmp_dir_name, \"utterances_test.json\")\n",
    "    with open(file_path, \"w\") as f:\n",
    "        json.dump(utterances_test, f)\n",
    "    \n",
    "    # On upload tous les fichiers dans le datastore\n",
    "    ds = Dataset.File.upload_directory(\n",
    "        tmp_dir_name,\n",
    "        target=(datastore, \"utterances/\" + datetime.now().strftime(\"%Y_%m_%d_%H_%M_%S\")),\n",
    "        overwrite=True,\n",
    "        show_progress=True\n",
    "    )"
   ]
  },
  {
   "cell_type": "markdown",
   "id": "42562baa",
   "metadata": {},
   "source": [
    "On crée ensuite un Dataset Azure à partir de ces fichiers :"
   ]
  },
  {
   "cell_type": "code",
   "execution_count": 37,
   "id": "c36f51a5",
   "metadata": {},
   "outputs": [],
   "source": [
    "ds = ds.register(\n",
    "    workspace=ws,\n",
    "    name=\"utterances\",\n",
    "    description=\"Train and test utterances\",\n",
    "    create_new_version=True\n",
    ")"
   ]
  },
  {
   "cell_type": "code",
   "execution_count": 38,
   "id": "48e42cd3",
   "metadata": {},
   "outputs": [
    {
     "name": "stdout",
     "output_type": "stream",
     "text": [
      "Création du dataset 'utterances' version 3.\n"
     ]
    }
   ],
   "source": [
    "print(f\"Création du dataset '{ds.name}' version {ds.version}.\")"
   ]
  },
  {
   "cell_type": "markdown",
   "id": "11957709",
   "metadata": {},
   "source": [
    "# Enregistrement des paramètres de LUIS sur Github\n",
    "\n",
    "Il existe plusieurs façons de créer un modèle LUIS. Nous avons d'abord testé le tutorial suivant qui utilise le SDK Python : [quickstart](https://docs.microsoft.com/en-us/azure/cognitive-services/luis/client-libraries-rest-api?tabs=windows&pivots=programming-language-python).\n",
    "\n",
    "Nous nous sommes ensuite apperçut que l'on pouvait importer et exporter notre modèle au format JSON ([en savoir plus](https://docs.microsoft.com/en-us/azure/cognitive-services/luis/app-schema-definition)). Ce format s'avère pratique pour versionner le modèle et il reste assez simple pour être manipulé dans le cadre de recherche d'hyperparamètres. Cette méthode utilise le SDK python ainsi que l'API REST de LUIS. Les paramètres du modèle LUIS ainsi que les informations du jeu de données sont stockés dans le fichier `../P10_02_luis/params.json`. C'est ce fichier qui sera ensuite utilisé par les Github actions pour déployer le modèle en production."
   ]
  },
  {
   "cell_type": "markdown",
   "id": "a2c09f50",
   "metadata": {},
   "source": [
    "## Mise à jour des paramètres de LUIS\n",
    "\n",
    "On va donc commencer par mettre à jour le fichier JSON, notamment les informations du jeu de données précédemment créé."
   ]
  },
  {
   "cell_type": "code",
   "execution_count": 39,
   "id": "132dc998",
   "metadata": {},
   "outputs": [],
   "source": [
    "new_params = params.copy()"
   ]
  },
  {
   "cell_type": "code",
   "execution_count": 40,
   "id": "385a0bac",
   "metadata": {},
   "outputs": [],
   "source": [
    "# # En cas de modification du modèle LUIS, penser à incrémenter son numéro de version\n",
    "# new_model_version = float(model_version) + 0.1\n",
    "# new_model_version = f\"{new_model_version:0.1f}\"\n",
    "\n",
    "# new_params[\"model\"][\"versionId\"] = new_model_version"
   ]
  },
  {
   "cell_type": "code",
   "execution_count": 41,
   "id": "9fdae0a0",
   "metadata": {},
   "outputs": [],
   "source": [
    "# On met à jour les paramètres avec le jeu de données que l'on a créé\n",
    "new_params[\"dataset\"][\"name\"] = ds.name\n",
    "new_params[\"dataset\"][\"version\"] = ds.version"
   ]
  },
  {
   "cell_type": "code",
   "execution_count": 42,
   "id": "90316403",
   "metadata": {},
   "outputs": [],
   "source": [
    "# On enregistre les nouveaux paramètres\n",
    "with open(\"../P10_02_luis/params.json\", \"w\") as f:\n",
    "    json.dump(new_params, f)"
   ]
  },
  {
   "cell_type": "markdown",
   "id": "650cd4b9",
   "metadata": {},
   "source": [
    "## Evaluation du nouveau modèle\n",
    "\n",
    "Nous allons utiliser les mêmes briques logicielles que celles utilisées pour le déployement du modèle en production. Elles sont disponible dans le fichier `../P10_02_luis/utils.py`."
   ]
  },
  {
   "cell_type": "code",
   "execution_count": 43,
   "id": "9e200445",
   "metadata": {},
   "outputs": [],
   "source": [
    "# On commence par créer un nom de version temporaire\n",
    "tmp_app_version = \"tmp\""
   ]
  },
  {
   "cell_type": "code",
   "execution_count": 44,
   "id": "036eb3ed",
   "metadata": {},
   "outputs": [],
   "source": [
    "# On crée ensuite une nouvelle version du modèle.\n",
    "# Un premier modèle a déjà été créé dans le script de création\n",
    "# des ressources de LUIS \"../P10_02_luis/luis_create.sh\".\n",
    "# Ce 1er modèle a été créé à partir du fichier \"../P10_02_luis/params.json\".\n",
    "create_new_version(env, tmp_app_version, new_params[\"model\"], utterances_train)"
   ]
  },
  {
   "cell_type": "code",
   "execution_count": 45,
   "id": "b43d275c",
   "metadata": {},
   "outputs": [],
   "source": [
    "# On entraine notre modèle\n",
    "train(env, tmp_app_version)"
   ]
  },
  {
   "cell_type": "code",
   "execution_count": 46,
   "id": "e4e3380b",
   "metadata": {},
   "outputs": [],
   "source": [
    "# On le déploie sur l'environnement de test\n",
    "deploy(env, tmp_app_version, \"staging\")"
   ]
  },
  {
   "cell_type": "code",
   "execution_count": 47,
   "id": "604e7d24",
   "metadata": {},
   "outputs": [
    {
     "data": {
      "text/html": [
       "<div>\n",
       "<style scoped>\n",
       "    .dataframe tbody tr th:only-of-type {\n",
       "        vertical-align: middle;\n",
       "    }\n",
       "\n",
       "    .dataframe tbody tr th {\n",
       "        vertical-align: top;\n",
       "    }\n",
       "\n",
       "    .dataframe thead th {\n",
       "        text-align: right;\n",
       "    }\n",
       "</style>\n",
       "<table border=\"1\" class=\"dataframe\">\n",
       "  <thead>\n",
       "    <tr style=\"text-align: right;\">\n",
       "      <th></th>\n",
       "      <th>model_name</th>\n",
       "      <th>model_type</th>\n",
       "      <th>precision</th>\n",
       "      <th>recall</th>\n",
       "      <th>f_score</th>\n",
       "    </tr>\n",
       "  </thead>\n",
       "  <tbody>\n",
       "    <tr>\n",
       "      <th>0</th>\n",
       "      <td>book_flight</td>\n",
       "      <td>Intent Classifier</td>\n",
       "      <td>0.93</td>\n",
       "      <td>1.00</td>\n",
       "      <td>0.96</td>\n",
       "    </tr>\n",
       "    <tr>\n",
       "      <th>1</th>\n",
       "      <td>None</td>\n",
       "      <td>Intent Classifier</td>\n",
       "      <td>1.00</td>\n",
       "      <td>0.81</td>\n",
       "      <td>0.89</td>\n",
       "    </tr>\n",
       "    <tr>\n",
       "      <th>2</th>\n",
       "      <td>from_dt</td>\n",
       "      <td>Entity Extractor</td>\n",
       "      <td>0.75</td>\n",
       "      <td>0.90</td>\n",
       "      <td>0.82</td>\n",
       "    </tr>\n",
       "    <tr>\n",
       "      <th>3</th>\n",
       "      <td>to_dt</td>\n",
       "      <td>Entity Extractor</td>\n",
       "      <td>0.69</td>\n",
       "      <td>0.96</td>\n",
       "      <td>0.81</td>\n",
       "    </tr>\n",
       "    <tr>\n",
       "      <th>4</th>\n",
       "      <td>budget</td>\n",
       "      <td>Entity Extractor</td>\n",
       "      <td>0.83</td>\n",
       "      <td>1.00</td>\n",
       "      <td>0.91</td>\n",
       "    </tr>\n",
       "    <tr>\n",
       "      <th>5</th>\n",
       "      <td>from_city</td>\n",
       "      <td>Entity Extractor</td>\n",
       "      <td>0.60</td>\n",
       "      <td>0.93</td>\n",
       "      <td>0.73</td>\n",
       "    </tr>\n",
       "    <tr>\n",
       "      <th>6</th>\n",
       "      <td>to_city</td>\n",
       "      <td>Entity Extractor</td>\n",
       "      <td>0.43</td>\n",
       "      <td>1.00</td>\n",
       "      <td>0.61</td>\n",
       "    </tr>\n",
       "  </tbody>\n",
       "</table>\n",
       "</div>"
      ],
      "text/plain": [
       "    model_name         model_type  precision  recall  f_score\n",
       "0  book_flight  Intent Classifier       0.93    1.00     0.96\n",
       "1         None  Intent Classifier       1.00    0.81     0.89\n",
       "2      from_dt   Entity Extractor       0.75    0.90     0.82\n",
       "3        to_dt   Entity Extractor       0.69    0.96     0.81\n",
       "4       budget   Entity Extractor       0.83    1.00     0.91\n",
       "5    from_city   Entity Extractor       0.60    0.93     0.73\n",
       "6      to_city   Entity Extractor       0.43    1.00     0.61"
      ]
     },
     "execution_count": 47,
     "metadata": {},
     "output_type": "execute_result"
    }
   ],
   "source": [
    "# On évalue le modèle avec le jeu de test\n",
    "res = evaluate(env, is_staging=True, utterances=utterances_test)\n",
    "res"
   ]
  },
  {
   "cell_type": "markdown",
   "id": "11f27af5",
   "metadata": {},
   "source": [
    "Pour chaque intent et chaque entity, on obtient 3 scores :\n",
    "- `precision` : parmis les labels prédit sur chaque mot, indique lesquels sont corrects.\n",
    "- `recall` : parmis les labels à détecter, indique lesquels ont été détéctés par le modèle.\n",
    "- `f_score` : moyenne harmonique de la precision et du recall.\n",
    "\n",
    "Pour un premier modèle, on obtient des scores satisfaisants.\n",
    "\n",
    "On s'apperçoit que la precision des entités `from_city` et `to_city` sont à 0.60 et 0.43. Le modèle semble donc créer beaucoup de faux positifs sur ces entités."
   ]
  },
  {
   "cell_type": "code",
   "execution_count": 48,
   "id": "87a6f6aa",
   "metadata": {},
   "outputs": [],
   "source": [
    "# On supprime la version temporaire\n",
    "delete(env, tmp_app_version)"
   ]
  },
  {
   "cell_type": "markdown",
   "id": "3ceddf5e",
   "metadata": {},
   "source": [
    "## Enregistrement du Github\n",
    "\n",
    "Commiter et pusher sur Github les modifications du fichier `../P10_02_luis/params.json`.\n",
    "\n",
    "Effectuer ensuite une demande de Pull request afin que ces nouveaux paramètres puissent êtres utilisés lors du déploiement du modèle."
   ]
  }
 ],
 "metadata": {
  "kernelspec": {
   "display_name": "p10",
   "language": "python",
   "name": "p10"
  },
  "language_info": {
   "codemirror_mode": {
    "name": "ipython",
    "version": 3
   },
   "file_extension": ".py",
   "mimetype": "text/x-python",
   "name": "python",
   "nbconvert_exporter": "python",
   "pygments_lexer": "ipython3",
   "version": "3.8.8"
  },
  "toc": {
   "base_numbering": 1,
   "nav_menu": {},
   "number_sections": true,
   "sideBar": true,
   "skip_h1_title": false,
   "title_cell": "Sommaire",
   "title_sidebar": "Contents",
   "toc_cell": true,
   "toc_position": {
    "height": "calc(100% - 180px)",
    "left": "10px",
    "top": "150px",
    "width": "345px"
   },
   "toc_section_display": true,
   "toc_window_display": true
  }
 },
 "nbformat": 4,
 "nbformat_minor": 5
}
