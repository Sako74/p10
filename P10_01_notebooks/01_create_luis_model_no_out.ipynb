{
 "cells": [
  {
   "cell_type": "markdown",
   "id": "df220f4d",
   "metadata": {
    "toc": true
   },
   "source": [
    "<h1>Sommaire<span class=\"tocSkip\"></span></h1>\n",
    "<div class=\"toc\"><ul class=\"toc-item\"><li><span><a href=\"#Introduction\" data-toc-modified-id=\"Introduction-1\"><span class=\"toc-item-num\">1&nbsp;&nbsp;</span>Introduction</a></span><ul class=\"toc-item\"><li><span><a href=\"#Architecture-MLOps\" data-toc-modified-id=\"Architecture-MLOps-1.1\"><span class=\"toc-item-num\">1.1&nbsp;&nbsp;</span>Architecture MLOps</a></span></li><li><span><a href=\"#Le-jeu-de-données\" data-toc-modified-id=\"Le-jeu-de-données-1.2\"><span class=\"toc-item-num\">1.2&nbsp;&nbsp;</span>Le jeu de données</a></span></li></ul></li><li><span><a href=\"#Chargement-des-ressources\" data-toc-modified-id=\"Chargement-des-ressources-2\"><span class=\"toc-item-num\">2&nbsp;&nbsp;</span>Chargement des ressources</a></span><ul class=\"toc-item\"><li><span><a href=\"#Chargement-du-workspace\" data-toc-modified-id=\"Chargement-du-workspace-2.1\"><span class=\"toc-item-num\">2.1&nbsp;&nbsp;</span>Chargement du workspace</a></span></li><li><span><a href=\"#Chargement-du-magasin-des-données\" data-toc-modified-id=\"Chargement-du-magasin-des-données-2.2\"><span class=\"toc-item-num\">2.2&nbsp;&nbsp;</span>Chargement du magasin des données</a></span></li><li><span><a href=\"#Chargement-des-paramètres-de-LUIS\" data-toc-modified-id=\"Chargement-des-paramètres-de-LUIS-2.3\"><span class=\"toc-item-num\">2.3&nbsp;&nbsp;</span>Chargement des paramètres de LUIS</a></span></li></ul></li><li><span><a href=\"#Exploration-et-analyse-des-données\" data-toc-modified-id=\"Exploration-et-analyse-des-données-3\"><span class=\"toc-item-num\">3&nbsp;&nbsp;</span>Exploration et analyse des données</a></span><ul class=\"toc-item\"><li><span><a href=\"#Chargement-du-fichier\" data-toc-modified-id=\"Chargement-du-fichier-3.1\"><span class=\"toc-item-num\">3.1&nbsp;&nbsp;</span>Chargement du fichier</a></span></li><li><span><a href=\"#Analyse-des-textes\" data-toc-modified-id=\"Analyse-des-textes-3.2\"><span class=\"toc-item-num\">3.2&nbsp;&nbsp;</span>Analyse des textes</a></span><ul class=\"toc-item\"><li><span><a href=\"#Indicateurs-statistiques\" data-toc-modified-id=\"Indicateurs-statistiques-3.2.1\"><span class=\"toc-item-num\">3.2.1&nbsp;&nbsp;</span>Indicateurs statistiques</a></span></li></ul></li><li><span><a href=\"#Analyse-des-labels\" data-toc-modified-id=\"Analyse-des-labels-3.3\"><span class=\"toc-item-num\">3.3&nbsp;&nbsp;</span>Analyse des labels</a></span><ul class=\"toc-item\"><li><span><a href=\"#Distribution-des-labels\" data-toc-modified-id=\"Distribution-des-labels-3.3.1\"><span class=\"toc-item-num\">3.3.1&nbsp;&nbsp;</span>Distribution des labels</a></span></li></ul></li><li><span><a href=\"#Transformation-des-données\" data-toc-modified-id=\"Transformation-des-données-3.4\"><span class=\"toc-item-num\">3.4&nbsp;&nbsp;</span>Transformation des données</a></span></li><li><span><a href=\"#Split-des-données\" data-toc-modified-id=\"Split-des-données-3.5\"><span class=\"toc-item-num\">3.5&nbsp;&nbsp;</span>Split des données</a></span></li><li><span><a href=\"#Enregistrement-des-datasets\" data-toc-modified-id=\"Enregistrement-des-datasets-3.6\"><span class=\"toc-item-num\">3.6&nbsp;&nbsp;</span>Enregistrement des datasets</a></span></li></ul></li><li><span><a href=\"#Enregistrement-des-paramètres-de-LUIS-sur-Github\" data-toc-modified-id=\"Enregistrement-des-paramètres-de-LUIS-sur-Github-4\"><span class=\"toc-item-num\">4&nbsp;&nbsp;</span>Enregistrement des paramètres de LUIS sur Github</a></span><ul class=\"toc-item\"><li><span><a href=\"#Mise-à-jour-des-paramètres-de-LUIS\" data-toc-modified-id=\"Mise-à-jour-des-paramètres-de-LUIS-4.1\"><span class=\"toc-item-num\">4.1&nbsp;&nbsp;</span>Mise à jour des paramètres de LUIS</a></span></li><li><span><a href=\"#Evaluation-du-nouveau-modèle\" data-toc-modified-id=\"Evaluation-du-nouveau-modèle-4.2\"><span class=\"toc-item-num\">4.2&nbsp;&nbsp;</span>Evaluation du nouveau modèle</a></span></li><li><span><a href=\"#Enregistrement-du-Github\" data-toc-modified-id=\"Enregistrement-du-Github-4.3\"><span class=\"toc-item-num\">4.3&nbsp;&nbsp;</span>Enregistrement du Github</a></span></li></ul></li></ul></div>"
   ]
  },
  {
   "cell_type": "code",
   "execution_count": 142,
   "id": "ca7fab39",
   "metadata": {
    "gather": {
     "logged": 1639986003246
    }
   },
   "outputs": [
    {
     "name": "stdout",
     "output_type": "stream",
     "text": [
      "The autoreload extension is already loaded. To reload it, use:\n",
      "  %reload_ext autoreload\n"
     ]
    }
   ],
   "source": [
    "import urllib, zipfile\n",
    "\n",
    "%load_ext autoreload\n",
    "%autoreload 2\n",
    "\n",
    "from notebook import *"
   ]
  },
  {
   "cell_type": "code",
   "execution_count": 213,
   "id": "965f0562",
   "metadata": {},
   "outputs": [],
   "source": [
    "# # Copie les notebooks et supprime les sorties.\n",
    "# # Décommenter et exécuter cette cellule avant de commiter/pusher\n",
    "# # les modifications du notebook sur Github.\n",
    "# copy_and_clean_notebooks()"
   ]
  },
  {
   "attachments": {},
   "cell_type": "markdown",
   "id": "4f6823c4-8073-4aac-9b8a-70e4e2660aa1",
   "metadata": {
    "nteract": {
     "transient": {
      "deleting": false
     }
    }
   },
   "source": [
    "# Introduction\n",
    "\n",
    "Ce projet a pour but la réalisation d'un MVP d'un chatbot pour aider les utilisateurs à choisir une offre de voyage.\n",
    "\n",
    "Pour ce faire, nous allons utiliser le service LUIS de Microsoft Azure. Il permet de créer un modèle de language understanding qui va :\n",
    "- Détecter l’intention générale d’une phrase (intent).\n",
    "- En extraire les informations détaillées (entities).\n",
    "\n",
    "Dans le cadre de cette première version du MVP, nous allons uniquement détecter les demandes de réservation de vol ainsi que les informations associées :\n",
    "- Ville de départ.\n",
    "- Ville de destination.\n",
    "- Date aller souhaitée du vol.\n",
    "- Date retour souhaitée du vol.\n",
    "- Budget maximum pour le prix total des billets."
   ]
  },
  {
   "cell_type": "markdown",
   "id": "74731a5e",
   "metadata": {},
   "source": [
    "## Architecture MLOps\n",
    "\n",
    "Le MLOps est une culture et une pratique d'ingénierie ML qui vise à unifier le développement de systèmes ML et leur mise en opération (Ops). Appliquer le MLOps signifie que l'on vise l'automatisation et la surveillance de toutes les étapes de la construction d'un système de ML, y compris l'intégration, les tests, la publication, le déploiement et la gestion de l'infrastructure ([en savoir plus](https://cloud.google.com/architecture/mlops-continuous-delivery-and-automation-pipelines-in-machine-learning)).\n",
    "\n",
    "Nous avons donc mis en place une architecture MLOps afin de pouvoir itérer rapidement sur les versions de notre MVP.\n",
    "\n",
    "<img src=\"./data/img/archi_mlops.png\" alt=\"Architecture MLOps\" width=\"900\"/>\n",
    "<p style=\"text-align: center; text-decoration: underline;\">Architecture MLOps</p>\n",
    "\n",
    "Voici la description du code couleur :\n",
    "- Les blocks en gris sont ceux qui n'ont pas encore été implémentés.\n",
    "- Les blocks en bleu sont ceux qui ont déjà été implémentés.\n",
    "- Les blocks en vert sont ceux qui utilisent Github.\n",
    "- Le block en orange correspond au jeu de données de Microsoft."
   ]
  },
  {
   "attachments": {},
   "cell_type": "markdown",
   "id": "3894ef45",
   "metadata": {},
   "source": [
    "## Le jeu de données\n",
    "\n",
    "Nous allons utiliser un de données fournit gratuitement par Microsoft ([en savoir plus](https://www.microsoft.com/en-us/research/project/frames-dataset/download/)).\n",
    "\n",
    "Il est composé d'un fichier JSON contenant 1369 dialogues entre 2 humains :\n",
    "- Le 1er joue le rôle de l’utilisateur et le 2ème se fait passer pour le bot.\n",
    "- L’utilisateur veut booker un vol et/ou un hôtel.\n",
    "- Le bot va récupérer les paramètres de recherche et proposer une offre.\n",
    "- L’utilisateur va donner une note représentant sa satisfaction.\n",
    "- Effectué par 12 participants sur 20 jours.\n",
    "\n",
    "Les entités dans les textes des utilisateurs sont déjà labellisées :\n",
    "- Ville de départ.\n",
    "- Ville d’arrivée.\n",
    "- Heure de départ.\n",
    "- Heure d’arrivée.\n",
    "- Budget.\n",
    "- Etc…\n",
    "\n",
    "Commençons par récupérer le jeu de données :"
   ]
  },
  {
   "cell_type": "code",
   "execution_count": 3,
   "id": "156c7624",
   "metadata": {},
   "outputs": [
    {
     "name": "stdout",
     "output_type": "stream",
     "text": [
      "Téléchargement des données en cours...\n",
      "Téléchargement des données terminé.\n"
     ]
    }
   ],
   "source": [
    "# Lien vers le dataset\n",
    "DATASET_URL = \"https://s3-eu-west-1.amazonaws.com/static.oc-static.com/prod/courses/files/AI+Engineer/Project+10%C2%A0-+D%C3%A9veloppez+un+chatbot+pour+r%C3%A9server+des+vacances/frames.zip\"\n",
    "DATASET_FN = \"frames.json\"\n",
    "\n",
    "# On vérifie si le fichier est bien présent\n",
    "if DATASET_FN in os.listdir(JSON_PATH):\n",
    "    print(\"Tous les fichiers sont bien présents.\")\n",
    "# Sinon on télécharge et on extrait le fichier\n",
    "else:\n",
    "    print(\"Téléchargement des données en cours...\")\n",
    "\n",
    "    # On télécharge le .zip dans un fichier temporaire et on extrait les données\n",
    "    tmp, _ = urllib.request.urlretrieve(DATASET_URL)\n",
    "    with zipfile.ZipFile(tmp, \"r\") as f:\n",
    "        # On extrait le fichier json\n",
    "        f.extract(DATASET_FN, JSON_PATH)\n",
    "\n",
    "    # On supprime le fichier temporaire\n",
    "    urllib.request.urlcleanup()\n",
    "    \n",
    "    print(\"Téléchargement des données terminé.\")"
   ]
  },
  {
   "cell_type": "markdown",
   "id": "ad2f9c04",
   "metadata": {},
   "source": [
    "# Chargement des ressources\n",
    "\n",
    "Nous allons charger toutes les ressources Azure qui vont nous permettre de créer et d'enregistrer des jeux de données.\n",
    "\n",
    "Nous allons aussi charger les paramètres du modèle LUIS actuel."
   ]
  },
  {
   "cell_type": "markdown",
   "id": "5caf4e91",
   "metadata": {},
   "source": [
    "## Chargement du workspace"
   ]
  },
  {
   "cell_type": "code",
   "execution_count": 190,
   "id": "2e353ab6",
   "metadata": {},
   "outputs": [],
   "source": [
    "# On charge l’espace de travail Azure Machine Learning existant\n",
    "ws = Workspace.from_config()"
   ]
  },
  {
   "cell_type": "markdown",
   "id": "623fc8d1",
   "metadata": {},
   "source": [
    "## Chargement du magasin des données"
   ]
  },
  {
   "cell_type": "code",
   "execution_count": 191,
   "id": "399a877f",
   "metadata": {},
   "outputs": [],
   "source": [
    "# On charge le magasin de données par défaut\n",
    "datastore = ws.get_default_datastore()"
   ]
  },
  {
   "cell_type": "markdown",
   "id": "fc499e85",
   "metadata": {},
   "source": [
    "## Chargement des paramètres de LUIS"
   ]
  },
  {
   "cell_type": "code",
   "execution_count": 85,
   "id": "68b320ee",
   "metadata": {},
   "outputs": [],
   "source": [
    "# On charge les variables d'environnement de LUIS\n",
    "env = LUISEnv(\"../P10_02_luis/.env\")"
   ]
  },
  {
   "cell_type": "code",
   "execution_count": 105,
   "id": "c028f575",
   "metadata": {},
   "outputs": [],
   "source": [
    "# On charge les paramètres du modèle\n",
    "with open(\"../P10_02_luis/params.json\") as f:\n",
    "    params = json.load(f)"
   ]
  },
  {
   "cell_type": "markdown",
   "id": "ff2c947d",
   "metadata": {},
   "source": [
    "# Exploration et analyse des données\n",
    "\n",
    "Cette partie représente le block Data analysis de notre architecture."
   ]
  },
  {
   "cell_type": "markdown",
   "id": "7852a137",
   "metadata": {},
   "source": [
    "## Chargement du fichier\n",
    "\n",
    "Le jeu de données n'est constitué que d'un seul fichier JSON. Il s'agit d'une liste de dialogues appellées `frames`."
   ]
  },
  {
   "cell_type": "code",
   "execution_count": 14,
   "id": "9170bf97",
   "metadata": {
    "gather": {
     "logged": 1638784943450
    }
   },
   "outputs": [
    {
     "name": "stdout",
     "output_type": "stream",
     "text": [
      "Le jeu de donnée contient 1369 frames.\n"
     ]
    }
   ],
   "source": [
    "# On charge les frames\n",
    "with open(\"data/json/frames.json\") as f:\n",
    "    frames = json.load(f)\n",
    "    \n",
    "print(f\"Le jeu de donnée contient {len(frames)} frames.\")"
   ]
  },
  {
   "cell_type": "markdown",
   "id": "11a9ab9f",
   "metadata": {},
   "source": [
    "Voyons à quoi ressemble le premier frame :"
   ]
  },
  {
   "cell_type": "code",
   "execution_count": 6,
   "id": "4056b108",
   "metadata": {},
   "outputs": [
    {
     "data": {
      "text/plain": [
       "{'user_id': 'U22HTHYNP',\n",
       " 'turns': [{'text': \"I'd like to book a trip to Atlantis from Caprica on Saturday, August 13, 2016 for 8 adults. I have a tight budget of 1700.\",\n",
       "   'labels': {'acts': [{'args': [{'val': 'book', 'key': 'intent'}],\n",
       "      'name': 'inform'},\n",
       "     {'args': [{'val': 'Atlantis', 'key': 'dst_city'},\n",
       "       {'val': 'Caprica', 'key': 'or_city'},\n",
       "       {'val': 'Saturday, August 13, 2016', 'key': 'str_date'},\n",
       "       {'val': '8', 'key': 'n_adults'},\n",
       "       {'val': '1700', 'key': 'budget'}],\n",
       "      'name': 'inform'}],\n",
       "    'acts_without_refs': [{'args': [{'val': 'book', 'key': 'intent'}],\n",
       "      'name': 'inform'},\n",
       "     {'args': [{'val': 'Atlantis', 'key': 'dst_city'},\n",
       "       {'val': 'Caprica', 'key': 'or_city'},\n",
       "       {'val': 'Saturday, August 13, 2016', 'key': 'str_date'},\n",
       "       {'val': '8', 'key': 'n_adults'},\n",
       "       {'val': '1700', 'key': 'budget'}],\n",
       "      'name': 'inform'}],\n",
       "    'active_frame': 1,\n",
       "    'frames': [{'info': {'intent': [{'val': 'book', 'negated': False}],\n",
       "       'budget': [{'val': '1700.0', 'negated': False}],\n",
       "       'dst_city': [{'val': 'Atlantis', 'negated': False}],\n",
       "       'or_city': [{'val': 'Caprica', 'negated': False}],\n",
       "       'str_date': [{'val': 'august 13', 'negated': False}],\n",
       "       'n_adults': [{'val': '8', 'negated': False}]},\n",
       "      'frame_id': 1,\n",
       "      'requests': [],\n",
       "      'frame_parent_id': None,\n",
       "      'binary_questions': [],\n",
       "      'compare_requests': []}]},\n",
       "   'author': 'user',\n",
       "   'timestamp': 1471272019730.0},\n",
       "  {'db': {'result': [[{'trip': {'returning': {'duration': {'hours': 0,\n",
       "          'min': 51},\n",
       "         'arrival': {'hour': 10,\n",
       "          'year': 2016,\n",
       "          'day': 24,\n",
       "          'min': 51,\n",
       "          'month': 8},\n",
       "         'departure': {'hour': 10,\n",
       "          'year': 2016,\n",
       "          'day': 24,\n",
       "          'min': 0,\n",
       "          'month': 8}},\n",
       "        'seat': 'ECONOMY',\n",
       "        'leaving': {'duration': {'hours': 0, 'min': 51},\n",
       "         'arrival': {'hour': 0,\n",
       "          'year': 2016,\n",
       "          'day': 16,\n",
       "          'min': 51,\n",
       "          'month': 8},\n",
       "         'departure': {'hour': 0,\n",
       "          'year': 2016,\n",
       "          'day': 16,\n",
       "          'min': 0,\n",
       "          'month': 8}},\n",
       "        'or_city': 'Porto Alegre',\n",
       "        'duration_days': 9},\n",
       "       'price': 2118.81,\n",
       "       'hotel': {'gst_rating': 7.15,\n",
       "        'vicinity': [],\n",
       "        'name': 'Scarlet Palms Resort',\n",
       "        'country': 'Brazil',\n",
       "        'amenities': ['FREE_BREAKFAST', 'FREE_PARKING', 'FREE_WIFI'],\n",
       "        'dst_city': 'Goiania',\n",
       "        'category': '3.5 star hotel'}},\n",
       "      {'trip': {'returning': {'duration': {'hours': 2, 'min': 37},\n",
       "         'arrival': {'hour': 12,\n",
       "          'year': 2016,\n",
       "          'day': 10,\n",
       "          'min': 37,\n",
       "          'month': 8},\n",
       "         'departure': {'hour': 10,\n",
       "          'year': 2016,\n",
       "          'day': 10,\n",
       "          'min': 0,\n",
       "          'month': 8}},\n",
       "        'seat': 'ECONOMY',\n",
       "        'leaving': {'duration': {'hours': 2, 'min': 37},\n",
       "         'arrival': {'hour': 0, 'year': 2016, 'day': 4, 'min': 37, 'month': 8},\n",
       "         'departure': {'hour': 22,\n",
       "          'year': 2016,\n",
       "          'day': 3,\n",
       "          'min': 0,\n",
       "          'month': 8}},\n",
       "        'or_city': 'Porto Alegre',\n",
       "        'duration_days': 7},\n",
       "       'price': 2369.83,\n",
       "       'hotel': {'gst_rating': 0,\n",
       "        'vicinity': [],\n",
       "        'name': 'Sunway Hostel',\n",
       "        'country': 'Argentina',\n",
       "        'amenities': ['FREE_BREAKFAST', 'FREE_WIFI'],\n",
       "        'dst_city': 'Rosario',\n",
       "        'category': '2.0 star hotel'}},\n",
       "      {'trip': {'returning': {'duration': {'hours': 0, 'min': 51},\n",
       "         'arrival': {'hour': 10,\n",
       "          'year': 2016,\n",
       "          'day': 24,\n",
       "          'min': 51,\n",
       "          'month': 8},\n",
       "         'departure': {'hour': 10,\n",
       "          'year': 2016,\n",
       "          'day': 24,\n",
       "          'min': 0,\n",
       "          'month': 8}},\n",
       "        'seat': 'BUSINESS',\n",
       "        'leaving': {'duration': {'hours': 0, 'min': 51},\n",
       "         'arrival': {'hour': 0,\n",
       "          'year': 2016,\n",
       "          'day': 16,\n",
       "          'min': 51,\n",
       "          'month': 8},\n",
       "         'departure': {'hour': 0,\n",
       "          'year': 2016,\n",
       "          'day': 16,\n",
       "          'min': 0,\n",
       "          'month': 8}},\n",
       "        'or_city': 'Porto Alegre',\n",
       "        'duration_days': 9},\n",
       "       'price': 2375.72,\n",
       "       'hotel': {'gst_rating': 7.15,\n",
       "        'vicinity': [],\n",
       "        'name': 'Scarlet Palms Resort',\n",
       "        'country': 'Brazil',\n",
       "        'amenities': ['FREE_BREAKFAST', 'FREE_PARKING', 'FREE_WIFI'],\n",
       "        'dst_city': 'Goiania',\n",
       "        'category': '3.5 star hotel'}},\n",
       "      {'trip': {'returning': {'duration': {'hours': 1, 'min': 30},\n",
       "         'arrival': {'hour': 11,\n",
       "          'year': 2016,\n",
       "          'day': 1,\n",
       "          'min': 30,\n",
       "          'month': 9},\n",
       "         'departure': {'hour': 10,\n",
       "          'year': 2016,\n",
       "          'day': 1,\n",
       "          'min': 0,\n",
       "          'month': 9}},\n",
       "        'seat': 'BUSINESS',\n",
       "        'leaving': {'duration': {'hours': 1, 'min': 30},\n",
       "         'arrival': {'hour': 18,\n",
       "          'year': 2016,\n",
       "          'day': 19,\n",
       "          'min': 30,\n",
       "          'month': 8},\n",
       "         'departure': {'hour': 17,\n",
       "          'year': 2016,\n",
       "          'day': 19,\n",
       "          'min': 0,\n",
       "          'month': 8}},\n",
       "        'or_city': 'Porto Alegre',\n",
       "        'duration_days': 13},\n",
       "       'price': 2492.95,\n",
       "       'hotel': {'gst_rating': 0,\n",
       "        'vicinity': [],\n",
       "        'name': 'Hotel Mundo',\n",
       "        'country': 'Brazil',\n",
       "        'amenities': ['FREE_BREAKFAST', 'FREE_WIFI', 'FREE_PARKING'],\n",
       "        'dst_city': 'Manaus',\n",
       "        'category': '2.5 star hotel'}},\n",
       "      {'trip': {'returning': {'duration': {'hours': 0, 'min': 51},\n",
       "         'arrival': {'hour': 10,\n",
       "          'year': 2016,\n",
       "          'day': 31,\n",
       "          'min': 51,\n",
       "          'month': 8},\n",
       "         'departure': {'hour': 10,\n",
       "          'year': 2016,\n",
       "          'day': 31,\n",
       "          'min': 0,\n",
       "          'month': 8}},\n",
       "        'seat': 'ECONOMY',\n",
       "        'leaving': {'duration': {'hours': 0, 'min': 51},\n",
       "         'arrival': {'hour': 19,\n",
       "          'year': 2016,\n",
       "          'day': 27,\n",
       "          'min': 51,\n",
       "          'month': 8},\n",
       "         'departure': {'hour': 19,\n",
       "          'year': 2016,\n",
       "          'day': 27,\n",
       "          'min': 0,\n",
       "          'month': 8}},\n",
       "        'or_city': 'Porto Alegre',\n",
       "        'duration_days': 4},\n",
       "       'price': 2538.0,\n",
       "       'hotel': {'gst_rating': 8.22,\n",
       "        'vicinity': [],\n",
       "        'name': 'The Glee',\n",
       "        'country': 'Brazil',\n",
       "        'amenities': ['FREE_BREAKFAST', 'FREE_WIFI'],\n",
       "        'dst_city': 'Recife',\n",
       "        'category': '4.0 star hotel'}}],\n",
       "     [],\n",
       "     [],\n",
       "     [],\n",
       "     [],\n",
       "     [],\n",
       "     []],\n",
       "    'search': [{'ORIGIN_CITY': 'Porto Alegre',\n",
       "      'PRICE_MIN': '2000',\n",
       "      'NUM_ADULTS': '2',\n",
       "      'timestamp': 1471271949.995,\n",
       "      'PRICE_MAX': '3000',\n",
       "      'ARE_DATES_FLEXIBLE': 'true',\n",
       "      'NUM_CHILDREN': '5',\n",
       "      'START_TIME': '1470110400000',\n",
       "      'MAX_DURATION': 2592000000.0,\n",
       "      'DESTINATION_CITY': 'Brazil',\n",
       "      'RESULT_LIMIT': '10',\n",
       "      'END_TIME': '1472616000000'},\n",
       "     {'ORIGIN_CITY': 'Atlantis',\n",
       "      'NUM_ADULTS': '8',\n",
       "      'RESULT_LIMIT': '10',\n",
       "      'timestamp': 1471272148.124,\n",
       "      'PRICE_MAX': '1700',\n",
       "      'NUM_CHILDREN': '',\n",
       "      'ARE_DATES_FLEXIBLE': 'true',\n",
       "      'START_TIME': 'NaN',\n",
       "      'END_TIME': 'NaN'},\n",
       "     {'ORIGIN_CITY': 'Caprica',\n",
       "      'PRICE_MAX': '1700',\n",
       "      'NUM_ADULTS': '8',\n",
       "      'RESULT_LIMIT': '10',\n",
       "      'timestamp': 1471272189.07,\n",
       "      'DESTINATION_CITY': 'Atlantis',\n",
       "      'NUM_CHILDREN': '',\n",
       "      'ARE_DATES_FLEXIBLE': 'true',\n",
       "      'START_TIME': '1470715200000',\n",
       "      'END_TIME': '1472011200000'},\n",
       "     {'ORIGIN_CITY': 'Caprica',\n",
       "      'PRICE_MAX': '1700',\n",
       "      'NUM_ADULTS': '8',\n",
       "      'RESULT_LIMIT': '10',\n",
       "      'timestamp': 1471272205.436,\n",
       "      'DESTINATION_CITY': 'Atlantis',\n",
       "      'NUM_CHILDREN': '',\n",
       "      'ARE_DATES_FLEXIBLE': 'true',\n",
       "      'START_TIME': '1470715200000',\n",
       "      'END_TIME': '1472011200000'},\n",
       "     {'ORIGIN_CITY': 'Caprica',\n",
       "      'PRICE_MIN': '1700',\n",
       "      'NUM_ADULTS': '8',\n",
       "      'RESULT_LIMIT': '10',\n",
       "      'timestamp': 1471272278.72,\n",
       "      'DESTINATION_CITY': 'Atlantis',\n",
       "      'NUM_CHILDREN': '',\n",
       "      'ARE_DATES_FLEXIBLE': 'true',\n",
       "      'START_TIME': '1470715200000',\n",
       "      'END_TIME': '1472011200000'},\n",
       "     {'ORIGIN_CITY': 'Caprica',\n",
       "      'PRICE_MIN': '1700',\n",
       "      'NUM_ADULTS': '8',\n",
       "      'RESULT_LIMIT': '10',\n",
       "      'timestamp': 1471272454.542,\n",
       "      'DESTINATION_CITY': 'Atlantis',\n",
       "      'NUM_CHILDREN': '',\n",
       "      'ARE_DATES_FLEXIBLE': 'true',\n",
       "      'START_TIME': '1471060800000',\n",
       "      'END_TIME': '1472011200000'},\n",
       "     {'ORIGIN_CITY': 'Caprica',\n",
       "      'PRICE_MIN': '1700',\n",
       "      'NUM_ADULTS': '8',\n",
       "      'RESULT_LIMIT': '10',\n",
       "      'timestamp': 1471272466.008,\n",
       "      'DESTINATION_CITY': 'Atlantis',\n",
       "      'NUM_CHILDREN': '',\n",
       "      'ARE_DATES_FLEXIBLE': 'true',\n",
       "      'START_TIME': '1471060800000',\n",
       "      'END_TIME': '1472011200000'}]},\n",
       "   'text': 'Hi...I checked a few options for you, and unfortunately, we do not currently have any trips that meet this criteria.  Would you like to book an alternate travel option?',\n",
       "   'labels': {'acts': [{'args': [{'val': [{'annotations': [],\n",
       "          'frame': 1,\n",
       "          'fromrange': False}],\n",
       "        'key': 'ref'}],\n",
       "      'name': 'no_result'},\n",
       "     {'args': [{'key': 'dst_city'}], 'name': 'suggest'},\n",
       "     {'args': [], 'name': 'sorry'}],\n",
       "    'active_frame': 1,\n",
       "    'frames': [{'info': {'intent': [{'val': 'book', 'negated': False}],\n",
       "       'budget': [{'val': '1700.0', 'negated': False}],\n",
       "       'dst_city': [{'val': 'Atlantis', 'negated': False}],\n",
       "       'or_city': [{'val': 'Caprica', 'negated': False}],\n",
       "       'str_date': [{'val': 'august 13', 'negated': False}],\n",
       "       'n_adults': [{'val': '8', 'negated': False}],\n",
       "       'NO_RESULT': [{'val': True, 'negated': False}]},\n",
       "      'frame_id': 1,\n",
       "      'requests': [],\n",
       "      'frame_parent_id': None,\n",
       "      'binary_questions': [],\n",
       "      'compare_requests': []}]},\n",
       "   'author': 'wizard',\n",
       "   'timestamp': 1471272381399.0},\n",
       "  {'text': 'Yes, how about going to Neverland from Caprica on August 13, 2016 for 5 adults. For this trip, my budget would be 1900.',\n",
       "   'labels': {'acts': [{'args': [{'val': 'Neverland', 'key': 'dst_city'},\n",
       "       {'val': '5', 'key': 'n_adults'},\n",
       "       {'val': '1900', 'key': 'budget'},\n",
       "       {'val': [{'annotations': [{'val': 'Caprica', 'key': 'or_city'},\n",
       "           {'val': 'August 13, 2016', 'key': 'str_date'}],\n",
       "          'frame': 1,\n",
       "          'fromrange': False}],\n",
       "        'key': 'ref'}],\n",
       "      'name': 'inform'}],\n",
       "    'acts_without_refs': [{'args': [{'val': 'Neverland', 'key': 'dst_city'},\n",
       "       {'val': '5', 'key': 'n_adults'},\n",
       "       {'val': '1900', 'key': 'budget'},\n",
       "       {'val': 'Caprica', 'key': 'or_city'},\n",
       "       {'val': 'August 13, 2016', 'key': 'str_date'}],\n",
       "      'name': 'inform'}],\n",
       "    'active_frame': 2,\n",
       "    'frames': [{'info': {'intent': [{'val': 'book', 'negated': False}],\n",
       "       'budget': [{'val': '1700.0', 'negated': False}],\n",
       "       'dst_city': [{'val': 'Atlantis', 'negated': False}],\n",
       "       'or_city': [{'val': 'Caprica', 'negated': False}],\n",
       "       'str_date': [{'val': 'august 13', 'negated': False}],\n",
       "       'n_adults': [{'val': '8', 'negated': False}],\n",
       "       'NO_RESULT': [{'val': True, 'negated': False}]},\n",
       "      'frame_id': 1,\n",
       "      'requests': [],\n",
       "      'frame_parent_id': None,\n",
       "      'binary_questions': [],\n",
       "      'compare_requests': []},\n",
       "     {'info': {'intent': [{'val': 'book', 'negated': False}],\n",
       "       'budget': [{'val': '1900.0', 'negated': False}],\n",
       "       'dst_city': [{'val': 'Neverland', 'negated': False}],\n",
       "       'or_city': [{'val': 'Caprica', 'negated': False}],\n",
       "       'str_date': [{'val': 'august 13', 'negated': False}],\n",
       "       'n_adults': [{'val': '5', 'negated': False}]},\n",
       "      'frame_id': 2,\n",
       "      'requests': [],\n",
       "      'frame_parent_id': 1,\n",
       "      'binary_questions': [],\n",
       "      'compare_requests': []}]},\n",
       "   'author': 'user',\n",
       "   'timestamp': 1471272508882.0},\n",
       "  {'db': {'result': [[], [], [], [], [], []],\n",
       "    'search': [{'ORIGIN_CITY': 'Caprica',\n",
       "      'PRICE_MIN': '1700',\n",
       "      'NUM_ADULTS': '8',\n",
       "      'RESULT_LIMIT': '10',\n",
       "      'timestamp': 1471272454.542,\n",
       "      'DESTINATION_CITY': 'Atlantis',\n",
       "      'NUM_CHILDREN': '',\n",
       "      'ARE_DATES_FLEXIBLE': 'true',\n",
       "      'START_TIME': '1471060800000',\n",
       "      'END_TIME': '1472011200000'},\n",
       "     {'ORIGIN_CITY': 'Caprica',\n",
       "      'PRICE_MIN': '1700',\n",
       "      'NUM_ADULTS': '8',\n",
       "      'RESULT_LIMIT': '10',\n",
       "      'timestamp': 1471272466.008,\n",
       "      'DESTINATION_CITY': 'Atlantis',\n",
       "      'NUM_CHILDREN': '',\n",
       "      'ARE_DATES_FLEXIBLE': 'true',\n",
       "      'START_TIME': '1471060800000',\n",
       "      'END_TIME': '1472011200000'},\n",
       "     {'ORIGIN_CITY': 'Caprica',\n",
       "      'PRICE_MAX': '1900',\n",
       "      'NUM_ADULTS': '5',\n",
       "      'RESULT_LIMIT': '10',\n",
       "      'timestamp': 1471272562.484,\n",
       "      'DESTINATION_CITY': 'Neverland',\n",
       "      'NUM_CHILDREN': '',\n",
       "      'ARE_DATES_FLEXIBLE': 'true',\n",
       "      'START_TIME': '1471060800000',\n",
       "      'END_TIME': '1472011200000'},\n",
       "     {'ORIGIN_CITY': 'Caprica',\n",
       "      'PRICE_MAX': '1900',\n",
       "      'NUM_ADULTS': '5',\n",
       "      'RESULT_LIMIT': '10',\n",
       "      'timestamp': 1471272571.739,\n",
       "      'DESTINATION_CITY': 'Neverland',\n",
       "      'NUM_CHILDREN': '',\n",
       "      'ARE_DATES_FLEXIBLE': 'true',\n",
       "      'START_TIME': '1471060800000',\n",
       "      'END_TIME': '1472011200000'},\n",
       "     {'ORIGIN_CITY': 'Caprica',\n",
       "      'NUM_ADULTS': '5',\n",
       "      'RESULT_LIMIT': '10',\n",
       "      'timestamp': 1471272625.733,\n",
       "      'DESTINATION_CITY': 'Neverland',\n",
       "      'NUM_CHILDREN': '',\n",
       "      'ARE_DATES_FLEXIBLE': 'true',\n",
       "      'START_TIME': '1471060800000',\n",
       "      'END_TIME': 'NaN'},\n",
       "     {'ORIGIN_CITY': 'Caprica',\n",
       "      'NUM_ADULTS': '5',\n",
       "      'RESULT_LIMIT': '10',\n",
       "      'timestamp': 1471272628.27,\n",
       "      'DESTINATION_CITY': 'Neverland',\n",
       "      'NUM_CHILDREN': '',\n",
       "      'ARE_DATES_FLEXIBLE': 'true',\n",
       "      'START_TIME': '1471060800000',\n",
       "      'END_TIME': 'NaN'}]},\n",
       "   'text': 'I checked the availability for this date and there were no trips available.  Would you like to select some alternate dates?',\n",
       "   'labels': {'acts': [{'args': [{'val': [{'annotations': [{'val': None,\n",
       "            'key': 'str_date'}],\n",
       "          'frame': 2,\n",
       "          'fromrange': False}],\n",
       "        'key': 'ref'}],\n",
       "      'name': 'no_result'},\n",
       "     {'args': [{'key': 'str_date'}, {'key': 'end_date'}], 'name': 'suggest'}],\n",
       "    'active_frame': 2,\n",
       "    'frames': [{'info': {'intent': [{'val': 'book', 'negated': False}],\n",
       "       'budget': [{'val': '1700.0', 'negated': False}],\n",
       "       'dst_city': [{'val': 'Atlantis', 'negated': False}],\n",
       "       'or_city': [{'val': 'Caprica', 'negated': False}],\n",
       "       'str_date': [{'val': 'august 13', 'negated': False}],\n",
       "       'n_adults': [{'val': '8', 'negated': False}],\n",
       "       'NO_RESULT': [{'val': True, 'negated': False}]},\n",
       "      'frame_id': 1,\n",
       "      'requests': [],\n",
       "      'frame_parent_id': None,\n",
       "      'binary_questions': [],\n",
       "      'compare_requests': []},\n",
       "     {'info': {'intent': [{'val': 'book', 'negated': False}],\n",
       "       'budget': [{'val': '1900.0', 'negated': False}],\n",
       "       'dst_city': [{'val': 'Neverland', 'negated': False}],\n",
       "       'or_city': [{'val': 'Caprica', 'negated': False}],\n",
       "       'str_date': [{'val': 'august 13', 'negated': False}],\n",
       "       'n_adults': [{'val': '5', 'negated': False}],\n",
       "       'NO_RESULT': [{'val': True, 'negated': False}]},\n",
       "      'frame_id': 2,\n",
       "      'requests': [],\n",
       "      'frame_parent_id': 1,\n",
       "      'binary_questions': [],\n",
       "      'compare_requests': []}]},\n",
       "   'author': 'wizard',\n",
       "   'timestamp': 1471272800073.0},\n",
       "  {'text': 'I have no flexibility for dates... but I can leave from Atlantis rather than Caprica. How about that?',\n",
       "   'labels': {'acts': [{'args': [{'val': False, 'key': 'flex'}],\n",
       "      'name': 'inform'},\n",
       "     {'args': [{'val': 'Atlantis', 'key': 'or_city'}], 'name': 'inform'},\n",
       "     {'args': [{'val': [{'annotations': [{'val': 'Caprica', 'key': 'or_city'}],\n",
       "          'frame': 1,\n",
       "          'fromrange': False}],\n",
       "        'key': 'ref'}],\n",
       "      'name': 'negate'}],\n",
       "    'acts_without_refs': [{'args': [{'val': False, 'key': 'flex'}],\n",
       "      'name': 'inform'},\n",
       "     {'args': [{'val': 'Atlantis', 'key': 'or_city'}], 'name': 'inform'},\n",
       "     {'args': [{'val': 'Caprica', 'key': 'or_city'}], 'name': 'negate'}],\n",
       "    'active_frame': 3,\n",
       "    'frames': [{'info': {'intent': [{'val': 'book', 'negated': False}],\n",
       "       'budget': [{'val': '1700.0', 'negated': False}],\n",
       "       'dst_city': [{'val': 'Atlantis', 'negated': False}],\n",
       "       'or_city': [{'val': 'Caprica', 'negated': True}],\n",
       "       'str_date': [{'val': 'august 13', 'negated': False}],\n",
       "       'n_adults': [{'val': '8', 'negated': False}]},\n",
       "      'frame_id': 1,\n",
       "      'requests': [],\n",
       "      'frame_parent_id': None,\n",
       "      'binary_questions': [],\n",
       "      'compare_requests': []},\n",
       "     {'info': {'intent': [{'val': 'book', 'negated': False}],\n",
       "       'budget': [{'val': '1900.0', 'negated': False}],\n",
       "       'dst_city': [{'val': 'Neverland', 'negated': False}],\n",
       "       'or_city': [{'val': 'Caprica', 'negated': False}],\n",
       "       'str_date': [{'val': 'august 13', 'negated': False}],\n",
       "       'n_adults': [{'val': '5', 'negated': False}],\n",
       "       'NO_RESULT': [{'val': True, 'negated': False}]},\n",
       "      'frame_id': 2,\n",
       "      'requests': [],\n",
       "      'frame_parent_id': 1,\n",
       "      'binary_questions': [],\n",
       "      'compare_requests': []},\n",
       "     {'info': {'intent': [{'val': 'book', 'negated': False}],\n",
       "       'budget': [{'val': '1700.0', 'negated': False}],\n",
       "       'flex': [{'val': False, 'negated': False}],\n",
       "       'dst_city': [{'val': 'Atlantis', 'negated': False}],\n",
       "       'or_city': [{'val': 'Atlantis', 'negated': False}],\n",
       "       'str_date': [{'val': 'august 13', 'negated': False}],\n",
       "       'n_adults': [{'val': '8', 'negated': False}]},\n",
       "      'frame_id': 3,\n",
       "      'requests': [],\n",
       "      'frame_parent_id': 1,\n",
       "      'binary_questions': [],\n",
       "      'compare_requests': []}]},\n",
       "   'author': 'user',\n",
       "   'timestamp': 1471272833774.0},\n",
       "  {'db': {'result': [[]],\n",
       "    'search': [{'ORIGIN_CITY': 'Atlantis',\n",
       "      'PRICE_MAX': '1900',\n",
       "      'NUM_ADULTS': '5',\n",
       "      'RESULT_LIMIT': '10',\n",
       "      'timestamp': 1471272866.853,\n",
       "      'DESTINATION_CITY': 'Neverland',\n",
       "      'NUM_CHILDREN': '',\n",
       "      'ARE_DATES_FLEXIBLE': 'true',\n",
       "      'START_TIME': '1471060800000',\n",
       "      'END_TIME': 'NaN'}]},\n",
       "   'text': 'I checked the availability for that date and there were no trips available.  Would you like to select some alternate dates?',\n",
       "   'labels': {'acts': [{'args': [{'val': [{'annotations': [{'val': None,\n",
       "            'key': 'str_date'}],\n",
       "          'frame': 3,\n",
       "          'fromrange': False}],\n",
       "        'key': 'ref'}],\n",
       "      'name': 'no_result'},\n",
       "     {'args': [{'key': 'str_date'}, {'key': 'end_date'}], 'name': 'suggest'}],\n",
       "    'active_frame': 3,\n",
       "    'frames': [{'info': {'intent': [{'val': 'book', 'negated': False}],\n",
       "       'budget': [{'val': '1700.0', 'negated': False}],\n",
       "       'dst_city': [{'val': 'Atlantis', 'negated': False}],\n",
       "       'or_city': [{'val': 'Caprica', 'negated': True}],\n",
       "       'str_date': [{'val': 'august 13', 'negated': False}],\n",
       "       'n_adults': [{'val': '8', 'negated': False}]},\n",
       "      'frame_id': 1,\n",
       "      'requests': [],\n",
       "      'frame_parent_id': None,\n",
       "      'binary_questions': [],\n",
       "      'compare_requests': []},\n",
       "     {'info': {'intent': [{'val': 'book', 'negated': False}],\n",
       "       'budget': [{'val': '1900.0', 'negated': False}],\n",
       "       'dst_city': [{'val': 'Neverland', 'negated': False}],\n",
       "       'or_city': [{'val': 'Caprica', 'negated': False}],\n",
       "       'str_date': [{'val': 'august 13', 'negated': False}],\n",
       "       'n_adults': [{'val': '5', 'negated': False}],\n",
       "       'NO_RESULT': [{'val': True, 'negated': False}]},\n",
       "      'frame_id': 2,\n",
       "      'requests': [],\n",
       "      'frame_parent_id': 1,\n",
       "      'binary_questions': [],\n",
       "      'compare_requests': []},\n",
       "     {'info': {'intent': [{'val': 'book', 'negated': False}],\n",
       "       'budget': [{'val': '1700.0', 'negated': False}],\n",
       "       'flex': [{'val': False, 'negated': False}],\n",
       "       'dst_city': [{'val': 'Atlantis', 'negated': False}],\n",
       "       'or_city': [{'val': 'Atlantis', 'negated': False}],\n",
       "       'str_date': [{'val': 'august 13', 'negated': False}],\n",
       "       'n_adults': [{'val': '8', 'negated': False}],\n",
       "       'NO_RESULT': [{'val': True, 'negated': False}]},\n",
       "      'frame_id': 3,\n",
       "      'requests': [],\n",
       "      'frame_parent_id': 1,\n",
       "      'binary_questions': [],\n",
       "      'compare_requests': []}]},\n",
       "   'author': 'wizard',\n",
       "   'timestamp': 1471273283370},\n",
       "  {'text': \"I suppose I'll speak with my husband to see if we can choose other dates, and then I'll come back to you.Thanks for your help\",\n",
       "   'labels': {'acts': [{'args': [], 'name': 'thankyou'}],\n",
       "    'acts_without_refs': [{'args': [], 'name': 'thankyou'}],\n",
       "    'active_frame': 3,\n",
       "    'frames': [{'info': {'intent': [{'val': 'book', 'negated': False}],\n",
       "       'budget': [{'val': '1700.0', 'negated': False}],\n",
       "       'dst_city': [{'val': 'Atlantis', 'negated': False}],\n",
       "       'or_city': [{'val': 'Caprica', 'negated': True}],\n",
       "       'str_date': [{'val': 'august 13', 'negated': False}],\n",
       "       'n_adults': [{'val': '8', 'negated': False}]},\n",
       "      'frame_id': 1,\n",
       "      'requests': [],\n",
       "      'frame_parent_id': None,\n",
       "      'binary_questions': [],\n",
       "      'compare_requests': []},\n",
       "     {'info': {'intent': [{'val': 'book', 'negated': False}],\n",
       "       'budget': [{'val': '1900.0', 'negated': False}],\n",
       "       'dst_city': [{'val': 'Neverland', 'negated': False}],\n",
       "       'or_city': [{'val': 'Caprica', 'negated': False}],\n",
       "       'str_date': [{'val': 'august 13', 'negated': False}],\n",
       "       'n_adults': [{'val': '5', 'negated': False}],\n",
       "       'NO_RESULT': [{'val': True, 'negated': False}]},\n",
       "      'frame_id': 2,\n",
       "      'requests': [],\n",
       "      'frame_parent_id': 1,\n",
       "      'binary_questions': [],\n",
       "      'compare_requests': []},\n",
       "     {'info': {'intent': [{'val': 'book', 'negated': False}],\n",
       "       'budget': [{'val': '1700.0', 'negated': False}],\n",
       "       'flex': [{'val': False, 'negated': False}],\n",
       "       'dst_city': [{'val': 'Atlantis', 'negated': False}],\n",
       "       'or_city': [{'val': 'Atlantis', 'negated': False}],\n",
       "       'str_date': [{'val': 'august 13', 'negated': False}],\n",
       "       'n_adults': [{'val': '8', 'negated': False}],\n",
       "       'NO_RESULT': [{'val': True, 'negated': False}]},\n",
       "      'frame_id': 3,\n",
       "      'requests': [],\n",
       "      'frame_parent_id': 1,\n",
       "      'binary_questions': [],\n",
       "      'compare_requests': []}]},\n",
       "   'author': 'user',\n",
       "   'timestamp': 1471273458251}],\n",
       " 'wizard_id': 'U21DKG18C',\n",
       " 'id': 'e2c0fc6c-2134-4891-8353-ef16d8412c9a',\n",
       " 'labels': {'userSurveyRating': 4.0, 'wizardSurveyTaskSuccessful': True}}"
      ]
     },
     "execution_count": 6,
     "metadata": {},
     "output_type": "execute_result"
    }
   ],
   "source": [
    "frames[0]"
   ]
  },
  {
   "cell_type": "markdown",
   "id": "b163a2d8",
   "metadata": {},
   "source": [
    "## Analyse des textes\n",
    "\n",
    "Comme indiqué dans la documentation du jeu de données ([en savoir plus](https://www.microsoft.com/en-us/research/project/frames-dataset/download/)), on retrouvera dans l'élément `turns` la liste des textes labellisés.\n",
    "\n",
    "Voyons à quoi ressemble le premier dialogue :"
   ]
  },
  {
   "cell_type": "code",
   "execution_count": 9,
   "id": "5296ba84",
   "metadata": {
    "gather": {
     "logged": 1638784944004
    }
   },
   "outputs": [
    {
     "name": "stdout",
     "output_type": "stream",
     "text": [
      "--------------------------------------------------------------------------------\n",
      "user : I'd like to book a trip to Atlantis from Caprica on Saturday, August 13, 2016 for 8 adults. I have a tight budget of 1700.\n",
      "--------------------------------------------------------------------------------\n",
      "wizard : Hi...I checked a few options for you, and unfortunately, we do not currently have any trips that meet this criteria.  Would you like to book an alternate travel option?\n",
      "--------------------------------------------------------------------------------\n",
      "user : Yes, how about going to Neverland from Caprica on August 13, 2016 for 5 adults. For this trip, my budget would be 1900.\n",
      "--------------------------------------------------------------------------------\n",
      "wizard : I checked the availability for this date and there were no trips available.  Would you like to select some alternate dates?\n",
      "--------------------------------------------------------------------------------\n",
      "user : I have no flexibility for dates... but I can leave from Atlantis rather than Caprica. How about that?\n",
      "--------------------------------------------------------------------------------\n",
      "wizard : I checked the availability for that date and there were no trips available.  Would you like to select some alternate dates?\n",
      "--------------------------------------------------------------------------------\n",
      "user : I suppose I'll speak with my husband to see if we can choose other dates, and then I'll come back to you.Thanks for your help\n"
     ]
    }
   ],
   "source": [
    "# On affiche le premier dialogue\n",
    "for turn in frames[0][\"turns\"]:\n",
    "    print(\"-\" * 80)\n",
    "    print(turn.get(\"author\", \"\"), \":\", turn.get(\"text\", \"\"))"
   ]
  },
  {
   "cell_type": "markdown",
   "id": "0f3c1100",
   "metadata": {},
   "source": [
    "On s'apperçoit que le premier texte de l'utilisateur contient la majorité des informations de sa demande.\n",
    "\n",
    "Voyons à quoi ressemblent les premiers textes des 100 premiers frames :"
   ]
  },
  {
   "cell_type": "code",
   "execution_count": 12,
   "id": "a7b12cb6",
   "metadata": {
    "gather": {
     "logged": 1638784944820
    }
   },
   "outputs": [
    {
     "name": "stdout",
     "output_type": "stream",
     "text": [
      "I'd like to book a trip to Atlantis from Caprica on Saturday, August 13, 2016 for 8 adults. I have a tight budget of 1700.\n",
      "Hello, I am looking to book a vacation from Gotham City to Mos Eisley for $2100.\n",
      "Hello there i am looking to go on a vacation with my family to Gotham City, can you help me?\n",
      "Hi I'd like to go to Caprica from Busan, between Sunday August 21, 2016 and Wednesday August 31, 2016\n",
      "Hello, I am looking to book a trip for 2 adults and 6 children for $21,300 or less. We are departing from Kochi for Denver.\n",
      "Hey, i Want to go to St. Louis on the 17th of August\n",
      "I'm looking for a trip to Gotham City leaving from Kakariko Village on Saturday, August 13, 2016. 3 adults for no more than $2400 USD.\n",
      "Hello, I would like to book a 2-week trip leaving from Melbourne on August 27. I would like to go to Mannheim.\n",
      "Hello, I am planning to book a trip to pittsborgh\n",
      "Hi, I need to go to Mos Eisley for a wedding, leaving on Saturday, August 13, 2016 and returning on Tuesday, August 16, 2016. Preferably for $3700.\n",
      "I'd like to get away from Monday, August 15, 2016 to Wednesday, August 31, 2016. My budget is $3200 and I would leave from Detroit.\n",
      "Good day, please book me a trip from Vancouver, Jamaica to Recife. I would like to leave for 17 days on August 24.\n",
      "Hi im looking for a nice destination that i could go to from Columbus\n",
      "Hi, I have a big family and we can't afford a big vacation, we want to go to Atlantis from Mos Eisley for $3600 at most.\n",
      "Hi, I'm leaving from Diagon Alley and going to Coruscant on a budget of $3400. The dates don't matter, but I cannot afford anything over my budget.\n",
      "Hi there, im from Vitoria and I want to go on vacation\n",
      "Hi, me and my family want to take a trip to Kakariko Village.\n",
      "Hi, I'm looking for a trip  from Thursday, August 18, 2016 to Thursday, September 8, 2016 to Mexico City\n",
      "Hi im from Caprica looking to book a vacation to Hyrule\n",
      "Hey man, imma leave from Godric's Hollow on August 27, 2016 and go to Goiania. Can't pay more than 4300USD. Watcha got?\n",
      "HI im from Alexandria looking to book a 12 day vacation\n",
      "Hi im from termina can we find a vacation that starts on the 13th?\n",
      "Hi. I'm looking for an adventure from Thursday, August 18 to Saturday, September 3. I'm thinking of going to Fortaleza. Yes, with free breakfast of course. I'm leaving from Essen.\n",
      "Hi, my name is Harry Potter and I'd like to go to Hogsmeade leaving from Kakariko Village on Saturday, August 13th for 3 nights with 11 friends.\n",
      "Hi looking to go on vacation on the 13th of august\n",
      "Hi. I live in Busan and I'd like to go to Las Vegas from Wednesday August 17 to Monday September 5. What's available?\n",
      "Hello, I want to leave from Seoul on August 27 and return on September 9. You can go to Manaus.\n",
      "I'm a polygamist and I'd like to travel with my 6 partners and 1 child to San Juan from Pittsburgh on a budget of 6600 USD\n",
      "Hi, send me on a 10 day-trip away from Cairo. I'd like to leave August 15. Send me to Sendai. Money is not object\n",
      "Good afternoon, I'd like to book a trip with my son from August 18 to August 29. He and I would be leaving from Curitiba. What destinations can you offer?\n",
      "Hi, my family and i are booking a trip to Sacramento, can you help us?\n",
      "Hi I need a break from Gotham City, the crime rate is just too high. I'd like to go to Hogsmead with 3 kids and 9 adults.\n",
      "Hello, I have 15 vacation days available between June 1st and August 31st. I am leaving from Theed. I would like to go somewhere with lots of sunshine.\n",
      "Hello! I live in Munich and I'd like to book any kind of trip between Monday, August 15th and Friday August 26th for 3 adults and 3 kids.\n",
      "Hi im from punta cana looking to go on a trip\n",
      "Hey! You can help me by finding a trip to Philadelphia from Maceio.\n",
      "Good afternoon. I'd like to book a business trip to New York from Mannheim. What can you offer?\n",
      "I would like a vacation for one in Mannheim from August 17 to September 7. My city of departure is Porto Alegre. It should cost less than $3000.\n",
      "Hi I am planning on booking a vacation soon, around August 27th\n",
      "Hi! I hear Hogsmeade has some excellent bars. Can you book me a trip there from Diagon Alley, leaving on August 13th? For 7 men and women\n",
      "Hi!\n",
      "We are 3 adults and three kids looking for a vacation between August 18 and September 4\n",
      "hi I’m looking to go on a trip to Caprica\n",
      "Hi! I'd like to go to Boston from Mos Eisley on August 15th.\n",
      "Hi im looking to make a quick trip im from tampa and want to go to Dallas\n",
      "Hi im from Leon and looking to get away\n",
      "I'd like to go to Manaus from Miami between August 19th and September 2nd.\n",
      "I am one person voyaging to Tampa. I can depart from Indianapolis. Must be between 20th and 31 August.\n",
      "Heyo!\n",
      "Hi! I'm looking for a trip to Milan with two of my best friends for march break, what's available?\n",
      "Hello there! Looking to get away between August 27th and August 30th! Can you help me?\n",
      "Hi going on vacation with my Family can you help me book a vacation?\n",
      "Good morning.\n",
      "I am from London and am looking to book a vacation package!\n",
      "I want to book a trip to Valencia!\n",
      "Hi. I am in dire need of a vacation.\n",
      "Hi. I need to book a vacation to Long Beach between August 25 and September 3. Departure is from Paris\n",
      "Hi! I'd like to do some vacation shopping!\n",
      "Hi i am planning my honeymoon for my wife and myself. I am looking for the best deal but it needs to be the best time! can you helo us?\n",
      "Hey Im looking for a nice get away can you help me?\n",
      "The police are after me, and I need to leave Kobe between August 27 and September 2.\n",
      "Hi we're from Miami and we want to go to paris, can you help out?\n",
      "Hi im looking to go to Fukuoka\n",
      "Hello wozbot!\n",
      "Hi im going on SPRIINGGG BREAK! can you help me and my friends book a package?\n",
      "Hi wozbot. I'd like to book a vacation for my 7 kids and myself.\n",
      "Hi im looking to book my Honeymoon\n",
      "Hi wozbot! I'd like to book a spring break vacation for myself and 3 of my best friends\n",
      "Hi im planning my Spring break can you help me find the best deals?\n",
      "Hi 7 colleagues and i are planning on going on a trip can you help?\n",
      "Hi wozbot! My husband and I are recently married and madly in love. We're looking for a fantastic honeymoon vacation. We live in Mannheim and we'd like to go to Kyoto for 6 days leaving on August 19. What can you do for me?\n",
      "hi im from Coruscant looking to go to atlantis\n",
      "HI im from Punta Cana can you help me find a vacation\n",
      "I want to get away for a bit! im from Houston\n",
      "I live in Toronto, can we se what packages are available in Cairo from August 17 to September 7?\n",
      "Hi i need a 5 day get away!\n",
      "HI there! my family and i are looking to go to Burlington\n",
      "Hi im looking to book  trip. anything leaving from Kakariko Village?\n",
      "Good afternoon, my man! I'd like to plan a honeymoon in Naples for 5 days leaving from Madrid on August 17. What is available?\n",
      "Hi i want to plan my honeymoon to rome\n",
      "Hi im from Houston and i want to go to San Antonio, but i have strict dates can you help?\n",
      "Hi im from Los Angeles. looking for a good vacation\n",
      "I have 11 days of time off starting on August 17. Can you offer me any vacation packages leaving from Portland?\n",
      "Hi im travelling from Nagoya. i would like to go on vacation on August 26th\n",
      "Hi! I have a $3300 budget and am looking for a vacation\n",
      "Hi im looking to go on a trip to baltimore\n",
      "My name is Gary Peter and I'd like to book a trip to Diagon Alley from Godric's Hollow on August 13th.\n",
      "Hi! My 3 best friends and I are looking for a trip to Neverland between August 16 and 19 on a very tight budget of $3500. What can you do for us?\n",
      "Hi im from Barkcelona, looking for a trip!\n",
      "hi i want to go on vacation i leave from cancun\n",
      "Hi im taking the family on a trip to Manaus is that possible with a budget of $3900\n",
      "Hi looking for a vacation to hamburg\n",
      "Hello, I'd like to book a trip to Mos Eisley from Hogsmeade on August 13.\n",
      "Hi! I'd like to plan my honeymoon, but I've spent way too much on my wedding and need to stick to a budget of $4600. Can you offer anything to Marseille for 5 days leaving from Salvador on August 17?\n",
      "Hi im fro termina and i want to go on vacation on August 13th\n",
      "Hi i am looking to go to Punta Cana with my three friends\n",
      "Hello, I'd like to go to Birmingham for 7 days on my honeymoon, leaving from Denver on August 18. What can you offer?\n",
      "Hi im from neverland! and i want to go to Mos eisley\n",
      "hello! were leaving from Brasilia and looking to book our honeymoon\n",
      "Hi im in the middle of travelling  and i want to go to Porto!\n"
     ]
    }
   ],
   "source": [
    "# On affiche les premières utterances des 100 premiers dialogues\n",
    "for i in range(100):\n",
    "    print(frames[i].get(\"turns\", [])[0].get(\"text\", \"\"))"
   ]
  },
  {
   "cell_type": "markdown",
   "id": "824ed1f5",
   "metadata": {},
   "source": [
    "Les premiers textes semblent effectivement exprimer le besoin principal de l'utilisateur. On retrouvera quelques exceptions comme des phrases de salutation du type \"Heyo!\", \"Hi !\", etc..."
   ]
  },
  {
   "cell_type": "markdown",
   "id": "2e15f6c5",
   "metadata": {},
   "source": [
    "### Indicateurs statistiques\n",
    "\n",
    "Commençons par mettre nos données dans un dataframe :"
   ]
  },
  {
   "cell_type": "code",
   "execution_count": 37,
   "id": "a49b0160",
   "metadata": {},
   "outputs": [
    {
     "data": {
      "text/plain": [
       "(19986, 5)"
      ]
     },
     "execution_count": 37,
     "metadata": {},
     "output_type": "execute_result"
    }
   ],
   "source": [
    "# On crée les lignes\n",
    "rows = []\n",
    "for i, frame in enumerate(frames):\n",
    "    for turn in frame[\"turns\"]:\n",
    "        rows.append({\n",
    "            \"frame_id\": i,\n",
    "            \"author\": turn[\"author\"],\n",
    "            \"text\": turn[\"text\"]\n",
    "        })\n",
    "\n",
    "# On crée le dataframe\n",
    "frames_df = pd.DataFrame(rows)\n",
    "\n",
    "# On ajoute le nombre de mots par texte\n",
    "frames_df[\"word_nb\"] = frames_df[\"text\"].apply(lambda x: len(x.split()))\n",
    "\n",
    "# On convertit la variable catégorique \"author\" en one hot encoding\n",
    "frames_df = pd.get_dummies(frames_df, columns=[\"author\"])\n",
    "\n",
    "frames_df.shape"
   ]
  },
  {
   "cell_type": "code",
   "execution_count": 39,
   "id": "90af22c7",
   "metadata": {},
   "outputs": [
    {
     "data": {
      "text/html": [
       "<div>\n",
       "<style scoped>\n",
       "    .dataframe tbody tr th:only-of-type {\n",
       "        vertical-align: middle;\n",
       "    }\n",
       "\n",
       "    .dataframe tbody tr th {\n",
       "        vertical-align: top;\n",
       "    }\n",
       "\n",
       "    .dataframe thead th {\n",
       "        text-align: right;\n",
       "    }\n",
       "</style>\n",
       "<table border=\"1\" class=\"dataframe\">\n",
       "  <thead>\n",
       "    <tr style=\"text-align: right;\">\n",
       "      <th></th>\n",
       "      <th>frame_id</th>\n",
       "      <th>text</th>\n",
       "      <th>word_nb</th>\n",
       "      <th>author_user</th>\n",
       "      <th>author_wizard</th>\n",
       "    </tr>\n",
       "  </thead>\n",
       "  <tbody>\n",
       "    <tr>\n",
       "      <th>0</th>\n",
       "      <td>0</td>\n",
       "      <td>I'd like to book a trip to Atlantis from Capri...</td>\n",
       "      <td>25</td>\n",
       "      <td>1</td>\n",
       "      <td>0</td>\n",
       "    </tr>\n",
       "    <tr>\n",
       "      <th>1</th>\n",
       "      <td>0</td>\n",
       "      <td>Hi...I checked a few options for you, and unfo...</td>\n",
       "      <td>29</td>\n",
       "      <td>0</td>\n",
       "      <td>1</td>\n",
       "    </tr>\n",
       "    <tr>\n",
       "      <th>2</th>\n",
       "      <td>0</td>\n",
       "      <td>Yes, how about going to Neverland from Caprica...</td>\n",
       "      <td>23</td>\n",
       "      <td>1</td>\n",
       "      <td>0</td>\n",
       "    </tr>\n",
       "    <tr>\n",
       "      <th>3</th>\n",
       "      <td>0</td>\n",
       "      <td>I checked the availability for this date and t...</td>\n",
       "      <td>21</td>\n",
       "      <td>0</td>\n",
       "      <td>1</td>\n",
       "    </tr>\n",
       "    <tr>\n",
       "      <th>4</th>\n",
       "      <td>0</td>\n",
       "      <td>I have no flexibility for dates... but I can l...</td>\n",
       "      <td>18</td>\n",
       "      <td>1</td>\n",
       "      <td>0</td>\n",
       "    </tr>\n",
       "  </tbody>\n",
       "</table>\n",
       "</div>"
      ],
      "text/plain": [
       "   frame_id                                               text  word_nb  \\\n",
       "0         0  I'd like to book a trip to Atlantis from Capri...       25   \n",
       "1         0  Hi...I checked a few options for you, and unfo...       29   \n",
       "2         0  Yes, how about going to Neverland from Caprica...       23   \n",
       "3         0  I checked the availability for this date and t...       21   \n",
       "4         0  I have no flexibility for dates... but I can l...       18   \n",
       "\n",
       "   author_user  author_wizard  \n",
       "0            1              0  \n",
       "1            0              1  \n",
       "2            1              0  \n",
       "3            0              1  \n",
       "4            1              0  "
      ]
     },
     "execution_count": 39,
     "metadata": {},
     "output_type": "execute_result"
    }
   ],
   "source": [
    "frames_df.head()"
   ]
  },
  {
   "cell_type": "markdown",
   "id": "15adef3a",
   "metadata": {},
   "source": [
    "Voici des indicateurs statistiques du nombre de mots dans les textes :"
   ]
  },
  {
   "cell_type": "code",
   "execution_count": 41,
   "id": "81bc4baa",
   "metadata": {},
   "outputs": [
    {
     "data": {
      "text/html": [
       "<div>\n",
       "<style scoped>\n",
       "    .dataframe tbody tr th:only-of-type {\n",
       "        vertical-align: middle;\n",
       "    }\n",
       "\n",
       "    .dataframe tbody tr th {\n",
       "        vertical-align: top;\n",
       "    }\n",
       "\n",
       "    .dataframe thead th {\n",
       "        text-align: right;\n",
       "    }\n",
       "</style>\n",
       "<table border=\"1\" class=\"dataframe\">\n",
       "  <thead>\n",
       "    <tr style=\"text-align: right;\">\n",
       "      <th></th>\n",
       "      <th>count</th>\n",
       "      <th>mean</th>\n",
       "      <th>std</th>\n",
       "      <th>min</th>\n",
       "      <th>25%</th>\n",
       "      <th>50%</th>\n",
       "      <th>75%</th>\n",
       "      <th>max</th>\n",
       "    </tr>\n",
       "  </thead>\n",
       "  <tbody>\n",
       "    <tr>\n",
       "      <th>word_nb</th>\n",
       "      <td>19986.0</td>\n",
       "      <td>12.602172</td>\n",
       "      <td>10.892189</td>\n",
       "      <td>1.0</td>\n",
       "      <td>5.0</td>\n",
       "      <td>9.0</td>\n",
       "      <td>16.0</td>\n",
       "      <td>112.0</td>\n",
       "    </tr>\n",
       "  </tbody>\n",
       "</table>\n",
       "</div>"
      ],
      "text/plain": [
       "           count       mean        std  min  25%  50%   75%    max\n",
       "word_nb  19986.0  12.602172  10.892189  1.0  5.0  9.0  16.0  112.0"
      ]
     },
     "execution_count": 41,
     "metadata": {},
     "output_type": "execute_result"
    }
   ],
   "source": [
    "frames_df[[\"word_nb\"]].describe().T"
   ]
  },
  {
   "cell_type": "markdown",
   "id": "3b2c7be8",
   "metadata": {},
   "source": [
    "On constate que les textes ont en moyenne 13 mots et 75% des textes font moins de 16 mots. En effet, il s'agit d'un système de chat, ce qui explique que les textes sont plutôt courts.\n",
    "\n",
    "Le texte le plus court compte 1 mot et le plus long en compte 112.\n",
    "\n",
    "Voici des indicateurs statistiques du nombre de textes par frame et du type d'auteur :"
   ]
  },
  {
   "cell_type": "code",
   "execution_count": 43,
   "id": "86c6fcb8",
   "metadata": {},
   "outputs": [
    {
     "data": {
      "text/html": [
       "<div>\n",
       "<style scoped>\n",
       "    .dataframe tbody tr th:only-of-type {\n",
       "        vertical-align: middle;\n",
       "    }\n",
       "\n",
       "    .dataframe tbody tr th {\n",
       "        vertical-align: top;\n",
       "    }\n",
       "\n",
       "    .dataframe thead th {\n",
       "        text-align: right;\n",
       "    }\n",
       "</style>\n",
       "<table border=\"1\" class=\"dataframe\">\n",
       "  <thead>\n",
       "    <tr style=\"text-align: right;\">\n",
       "      <th></th>\n",
       "      <th>count</th>\n",
       "      <th>mean</th>\n",
       "      <th>std</th>\n",
       "      <th>min</th>\n",
       "      <th>25%</th>\n",
       "      <th>50%</th>\n",
       "      <th>75%</th>\n",
       "      <th>max</th>\n",
       "    </tr>\n",
       "  </thead>\n",
       "  <tbody>\n",
       "    <tr>\n",
       "      <th>text</th>\n",
       "      <td>1369.0</td>\n",
       "      <td>14.598977</td>\n",
       "      <td>6.957727</td>\n",
       "      <td>1.0</td>\n",
       "      <td>10.0</td>\n",
       "      <td>14.0</td>\n",
       "      <td>19.0</td>\n",
       "      <td>48.0</td>\n",
       "    </tr>\n",
       "    <tr>\n",
       "      <th>author_user</th>\n",
       "      <td>1369.0</td>\n",
       "      <td>7.601899</td>\n",
       "      <td>3.521658</td>\n",
       "      <td>1.0</td>\n",
       "      <td>5.0</td>\n",
       "      <td>7.0</td>\n",
       "      <td>10.0</td>\n",
       "      <td>24.0</td>\n",
       "    </tr>\n",
       "    <tr>\n",
       "      <th>author_wizard</th>\n",
       "      <td>1369.0</td>\n",
       "      <td>6.997078</td>\n",
       "      <td>3.452898</td>\n",
       "      <td>0.0</td>\n",
       "      <td>5.0</td>\n",
       "      <td>7.0</td>\n",
       "      <td>9.0</td>\n",
       "      <td>24.0</td>\n",
       "    </tr>\n",
       "  </tbody>\n",
       "</table>\n",
       "</div>"
      ],
      "text/plain": [
       "                count       mean       std  min   25%   50%   75%   max\n",
       "text           1369.0  14.598977  6.957727  1.0  10.0  14.0  19.0  48.0\n",
       "author_user    1369.0   7.601899  3.521658  1.0   5.0   7.0  10.0  24.0\n",
       "author_wizard  1369.0   6.997078  3.452898  0.0   5.0   7.0   9.0  24.0"
      ]
     },
     "execution_count": 43,
     "metadata": {},
     "output_type": "execute_result"
    }
   ],
   "source": [
    "frames_df.groupby(\"frame_id\").agg(\n",
    "    {\n",
    "        \"text\": \"count\",\n",
    "        \"author_user\": \"sum\",\n",
    "        \"author_wizard\": \"sum\",\n",
    "    }\n",
    ").describe().T"
   ]
  },
  {
   "cell_type": "markdown",
   "id": "a1a303bf",
   "metadata": {},
   "source": [
    "On constate que l'on a en moyenne 15 textes par frames.\n",
    "\n",
    "En moyenne, 8 textes sont de l'utilisateur et 7 textes du bot. Ceci semble cohérent puisque la tâche principale du bot est de récolter des informations afin de pouvoir trouver un vol/hôtel pour l'utilisateur. Il y a donc certainement beaucoup de questions/réponses, ce qui explique cet équilibre."
   ]
  },
  {
   "cell_type": "markdown",
   "id": "b893f019",
   "metadata": {},
   "source": [
    "## Analyse des labels\n",
    "\n",
    "Chaque turn a été labellisé. Voyons à quoi ressemblent les labels du 1er turn du 1er frame :"
   ]
  },
  {
   "cell_type": "code",
   "execution_count": 44,
   "id": "6657166e",
   "metadata": {
    "gather": {
     "logged": 1638784950900
    }
   },
   "outputs": [
    {
     "name": "stdout",
     "output_type": "stream",
     "text": [
      "[\n",
      "  {\n",
      "    \"args\": [\n",
      "      {\n",
      "        \"val\": \"book\",\n",
      "        \"key\": \"intent\"\n",
      "      }\n",
      "    ],\n",
      "    \"name\": \"inform\"\n",
      "  },\n",
      "  {\n",
      "    \"args\": [\n",
      "      {\n",
      "        \"val\": \"Atlantis\",\n",
      "        \"key\": \"dst_city\"\n",
      "      },\n",
      "      {\n",
      "        \"val\": \"Caprica\",\n",
      "        \"key\": \"or_city\"\n",
      "      },\n",
      "      {\n",
      "        \"val\": \"Saturday, August 13, 2016\",\n",
      "        \"key\": \"str_date\"\n",
      "      },\n",
      "      {\n",
      "        \"val\": \"8\",\n",
      "        \"key\": \"n_adults\"\n",
      "      },\n",
      "      {\n",
      "        \"val\": \"1700\",\n",
      "        \"key\": \"budget\"\n",
      "      }\n",
      "    ],\n",
      "    \"name\": \"inform\"\n",
      "  }\n",
      "]\n"
     ]
    }
   ],
   "source": [
    "pprint_dict(frames[0][\"turns\"][0][\"labels\"][\"acts_without_refs\"])"
   ]
  },
  {
   "cell_type": "markdown",
   "id": "89047f5d",
   "metadata": {},
   "source": [
    "Le 1er élément est une liste d'intent qui doit indiquer l'intention principale du texte.\n",
    "\n",
    "Le 2ème élément est une liste d'entities qui sont des informations détaillées de l'intent."
   ]
  },
  {
   "cell_type": "markdown",
   "id": "39cfc222",
   "metadata": {},
   "source": [
    "### Distribution des labels\n",
    "\n",
    "Voyons la distribution des labels pour les textes de l'utilisateur :"
   ]
  },
  {
   "cell_type": "code",
   "execution_count": 116,
   "id": "8ce5c27a",
   "metadata": {},
   "outputs": [],
   "source": [
    "label_values = defaultdict(list)\n",
    "for frame in frames:\n",
    "    for turn in frame[\"turns\"]:\n",
    "        # On ne s'intéresse qu'aux textes de l'utilisateur\n",
    "        if turn[\"author\"] != \"user\":\n",
    "            continue\n",
    "\n",
    "        for args in turn[\"labels\"][\"acts_without_refs\"]:\n",
    "            # On va ajouter chaque valeur dans la liste du label correspondant\n",
    "            for label in args[\"args\"]:\n",
    "                try:\n",
    "                    label_values[label[\"key\"]].append(label.get(\"val\", \"\"))\n",
    "                except:\n",
    "                    print(label)"
   ]
  },
  {
   "cell_type": "code",
   "execution_count": 83,
   "id": "ed90f183",
   "metadata": {},
   "outputs": [
    {
     "data": {
      "text/plain": [
       "(50, 5)"
      ]
     },
     "execution_count": 83,
     "metadata": {},
     "output_type": "execute_result"
    }
   ],
   "source": [
    "# On crée un dataframe\n",
    "labels = pd.Series(label_values).to_frame(\"all_values\")\n",
    "\n",
    "# On ajoute des variables concernant toutes les valeurs de chaque label\n",
    "labels[\"all_values_nb\"] = labels[\"all_values\"].apply(len)\n",
    "all_values_total = labels[\"all_values_nb\"].sum()\n",
    "labels[\"all_values_ratio\"] = labels[\"all_values_nb\"] / total\n",
    "\n",
    "# On ajoute des variables concernant les valeurs uniques de chaque label\n",
    "labels[\"unique_values\"] = labels[\"all_values\"].apply(set)\n",
    "labels[\"unique_values_nb\"] = labels[\"unique_values\"].apply(len)\n",
    "\n",
    "# On range les données par plus effectif\n",
    "labels = labels.sort_values(\"all_values_nb\", ascending=False)\n",
    "\n",
    "labels.shape"
   ]
  },
  {
   "cell_type": "code",
   "execution_count": 84,
   "id": "64a5a026",
   "metadata": {},
   "outputs": [
    {
     "data": {
      "text/html": [
       "<div>\n",
       "<style scoped>\n",
       "    .dataframe tbody tr th:only-of-type {\n",
       "        vertical-align: middle;\n",
       "    }\n",
       "\n",
       "    .dataframe tbody tr th {\n",
       "        vertical-align: top;\n",
       "    }\n",
       "\n",
       "    .dataframe thead th {\n",
       "        text-align: right;\n",
       "    }\n",
       "</style>\n",
       "<table border=\"1\" class=\"dataframe\">\n",
       "  <thead>\n",
       "    <tr style=\"text-align: right;\">\n",
       "      <th></th>\n",
       "      <th>all_values</th>\n",
       "      <th>all_values_nb</th>\n",
       "      <th>all_values_ratio</th>\n",
       "      <th>unique_values</th>\n",
       "      <th>unique_values_nb</th>\n",
       "    </tr>\n",
       "  </thead>\n",
       "  <tbody>\n",
       "    <tr>\n",
       "      <th>dst_city</th>\n",
       "      <td>[Atlantis, Neverland, Mos Eisley, Neverland, M...</td>\n",
       "      <td>3541</td>\n",
       "      <td>0.202795</td>\n",
       "      <td>{Manaus, KYOTO, St. Petersburg, Curritiba, Phi...</td>\n",
       "      <td>364</td>\n",
       "    </tr>\n",
       "    <tr>\n",
       "      <th>intent</th>\n",
       "      <td>[book, book, book, book, book, book, book, boo...</td>\n",
       "      <td>2006</td>\n",
       "      <td>0.114885</td>\n",
       "      <td>{book}</td>\n",
       "      <td>1</td>\n",
       "    </tr>\n",
       "    <tr>\n",
       "      <th>or_city</th>\n",
       "      <td>[Caprica, Caprica, Atlantis, Caprica, Gotham C...</td>\n",
       "      <td>1962</td>\n",
       "      <td>0.112365</td>\n",
       "      <td>{Manaus, neverland, St. Petersburg, Phili, Osa...</td>\n",
       "      <td>333</td>\n",
       "    </tr>\n",
       "    <tr>\n",
       "      <th>str_date</th>\n",
       "      <td>[Saturday, August 13, 2016, August 13, 2016, -...</td>\n",
       "      <td>1544</td>\n",
       "      <td>0.088426</td>\n",
       "      <td>{August 17, Sept 8, 28th, Friday September 2nd...</td>\n",
       "      <td>447</td>\n",
       "    </tr>\n",
       "    <tr>\n",
       "      <th>budget</th>\n",
       "      <td>[1700, 1900, 2100, None, $2500, $2100, $2200, ...</td>\n",
       "      <td>1246</td>\n",
       "      <td>0.071359</td>\n",
       "      <td>{$25600, 13700, 23300, 23 hundred dollars, 360...</td>\n",
       "      <td>395</td>\n",
       "    </tr>\n",
       "    <tr>\n",
       "      <th>n_adults</th>\n",
       "      <td>[8, 5, 5, 2, 2, 3, with 14 adults, 1, 12, Just...</td>\n",
       "      <td>1029</td>\n",
       "      <td>0.058931</td>\n",
       "      <td>{I'm with my wife, my 3 wives, my husband and ...</td>\n",
       "      <td>262</td>\n",
       "    </tr>\n",
       "    <tr>\n",
       "      <th>end_date</th>\n",
       "      <td>[Wednesday August 31, 2016, Sunday August 28th...</td>\n",
       "      <td>1022</td>\n",
       "      <td>0.058530</td>\n",
       "      <td>{mon, Aug 24, 2nd of Oct, Sept 8, 28th, August...</td>\n",
       "      <td>320</td>\n",
       "    </tr>\n",
       "    <tr>\n",
       "      <th>ref_anaphora</th>\n",
       "      <td>[that's, this package, that, options, the hote...</td>\n",
       "      <td>874</td>\n",
       "      <td>0.050054</td>\n",
       "      <td>{The hotel's, that place, the previous hotel, ...</td>\n",
       "      <td>149</td>\n",
       "    </tr>\n",
       "    <tr>\n",
       "      <th>category</th>\n",
       "      <td>[None, 4-star, None, 3, None, None, None, None...</td>\n",
       "      <td>690</td>\n",
       "      <td>0.039517</td>\n",
       "      <td>{even better, 2.5, flagship, the best, four, f...</td>\n",
       "      <td>85</td>\n",
       "    </tr>\n",
       "    <tr>\n",
       "      <th>price</th>\n",
       "      <td>[None, None, None, None, None, None, too expen...</td>\n",
       "      <td>539</td>\n",
       "      <td>0.030869</td>\n",
       "      <td>{expensive, 786.39, CHEAPER, cheaper, 4268, 28...</td>\n",
       "      <td>49</td>\n",
       "    </tr>\n",
       "    <tr>\n",
       "      <th>seat</th>\n",
       "      <td>[None, economy, None, business, Business, upgr...</td>\n",
       "      <td>446</td>\n",
       "      <td>0.025543</td>\n",
       "      <td>{economy, upgrade, Business, Economy, First cl...</td>\n",
       "      <td>10</td>\n",
       "    </tr>\n",
       "    <tr>\n",
       "      <th>name</th>\n",
       "      <td>[None, None, None, Amistad, None, None, Scarle...</td>\n",
       "      <td>304</td>\n",
       "      <td>0.017410</td>\n",
       "      <td>{Celestial, triple aegis, Palms, serene garden...</td>\n",
       "      <td>111</td>\n",
       "    </tr>\n",
       "    <tr>\n",
       "      <th>n_children</th>\n",
       "      <td>[12, 6, four, one, 11, 11, 1, with my son, 3, ...</td>\n",
       "      <td>291</td>\n",
       "      <td>0.016666</td>\n",
       "      <td>{six of us with myself included, infant son, d...</td>\n",
       "      <td>55</td>\n",
       "    </tr>\n",
       "    <tr>\n",
       "      <th>max_duration</th>\n",
       "      <td>[shortened my trip by one day, as much time, 2...</td>\n",
       "      <td>285</td>\n",
       "      <td>0.016322</td>\n",
       "      <td>{17 days, lesser, 4 day, no vacation days, fiv...</td>\n",
       "      <td>89</td>\n",
       "    </tr>\n",
       "    <tr>\n",
       "      <th>duration</th>\n",
       "      <td>[None, 13 days, 8 days, 6 days, 11 day, 11 day...</td>\n",
       "      <td>267</td>\n",
       "      <td>0.015291</td>\n",
       "      <td>{12 day, 8 day, the longer, 7 day, shortest, 5...</td>\n",
       "      <td>67</td>\n",
       "    </tr>\n",
       "    <tr>\n",
       "      <th>amenities</th>\n",
       "      <td>[None, None, None, None, None, None, None, Non...</td>\n",
       "      <td>197</td>\n",
       "      <td>0.011282</td>\n",
       "      <td>{-1, None}</td>\n",
       "      <td>2</td>\n",
       "    </tr>\n",
       "    <tr>\n",
       "      <th>vicinity</th>\n",
       "      <td>[None, None, None, None, None, None, None, Non...</td>\n",
       "      <td>183</td>\n",
       "      <td>0.010480</td>\n",
       "      <td>{-1, None}</td>\n",
       "      <td>2</td>\n",
       "    </tr>\n",
       "    <tr>\n",
       "      <th>gst_rating</th>\n",
       "      <td>[lower, None, None, None, None, None, None, No...</td>\n",
       "      <td>152</td>\n",
       "      <td>0.008705</td>\n",
       "      <td>{8.86/10, 8.8, 0, 8.22/10, 8.69, lower, 8.37, ...</td>\n",
       "      <td>26</td>\n",
       "    </tr>\n",
       "    <tr>\n",
       "      <th>flex</th>\n",
       "      <td>[False, False, True, True, True, False, False,...</td>\n",
       "      <td>112</td>\n",
       "      <td>0.006414</td>\n",
       "      <td>{False, True}</td>\n",
       "      <td>2</td>\n",
       "    </tr>\n",
       "    <tr>\n",
       "      <th>action</th>\n",
       "      <td>[book, book, book, book, book, book, book, boo...</td>\n",
       "      <td>104</td>\n",
       "      <td>0.005956</td>\n",
       "      <td>{book}</td>\n",
       "      <td>1</td>\n",
       "    </tr>\n",
       "    <tr>\n",
       "      <th>breakfast</th>\n",
       "      <td>[None, True, None, None, None, None, True, Non...</td>\n",
       "      <td>89</td>\n",
       "      <td>0.005097</td>\n",
       "      <td>{False, True, None}</td>\n",
       "      <td>3</td>\n",
       "    </tr>\n",
       "    <tr>\n",
       "      <th>beach</th>\n",
       "      <td>[None, True, None, True, True, True, True, Tru...</td>\n",
       "      <td>72</td>\n",
       "      <td>0.004123</td>\n",
       "      <td>{False, True, None}</td>\n",
       "      <td>3</td>\n",
       "    </tr>\n",
       "    <tr>\n",
       "      <th>min_duration</th>\n",
       "      <td>[longer, at least 6 days, 7, longer, 5 days, l...</td>\n",
       "      <td>55</td>\n",
       "      <td>0.003150</td>\n",
       "      <td>{longer period, week long, 5 days, 4, a few da...</td>\n",
       "      <td>24</td>\n",
       "    </tr>\n",
       "    <tr>\n",
       "      <th>park</th>\n",
       "      <td>[None, False, None, None, None, None, True, Tr...</td>\n",
       "      <td>53</td>\n",
       "      <td>0.003035</td>\n",
       "      <td>{False, True, None}</td>\n",
       "      <td>3</td>\n",
       "    </tr>\n",
       "    <tr>\n",
       "      <th>budget_ok</th>\n",
       "      <td>[True, True, True, True, True, True, True, Tru...</td>\n",
       "      <td>51</td>\n",
       "      <td>0.002921</td>\n",
       "      <td>{True}</td>\n",
       "      <td>1</td>\n",
       "    </tr>\n",
       "    <tr>\n",
       "      <th>wifi</th>\n",
       "      <td>[None, None, None, None, None, True, None, Non...</td>\n",
       "      <td>46</td>\n",
       "      <td>0.002634</td>\n",
       "      <td>{False, True, None}</td>\n",
       "      <td>3</td>\n",
       "    </tr>\n",
       "    <tr>\n",
       "      <th>dep_time_or</th>\n",
       "      <td>[None, None, None, None, None, None, None, Non...</td>\n",
       "      <td>40</td>\n",
       "      <td>0.002291</td>\n",
       "      <td>{7:00 am, 10 am, None}</td>\n",
       "      <td>3</td>\n",
       "    </tr>\n",
       "    <tr>\n",
       "      <th>dep_time_dst</th>\n",
       "      <td>[None, None, None, None, None, None, None, Non...</td>\n",
       "      <td>38</td>\n",
       "      <td>0.002176</td>\n",
       "      <td>{1:00am, 3 am, 3:00am, None}</td>\n",
       "      <td>4</td>\n",
       "    </tr>\n",
       "    <tr>\n",
       "      <th>downtown</th>\n",
       "      <td>[True, True, None, True, True, True, None, Tru...</td>\n",
       "      <td>30</td>\n",
       "      <td>0.001718</td>\n",
       "      <td>{True, None}</td>\n",
       "      <td>2</td>\n",
       "    </tr>\n",
       "    <tr>\n",
       "      <th>spa</th>\n",
       "      <td>[True, True, None, None, True, None, True, Non...</td>\n",
       "      <td>28</td>\n",
       "      <td>0.001604</td>\n",
       "      <td>{True, None}</td>\n",
       "      <td>2</td>\n",
       "    </tr>\n",
       "    <tr>\n",
       "      <th>count_name</th>\n",
       "      <td>[None, None, all 4, only, None, only thing, on...</td>\n",
       "      <td>26</td>\n",
       "      <td>0.001489</td>\n",
       "      <td>{all 4, only thing, all, only choice, 3, one, ...</td>\n",
       "      <td>10</td>\n",
       "    </tr>\n",
       "    <tr>\n",
       "      <th>arr_time_or</th>\n",
       "      <td>[1:00 am, None, None, None, None, None, None, ...</td>\n",
       "      <td>19</td>\n",
       "      <td>0.001088</td>\n",
       "      <td>{1:00 am, None}</td>\n",
       "      <td>2</td>\n",
       "    </tr>\n",
       "    <tr>\n",
       "      <th>arr_time_dst</th>\n",
       "      <td>[None, None, None, None, None, None, None, Non...</td>\n",
       "      <td>17</td>\n",
       "      <td>0.000974</td>\n",
       "      <td>{None}</td>\n",
       "      <td>1</td>\n",
       "    </tr>\n",
       "    <tr>\n",
       "      <th>museum</th>\n",
       "      <td>[None, True, None, True, True, False, True, No...</td>\n",
       "      <td>14</td>\n",
       "      <td>0.000802</td>\n",
       "      <td>{False, True, None}</td>\n",
       "      <td>3</td>\n",
       "    </tr>\n",
       "    <tr>\n",
       "      <th>count</th>\n",
       "      <td>[two, None, only thing, No other choices, ONE,...</td>\n",
       "      <td>13</td>\n",
       "      <td>0.000745</td>\n",
       "      <td>{all you have, only thing, the only options, n...</td>\n",
       "      <td>9</td>\n",
       "    </tr>\n",
       "    <tr>\n",
       "      <th>university</th>\n",
       "      <td>[True, None, True, True, True, True, True, Non...</td>\n",
       "      <td>9</td>\n",
       "      <td>0.000515</td>\n",
       "      <td>{True, None}</td>\n",
       "      <td>2</td>\n",
       "    </tr>\n",
       "    <tr>\n",
       "      <th>parking</th>\n",
       "      <td>[None, None, None, True, None, True, -1, None,...</td>\n",
       "      <td>9</td>\n",
       "      <td>0.000515</td>\n",
       "      <td>{True, -1, None}</td>\n",
       "      <td>3</td>\n",
       "    </tr>\n",
       "    <tr>\n",
       "      <th>count_dst_city</th>\n",
       "      <td>[None, a few, all, several, two, two, two, two]</td>\n",
       "      <td>8</td>\n",
       "      <td>0.000458</td>\n",
       "      <td>{several, all, a few, None, two}</td>\n",
       "      <td>5</td>\n",
       "    </tr>\n",
       "    <tr>\n",
       "      <th>shopping</th>\n",
       "      <td>[None, None, True, True, True, True, True, False]</td>\n",
       "      <td>8</td>\n",
       "      <td>0.000458</td>\n",
       "      <td>{False, True, None}</td>\n",
       "      <td>3</td>\n",
       "    </tr>\n",
       "    <tr>\n",
       "      <th>seat_ok</th>\n",
       "      <td>[True, True, True, True, True, True, True]</td>\n",
       "      <td>7</td>\n",
       "      <td>0.000401</td>\n",
       "      <td>{True}</td>\n",
       "      <td>1</td>\n",
       "    </tr>\n",
       "    <tr>\n",
       "      <th>cathedral</th>\n",
       "      <td>[True, True, True, True, True, True]</td>\n",
       "      <td>6</td>\n",
       "      <td>0.000344</td>\n",
       "      <td>{True}</td>\n",
       "      <td>1</td>\n",
       "    </tr>\n",
       "    <tr>\n",
       "      <th>mall</th>\n",
       "      <td>[True, True, None, True, None, None]</td>\n",
       "      <td>6</td>\n",
       "      <td>0.000344</td>\n",
       "      <td>{True, None}</td>\n",
       "      <td>2</td>\n",
       "    </tr>\n",
       "    <tr>\n",
       "      <th>airport</th>\n",
       "      <td>[None, True, True, None, True]</td>\n",
       "      <td>5</td>\n",
       "      <td>0.000286</td>\n",
       "      <td>{True, None}</td>\n",
       "      <td>2</td>\n",
       "    </tr>\n",
       "    <tr>\n",
       "      <th>impl_anaphora</th>\n",
       "      <td>[price, price, category, category, category]</td>\n",
       "      <td>5</td>\n",
       "      <td>0.000286</td>\n",
       "      <td>{category, price}</td>\n",
       "      <td>2</td>\n",
       "    </tr>\n",
       "    <tr>\n",
       "      <th>palace</th>\n",
       "      <td>[True, True, True, None]</td>\n",
       "      <td>4</td>\n",
       "      <td>0.000229</td>\n",
       "      <td>{True, None}</td>\n",
       "      <td>2</td>\n",
       "    </tr>\n",
       "    <tr>\n",
       "      <th>market</th>\n",
       "      <td>[True, True, True]</td>\n",
       "      <td>3</td>\n",
       "      <td>0.000172</td>\n",
       "      <td>{True}</td>\n",
       "      <td>1</td>\n",
       "    </tr>\n",
       "    <tr>\n",
       "      <th>intent_ok</th>\n",
       "      <td>[True, True, True]</td>\n",
       "      <td>3</td>\n",
       "      <td>0.000172</td>\n",
       "      <td>{True}</td>\n",
       "      <td>1</td>\n",
       "    </tr>\n",
       "    <tr>\n",
       "      <th>n_adults_ok</th>\n",
       "      <td>[True]</td>\n",
       "      <td>1</td>\n",
       "      <td>0.000057</td>\n",
       "      <td>{True}</td>\n",
       "      <td>1</td>\n",
       "    </tr>\n",
       "    <tr>\n",
       "      <th>count_seat</th>\n",
       "      <td>[two]</td>\n",
       "      <td>1</td>\n",
       "      <td>0.000057</td>\n",
       "      <td>{two}</td>\n",
       "      <td>1</td>\n",
       "    </tr>\n",
       "    <tr>\n",
       "      <th>gym</th>\n",
       "      <td>[None]</td>\n",
       "      <td>1</td>\n",
       "      <td>0.000057</td>\n",
       "      <td>{None}</td>\n",
       "      <td>1</td>\n",
       "    </tr>\n",
       "  </tbody>\n",
       "</table>\n",
       "</div>"
      ],
      "text/plain": [
       "                                                       all_values  \\\n",
       "dst_city        [Atlantis, Neverland, Mos Eisley, Neverland, M...   \n",
       "intent          [book, book, book, book, book, book, book, boo...   \n",
       "or_city         [Caprica, Caprica, Atlantis, Caprica, Gotham C...   \n",
       "str_date        [Saturday, August 13, 2016, August 13, 2016, -...   \n",
       "budget          [1700, 1900, 2100, None, $2500, $2100, $2200, ...   \n",
       "n_adults        [8, 5, 5, 2, 2, 3, with 14 adults, 1, 12, Just...   \n",
       "end_date        [Wednesday August 31, 2016, Sunday August 28th...   \n",
       "ref_anaphora    [that's, this package, that, options, the hote...   \n",
       "category        [None, 4-star, None, 3, None, None, None, None...   \n",
       "price           [None, None, None, None, None, None, too expen...   \n",
       "seat            [None, economy, None, business, Business, upgr...   \n",
       "name            [None, None, None, Amistad, None, None, Scarle...   \n",
       "n_children      [12, 6, four, one, 11, 11, 1, with my son, 3, ...   \n",
       "max_duration    [shortened my trip by one day, as much time, 2...   \n",
       "duration        [None, 13 days, 8 days, 6 days, 11 day, 11 day...   \n",
       "amenities       [None, None, None, None, None, None, None, Non...   \n",
       "vicinity        [None, None, None, None, None, None, None, Non...   \n",
       "gst_rating      [lower, None, None, None, None, None, None, No...   \n",
       "flex            [False, False, True, True, True, False, False,...   \n",
       "action          [book, book, book, book, book, book, book, boo...   \n",
       "breakfast       [None, True, None, None, None, None, True, Non...   \n",
       "beach           [None, True, None, True, True, True, True, Tru...   \n",
       "min_duration    [longer, at least 6 days, 7, longer, 5 days, l...   \n",
       "park            [None, False, None, None, None, None, True, Tr...   \n",
       "budget_ok       [True, True, True, True, True, True, True, Tru...   \n",
       "wifi            [None, None, None, None, None, True, None, Non...   \n",
       "dep_time_or     [None, None, None, None, None, None, None, Non...   \n",
       "dep_time_dst    [None, None, None, None, None, None, None, Non...   \n",
       "downtown        [True, True, None, True, True, True, None, Tru...   \n",
       "spa             [True, True, None, None, True, None, True, Non...   \n",
       "count_name      [None, None, all 4, only, None, only thing, on...   \n",
       "arr_time_or     [1:00 am, None, None, None, None, None, None, ...   \n",
       "arr_time_dst    [None, None, None, None, None, None, None, Non...   \n",
       "museum          [None, True, None, True, True, False, True, No...   \n",
       "count           [two, None, only thing, No other choices, ONE,...   \n",
       "university      [True, None, True, True, True, True, True, Non...   \n",
       "parking         [None, None, None, True, None, True, -1, None,...   \n",
       "count_dst_city    [None, a few, all, several, two, two, two, two]   \n",
       "shopping        [None, None, True, True, True, True, True, False]   \n",
       "seat_ok                [True, True, True, True, True, True, True]   \n",
       "cathedral                    [True, True, True, True, True, True]   \n",
       "mall                         [True, True, None, True, None, None]   \n",
       "airport                            [None, True, True, None, True]   \n",
       "impl_anaphora        [price, price, category, category, category]   \n",
       "palace                                   [True, True, True, None]   \n",
       "market                                         [True, True, True]   \n",
       "intent_ok                                      [True, True, True]   \n",
       "n_adults_ok                                                [True]   \n",
       "count_seat                                                  [two]   \n",
       "gym                                                        [None]   \n",
       "\n",
       "                all_values_nb  all_values_ratio  \\\n",
       "dst_city                 3541          0.202795   \n",
       "intent                   2006          0.114885   \n",
       "or_city                  1962          0.112365   \n",
       "str_date                 1544          0.088426   \n",
       "budget                   1246          0.071359   \n",
       "n_adults                 1029          0.058931   \n",
       "end_date                 1022          0.058530   \n",
       "ref_anaphora              874          0.050054   \n",
       "category                  690          0.039517   \n",
       "price                     539          0.030869   \n",
       "seat                      446          0.025543   \n",
       "name                      304          0.017410   \n",
       "n_children                291          0.016666   \n",
       "max_duration              285          0.016322   \n",
       "duration                  267          0.015291   \n",
       "amenities                 197          0.011282   \n",
       "vicinity                  183          0.010480   \n",
       "gst_rating                152          0.008705   \n",
       "flex                      112          0.006414   \n",
       "action                    104          0.005956   \n",
       "breakfast                  89          0.005097   \n",
       "beach                      72          0.004123   \n",
       "min_duration               55          0.003150   \n",
       "park                       53          0.003035   \n",
       "budget_ok                  51          0.002921   \n",
       "wifi                       46          0.002634   \n",
       "dep_time_or                40          0.002291   \n",
       "dep_time_dst               38          0.002176   \n",
       "downtown                   30          0.001718   \n",
       "spa                        28          0.001604   \n",
       "count_name                 26          0.001489   \n",
       "arr_time_or                19          0.001088   \n",
       "arr_time_dst               17          0.000974   \n",
       "museum                     14          0.000802   \n",
       "count                      13          0.000745   \n",
       "university                  9          0.000515   \n",
       "parking                     9          0.000515   \n",
       "count_dst_city              8          0.000458   \n",
       "shopping                    8          0.000458   \n",
       "seat_ok                     7          0.000401   \n",
       "cathedral                   6          0.000344   \n",
       "mall                        6          0.000344   \n",
       "airport                     5          0.000286   \n",
       "impl_anaphora               5          0.000286   \n",
       "palace                      4          0.000229   \n",
       "market                      3          0.000172   \n",
       "intent_ok                   3          0.000172   \n",
       "n_adults_ok                 1          0.000057   \n",
       "count_seat                  1          0.000057   \n",
       "gym                         1          0.000057   \n",
       "\n",
       "                                                    unique_values  \\\n",
       "dst_city        {Manaus, KYOTO, St. Petersburg, Curritiba, Phi...   \n",
       "intent                                                     {book}   \n",
       "or_city         {Manaus, neverland, St. Petersburg, Phili, Osa...   \n",
       "str_date        {August 17, Sept 8, 28th, Friday September 2nd...   \n",
       "budget          {$25600, 13700, 23300, 23 hundred dollars, 360...   \n",
       "n_adults        {I'm with my wife, my 3 wives, my husband and ...   \n",
       "end_date        {mon, Aug 24, 2nd of Oct, Sept 8, 28th, August...   \n",
       "ref_anaphora    {The hotel's, that place, the previous hotel, ...   \n",
       "category        {even better, 2.5, flagship, the best, four, f...   \n",
       "price           {expensive, 786.39, CHEAPER, cheaper, 4268, 28...   \n",
       "seat            {economy, upgrade, Business, Economy, First cl...   \n",
       "name            {Celestial, triple aegis, Palms, serene garden...   \n",
       "n_children      {six of us with myself included, infant son, d...   \n",
       "max_duration    {17 days, lesser, 4 day, no vacation days, fiv...   \n",
       "duration        {12 day, 8 day, the longer, 7 day, shortest, 5...   \n",
       "amenities                                              {-1, None}   \n",
       "vicinity                                               {-1, None}   \n",
       "gst_rating      {8.86/10, 8.8, 0, 8.22/10, 8.69, lower, 8.37, ...   \n",
       "flex                                                {False, True}   \n",
       "action                                                     {book}   \n",
       "breakfast                                     {False, True, None}   \n",
       "beach                                         {False, True, None}   \n",
       "min_duration    {longer period, week long, 5 days, 4, a few da...   \n",
       "park                                          {False, True, None}   \n",
       "budget_ok                                                  {True}   \n",
       "wifi                                          {False, True, None}   \n",
       "dep_time_or                                {7:00 am, 10 am, None}   \n",
       "dep_time_dst                         {1:00am, 3 am, 3:00am, None}   \n",
       "downtown                                             {True, None}   \n",
       "spa                                                  {True, None}   \n",
       "count_name      {all 4, only thing, all, only choice, 3, one, ...   \n",
       "arr_time_or                                       {1:00 am, None}   \n",
       "arr_time_dst                                               {None}   \n",
       "museum                                        {False, True, None}   \n",
       "count           {all you have, only thing, the only options, n...   \n",
       "university                                           {True, None}   \n",
       "parking                                          {True, -1, None}   \n",
       "count_dst_city                   {several, all, a few, None, two}   \n",
       "shopping                                      {False, True, None}   \n",
       "seat_ok                                                    {True}   \n",
       "cathedral                                                  {True}   \n",
       "mall                                                 {True, None}   \n",
       "airport                                              {True, None}   \n",
       "impl_anaphora                                   {category, price}   \n",
       "palace                                               {True, None}   \n",
       "market                                                     {True}   \n",
       "intent_ok                                                  {True}   \n",
       "n_adults_ok                                                {True}   \n",
       "count_seat                                                  {two}   \n",
       "gym                                                        {None}   \n",
       "\n",
       "                unique_values_nb  \n",
       "dst_city                     364  \n",
       "intent                         1  \n",
       "or_city                      333  \n",
       "str_date                     447  \n",
       "budget                       395  \n",
       "n_adults                     262  \n",
       "end_date                     320  \n",
       "ref_anaphora                 149  \n",
       "category                      85  \n",
       "price                         49  \n",
       "seat                          10  \n",
       "name                         111  \n",
       "n_children                    55  \n",
       "max_duration                  89  \n",
       "duration                      67  \n",
       "amenities                      2  \n",
       "vicinity                       2  \n",
       "gst_rating                    26  \n",
       "flex                           2  \n",
       "action                         1  \n",
       "breakfast                      3  \n",
       "beach                          3  \n",
       "min_duration                  24  \n",
       "park                           3  \n",
       "budget_ok                      1  \n",
       "wifi                           3  \n",
       "dep_time_or                    3  \n",
       "dep_time_dst                   4  \n",
       "downtown                       2  \n",
       "spa                            2  \n",
       "count_name                    10  \n",
       "arr_time_or                    2  \n",
       "arr_time_dst                   1  \n",
       "museum                         3  \n",
       "count                          9  \n",
       "university                     2  \n",
       "parking                        3  \n",
       "count_dst_city                 5  \n",
       "shopping                       3  \n",
       "seat_ok                        1  \n",
       "cathedral                      1  \n",
       "mall                           2  \n",
       "airport                        2  \n",
       "impl_anaphora                  2  \n",
       "palace                         2  \n",
       "market                         1  \n",
       "intent_ok                      1  \n",
       "n_adults_ok                    1  \n",
       "count_seat                     1  \n",
       "gym                            1  "
      ]
     },
     "execution_count": 84,
     "metadata": {},
     "output_type": "execute_result"
    }
   ],
   "source": [
    "labels"
   ]
  },
  {
   "cell_type": "markdown",
   "id": "db27700a",
   "metadata": {},
   "source": [
    "20% des valeurs lebellisées ont le label `dst_city` qui représente la ville de destination.\n",
    "\n",
    "On constate aussi que les 5 labels qui nous intéressent sont parmis les 7 labels les plus représentés.\n",
    "\n",
    "Enfin, le label `intent` ne possède qu'une seule valeur qui est `book` et qui représente donc l'intention de réserver un vol et/ou un hôtel."
   ]
  },
  {
   "cell_type": "markdown",
   "id": "617ea3cf",
   "metadata": {},
   "source": [
    "## Transformation des données\n",
    "\n",
    "Nous allons maintenant transformer nos données. Nous allons filtrer les données qui nous intéressent et nous allons les mettre au format LUIS. Ensuite, nous allons splitter nos données en un jeu d'entrainement et en un jeu de test. Pour finir, nous allons enregistrer nos données dans le Datastore et créer un Dataset.\n",
    "\n",
    "Commençons par observer les paramètres du modèle actuel :"
   ]
  },
  {
   "cell_type": "code",
   "execution_count": 106,
   "id": "05126cf8",
   "metadata": {},
   "outputs": [
    {
     "name": "stdout",
     "output_type": "stream",
     "text": [
      "Intents : ['book_flight', 'None']\n",
      "Entities : ['budget', 'from_city', 'from_dt', 'to_city', 'to_dt']\n"
     ]
    }
   ],
   "source": [
    "print(\"Intents :\", [i[\"name\"] for i in params[\"model\"][\"intents\"]])\n",
    "print(\"Entities :\", [i[\"name\"] for i in params[\"model\"][\"entities\"]])"
   ]
  },
  {
   "cell_type": "markdown",
   "id": "3791d9b1",
   "metadata": {},
   "source": [
    "Nous allons faire correspondre un label à chaque entité de notre modèle :"
   ]
  },
  {
   "cell_type": "code",
   "execution_count": 100,
   "id": "671f043b",
   "metadata": {},
   "outputs": [],
   "source": [
    "# Mapping entre les labels du jeu de données et ceux de LUIS\n",
    "label_to_entity = {\n",
    "    \"or_city\": \"from_city\",\n",
    "    \"dst_city\": \"to_city\",\n",
    "    \"str_date\": \"from_dt\",\n",
    "    \"end_date\": \"to_dt\",\n",
    "    \"budget\": \"budget\"\n",
    "}"
   ]
  },
  {
   "cell_type": "markdown",
   "id": "c95595a1",
   "metadata": {},
   "source": [
    "On va convertir les turns utilisateur au format LUIS. Nous allons ajouter quelques variables pour nous aider à filtrer les données :"
   ]
  },
  {
   "cell_type": "code",
   "execution_count": 143,
   "id": "27bb9852",
   "metadata": {
    "gather": {
     "logged": 1638784954127
    }
   },
   "outputs": [
    {
     "data": {
      "text/plain": [
       "(10407, 11)"
      ]
     },
     "execution_count": 143,
     "metadata": {},
     "output_type": "execute_result"
    }
   ],
   "source": [
    "# On convertit les turns utilisateur du jeu de données pour LUIS\n",
    "df = user_turns_to_luis_ds(\n",
    "    frames,\n",
    "    \"book_flight\",\n",
    "    label_to_entity\n",
    ")\n",
    "    \n",
    "df.shape"
   ]
  },
  {
   "cell_type": "markdown",
   "id": "5b5037c2",
   "metadata": {},
   "source": [
    "Comme nous l'avons vu au début de l'analyse des textes, le premier turn de chaque dialogue est celui qui contient le plus d'information. Nous n'allons donc conserver que ces textes là :"
   ]
  },
  {
   "cell_type": "code",
   "execution_count": 145,
   "id": "317ff3db",
   "metadata": {},
   "outputs": [
    {
     "data": {
      "text/plain": [
       "(1369, 11)"
      ]
     },
     "execution_count": 145,
     "metadata": {},
     "output_type": "execute_result"
    }
   ],
   "source": [
    "df = df[df[\"user_turn_id\"] == 0]\n",
    "df.shape"
   ]
  },
  {
   "cell_type": "code",
   "execution_count": 146,
   "id": "36062bcc",
   "metadata": {},
   "outputs": [
    {
     "data": {
      "text/html": [
       "<div>\n",
       "<style scoped>\n",
       "    .dataframe tbody tr th:only-of-type {\n",
       "        vertical-align: middle;\n",
       "    }\n",
       "\n",
       "    .dataframe tbody tr th {\n",
       "        vertical-align: top;\n",
       "    }\n",
       "\n",
       "    .dataframe thead th {\n",
       "        text-align: right;\n",
       "    }\n",
       "</style>\n",
       "<table border=\"1\" class=\"dataframe\">\n",
       "  <thead>\n",
       "    <tr style=\"text-align: right;\">\n",
       "      <th></th>\n",
       "      <th>user_turn_id</th>\n",
       "      <th>text</th>\n",
       "      <th>intent</th>\n",
       "      <th>entities</th>\n",
       "      <th>entity_total_nb</th>\n",
       "      <th>from_city_nb</th>\n",
       "      <th>to_city_nb</th>\n",
       "      <th>from_dt_nb</th>\n",
       "      <th>to_dt_nb</th>\n",
       "      <th>budget_nb</th>\n",
       "      <th>text_word_nb</th>\n",
       "    </tr>\n",
       "  </thead>\n",
       "  <tbody>\n",
       "    <tr>\n",
       "      <th>0</th>\n",
       "      <td>0</td>\n",
       "      <td>I'd like to book a trip to Atlantis from Capri...</td>\n",
       "      <td>book_flight</td>\n",
       "      <td>[{'entity': 'to_city', 'startPos': 27, 'endPos...</td>\n",
       "      <td>4</td>\n",
       "      <td>1</td>\n",
       "      <td>1</td>\n",
       "      <td>1</td>\n",
       "      <td>0</td>\n",
       "      <td>1</td>\n",
       "      <td>25</td>\n",
       "    </tr>\n",
       "    <tr>\n",
       "      <th>4</th>\n",
       "      <td>0</td>\n",
       "      <td>Hello, I am looking to book a vacation from Go...</td>\n",
       "      <td>book_flight</td>\n",
       "      <td>[{'entity': 'to_city', 'startPos': 59, 'endPos...</td>\n",
       "      <td>3</td>\n",
       "      <td>1</td>\n",
       "      <td>1</td>\n",
       "      <td>0</td>\n",
       "      <td>0</td>\n",
       "      <td>1</td>\n",
       "      <td>16</td>\n",
       "    </tr>\n",
       "    <tr>\n",
       "      <th>14</th>\n",
       "      <td>0</td>\n",
       "      <td>Hello there i am looking to go on a vacation w...</td>\n",
       "      <td>book_flight</td>\n",
       "      <td>[{'entity': 'to_city', 'startPos': 63, 'endPos...</td>\n",
       "      <td>1</td>\n",
       "      <td>0</td>\n",
       "      <td>1</td>\n",
       "      <td>0</td>\n",
       "      <td>0</td>\n",
       "      <td>0</td>\n",
       "      <td>20</td>\n",
       "    </tr>\n",
       "    <tr>\n",
       "      <th>25</th>\n",
       "      <td>0</td>\n",
       "      <td>Hi I'd like to go to Caprica from Busan, betwe...</td>\n",
       "      <td>book_flight</td>\n",
       "      <td>[{'entity': 'to_city', 'startPos': 21, 'endPos...</td>\n",
       "      <td>4</td>\n",
       "      <td>1</td>\n",
       "      <td>1</td>\n",
       "      <td>1</td>\n",
       "      <td>1</td>\n",
       "      <td>0</td>\n",
       "      <td>19</td>\n",
       "    </tr>\n",
       "    <tr>\n",
       "      <th>32</th>\n",
       "      <td>0</td>\n",
       "      <td>Hello, I am looking to book a trip for 2 adult...</td>\n",
       "      <td>book_flight</td>\n",
       "      <td>[{'entity': 'budget', 'startPos': 67, 'endPos'...</td>\n",
       "      <td>3</td>\n",
       "      <td>1</td>\n",
       "      <td>1</td>\n",
       "      <td>0</td>\n",
       "      <td>0</td>\n",
       "      <td>1</td>\n",
       "      <td>25</td>\n",
       "    </tr>\n",
       "  </tbody>\n",
       "</table>\n",
       "</div>"
      ],
      "text/plain": [
       "    user_turn_id                                               text  \\\n",
       "0              0  I'd like to book a trip to Atlantis from Capri...   \n",
       "4              0  Hello, I am looking to book a vacation from Go...   \n",
       "14             0  Hello there i am looking to go on a vacation w...   \n",
       "25             0  Hi I'd like to go to Caprica from Busan, betwe...   \n",
       "32             0  Hello, I am looking to book a trip for 2 adult...   \n",
       "\n",
       "         intent                                           entities  \\\n",
       "0   book_flight  [{'entity': 'to_city', 'startPos': 27, 'endPos...   \n",
       "4   book_flight  [{'entity': 'to_city', 'startPos': 59, 'endPos...   \n",
       "14  book_flight  [{'entity': 'to_city', 'startPos': 63, 'endPos...   \n",
       "25  book_flight  [{'entity': 'to_city', 'startPos': 21, 'endPos...   \n",
       "32  book_flight  [{'entity': 'budget', 'startPos': 67, 'endPos'...   \n",
       "\n",
       "    entity_total_nb  from_city_nb  to_city_nb  from_dt_nb  to_dt_nb  \\\n",
       "0                 4             1           1           1         0   \n",
       "4                 3             1           1           0         0   \n",
       "14                1             0           1           0         0   \n",
       "25                4             1           1           1         1   \n",
       "32                3             1           1           0         0   \n",
       "\n",
       "    budget_nb  text_word_nb  \n",
       "0           1            25  \n",
       "4           1            16  \n",
       "14          0            20  \n",
       "25          0            19  \n",
       "32          1            25  "
      ]
     },
     "execution_count": 146,
     "metadata": {},
     "output_type": "execute_result"
    }
   ],
   "source": [
    "df.head()"
   ]
  },
  {
   "cell_type": "markdown",
   "id": "ad63e543",
   "metadata": {},
   "source": [
    "Voyons à quoi ressemblent les textes de l'intent `None` :"
   ]
  },
  {
   "cell_type": "code",
   "execution_count": 149,
   "id": "59b248ce",
   "metadata": {},
   "outputs": [
    {
     "name": "stdout",
     "output_type": "stream",
     "text": [
      "Hello, I have 15 vacation days available between June 1st and August 31st. I am leaving from Theed. I would like to go somewhere with lots of sunshine.\n",
      "Hi!\n",
      "Hi! I'd like to go to Boston from Mos Eisley on August 15th.\n",
      "Heyo!\n",
      "Good morning.\n",
      "Hi. I need to book a vacation to Long Beach between August 25 and September 3. Departure is from Paris\n",
      "Hi we're from Miami and we want to go to paris, can you help out?\n",
      "Hello wozbot!\n",
      "Hi im fro termina and i want to go on vacation on August 13th\n",
      "Hi i am looking to go to Punta Cana with my three friends\n",
      "ay whats up?\n",
      "Hi. I'd like to find a trip to San Diego. I can leave from Belo Horizonte. I'd like to travel between August 27th and August 31st if possible. My dates are flexible.\n",
      "I'd like to book a trip from Chicago to San Diego between August 26th and September 5th.\n",
      "hi there\n",
      "me again... I'm still burnt out from work\n",
      "hi my wife and i wanna bring our 7 little lads n lassies to kochi leaving from san diego  we can spend 28500 \n",
      "hi i need to get to mexico please find me a flight from punta cana\n",
      "I'm looking to book a trip to Fukuoka from Mannheim leaving on August 27th for my honeymoon.\n",
      "hey what's available from mtl to mexico city?\n",
      "Hi, I live in Diagon Alley and we need to go to Las Vegas in August for a graffiti convention its gonna be so chill cant wait\n",
      "hey\n",
      "hello hello\n",
      "HEY\n",
      "haayyyyy\n",
      "Hi\n",
      "hey\n",
      "allo I am leaving Marseille Thursday August 18 and I want to travel until September 7\n",
      "Good day sire. I would like to book a recreational stay between August 17 and September 3. What has thou to offer?\n",
      "Hi there! I only have 5 days of vacation, and I want to do the best I can with it! Can you recommend packages starting August 30th?\n",
      "hey, so even though the year is 2025 i need to book a trip for august 26, 2016 to calgary...\n"
     ]
    }
   ],
   "source": [
    "for text in df[df[\"intent\"] == \"None\"][\"text\"].iloc[:30]:\n",
    "    print(text)"
   ]
  },
  {
   "cell_type": "markdown",
   "id": "178f4db4",
   "metadata": {},
   "source": [
    "On s'apperçoit qu'il y a des doublons et que certaines phrases représentent une intention de réserver un vol/hôtel.\n",
    "\n",
    "Nous allons donc commencer par supprimer les doublons dans les textes :"
   ]
  },
  {
   "cell_type": "code",
   "execution_count": 151,
   "id": "2ab9475f",
   "metadata": {},
   "outputs": [
    {
     "data": {
      "text/plain": [
       "(1329, 11)"
      ]
     },
     "execution_count": 151,
     "metadata": {},
     "output_type": "execute_result"
    }
   ],
   "source": [
    "# On supprime les doublons\n",
    "df = df.drop_duplicates([\"text\"])\n",
    "df.shape"
   ]
  },
  {
   "cell_type": "markdown",
   "id": "179ea2fb",
   "metadata": {},
   "source": [
    "Voyons la distribution des intents :"
   ]
  },
  {
   "cell_type": "code",
   "execution_count": 152,
   "id": "479e9636",
   "metadata": {},
   "outputs": [
    {
     "data": {
      "text/plain": [
       "book_flight    1135\n",
       "None            194\n",
       "Name: intent, dtype: int64"
      ]
     },
     "execution_count": 152,
     "metadata": {},
     "output_type": "execute_result"
    }
   ],
   "source": [
    "df[\"intent\"].value_counts()"
   ]
  },
  {
   "cell_type": "markdown",
   "id": "b60185bc",
   "metadata": {},
   "source": [
    "On va maintenant mondifier l'intent des textes labellisé à `None` et qui ont au moins une entité liée à la réservation d'un vol :"
   ]
  },
  {
   "cell_type": "code",
   "execution_count": 155,
   "id": "70c51d14",
   "metadata": {},
   "outputs": [
    {
     "data": {
      "text/plain": [
       "book_flight    1260\n",
       "None             69\n",
       "Name: intent, dtype: int64"
      ]
     },
     "execution_count": 155,
     "metadata": {},
     "output_type": "execute_result"
    }
   ],
   "source": [
    "mask = (df[\"intent\"] == \"None\") & (df[\"entity_total_nb\"] > 0)\n",
    "df.loc[mask, \"intent\"] = \"book_flight\"\n",
    "\n",
    "df[\"intent\"].value_counts()"
   ]
  },
  {
   "cell_type": "markdown",
   "id": "03cf95d5",
   "metadata": {},
   "source": [
    "Observons quelques exemple des textes ayant l'intent `None` :"
   ]
  },
  {
   "cell_type": "code",
   "execution_count": 156,
   "id": "a86feb29",
   "metadata": {},
   "outputs": [
    {
     "name": "stdout",
     "output_type": "stream",
     "text": [
      "Hi!\n",
      "Heyo!\n",
      "Good morning.\n",
      "Hello wozbot!\n",
      "ay whats up?\n",
      "hi there\n",
      "me again... I'm still burnt out from work\n",
      "hey\n",
      "hello hello\n",
      "HEY\n",
      "haayyyyy\n",
      "Hi\n",
      "Hello :slightly_smiling_face:\n",
      "hello\n",
      "helllo\n",
      "hi\n",
      "Hello,\n",
      "Hi there\n",
      "Hey\n",
      "Heyooooo\n",
      "suh\n",
      "Hey there!\n",
      "sup \n",
      "spring break gurl whats up yaassss\n",
      "Yo dude.\n",
      "Howdy! So how does this work? I'm not too good with technology, I'm more of a pen and paper kind of guy\n",
      "Hey how are you?\n",
      "Hi there,\n",
      "hello.\n",
      "hello................\n"
     ]
    }
   ],
   "source": [
    "for text in df[df[\"intent\"] == \"None\"][\"text\"].iloc[:30]:\n",
    "    print(text)"
   ]
  },
  {
   "cell_type": "markdown",
   "id": "89a2240b",
   "metadata": {},
   "source": [
    "Observons quelques indicateurs statistiques après nettoyage de notre jeu de données :"
   ]
  },
  {
   "cell_type": "code",
   "execution_count": 157,
   "id": "7fc93aab",
   "metadata": {},
   "outputs": [
    {
     "data": {
      "text/html": [
       "<div>\n",
       "<style scoped>\n",
       "    .dataframe tbody tr th:only-of-type {\n",
       "        vertical-align: middle;\n",
       "    }\n",
       "\n",
       "    .dataframe tbody tr th {\n",
       "        vertical-align: top;\n",
       "    }\n",
       "\n",
       "    .dataframe thead th {\n",
       "        text-align: right;\n",
       "    }\n",
       "</style>\n",
       "<table border=\"1\" class=\"dataframe\">\n",
       "  <thead>\n",
       "    <tr style=\"text-align: right;\">\n",
       "      <th></th>\n",
       "      <th>count</th>\n",
       "      <th>mean</th>\n",
       "      <th>std</th>\n",
       "      <th>min</th>\n",
       "      <th>25%</th>\n",
       "      <th>50%</th>\n",
       "      <th>75%</th>\n",
       "      <th>max</th>\n",
       "    </tr>\n",
       "  </thead>\n",
       "  <tbody>\n",
       "    <tr>\n",
       "      <th>text_word_nb</th>\n",
       "      <td>1329.0</td>\n",
       "      <td>17.469526</td>\n",
       "      <td>11.829137</td>\n",
       "      <td>1.0</td>\n",
       "      <td>9.0</td>\n",
       "      <td>15.0</td>\n",
       "      <td>23.0</td>\n",
       "      <td>74.0</td>\n",
       "    </tr>\n",
       "    <tr>\n",
       "      <th>entity_total_nb</th>\n",
       "      <td>1329.0</td>\n",
       "      <td>1.860798</td>\n",
       "      <td>1.272167</td>\n",
       "      <td>0.0</td>\n",
       "      <td>1.0</td>\n",
       "      <td>2.0</td>\n",
       "      <td>3.0</td>\n",
       "      <td>5.0</td>\n",
       "    </tr>\n",
       "    <tr>\n",
       "      <th>from_city_nb</th>\n",
       "      <td>1329.0</td>\n",
       "      <td>0.607223</td>\n",
       "      <td>0.490091</td>\n",
       "      <td>0.0</td>\n",
       "      <td>0.0</td>\n",
       "      <td>1.0</td>\n",
       "      <td>1.0</td>\n",
       "      <td>2.0</td>\n",
       "    </tr>\n",
       "    <tr>\n",
       "      <th>to_city_nb</th>\n",
       "      <td>1329.0</td>\n",
       "      <td>0.651618</td>\n",
       "      <td>0.476637</td>\n",
       "      <td>0.0</td>\n",
       "      <td>0.0</td>\n",
       "      <td>1.0</td>\n",
       "      <td>1.0</td>\n",
       "      <td>1.0</td>\n",
       "    </tr>\n",
       "    <tr>\n",
       "      <th>from_dt_nb</th>\n",
       "      <td>1329.0</td>\n",
       "      <td>0.278405</td>\n",
       "      <td>0.448382</td>\n",
       "      <td>0.0</td>\n",
       "      <td>0.0</td>\n",
       "      <td>0.0</td>\n",
       "      <td>1.0</td>\n",
       "      <td>1.0</td>\n",
       "    </tr>\n",
       "    <tr>\n",
       "      <th>to_dt_nb</th>\n",
       "      <td>1329.0</td>\n",
       "      <td>0.159518</td>\n",
       "      <td>0.366297</td>\n",
       "      <td>0.0</td>\n",
       "      <td>0.0</td>\n",
       "      <td>0.0</td>\n",
       "      <td>0.0</td>\n",
       "      <td>1.0</td>\n",
       "    </tr>\n",
       "    <tr>\n",
       "      <th>budget_nb</th>\n",
       "      <td>1329.0</td>\n",
       "      <td>0.164033</td>\n",
       "      <td>0.370445</td>\n",
       "      <td>0.0</td>\n",
       "      <td>0.0</td>\n",
       "      <td>0.0</td>\n",
       "      <td>0.0</td>\n",
       "      <td>1.0</td>\n",
       "    </tr>\n",
       "  </tbody>\n",
       "</table>\n",
       "</div>"
      ],
      "text/plain": [
       "                  count       mean        std  min  25%   50%   75%   max\n",
       "text_word_nb     1329.0  17.469526  11.829137  1.0  9.0  15.0  23.0  74.0\n",
       "entity_total_nb  1329.0   1.860798   1.272167  0.0  1.0   2.0   3.0   5.0\n",
       "from_city_nb     1329.0   0.607223   0.490091  0.0  0.0   1.0   1.0   2.0\n",
       "to_city_nb       1329.0   0.651618   0.476637  0.0  0.0   1.0   1.0   1.0\n",
       "from_dt_nb       1329.0   0.278405   0.448382  0.0  0.0   0.0   1.0   1.0\n",
       "to_dt_nb         1329.0   0.159518   0.366297  0.0  0.0   0.0   0.0   1.0\n",
       "budget_nb        1329.0   0.164033   0.370445  0.0  0.0   0.0   0.0   1.0"
      ]
     },
     "execution_count": 157,
     "metadata": {},
     "output_type": "execute_result"
    }
   ],
   "source": [
    "df[\n",
    "    [\"text_word_nb\", \"entity_total_nb\"] + [f\"{i}_nb\" for i in label_to_entity.values()]\n",
    "].describe().T"
   ]
  },
  {
   "cell_type": "markdown",
   "id": "0af2e7d2",
   "metadata": {},
   "source": [
    "Les 1er textes ont en moyenne 17 mots. Ils sont donc plus longs que les autres textes. En effet, on a pu voir que l'utilisateur va souvent exprimer sa demande ainsi que des informations complémentaires dans ce 1er texte.\n",
    "\n",
    "L'utilisateur va en moyenne spécifier la ville de départ dans 60% des cas et la ville d'arrivée dans 65% des cas. On retrouve ensuite la date de départ dans 29% des cas et la date d'arrivée et le budget dans seulement 16% des cas. Notre bot devra donc être en mesure de questionner l'utilisateur pour récupérer les données manquantes.\n",
    "\n",
    "La documentation de LUIS ([en savoir plus](https://docs.microsoft.com/en-us/azure/cognitive-services/luis/luis-concept-app-iteration)) nous conseille de créer un premier modèle avec environ 30 exemples par intent. Il s'agit surtout du cas où nous devons créer et labelliser les textes à la main. Etant donnée que nous avons un dataset déjà labellisé, nous pourrions utiliser tout notre jeu de données. Cependant, les bonnes pratiques de LUIS ([en savoir plus](https://docs.microsoft.com/en-us/azure/cognitive-services/luis/luis-concept-best-practices#do-balance-your-utterances-across-all-intents)) nous recommande aussi de créer des jeu de données équilibré en prenant le même nombre d'exemple par intent.\n",
    "\n",
    "Commençons par voir combien de textes ont toutes les entitées :"
   ]
  },
  {
   "cell_type": "code",
   "execution_count": 172,
   "id": "f9559e3e",
   "metadata": {},
   "outputs": [
    {
     "data": {
      "text/plain": [
       "(33, 11)"
      ]
     },
     "execution_count": 172,
     "metadata": {},
     "output_type": "execute_result"
    }
   ],
   "source": [
    "book_flight_utterances = df[(df[\"intent\"] == \"book_flight\") & (df[\"entity_total_nb\"] >= len(label_to_entity))]\n",
    "book_flight_utterances.shape"
   ]
  },
  {
   "cell_type": "markdown",
   "id": "3bbd1394",
   "metadata": {},
   "source": [
    "Nous avons 33 individus. Nous allons ajouter 167 textes au hazard afin d'obtenir 200 individus. Nous aurons ainsi 2,8 fois plus d'individus que pour l'intent `None`. Notre jeu de données sera donc déséquilibré mais cela n'est pas grave car il sera beaucoup plus simple par la suite d'ajouter des individus pour l'intent `None`. En effet, ces dernier n'ont pas d'entités à labelliser."
   ]
  },
  {
   "cell_type": "code",
   "execution_count": 173,
   "id": "ce905448",
   "metadata": {},
   "outputs": [
    {
     "data": {
      "text/plain": [
       "(200, 11)"
      ]
     },
     "execution_count": 173,
     "metadata": {},
     "output_type": "execute_result"
    }
   ],
   "source": [
    "# On échantillonne 167 individus au hazard\n",
    "tmp = df[(df[\"intent\"] == \"book_flight\") & (df[\"entity_total_nb\"] < len(label_to_entity))]\n",
    "tmp = tmp.sample(n=167, random_state=RANDOM_SEED)\n",
    "\n",
    "# On concatène les données\n",
    "book_flight_utterances = pd.concat([book_flight_utterances, tmp])\n",
    "book_flight_utterances.shape"
   ]
  },
  {
   "cell_type": "markdown",
   "id": "c478e2d3",
   "metadata": {},
   "source": [
    "On récupère ensuite les textes de type `None` :"
   ]
  },
  {
   "cell_type": "code",
   "execution_count": 176,
   "id": "6d385291",
   "metadata": {},
   "outputs": [
    {
     "data": {
      "text/plain": [
       "(69, 11)"
      ]
     },
     "execution_count": 176,
     "metadata": {},
     "output_type": "execute_result"
    }
   ],
   "source": [
    "none_utterances = df[df[\"intent\"] == \"None\"]\n",
    "none_utterances.shape"
   ]
  },
  {
   "cell_type": "markdown",
   "id": "1d7d565c",
   "metadata": {},
   "source": [
    "On finit en concaténant nos données :"
   ]
  },
  {
   "cell_type": "code",
   "execution_count": 177,
   "id": "91100500",
   "metadata": {},
   "outputs": [
    {
     "data": {
      "text/plain": [
       "(269, 11)"
      ]
     },
     "execution_count": 177,
     "metadata": {},
     "output_type": "execute_result"
    }
   ],
   "source": [
    "utterances = pd.concat([book_flight_utterances, none_utterances])\n",
    "utterances.shape"
   ]
  },
  {
   "cell_type": "markdown",
   "id": "720ec37e",
   "metadata": {},
   "source": [
    "## Split des données\n",
    "\n",
    "Nous allons séparer nos données en un jeu d'entrainement et un jeu de test."
   ]
  },
  {
   "cell_type": "code",
   "execution_count": 210,
   "id": "7ad43a1b",
   "metadata": {},
   "outputs": [
    {
     "name": "stdout",
     "output_type": "stream",
     "text": [
      "Le jeu d'entrainement compte 188 textes labellisés.\n"
     ]
    }
   ],
   "source": [
    "# On prend 70% des données pour le jeu d'entrainement\n",
    "utterances_train = utterances.sample(frac=0.7, random_state=RANDOM_SEED)\n",
    "\n",
    "print(f\"Le jeu d'entrainement compte {utterances_train.shape[0]} textes labellisés.\")"
   ]
  },
  {
   "cell_type": "code",
   "execution_count": 211,
   "id": "b9e18c8f",
   "metadata": {},
   "outputs": [
    {
     "name": "stdout",
     "output_type": "stream",
     "text": [
      "Le jeu de test compte 81 textes labellisés.\n"
     ]
    }
   ],
   "source": [
    "# On crée le jeu de test avec les 30% restant\n",
    "utterances_test_idx = utterances.index.difference(utterances_train.index)\n",
    "utterances_test = utterances.loc[utterances_test_idx]\n",
    "\n",
    "print(f\"Le jeu de test compte {utterances_test.shape[0]} textes labellisés.\")"
   ]
  },
  {
   "cell_type": "markdown",
   "id": "81c12688",
   "metadata": {},
   "source": [
    "On met les données au format LUIS :"
   ]
  },
  {
   "cell_type": "code",
   "execution_count": 184,
   "id": "745e933c",
   "metadata": {},
   "outputs": [],
   "source": [
    "utterances_train = utterances_train[[\"text\", \"intent\", \"entities\"]].to_dict(\"records\")"
   ]
  },
  {
   "cell_type": "markdown",
   "id": "0c72f98f",
   "metadata": {},
   "source": [
    "Voyons à quoi resemble le 1er élément de notre jeu d'entrainement :"
   ]
  },
  {
   "cell_type": "code",
   "execution_count": 185,
   "id": "13a6987f",
   "metadata": {},
   "outputs": [
    {
     "name": "stdout",
     "output_type": "stream",
     "text": [
      "{\n",
      "  \"text\": \"I would like to find a vacation between the 24th and 27th from San Francisco to Fort Lauderdale for 3800\",\n",
      "  \"intent\": \"book_flight\",\n",
      "  \"entities\": [\n",
      "    {\n",
      "      \"entity\": \"from_dt\",\n",
      "      \"startPos\": 44,\n",
      "      \"endPos\": 47,\n",
      "      \"children\": []\n",
      "    },\n",
      "    {\n",
      "      \"entity\": \"to_dt\",\n",
      "      \"startPos\": 53,\n",
      "      \"endPos\": 56,\n",
      "      \"children\": []\n",
      "    },\n",
      "    {\n",
      "      \"entity\": \"from_city\",\n",
      "      \"startPos\": 63,\n",
      "      \"endPos\": 75,\n",
      "      \"children\": []\n",
      "    },\n",
      "    {\n",
      "      \"entity\": \"to_city\",\n",
      "      \"startPos\": 80,\n",
      "      \"endPos\": 94,\n",
      "      \"children\": []\n",
      "    },\n",
      "    {\n",
      "      \"entity\": \"budget\",\n",
      "      \"startPos\": 100,\n",
      "      \"endPos\": 103,\n",
      "      \"children\": []\n",
      "    }\n",
      "  ]\n",
      "}\n"
     ]
    }
   ],
   "source": [
    "pprint_dict(utterances_train[0])"
   ]
  },
  {
   "cell_type": "markdown",
   "id": "8c153a2d",
   "metadata": {},
   "source": [
    "Pour le jeu de test, nous devons respecter le format spécifié dans la documentation de LUIS ([en savoir plus](https://docs.microsoft.com/en-us/azure/cognitive-services/luis/luis-how-to-batch-test#batch-syntax-template-for-intents-with-entities)) :"
   ]
  },
  {
   "cell_type": "code",
   "execution_count": 187,
   "id": "80541ebe",
   "metadata": {},
   "outputs": [],
   "source": [
    "utterances_test = utterances_test[[\"text\", \"intent\", \"entities\"]].to_dict(\"records\")\n",
    "utterances_test = {\n",
    "    \"LabeledTestSetUtterances\": utterances_test\n",
    "}"
   ]
  },
  {
   "cell_type": "markdown",
   "id": "3aae3a34",
   "metadata": {},
   "source": [
    "Voyons à quoi resemble le 1er élément de notre jeu de test :"
   ]
  },
  {
   "cell_type": "code",
   "execution_count": 188,
   "id": "b99082b2",
   "metadata": {},
   "outputs": [
    {
     "name": "stdout",
     "output_type": "stream",
     "text": [
      "{\n",
      "  \"text\": \"The police are after me, and I need to leave Kobe between August 27 and September 2.\",\n",
      "  \"intent\": \"book_flight\",\n",
      "  \"entities\": [\n",
      "    {\n",
      "      \"entity\": \"from_city\",\n",
      "      \"startPos\": 45,\n",
      "      \"endPos\": 48,\n",
      "      \"children\": []\n",
      "    },\n",
      "    {\n",
      "      \"entity\": \"from_dt\",\n",
      "      \"startPos\": 58,\n",
      "      \"endPos\": 66,\n",
      "      \"children\": []\n",
      "    },\n",
      "    {\n",
      "      \"entity\": \"to_dt\",\n",
      "      \"startPos\": 72,\n",
      "      \"endPos\": 82,\n",
      "      \"children\": []\n",
      "    }\n",
      "  ]\n",
      "}\n"
     ]
    }
   ],
   "source": [
    "pprint_dict(utterances_test[\"LabeledTestSetUtterances\"][0])"
   ]
  },
  {
   "cell_type": "markdown",
   "id": "ee40e595",
   "metadata": {},
   "source": [
    "## Enregistrement des datasets\n",
    "\n",
    "Nous allons enregistrer nos données au format JSON dans le Datastore :"
   ]
  },
  {
   "cell_type": "code",
   "execution_count": 192,
   "id": "3096b54b",
   "metadata": {},
   "outputs": [
    {
     "name": "stdout",
     "output_type": "stream",
     "text": [
      "Validating arguments.\n",
      "Arguments validated.\n",
      "Uploading file to utterances/2022_01_02\n"
     ]
    },
    {
     "name": "stderr",
     "output_type": "stream",
     "text": [
      "Unrecognized authentication type: None\n"
     ]
    },
    {
     "name": "stdout",
     "output_type": "stream",
     "text": [
      "Uploading an estimated of 2 files\n",
      "Uploading /tmp/tmpr4lpf75r/utterances_test.json\n",
      "Uploaded /tmp/tmpr4lpf75r/utterances_test.json, 1 files out of an estimated total of 2\n",
      "Uploading /tmp/tmpr4lpf75r/utterances_train.json\n",
      "Uploaded /tmp/tmpr4lpf75r/utterances_train.json, 2 files out of an estimated total of 2\n",
      "Uploaded 2 files\n",
      "Creating new dataset\n"
     ]
    }
   ],
   "source": [
    "with tempfile.TemporaryDirectory() as tmp_dir_name:\n",
    "    # On enregistre les données\n",
    "    file_path = os.path.join(tmp_dir_name, \"utterances_train.json\")\n",
    "    with open(file_path, \"w\") as f:\n",
    "        json.dump(utterances_train, f)\n",
    "        \n",
    "    file_path = os.path.join(tmp_dir_name, \"utterances_test.json\")\n",
    "    with open(file_path, \"w\") as f:\n",
    "        json.dump(utterances_test, f)\n",
    "    \n",
    "    # On upload tous les fichiers dans le datastore\n",
    "    ds = Dataset.File.upload_directory(\n",
    "        tmp_dir_name,\n",
    "        target=(datastore, \"utterances/\" + datetime.now().strftime(\"%Y_%m_%d_%H_%M_%S\")),\n",
    "        overwrite=True,\n",
    "        show_progress=True\n",
    "    )"
   ]
  },
  {
   "cell_type": "markdown",
   "id": "9b8f7203",
   "metadata": {},
   "source": [
    "On crée ensuite un Dataset Azure à partir de ces fichiers :"
   ]
  },
  {
   "cell_type": "code",
   "execution_count": 197,
   "id": "dd02a5f4",
   "metadata": {},
   "outputs": [],
   "source": [
    "ds = ds.register(\n",
    "    workspace=ws,\n",
    "    name=\"utterances\",\n",
    "    description=\"Train and test utterances\",\n",
    "    create_new_version=True\n",
    ")"
   ]
  },
  {
   "cell_type": "code",
   "execution_count": 198,
   "id": "70d20e48",
   "metadata": {},
   "outputs": [
    {
     "name": "stdout",
     "output_type": "stream",
     "text": [
      "Création du dataset 'utterances' version 1.\n"
     ]
    }
   ],
   "source": [
    "print(f\"Création du dataset '{ds.name}' version {ds.version}.\")"
   ]
  },
  {
   "cell_type": "markdown",
   "id": "7dc0f668",
   "metadata": {},
   "source": [
    "# Enregistrement des paramètres de LUIS sur Github\n",
    "\n",
    "Il existe plusieurs façons de créer un modèle LUIS. Nous avons d'abord testé le tutorial suivant qui utilise le SDK Python : [quickstart](https://docs.microsoft.com/en-us/azure/cognitive-services/luis/client-libraries-rest-api?tabs=windows&pivots=programming-language-python).\n",
    "\n",
    "Nous nous sommes ensuite apperçut que l'on pouvait importer et exporter notre modèle au format JSON ([en savoir plus](https://docs.microsoft.com/en-us/azure/cognitive-services/luis/app-schema-definition)). Ce format s'avère pratique pour versionner le modèle et il reste assez simple pour être manipulé dans le cadre de recherche d'hyperparamètres. Cette méthode utilise le SDK python ainsi que l'API REST de LUIS. Les paramètres du modèle LUIS ainsi que les informations du jeu de données sont stockés dans le fichier `../P10_02_luis/params.json`. C'est ce fichier qui sera ensuite utilisé par les Github actions pour déployer le modèle en production."
   ]
  },
  {
   "cell_type": "markdown",
   "id": "cd471b87",
   "metadata": {},
   "source": [
    "## Mise à jour des paramètres de LUIS\n",
    "\n",
    "On va donc commencer par mettre à jour le fichier JSON, notamment les informations du jeu de données précédemment créé."
   ]
  },
  {
   "cell_type": "code",
   "execution_count": 202,
   "id": "e2661e72",
   "metadata": {},
   "outputs": [],
   "source": [
    "# On copie les paramètres du modèle actuel\n",
    "new_params = params.copy()"
   ]
  },
  {
   "cell_type": "code",
   "execution_count": 203,
   "id": "71a75517",
   "metadata": {},
   "outputs": [],
   "source": [
    "# On met à jour les paramètres avec le jeu de données que l'on a créé\n",
    "new_params[\"dataset\"][\"name\"] = ds.name\n",
    "new_params[\"dataset\"][\"version\"] = ds.version"
   ]
  },
  {
   "cell_type": "code",
   "execution_count": 204,
   "id": "b3606e58",
   "metadata": {},
   "outputs": [],
   "source": [
    "# On enregistre les nouveaux paramètres\n",
    "with open(\"../P10_02_luis/params.json\", \"w\") as f:\n",
    "    json.dump(new_params, f)"
   ]
  },
  {
   "cell_type": "markdown",
   "id": "1ca245d2",
   "metadata": {},
   "source": [
    "## Evaluation du nouveau modèle\n",
    "\n",
    "Nous allons utiliser les mêmes briques logicielles que celles utilisées pour le déployement du modèle en production. Elles sont disponible dans le fichier `../P10_02_luis/utils.py`."
   ]
  },
  {
   "cell_type": "code",
   "execution_count": 205,
   "id": "f30762c9",
   "metadata": {
    "gather": {
     "logged": 1638784958139
    }
   },
   "outputs": [],
   "source": [
    "# On commence par créer un nom de version temporaire\n",
    "tmp_app_version = \"tmp\""
   ]
  },
  {
   "cell_type": "code",
   "execution_count": 206,
   "id": "f557be00-a7ab-4961-8302-5149906dcf62",
   "metadata": {
    "gather": {
     "logged": 1638785126195
    },
    "jupyter": {
     "outputs_hidden": false,
     "source_hidden": false
    },
    "nteract": {
     "transient": {
      "deleting": false
     }
    }
   },
   "outputs": [],
   "source": [
    "# On crée ensuite une nouvelle version du modèle.\n",
    "# Un premier modèle a déjà été créé dans le script de création\n",
    "# des ressources de LUIS \"../P10_02_luis/luis_create.sh\".\n",
    "# Ce 1er modèle a été créé à partir du fichier \"../P10_02_luis/params.json\".\n",
    "create_new_version(env, tmp_app_version, new_params[\"model\"], utterances_train)"
   ]
  },
  {
   "cell_type": "code",
   "execution_count": 207,
   "id": "46c252c1",
   "metadata": {
    "gather": {
     "logged": 1638785128513
    },
    "jupyter": {
     "outputs_hidden": false,
     "source_hidden": false
    },
    "nteract": {
     "transient": {
      "deleting": false
     }
    }
   },
   "outputs": [],
   "source": [
    "# On entraine notre modèle\n",
    "train(env, tmp_app_version)"
   ]
  },
  {
   "cell_type": "code",
   "execution_count": 208,
   "id": "6bf24bb2",
   "metadata": {
    "gather": {
     "logged": 1638785133099
    }
   },
   "outputs": [],
   "source": [
    "# On le déploie sur l'environnement de test\n",
    "deploy(env, tmp_app_version, \"staging\")"
   ]
  },
  {
   "cell_type": "code",
   "execution_count": 209,
   "id": "a6f761e0",
   "metadata": {},
   "outputs": [
    {
     "data": {
      "text/html": [
       "<div>\n",
       "<style scoped>\n",
       "    .dataframe tbody tr th:only-of-type {\n",
       "        vertical-align: middle;\n",
       "    }\n",
       "\n",
       "    .dataframe tbody tr th {\n",
       "        vertical-align: top;\n",
       "    }\n",
       "\n",
       "    .dataframe thead th {\n",
       "        text-align: right;\n",
       "    }\n",
       "</style>\n",
       "<table border=\"1\" class=\"dataframe\">\n",
       "  <thead>\n",
       "    <tr style=\"text-align: right;\">\n",
       "      <th></th>\n",
       "      <th>model_name</th>\n",
       "      <th>model_type</th>\n",
       "      <th>precision</th>\n",
       "      <th>recall</th>\n",
       "      <th>f_score</th>\n",
       "    </tr>\n",
       "  </thead>\n",
       "  <tbody>\n",
       "    <tr>\n",
       "      <th>0</th>\n",
       "      <td>book_flight</td>\n",
       "      <td>Intent Classifier</td>\n",
       "      <td>0.92</td>\n",
       "      <td>1.00</td>\n",
       "      <td>0.96</td>\n",
       "    </tr>\n",
       "    <tr>\n",
       "      <th>1</th>\n",
       "      <td>None</td>\n",
       "      <td>Intent Classifier</td>\n",
       "      <td>1.00</td>\n",
       "      <td>0.78</td>\n",
       "      <td>0.88</td>\n",
       "    </tr>\n",
       "    <tr>\n",
       "      <th>2</th>\n",
       "      <td>from_dt</td>\n",
       "      <td>Entity Extractor</td>\n",
       "      <td>0.86</td>\n",
       "      <td>0.90</td>\n",
       "      <td>0.88</td>\n",
       "    </tr>\n",
       "    <tr>\n",
       "      <th>3</th>\n",
       "      <td>to_dt</td>\n",
       "      <td>Entity Extractor</td>\n",
       "      <td>0.88</td>\n",
       "      <td>1.00</td>\n",
       "      <td>0.93</td>\n",
       "    </tr>\n",
       "    <tr>\n",
       "      <th>4</th>\n",
       "      <td>budget</td>\n",
       "      <td>Entity Extractor</td>\n",
       "      <td>0.88</td>\n",
       "      <td>1.00</td>\n",
       "      <td>0.93</td>\n",
       "    </tr>\n",
       "    <tr>\n",
       "      <th>5</th>\n",
       "      <td>from_city</td>\n",
       "      <td>Entity Extractor</td>\n",
       "      <td>0.57</td>\n",
       "      <td>0.85</td>\n",
       "      <td>0.69</td>\n",
       "    </tr>\n",
       "    <tr>\n",
       "      <th>6</th>\n",
       "      <td>to_city</td>\n",
       "      <td>Entity Extractor</td>\n",
       "      <td>0.50</td>\n",
       "      <td>1.00</td>\n",
       "      <td>0.67</td>\n",
       "    </tr>\n",
       "  </tbody>\n",
       "</table>\n",
       "</div>"
      ],
      "text/plain": [
       "    model_name         model_type  precision  recall  f_score\n",
       "0  book_flight  Intent Classifier       0.92    1.00     0.96\n",
       "1         None  Intent Classifier       1.00    0.78     0.88\n",
       "2      from_dt   Entity Extractor       0.86    0.90     0.88\n",
       "3        to_dt   Entity Extractor       0.88    1.00     0.93\n",
       "4       budget   Entity Extractor       0.88    1.00     0.93\n",
       "5    from_city   Entity Extractor       0.57    0.85     0.69\n",
       "6      to_city   Entity Extractor       0.50    1.00     0.67"
      ]
     },
     "execution_count": 209,
     "metadata": {},
     "output_type": "execute_result"
    }
   ],
   "source": [
    "# On évalue le modèle avec le jeu de test\n",
    "res = evaluate(env, is_staging=True, utterances=utterances_test)\n",
    "res"
   ]
  },
  {
   "cell_type": "markdown",
   "id": "8274f250",
   "metadata": {},
   "source": [
    "Pour chaque intent et chaque entity, on obtient 3 scores :\n",
    "- `precision` : parmis les labels prédit sur chaque mot, indique lesquels sont corrects.\n",
    "- `recall` : parmis les labels à détecter, indique lesquels ont été détéctés par le modèle.\n",
    "- `f_score` : moyenne harmonique de la precision et du recall.\n",
    "\n",
    "Pour un premier modèle, on obtient des scores satisfaisants.\n",
    "\n",
    "On remarque que le recall de l'intent `None` est à 0.78. Le modèle semble donc louper certain de ces intents.\n",
    "\n",
    "On s'apperçoit aussi que la precision des entités `from_city` et `to_city` sont à 0.57 et 0.5. Le modèle semble donc créer beaucoup de faux positifs sur ces entités."
   ]
  },
  {
   "cell_type": "code",
   "execution_count": null,
   "id": "874c6a60",
   "metadata": {},
   "outputs": [],
   "source": [
    "# On supprime la version temporaire\n",
    "delete(env, tmp_app_version)"
   ]
  },
  {
   "cell_type": "markdown",
   "id": "28f2742b",
   "metadata": {},
   "source": [
    "## Enregistrement du Github\n",
    "\n",
    "Commiter et pusher sur Github les modifications du fichier `../P10_02_luis/params.json` afin qu'il puisse être utilisé lors du déploiement du modèle."
   ]
  }
 ],
 "metadata": {
  "interpreter": {
   "hash": "ce05fe677a403291bdecd9c560019885a8a5167d22bb1cd60247a69b54ad2a8e"
  },
  "kernel_info": {
   "name": "p10"
  },
  "kernelspec": {
   "display_name": "p10",
   "language": "python",
   "name": "p10"
  },
  "language_info": {
   "codemirror_mode": {
    "name": "ipython",
    "version": 3
   },
   "file_extension": ".py",
   "mimetype": "text/x-python",
   "name": "python",
   "nbconvert_exporter": "python",
   "pygments_lexer": "ipython3",
   "version": "3.8.8"
  },
  "microsoft": {
   "host": {
    "AzureML": {
     "notebookHasBeenCompleted": true
    }
   }
  },
  "nteract": {
   "version": "nteract-front-end@1.0.0"
  },
  "toc": {
   "base_numbering": 1,
   "nav_menu": {},
   "number_sections": true,
   "sideBar": true,
   "skip_h1_title": false,
   "title_cell": "Sommaire",
   "title_sidebar": "Contents",
   "toc_cell": true,
   "toc_position": {
    "height": "calc(100% - 180px)",
    "left": "10px",
    "top": "150px",
    "width": "320px"
   },
   "toc_section_display": true,
   "toc_window_display": true
  }
 },
 "nbformat": 4,
 "nbformat_minor": 5
}
