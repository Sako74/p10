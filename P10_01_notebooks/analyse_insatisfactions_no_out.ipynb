{
 "cells": [
  {
   "cell_type": "markdown",
   "id": "13ca7a46",
   "metadata": {
    "toc": true
   },
   "source": [
    "<h1>Sommaire<span class=\"tocSkip\"></span></h1>\n",
    "<div class=\"toc\"><ul class=\"toc-item\"><li><span><a href=\"#Introduction\" data-toc-modified-id=\"Introduction-1\"><span class=\"toc-item-num\">1&nbsp;&nbsp;</span>Introduction</a></span></li><li><span><a href=\"#Chargement-des-issues-à-analyser\" data-toc-modified-id=\"Chargement-des-issues-à-analyser-2\"><span class=\"toc-item-num\">2&nbsp;&nbsp;</span>Chargement des issues à analyser</a></span></li><li><span><a href=\"#Chargement-des-dialogues\" data-toc-modified-id=\"Chargement-des-dialogues-3\"><span class=\"toc-item-num\">3&nbsp;&nbsp;</span>Chargement des dialogues</a></span></li><li><span><a href=\"#Analyse-des-insatisfactions\" data-toc-modified-id=\"Analyse-des-insatisfactions-4\"><span class=\"toc-item-num\">4&nbsp;&nbsp;</span>Analyse des insatisfactions</a></span></li><li><span><a href=\"#Enregistrement-du-rapport-sur-Github\" data-toc-modified-id=\"Enregistrement-du-rapport-sur-Github-5\"><span class=\"toc-item-num\">5&nbsp;&nbsp;</span>Enregistrement du rapport sur Github</a></span></li><li><span><a href=\"#Fermeture-des-issues-analysées\" data-toc-modified-id=\"Fermeture-des-issues-analysées-6\"><span class=\"toc-item-num\">6&nbsp;&nbsp;</span>Fermeture des issues analysées</a></span></li></ul></div>"
   ]
  },
  {
   "cell_type": "code",
   "execution_count": 6,
   "id": "69c7ffef",
   "metadata": {},
   "outputs": [],
   "source": [
    "%load_ext autoreload\n",
    "%autoreload 2\n",
    "\n",
    "from notebook import *"
   ]
  },
  {
   "cell_type": "code",
   "execution_count": 58,
   "id": "89a0975b",
   "metadata": {},
   "outputs": [],
   "source": [
    "# # Copie les notebooks et supprime les sorties.\n",
    "# # Décommenter et exécuter cette cellule avant de commiter/pusher\n",
    "# # les modifications du notebook sur Github.\n",
    "# copy_and_clean_notebooks()"
   ]
  },
  {
   "cell_type": "markdown",
   "id": "c29aa63e",
   "metadata": {},
   "source": [
    "# Introduction\n",
    "\n",
    "Dans ce notebook, nous allons analyser les insatisfactions des utilisateurs.\n",
    "\n",
    "<img src=\"./data/img/insatisfactions_analysis.png\" alt=\"Analyse des insatisfactions\" width=\"700\"/>\n",
    "<p style=\"text-align: center; text-decoration: underline;\">Analyse des insatisfactions</p>\n",
    "\n",
    "Une alerte Azure est déclenchée à chaque fois qu'un grand taux d'insatisfactions a été détecté. Cette alerte va elle-même déclencher une Azure function qui va automatiquement créer une Github issue ayant le tag `azure alert`.\n",
    "\n",
    "<img src=\"./data/img/insatisfactions_alert.png\" alt=\"Example d’une Github issue générée automatiquement\" width=\"700\"/>\n",
    "<p style=\"text-align: center; text-decoration: underline;\">Example d’une Github issue générée automatiquement</p>\n",
    "\n",
    "Nous allons commencer par récupérer les informations de ces issues. Nous allons ensuite télécharger les dialogues sources d'insatisfaction. Nous pourrons visualiser et analyser ces dialogue via un widget.\n",
    "\n",
    "<img src=\"./data/img/insatisfactions_analysis_widget.png\" alt=\"Widget permettant de visualiser les dialogues et analyser les erreurs\" width=\"700\"/>\n",
    "<p style=\"text-align: center; text-decoration: underline;\">Widget permettant de visualiser les dialogues et analyser les erreurs</p>\n",
    "\n",
    "Enfin, nous enregistrerons le rapport d'analyse dans une nouvelle Github issue ayant le tag `insatisfactions analysis`.\n",
    "\n",
    "<img src=\"./data/img/insatisfactions_analysis_report.png\" alt=\"Example d’un rapport d’analyse sous forme d’une Github issue\" width=\"700\"/>\n",
    "<p style=\"text-align: center; text-decoration: underline;\">Example d’un rapport d’analyse sous forme d’une Github issue</p>"
   ]
  },
  {
   "cell_type": "markdown",
   "id": "e9f75888",
   "metadata": {},
   "source": [
    "# Chargement des issues à analyser\n",
    "\n",
    "On commence par récupèrer les issuer de type `azure alert`."
   ]
  },
  {
   "cell_type": "code",
   "execution_count": 4,
   "id": "7690f3f4",
   "metadata": {},
   "outputs": [],
   "source": [
    "# On charge les variables d'environnement de Github\n",
    "gh_env = GithubAPIEnv(\"../P10_04_function/create_github_issue/.env\")"
   ]
  },
  {
   "cell_type": "code",
   "execution_count": 6,
   "id": "98229347",
   "metadata": {},
   "outputs": [],
   "source": [
    "# On crée le handler Github\n",
    "g = Github(gh_env.GITHUB_TOKEN)\n",
    "\n",
    "# On configure le handler pour le repo du projet\n",
    "repo = g.get_repo(gh_env.GITHUB_REPO)"
   ]
  },
  {
   "cell_type": "code",
   "execution_count": 1,
   "id": "6ddefcf1",
   "metadata": {},
   "outputs": [
    {
     "name": "stdout",
     "output_type": "stream",
     "text": [
      "Nombre d'issues à analyser : 1\n"
     ]
    }
   ],
   "source": [
    "# On récupère les issues de type \"azure alert\"\n",
    "issues = repo.get_issues(labels=[\"azure alert\"])\n",
    "print(f\"Nombre d'issues à analyser : {issues.totalCount}\")"
   ]
  },
  {
   "cell_type": "code",
   "execution_count": 2,
   "id": "46e636f5",
   "metadata": {},
   "outputs": [
    {
     "name": "stdout",
     "output_type": "stream",
     "text": [
      "Voici les ids des issues que l'on va analyser : #37\n"
     ]
    }
   ],
   "source": [
    "issue_ids = [f\"#{i.number}\" for i in issues]\n",
    "print(\"Voici les ids des issues que l'on va analyser :\", \", \".join(issue_ids))"
   ]
  },
  {
   "cell_type": "markdown",
   "id": "b61986cb",
   "metadata": {},
   "source": [
    "# Chargement des dialogues\n",
    "\n",
    "On va utiliser l'API de l'App insights de l'application web pour télécharger les dialogues ayant été annotés comme étant des vrais négatifs donc source d'insatisfactions :"
   ]
  },
  {
   "cell_type": "code",
   "execution_count": 46,
   "id": "192ce075",
   "metadata": {},
   "outputs": [],
   "source": [
    "# On charge les variables d'environnement de l'API\n",
    "# de l'App insights de l'application web.\n",
    "ai_env = AppInsightsAPIEnv(\".env\")"
   ]
  },
  {
   "cell_type": "code",
   "execution_count": 47,
   "id": "42089d7e",
   "metadata": {},
   "outputs": [],
   "source": [
    "data = []\n",
    "for issue in issues:\n",
    "    # On charge les données de l'alerte\n",
    "    issue_body = json.loads(issue.body)\n",
    "    \n",
    "    # On charge les dialogues liés à l'alerte\n",
    "    data.append(get_tn_dialogs(\n",
    "        ai_env,\n",
    "        issue_body[\"start_dt\"],\n",
    "        issue_body[\"end_dt\"]\n",
    "    ))"
   ]
  },
  {
   "cell_type": "code",
   "execution_count": 48,
   "id": "a56246d2",
   "metadata": {},
   "outputs": [
    {
     "data": {
      "text/plain": [
       "(34, 5)"
      ]
     },
     "execution_count": 48,
     "metadata": {},
     "output_type": "execute_result"
    }
   ],
   "source": [
    "# On concatène les données\n",
    "data = pd.concat(data)\n",
    "data.shape"
   ]
  },
  {
   "cell_type": "code",
   "execution_count": 49,
   "id": "fed992e0",
   "metadata": {},
   "outputs": [
    {
     "data": {
      "text/plain": [
       "(34, 5)"
      ]
     },
     "execution_count": 49,
     "metadata": {},
     "output_type": "execute_result"
    }
   ],
   "source": [
    "# On supprime les doublons et on met en forme le dataframe\n",
    "data = data.drop_duplicates([\"main_dialog_uuid\", \"timestamp\"])\n",
    "data = data.sort_values([\"main_dialog_uuid\", \"timestamp\"])\n",
    "data = data.reset_index(drop=True)\n",
    "data.shape"
   ]
  },
  {
   "cell_type": "markdown",
   "id": "cfaae28a",
   "metadata": {},
   "source": [
    "Voici un exemple des données précédemment récupérées :"
   ]
  },
  {
   "cell_type": "code",
   "execution_count": 50,
   "id": "ab5be7f9",
   "metadata": {},
   "outputs": [
    {
     "data": {
      "text/html": [
       "<div>\n",
       "<style scoped>\n",
       "    .dataframe tbody tr th:only-of-type {\n",
       "        vertical-align: middle;\n",
       "    }\n",
       "\n",
       "    .dataframe tbody tr th {\n",
       "        vertical-align: top;\n",
       "    }\n",
       "\n",
       "    .dataframe thead th {\n",
       "        text-align: right;\n",
       "    }\n",
       "</style>\n",
       "<table border=\"1\" class=\"dataframe\">\n",
       "  <thead>\n",
       "    <tr style=\"text-align: right;\">\n",
       "      <th></th>\n",
       "      <th>main_dialog_uuid</th>\n",
       "      <th>timestamp</th>\n",
       "      <th>author</th>\n",
       "      <th>session_id</th>\n",
       "      <th>text</th>\n",
       "    </tr>\n",
       "  </thead>\n",
       "  <tbody>\n",
       "    <tr>\n",
       "      <th>0</th>\n",
       "      <td>4b690144-6a3f-11ec-9134-4ae2b1217b29</td>\n",
       "      <td>2021-12-31 13:41:02.230192+00:00</td>\n",
       "      <td>p10-chatbot-bot</td>\n",
       "      <td>I1qjj6+1EFOsJHS9K65QNapgBPr978QJHxKE6iUSeXk=</td>\n",
       "      <td>What else can I do for you?</td>\n",
       "    </tr>\n",
       "    <tr>\n",
       "      <th>1</th>\n",
       "      <td>4b690144-6a3f-11ec-9134-4ae2b1217b29</td>\n",
       "      <td>2021-12-31 13:41:06.408448+00:00</td>\n",
       "      <td>You</td>\n",
       "      <td>I1qjj6+1EFOsJHS9K65QNapgBPr978QJHxKE6iUSeXk=</td>\n",
       "      <td>I want to go to Paris from London tomorrow and...</td>\n",
       "    </tr>\n",
       "    <tr>\n",
       "      <th>2</th>\n",
       "      <td>4b690144-6a3f-11ec-9134-4ae2b1217b29</td>\n",
       "      <td>2021-12-31 13:41:07.028214+00:00</td>\n",
       "      <td>p10-chatbot-bot</td>\n",
       "      <td>I1qjj6+1EFOsJHS9K65QNapgBPr978QJHxKE6iUSeXk=</td>\n",
       "      <td>Please confirm the following information:\\n- Y...</td>\n",
       "    </tr>\n",
       "    <tr>\n",
       "      <th>3</th>\n",
       "      <td>4b690144-6a3f-11ec-9134-4ae2b1217b29</td>\n",
       "      <td>2021-12-31 13:41:08.387940+00:00</td>\n",
       "      <td>You</td>\n",
       "      <td>I1qjj6+1EFOsJHS9K65QNapgBPr978QJHxKE6iUSeXk=</td>\n",
       "      <td>Non</td>\n",
       "    </tr>\n",
       "    <tr>\n",
       "      <th>4</th>\n",
       "      <td>4f4fdde6-6a3f-11ec-9134-4ae2b1217b29</td>\n",
       "      <td>2021-12-31 13:41:08.776486+00:00</td>\n",
       "      <td>p10-chatbot-bot</td>\n",
       "      <td>I1qjj6+1EFOsJHS9K65QNapgBPr978QJHxKE6iUSeXk=</td>\n",
       "      <td>What else can I do for you?</td>\n",
       "    </tr>\n",
       "  </tbody>\n",
       "</table>\n",
       "</div>"
      ],
      "text/plain": [
       "                       main_dialog_uuid                        timestamp  \\\n",
       "0  4b690144-6a3f-11ec-9134-4ae2b1217b29 2021-12-31 13:41:02.230192+00:00   \n",
       "1  4b690144-6a3f-11ec-9134-4ae2b1217b29 2021-12-31 13:41:06.408448+00:00   \n",
       "2  4b690144-6a3f-11ec-9134-4ae2b1217b29 2021-12-31 13:41:07.028214+00:00   \n",
       "3  4b690144-6a3f-11ec-9134-4ae2b1217b29 2021-12-31 13:41:08.387940+00:00   \n",
       "4  4f4fdde6-6a3f-11ec-9134-4ae2b1217b29 2021-12-31 13:41:08.776486+00:00   \n",
       "\n",
       "            author                                    session_id  \\\n",
       "0  p10-chatbot-bot  I1qjj6+1EFOsJHS9K65QNapgBPr978QJHxKE6iUSeXk=   \n",
       "1              You  I1qjj6+1EFOsJHS9K65QNapgBPr978QJHxKE6iUSeXk=   \n",
       "2  p10-chatbot-bot  I1qjj6+1EFOsJHS9K65QNapgBPr978QJHxKE6iUSeXk=   \n",
       "3              You  I1qjj6+1EFOsJHS9K65QNapgBPr978QJHxKE6iUSeXk=   \n",
       "4  p10-chatbot-bot  I1qjj6+1EFOsJHS9K65QNapgBPr978QJHxKE6iUSeXk=   \n",
       "\n",
       "                                                text  \n",
       "0                        What else can I do for you?  \n",
       "1  I want to go to Paris from London tomorrow and...  \n",
       "2  Please confirm the following information:\\n- Y...  \n",
       "3                                                Non  \n",
       "4                        What else can I do for you?  "
      ]
     },
     "execution_count": 50,
     "metadata": {},
     "output_type": "execute_result"
    }
   ],
   "source": [
    "data.head()"
   ]
  },
  {
   "cell_type": "markdown",
   "id": "2f442fb6",
   "metadata": {},
   "source": [
    "# Analyse des insatisfactions\n",
    "\n",
    "Nous allons utiliser un widget afin de visualiser les dialogues et les analyser :"
   ]
  },
  {
   "cell_type": "code",
   "execution_count": 4,
   "id": "724c4095",
   "metadata": {},
   "outputs": [],
   "source": [
    "# On crée un nom pour l'analyse\n",
    "analysis_name = \"2022_01_01_analysis\""
   ]
  },
  {
   "cell_type": "code",
   "execution_count": 10,
   "id": "9e5abe0b",
   "metadata": {},
   "outputs": [
    {
     "data": {
      "application/vnd.jupyter.widget-view+json": {
       "model_id": "0b11b58fe5804a919b6fc00dce457ff6",
       "version_major": 2,
       "version_minor": 0
      },
      "text/plain": [
       "HBox(children=(VBox(children=(HBox(children=(HTML(value='<p>What else can I do for you?</p>', layout=Layout(bo…"
      ]
     },
     "metadata": {},
     "output_type": "display_data"
    }
   ],
   "source": [
    "# On essaie de charger l'analyse si elle existe déjà.\n",
    "# Cela permet d'interrompre et de reprendre l'analyse.\n",
    "analyser = InsatisfactionsAnalyser.load(PARQUET_PATH, analysis_name)\n",
    "\n",
    "# Sinon on en crée une nouvelle\n",
    "if not analyser:\n",
    "    analyser = InsatisfactionsAnalyser(data)\n",
    "    \n",
    "# On affiche le widget\n",
    "analyser.display()"
   ]
  },
  {
   "cell_type": "code",
   "execution_count": 53,
   "id": "081957ca",
   "metadata": {},
   "outputs": [],
   "source": [
    "# On enregistre l'analyse\n",
    "analyser.save(PARQUET_PATH, analysis_name)"
   ]
  },
  {
   "cell_type": "markdown",
   "id": "3cf7e55f",
   "metadata": {},
   "source": [
    "# Enregistrement du rapport sur Github\n",
    "\n",
    "Nous allons enregistrer le rapport de l'analyse en créant une Github issue ayant le tag `insatisfactions analysis`.\n",
    "\n",
    "On pourra alors utiliser ce rapport pour justifier la création de nouvelles user stories, effectuer des corrections de bug ou encore mettre à jour le modèle LUIS avec de nouveaux textes à labelliser."
   ]
  },
  {
   "cell_type": "code",
   "execution_count": 54,
   "id": "9543c3cc",
   "metadata": {},
   "outputs": [],
   "source": [
    "# On crée le titre et le corps du rapport\n",
    "report_title = \"Insatisfactions analysis\"\n",
    "report_body = analyser.get_report(issue_ids)"
   ]
  },
  {
   "cell_type": "code",
   "execution_count": 55,
   "id": "abec7b2d",
   "metadata": {},
   "outputs": [],
   "source": [
    "try:\n",
    "    # On récupère le tag spécial pour le rapport d'analyse\n",
    "    report_label_name = \"insatisfactions analysis\"\n",
    "    report_label = repo.get_label(report_label_name)\n",
    "except:\n",
    "    # On crée un tag spécial pour le rapport d'analyse\n",
    "    report_label = repo.create_label(\n",
    "        report_label_name,\n",
    "        color=\"0075ca\",\n",
    "        description=\"Analysis of insatisfactions\"\n",
    "    )"
   ]
  },
  {
   "cell_type": "code",
   "execution_count": null,
   "id": "d04b11d7",
   "metadata": {},
   "outputs": [],
   "source": [
    "# On enregistre le rapport dans une Github issue\n",
    "report = repo.create_issue(\n",
    "    title=report_title,\n",
    "    body=report_body,\n",
    "    labels=[report_label]\n",
    ")"
   ]
  },
  {
   "cell_type": "markdown",
   "id": "73e53fda",
   "metadata": {},
   "source": [
    "# Fermeture des issues analysées\n",
    "\n",
    "La liste des issues générées par l'alerte des insatisfactions a été enregistrée dans le rapport d'analyse. On peut donc fermer ces issues sur Github."
   ]
  },
  {
   "cell_type": "code",
   "execution_count": 56,
   "id": "225a9f68",
   "metadata": {},
   "outputs": [],
   "source": [
    "for issue in issues:\n",
    "    # On ferme l'issue\n",
    "    issue.edit(state=\"closed\")"
   ]
  }
 ],
 "metadata": {
  "kernelspec": {
   "display_name": "p10",
   "language": "python",
   "name": "p10"
  },
  "language_info": {
   "codemirror_mode": {
    "name": "ipython",
    "version": 3
   },
   "file_extension": ".py",
   "mimetype": "text/x-python",
   "name": "python",
   "nbconvert_exporter": "python",
   "pygments_lexer": "ipython3",
   "version": "3.8.8"
  },
  "toc": {
   "base_numbering": 1,
   "nav_menu": {},
   "number_sections": true,
   "sideBar": true,
   "skip_h1_title": false,
   "title_cell": "Sommaire",
   "title_sidebar": "Contents",
   "toc_cell": true,
   "toc_position": {
    "height": "calc(100% - 180px)",
    "left": "10px",
    "top": "150px",
    "width": "314px"
   },
   "toc_section_display": true,
   "toc_window_display": true
  },
  "widgets": {
   "application/vnd.jupyter.widget-state+json": {
    "state": {
     "00c30be3204941c6a12405e37967461d": {
      "model_module": "@jupyter-widgets/controls",
      "model_module_version": "1.5.0",
      "model_name": "HBoxModel",
      "state": {
       "children": [
        "IPY_MODEL_1a835add8e714e87a5812217ce669343"
       ],
       "layout": "IPY_MODEL_41bfa7184fe140ecbc9626f14f6d54db"
      }
     },
     "014c286b63594e2485a700d32d7eeb74": {
      "model_module": "@jupyter-widgets/controls",
      "model_module_version": "1.5.0",
      "model_name": "HBoxModel",
      "state": {
       "children": [
        "IPY_MODEL_f58f0fb22c6548ccb0daf3eb4f564cd8"
       ],
       "layout": "IPY_MODEL_ee4f8b1348bf47819840e3f451011b79"
      }
     },
     "017f2b3751a64983a21d5f995aaca2d5": {
      "model_module": "@jupyter-widgets/base",
      "model_module_version": "1.2.0",
      "model_name": "LayoutModel",
      "state": {}
     },
     "01f91d3485b44340ae81d26337d76862": {
      "model_module": "@jupyter-widgets/controls",
      "model_module_version": "1.5.0",
      "model_name": "HTMLModel",
      "state": {
       "layout": "IPY_MODEL_ee374dd0256c4c218d64f7c6cfd4521b",
       "style": "IPY_MODEL_18dfcefa37354f2397d62f682abda78c",
       "value": "<p>Please confirm the following information:</p>\n<ul>\n<li>\n<p>You want to <strong>book a flight</strong>.</p>\n</li>\n<li>\n<p>From <strong>Paris</strong> to <strong>Berlin</strong>.</p>\n</li>\n<li>\n<p>Between the <strong>2022-01-01</strong> and the <strong>2022-01-06</strong>.</p>\n</li>\n<li>\n<p>With a budget of <strong>100 dollars</strong>.</p>\n</li>\n</ul>"
      }
     },
     "0266df6332f14548af45ce4c3f17b653": {
      "model_module": "@jupyter-widgets/controls",
      "model_module_version": "1.5.0",
      "model_name": "DescriptionStyleModel",
      "state": {
       "description_width": ""
      }
     },
     "032a1e2175ab41b087b810fb7855a451": {
      "model_module": "@jupyter-widgets/base",
      "model_module_version": "1.2.0",
      "model_name": "LayoutModel",
      "state": {
       "height": "95px",
       "width": "95%"
      }
     },
     "03315071c55049e1b3be1481ba73ece5": {
      "model_module": "@jupyter-widgets/controls",
      "model_module_version": "1.5.0",
      "model_name": "HTMLModel",
      "state": {
       "layout": "IPY_MODEL_b379b579ed3f44aca423b8311caaa8f1",
       "style": "IPY_MODEL_6af4505449ab4ee48c44edf796d3b60f",
       "value": "<p>Please confirm the following information:</p>\n<ul>\n<li>\n<p>You want to <strong>book a flight</strong>.</p>\n</li>\n<li>\n<p>From <strong>London</strong> to <strong>Paris</strong>.</p>\n</li>\n<li>\n<p>Between the <strong>2022-01-01</strong> and the <strong>2022-01-04</strong>.</p>\n</li>\n<li>\n<p>With a budget of <strong>120</strong>.</p>\n</li>\n</ul>"
      }
     },
     "034a56464c534903821dd77b97466f02": {
      "model_module": "@jupyter-widgets/controls",
      "model_module_version": "1.5.0",
      "model_name": "VBoxModel",
      "state": {
       "children": [
        "IPY_MODEL_6e46c630c3074dc3b4de5beab8dfe2d0",
        "IPY_MODEL_00c30be3204941c6a12405e37967461d",
        "IPY_MODEL_7f5a6da95c0247d29e78f93e2502cc78",
        "IPY_MODEL_8ffa90e9ace4426ba3e59268fdcac10f"
       ],
       "layout": "IPY_MODEL_8131828dacff47e191c4e9530d32fd24"
      }
     },
     "037d47c941424549a427b4fd790f5c53": {
      "model_module": "@jupyter-widgets/controls",
      "model_module_version": "1.5.0",
      "model_name": "HBoxModel",
      "state": {
       "children": [
        "IPY_MODEL_6ae68111479a46c392dc89f5765b3ed2"
       ],
       "layout": "IPY_MODEL_6a44e3786a1e4ec98cc90b5ef2fbb093"
      }
     },
     "03abba7f3f204213af6d819874650b1f": {
      "model_module": "@jupyter-widgets/controls",
      "model_module_version": "1.5.0",
      "model_name": "VBoxModel",
      "state": {
       "children": [
        "IPY_MODEL_126ddee355164e58873bbfc464a74d23",
        "IPY_MODEL_b06dc74d03d84341bb4cfa384c5be974",
        "IPY_MODEL_214580f8c46e4b3b87bce8b088f53a2c",
        "IPY_MODEL_1e17ff42b7b24001aa9148c797d203e6",
        "IPY_MODEL_cb67af50b5404aa4b172645b9a03054a"
       ],
       "layout": "IPY_MODEL_06258d4e5a6945d98301d16fb2db0942"
      }
     },
     "0404477a29d6497b9d51106b62218268": {
      "model_module": "@jupyter-widgets/base",
      "model_module_version": "1.2.0",
      "model_name": "LayoutModel",
      "state": {
       "justify_content": "flex-end"
      }
     },
     "040614ecb73d4f198944c5c5adf0961b": {
      "model_module": "@jupyter-widgets/controls",
      "model_module_version": "1.5.0",
      "model_name": "HTMLModel",
      "state": {
       "layout": "IPY_MODEL_bd5487b7c03340698cfd241bce815ae5",
       "style": "IPY_MODEL_a6427fb1b5ce4598ba19f25f5bae6ea6",
       "value": "<p>Non</p>"
      }
     },
     "052e9686477c46338baa6fb3c3de4051": {
      "model_module": "@jupyter-widgets/base",
      "model_module_version": "1.2.0",
      "model_name": "LayoutModel",
      "state": {}
     },
     "060a095ca7274dd9bcd5ab123b7eb1a3": {
      "model_module": "@jupyter-widgets/base",
      "model_module_version": "1.2.0",
      "model_name": "LayoutModel",
      "state": {
       "border": "1px solid black",
       "margin": "10px 5px 10px 5px",
       "max_width": "70%",
       "padding": "5px"
      }
     },
     "06258d4e5a6945d98301d16fb2db0942": {
      "model_module": "@jupyter-widgets/base",
      "model_module_version": "1.2.0",
      "model_name": "LayoutModel",
      "state": {
       "display": "flex",
       "height": "300px",
       "justify_content": "space-between",
       "width": "40%"
      }
     },
     "067b97eb100e4a0382185ed83836929c": {
      "model_module": "@jupyter-widgets/base",
      "model_module_version": "1.2.0",
      "model_name": "LayoutModel",
      "state": {
       "width": "95%"
      }
     },
     "06d385de07ba4415a0a61c8f2d8637d5": {
      "model_module": "@jupyter-widgets/base",
      "model_module_version": "1.2.0",
      "model_name": "LayoutModel",
      "state": {
       "justify_content": "flex-end"
      }
     },
     "075202e76bf340c08ddd1d544de28573": {
      "model_module": "@jupyter-widgets/base",
      "model_module_version": "1.2.0",
      "model_name": "LayoutModel",
      "state": {
       "border": "1px solid black",
       "margin": "10px 5px 10px 5px",
       "max_width": "70%",
       "padding": "5px"
      }
     },
     "07660e4a01e649a1abb4770a7c5fab00": {
      "model_module": "@jupyter-widgets/controls",
      "model_module_version": "1.5.0",
      "model_name": "DescriptionStyleModel",
      "state": {
       "description_width": ""
      }
     },
     "077210043502406db9be3a472b450ad0": {
      "model_module": "@jupyter-widgets/controls",
      "model_module_version": "1.5.0",
      "model_name": "HBoxModel",
      "state": {
       "children": [
        "IPY_MODEL_417b6d1c47d4417a99e27ab5cd1eb197",
        "IPY_MODEL_34fbd6ce8f1548c587784cc17324991e",
        "IPY_MODEL_fded2cb076db4d1d8b1856c20112b45f"
       ],
       "layout": "IPY_MODEL_35607fc2cab145dbbe1aa1c99ddb7029"
      }
     },
     "0888de9078f84b619d7dfac8d12a8b67": {
      "model_module": "@jupyter-widgets/controls",
      "model_module_version": "1.5.0",
      "model_name": "HBoxModel",
      "state": {
       "children": [
        "IPY_MODEL_54c310d93d534265a4393027244d7f92"
       ],
       "layout": "IPY_MODEL_198419c2650540899b7cfa5e8e349752"
      }
     },
     "095a63ea68e44b598a32e513c502bd93": {
      "model_module": "@jupyter-widgets/controls",
      "model_module_version": "1.5.0",
      "model_name": "HTMLModel",
      "state": {
       "layout": "IPY_MODEL_fe535dbfb7a24d0a874ec02835cdc7b8",
       "style": "IPY_MODEL_9d8fc046c785482b9770b2e780f08c83",
       "value": "<p>Please confirm the following information:</p>\n<ul>\n<li>\n<p>You want to <strong>book a flight</strong>.</p>\n</li>\n<li>\n<p>From <strong>London</strong> to <strong>Paris</strong>.</p>\n</li>\n<li>\n<p>Between the <strong>2022-01-01</strong> and the <strong>2022-01-04</strong>.</p>\n</li>\n<li>\n<p>With a budget of <strong>120</strong>.</p>\n</li>\n</ul>"
      }
     },
     "096096b1abc64645b905fd1a127b3d22": {
      "model_module": "@jupyter-widgets/base",
      "model_module_version": "1.2.0",
      "model_name": "LayoutModel",
      "state": {
       "justify_content": "flex-start"
      }
     },
     "09628720338a47ef8262745e556e036b": {
      "model_module": "@jupyter-widgets/controls",
      "model_module_version": "1.5.0",
      "model_name": "DescriptionStyleModel",
      "state": {
       "description_width": ""
      }
     },
     "0984511c02f147208bae3cc291c621fd": {
      "model_module": "@jupyter-widgets/base",
      "model_module_version": "1.2.0",
      "model_name": "LayoutModel",
      "state": {
       "justify_content": "flex-start"
      }
     },
     "09d8c9bcdbac421091404214c3648b49": {
      "model_module": "@jupyter-widgets/base",
      "model_module_version": "1.2.0",
      "model_name": "LayoutModel",
      "state": {
       "justify_content": "flex-end"
      }
     },
     "0a49e6e46bcb4d11bb04cdc4c1b9523f": {
      "model_module": "@jupyter-widgets/base",
      "model_module_version": "1.2.0",
      "model_name": "LayoutModel",
      "state": {
       "justify_content": "flex-start"
      }
     },
     "0a72d5dc0d854510935b4a3e0e4d8af7": {
      "model_module": "@jupyter-widgets/controls",
      "model_module_version": "1.5.0",
      "model_name": "HTMLModel",
      "state": {
       "layout": "IPY_MODEL_59dc5693ab014db9b7b1ba05f89fc7bb",
       "style": "IPY_MODEL_7fdd41d62be14f28abb53a72250e8790",
       "value": "<p>Non</p>"
      }
     },
     "0ac3f5e768de4d169fe355abe49e21b6": {
      "model_module": "@jupyter-widgets/controls",
      "model_module_version": "1.5.0",
      "model_name": "DescriptionStyleModel",
      "state": {
       "description_width": ""
      }
     },
     "0ad0724302b84e13bab36d254fea8c86": {
      "model_module": "@jupyter-widgets/base",
      "model_module_version": "1.2.0",
      "model_name": "LayoutModel",
      "state": {}
     },
     "0b11b58fe5804a919b6fc00dce457ff6": {
      "model_module": "@jupyter-widgets/controls",
      "model_module_version": "1.5.0",
      "model_name": "HBoxModel",
      "state": {
       "children": [
        "IPY_MODEL_42c4c44b85034f7d86f9c0f842b20027",
        "IPY_MODEL_d2bd4f0c8214459c90f1a028251d1de8"
       ],
       "layout": "IPY_MODEL_14715cf998054da7a4c1cf78fecd9e2d"
      }
     },
     "0b5c426f5c3848daa1e849c645d0b2e3": {
      "model_module": "@jupyter-widgets/controls",
      "model_module_version": "1.5.0",
      "model_name": "LabelModel",
      "state": {
       "layout": "IPY_MODEL_1f5112881df54c4fb1cec1913a9dc104",
       "style": "IPY_MODEL_3419a9db840b48e2be2cf21844990890",
       "value": "LUIS utterances"
      }
     },
     "0b7285a226344a55a057df62e459d815": {
      "model_module": "@jupyter-widgets/base",
      "model_module_version": "1.2.0",
      "model_name": "LayoutModel",
      "state": {
       "border": "1px solid black",
       "margin": "10px 5px 10px 5px",
       "max_width": "70%",
       "padding": "5px"
      }
     },
     "0c759f77cb29446ca89bcc862c2f6e2c": {
      "model_module": "@jupyter-widgets/controls",
      "model_module_version": "1.5.0",
      "model_name": "HTMLModel",
      "state": {
       "layout": "IPY_MODEL_3b04386237d040fd834e0955d2d01f69",
       "style": "IPY_MODEL_f0b95cdfacd3431b8b4d0168ada8dde4",
       "value": "<p>Non</p>"
      }
     },
     "0c7f1ac4e13046eeaa0e27bc7ca950a4": {
      "model_module": "@jupyter-widgets/base",
      "model_module_version": "1.2.0",
      "model_name": "LayoutModel",
      "state": {
       "justify_content": "flex-end"
      }
     },
     "0cf4f894c4b24bb9b151bbe391177544": {
      "model_module": "@jupyter-widgets/controls",
      "model_module_version": "1.5.0",
      "model_name": "HTMLModel",
      "state": {
       "layout": "IPY_MODEL_55c4bfa62d5643f3b7f87b0794b64901",
       "style": "IPY_MODEL_0ac3f5e768de4d169fe355abe49e21b6",
       "value": "<p>What is your maximum budget?</p>"
      }
     },
     "0cf79a6a9257455aa4625118a4dfae70": {
      "model_module": "@jupyter-widgets/base",
      "model_module_version": "1.2.0",
      "model_name": "LayoutModel",
      "state": {}
     },
     "0d14a8d8af8145a2be84bea815f2935b": {
      "model_module": "@jupyter-widgets/base",
      "model_module_version": "1.2.0",
      "model_name": "LayoutModel",
      "state": {
       "justify_content": "flex-end"
      }
     },
     "0eded23373e2420dbea902e01b7d9f45": {
      "model_module": "@jupyter-widgets/base",
      "model_module_version": "1.2.0",
      "model_name": "LayoutModel",
      "state": {
       "height": "95px",
       "width": "95%"
      }
     },
     "0f01c80a519e4a3189278c95318005c2": {
      "model_module": "@jupyter-widgets/base",
      "model_module_version": "1.2.0",
      "model_name": "LayoutModel",
      "state": {}
     },
     "0f15fc8b2e20403fa710bbe2cc72f411": {
      "model_module": "@jupyter-widgets/base",
      "model_module_version": "1.2.0",
      "model_name": "LayoutModel",
      "state": {
       "justify_content": "flex-end"
      }
     },
     "0fa3b79312ba4a5183306c47f0b7a89c": {
      "model_module": "@jupyter-widgets/controls",
      "model_module_version": "1.5.0",
      "model_name": "ButtonModel",
      "state": {
       "icon": "arrow-right",
       "layout": "IPY_MODEL_c2d588d38d71467ea977dcefc5d33126",
       "style": "IPY_MODEL_96c8b0654cfa4dbc8bc8f4ef793b878b"
      }
     },
     "109b8d16d87b4e55b61ec83447ed4b5e": {
      "model_module": "@jupyter-widgets/controls",
      "model_module_version": "1.5.0",
      "model_name": "DescriptionStyleModel",
      "state": {
       "description_width": ""
      }
     },
     "10a6ec70acd94795968c78ca21d2c76c": {
      "model_module": "@jupyter-widgets/controls",
      "model_module_version": "1.5.0",
      "model_name": "HTMLModel",
      "state": {
       "layout": "IPY_MODEL_42bbd033afc14e33838a9b4a88420c45",
       "style": "IPY_MODEL_dcff99dc99f747edbab24a3267c67e0b",
       "value": "<p>I want to go to Paris from London tomorrow and I will stay 3 days. I have 120 dollars</p>"
      }
     },
     "1179fface1184840be5dc582e6c0b958": {
      "model_module": "@jupyter-widgets/base",
      "model_module_version": "1.2.0",
      "model_name": "LayoutModel",
      "state": {
       "display": "flex",
       "height": "300px",
       "justify_content": "space-between",
       "width": "40%"
      }
     },
     "11d7f3f295fc419f8161e9369e732863": {
      "model_module": "@jupyter-widgets/controls",
      "model_module_version": "1.5.0",
      "model_name": "HTMLModel",
      "state": {
       "layout": "IPY_MODEL_3e0b4e090af246f2927100ac504549fb",
       "style": "IPY_MODEL_a8db1d0561fb4697a70961ce43612939",
       "value": "<p>Non</p>"
      }
     },
     "11e659a172f543c7bc8180448bafcc8a": {
      "model_module": "@jupyter-widgets/controls",
      "model_module_version": "1.5.0",
      "model_name": "TextareaModel",
      "state": {
       "layout": "IPY_MODEL_80c6b073303d4a368d35eec13a8f92f8",
       "placeholder": "Add a comment, bug description or new feature request.",
       "style": "IPY_MODEL_c1bf373290b34b779cc27d52bd907733"
      }
     },
     "120f91586953439ea95005ff2cd812dd": {
      "model_module": "@jupyter-widgets/base",
      "model_module_version": "1.2.0",
      "model_name": "LayoutModel",
      "state": {
       "justify_content": "flex-end"
      }
     },
     "126ddee355164e58873bbfc464a74d23": {
      "model_module": "@jupyter-widgets/controls",
      "model_module_version": "1.5.0",
      "model_name": "LabelModel",
      "state": {
       "layout": "IPY_MODEL_ef52c8a1ba424b8d95ab3460fc6a2fac",
       "style": "IPY_MODEL_6d68e6c4b45e4a1b9de58f4cc88efad2",
       "value": "Comment"
      }
     },
     "1276b2cb45134c2e82a2dbe3fd41ca00": {
      "model_module": "@jupyter-widgets/controls",
      "model_module_version": "1.5.0",
      "model_name": "ButtonStyleModel",
      "state": {}
     },
     "12974e92ad2145138b18855e8e6de95c": {
      "model_module": "@jupyter-widgets/controls",
      "model_module_version": "1.5.0",
      "model_name": "DescriptionStyleModel",
      "state": {
       "description_width": ""
      }
     },
     "13004841638e4169ace83efddfb0d46a": {
      "model_module": "@jupyter-widgets/controls",
      "model_module_version": "1.5.0",
      "model_name": "DescriptionStyleModel",
      "state": {
       "description_width": ""
      }
     },
     "13cbf5914d8a4e768e5002e912694c98": {
      "model_module": "@jupyter-widgets/controls",
      "model_module_version": "1.5.0",
      "model_name": "HTMLModel",
      "state": {
       "layout": "IPY_MODEL_b366915067e2484f940a2b311c535379",
       "style": "IPY_MODEL_ea0fc812d04045178c4d9fba18eaf7a4",
       "value": "<p>I want to go to Paris from London tomorrow and I will stay 3 days. I have 120 dollars</p>"
      }
     },
     "14715cf998054da7a4c1cf78fecd9e2d": {
      "model_module": "@jupyter-widgets/base",
      "model_module_version": "1.2.0",
      "model_name": "LayoutModel",
      "state": {}
     },
     "14bb6debe4d0452ca2e0b2ea703199c4": {
      "model_module": "@jupyter-widgets/controls",
      "model_module_version": "1.5.0",
      "model_name": "HBoxModel",
      "state": {
       "children": [
        "IPY_MODEL_963862c022704c29ab24e79d07699dcc"
       ],
       "layout": "IPY_MODEL_d94a5eba71e84d06b9d60d86810cb76a"
      }
     },
     "15a053995a7a4458955e572fa2e01f4c": {
      "model_module": "@jupyter-widgets/controls",
      "model_module_version": "1.5.0",
      "model_name": "DescriptionStyleModel",
      "state": {
       "description_width": ""
      }
     },
     "16805fa6b7954060b2da0e84faf1ed2c": {
      "model_module": "@jupyter-widgets/controls",
      "model_module_version": "1.5.0",
      "model_name": "DescriptionStyleModel",
      "state": {
       "description_width": ""
      }
     },
     "1689a3b81e7242758da4eb491dd42575": {
      "model_module": "@jupyter-widgets/controls",
      "model_module_version": "1.5.0",
      "model_name": "DescriptionStyleModel",
      "state": {
       "description_width": ""
      }
     },
     "176fe66601904767855c690fd02e687e": {
      "model_module": "@jupyter-widgets/base",
      "model_module_version": "1.2.0",
      "model_name": "LayoutModel",
      "state": {
       "width": "95%"
      }
     },
     "1781626554544b298fa469a1897e4425": {
      "model_module": "@jupyter-widgets/controls",
      "model_module_version": "1.5.0",
      "model_name": "HBoxModel",
      "state": {
       "children": [
        "IPY_MODEL_cea3aa5f38004b6f94444a1085fd1be4",
        "IPY_MODEL_cce457f38c714cafab25ed901001222c",
        "IPY_MODEL_30ea75737707481ab39ffd540016f2c2"
       ],
       "layout": "IPY_MODEL_e3ce54de7834462084f230a6c6c36bd4"
      }
     },
     "17b169098eeb41d5a468e413a3065df6": {
      "model_module": "@jupyter-widgets/controls",
      "model_module_version": "1.5.0",
      "model_name": "HBoxModel",
      "state": {
       "children": [
        "IPY_MODEL_ee0ab9d7357d49adad35f3ae1a9f4480",
        "IPY_MODEL_52e43dd719fb4ba8bc7c340ee8e6d526"
       ],
       "layout": "IPY_MODEL_f203b467ca8a448b8159b911c94c6487"
      }
     },
     "17f34397e8944822accbf5446f91224d": {
      "model_module": "@jupyter-widgets/base",
      "model_module_version": "1.2.0",
      "model_name": "LayoutModel",
      "state": {
       "border": "1px solid black",
       "margin": "10px 5px 10px 5px",
       "max_width": "70%",
       "padding": "5px"
      }
     },
     "183a5c99282a4983a5075264ad7c88b9": {
      "model_module": "@jupyter-widgets/base",
      "model_module_version": "1.2.0",
      "model_name": "LayoutModel",
      "state": {
       "height": "95px",
       "width": "95%"
      }
     },
     "18dfcefa37354f2397d62f682abda78c": {
      "model_module": "@jupyter-widgets/controls",
      "model_module_version": "1.5.0",
      "model_name": "DescriptionStyleModel",
      "state": {
       "description_width": ""
      }
     },
     "18e3e82da45946359fe789aa7c500d7e": {
      "model_module": "@jupyter-widgets/base",
      "model_module_version": "1.2.0",
      "model_name": "LayoutModel",
      "state": {
       "border": "1px solid black",
       "margin": "10px 5px 10px 5px",
       "max_width": "70%",
       "padding": "5px"
      }
     },
     "18fd780f1ee14f6da5c603070b2d6282": {
      "model_module": "@jupyter-widgets/controls",
      "model_module_version": "1.5.0",
      "model_name": "DescriptionStyleModel",
      "state": {
       "description_width": ""
      }
     },
     "1909b46a5ec74c5caeb2b1eab9af3a6a": {
      "model_module": "@jupyter-widgets/controls",
      "model_module_version": "1.5.0",
      "model_name": "LabelModel",
      "state": {
       "layout": "IPY_MODEL_e0e7c5b85fc6450aac64f7f5d1f3e86e",
       "style": "IPY_MODEL_549a43b9e0544077bde50fdca16047b1",
       "value": "Comment"
      }
     },
     "196150754b3b42ff94553339af6a22e5": {
      "model_module": "@jupyter-widgets/base",
      "model_module_version": "1.2.0",
      "model_name": "LayoutModel",
      "state": {}
     },
     "198419c2650540899b7cfa5e8e349752": {
      "model_module": "@jupyter-widgets/base",
      "model_module_version": "1.2.0",
      "model_name": "LayoutModel",
      "state": {
       "justify_content": "flex-end"
      }
     },
     "1a1ee506bb304b679e712203b967f18a": {
      "model_module": "@jupyter-widgets/controls",
      "model_module_version": "1.5.0",
      "model_name": "DescriptionStyleModel",
      "state": {
       "description_width": ""
      }
     },
     "1a51bf51ca1f4193a1294e24751d900d": {
      "model_module": "@jupyter-widgets/controls",
      "model_module_version": "1.5.0",
      "model_name": "DescriptionStyleModel",
      "state": {
       "description_width": ""
      }
     },
     "1a835add8e714e87a5812217ce669343": {
      "model_module": "@jupyter-widgets/controls",
      "model_module_version": "1.5.0",
      "model_name": "HTMLModel",
      "state": {
       "layout": "IPY_MODEL_e2ee79673a0c401ca9510864c7bf94e0",
       "style": "IPY_MODEL_261960c3a6714cab84b23c135490354c",
       "value": "<p>I want to go to Paris from London tomorrow and I will stay 3 days. I have 120 dollars</p>"
      }
     },
     "1ab3e1e7a76b4ab1916f933a747f11a0": {
      "model_module": "@jupyter-widgets/controls",
      "model_module_version": "1.5.0",
      "model_name": "HBoxModel",
      "state": {
       "children": [
        "IPY_MODEL_d3c7063dc4264ea5922d4a632f0744bb",
        "IPY_MODEL_ce5eac5a30a04856a03bd65393989514",
        "IPY_MODEL_407f094f92924c66b2ae6c5ffd57d3c2"
       ],
       "layout": "IPY_MODEL_6862ec7a62cd49fe8d5543d5d16bc5ad"
      }
     },
     "1ac3f0c0f1ab422b8f6f78d69c3ede61": {
      "model_module": "@jupyter-widgets/base",
      "model_module_version": "1.2.0",
      "model_name": "LayoutModel",
      "state": {
       "border": "1px solid black",
       "margin": "10px 5px 10px 5px",
       "max_width": "70%",
       "padding": "5px"
      }
     },
     "1afc1a48ce144c9f9da8f12a6364d72f": {
      "model_module": "@jupyter-widgets/base",
      "model_module_version": "1.2.0",
      "model_name": "LayoutModel",
      "state": {}
     },
     "1b6590c21bc648708317af278b415e75": {
      "model_module": "@jupyter-widgets/base",
      "model_module_version": "1.2.0",
      "model_name": "LayoutModel",
      "state": {
       "justify_content": "flex-end"
      }
     },
     "1bc478648e434f3ca6b000ccb3685de1": {
      "model_module": "@jupyter-widgets/controls",
      "model_module_version": "1.5.0",
      "model_name": "LabelModel",
      "state": {
       "layout": "IPY_MODEL_ef54eeaf06b34df6b60a8763250ba40b",
       "style": "IPY_MODEL_56ecdfbcd7ad49eaa8cc85d951a69c79",
       "value": "Comment"
      }
     },
     "1bde627ffc5c4e618c5974c75361e3f1": {
      "model_module": "@jupyter-widgets/base",
      "model_module_version": "1.2.0",
      "model_name": "LayoutModel",
      "state": {
       "justify_content": "flex-start"
      }
     },
     "1c45da6034a949c5951fc560c2fd35bc": {
      "model_module": "@jupyter-widgets/controls",
      "model_module_version": "1.5.0",
      "model_name": "HBoxModel",
      "state": {
       "children": [
        "IPY_MODEL_9951913551ca471b9fe59bc090ddd5ae",
        "IPY_MODEL_438fcd94329a42f79ac93074253a2759",
        "IPY_MODEL_0fa3b79312ba4a5183306c47f0b7a89c"
       ],
       "layout": "IPY_MODEL_067b97eb100e4a0382185ed83836929c"
      }
     },
     "1c7455619f5648e792dfef6f67e653d2": {
      "model_module": "@jupyter-widgets/controls",
      "model_module_version": "1.5.0",
      "model_name": "DescriptionStyleModel",
      "state": {
       "description_width": ""
      }
     },
     "1cb945638d094576a1cf7a865837662f": {
      "model_module": "@jupyter-widgets/base",
      "model_module_version": "1.2.0",
      "model_name": "LayoutModel",
      "state": {
       "justify_content": "flex-start"
      }
     },
     "1cf95af6ad72407094306c7aa06f2e81": {
      "model_module": "@jupyter-widgets/base",
      "model_module_version": "1.2.0",
      "model_name": "LayoutModel",
      "state": {
       "justify_content": "flex-end"
      }
     },
     "1cfb5d7743c640788d10704a7b207dba": {
      "model_module": "@jupyter-widgets/base",
      "model_module_version": "1.2.0",
      "model_name": "LayoutModel",
      "state": {
       "justify_content": "flex-end"
      }
     },
     "1d1fc0b6ebce404eadd7c6ab6d82c913": {
      "model_module": "@jupyter-widgets/controls",
      "model_module_version": "1.5.0",
      "model_name": "HBoxModel",
      "state": {
       "children": [
        "IPY_MODEL_ab1bfb4b46834d728261bc04dc2726ad"
       ],
       "layout": "IPY_MODEL_e4bd3b80d4d04e859d3903ecdd7fff8a"
      }
     },
     "1d9311be535a455abd21a770914f10aa": {
      "model_module": "@jupyter-widgets/controls",
      "model_module_version": "1.5.0",
      "model_name": "DescriptionStyleModel",
      "state": {
       "description_width": ""
      }
     },
     "1e02b285975d4126a0bbb256be9402eb": {
      "model_module": "@jupyter-widgets/base",
      "model_module_version": "1.2.0",
      "model_name": "LayoutModel",
      "state": {
       "border": "1px solid black",
       "margin": "10px 5px 10px 5px",
       "max_width": "70%",
       "padding": "5px"
      }
     },
     "1e17ff42b7b24001aa9148c797d203e6": {
      "model_module": "@jupyter-widgets/controls",
      "model_module_version": "1.5.0",
      "model_name": "TextareaModel",
      "state": {
       "layout": "IPY_MODEL_7f3f03e059e2437f99d1b111d79b1d95",
       "placeholder": "Add LUIS utterances to add to the training set.",
       "style": "IPY_MODEL_ea77b6396aa0437ca5026fa76c9b2561",
       "value": "I want to go to Paris from London tomorrow and I will stay 3 days. I have 120 dollars."
      }
     },
     "1ed33a76e9fb455ba61c06d2cb7412df": {
      "model_module": "@jupyter-widgets/base",
      "model_module_version": "1.2.0",
      "model_name": "LayoutModel",
      "state": {
       "justify_content": "flex-start"
      }
     },
     "1f11670ac5ad4e05853d080e88283d41": {
      "model_module": "@jupyter-widgets/controls",
      "model_module_version": "1.5.0",
      "model_name": "ButtonStyleModel",
      "state": {}
     },
     "1f5112881df54c4fb1cec1913a9dc104": {
      "model_module": "@jupyter-widgets/base",
      "model_module_version": "1.2.0",
      "model_name": "LayoutModel",
      "state": {}
     },
     "202817b3e65745b985f4a02a754e6559": {
      "model_module": "@jupyter-widgets/base",
      "model_module_version": "1.2.0",
      "model_name": "LayoutModel",
      "state": {
       "justify_content": "flex-end"
      }
     },
     "214580f8c46e4b3b87bce8b088f53a2c": {
      "model_module": "@jupyter-widgets/controls",
      "model_module_version": "1.5.0",
      "model_name": "LabelModel",
      "state": {
       "layout": "IPY_MODEL_196150754b3b42ff94553339af6a22e5",
       "style": "IPY_MODEL_e1956b4ba3464a3a849fff733a3fe526",
       "value": "LUIS utterances"
      }
     },
     "214b923de62f47fab15b4d888062cd60": {
      "model_module": "@jupyter-widgets/controls",
      "model_module_version": "1.5.0",
      "model_name": "HBoxModel",
      "state": {
       "children": [
        "IPY_MODEL_98e67d789e204fc18c76a1e2658a830f"
       ],
       "layout": "IPY_MODEL_d30c9b1459904a1498ad28e8a590e321"
      }
     },
     "21b51052218b4ee9b43f59568a7188be": {
      "model_module": "@jupyter-widgets/controls",
      "model_module_version": "1.5.0",
      "model_name": "DescriptionStyleModel",
      "state": {
       "description_width": ""
      }
     },
     "21b6726aec8849868314c0383313caef": {
      "model_module": "@jupyter-widgets/controls",
      "model_module_version": "1.5.0",
      "model_name": "VBoxModel",
      "state": {
       "children": [
        "IPY_MODEL_3589eaee547c458ca77e0d75f6ed2f3a",
        "IPY_MODEL_4c3a27558bc740b7ae805b7d32c76f8f",
        "IPY_MODEL_9deeb96fe36344bdaa6ad5bfb9d3d800",
        "IPY_MODEL_736c63288d41465bb1102e014bd5297f"
       ],
       "layout": "IPY_MODEL_2c8a4004a6ba408c9d9dec41171faade"
      }
     },
     "21da156e14cc4b8ea5df9243a880a387": {
      "model_module": "@jupyter-widgets/controls",
      "model_module_version": "1.5.0",
      "model_name": "DescriptionStyleModel",
      "state": {
       "description_width": ""
      }
     },
     "22255bf96f344c918d607a066e3463b6": {
      "model_module": "@jupyter-widgets/controls",
      "model_module_version": "1.5.0",
      "model_name": "HTMLModel",
      "state": {
       "layout": "IPY_MODEL_2ffd625d3ef04d219b4a2024239910b4",
       "style": "IPY_MODEL_b2a67c330cf44e0eb37d0ebba6238cd0",
       "value": "<p>Non</p>"
      }
     },
     "222f6eb78b0b409988d3572166042946": {
      "model_module": "@jupyter-widgets/controls",
      "model_module_version": "1.5.0",
      "model_name": "HBoxModel",
      "state": {
       "children": [
        "IPY_MODEL_e4f83d04a5d644f5b40a231c25c2ab94"
       ],
       "layout": "IPY_MODEL_c23358ff074d44c0939603d44bc02972"
      }
     },
     "2341c139e86a4c5fb01b5524ac497a39": {
      "model_module": "@jupyter-widgets/controls",
      "model_module_version": "1.5.0",
      "model_name": "DescriptionStyleModel",
      "state": {
       "description_width": ""
      }
     },
     "2373896d11ea4dbf864f0c2c4ffef0f5": {
      "model_module": "@jupyter-widgets/base",
      "model_module_version": "1.2.0",
      "model_name": "LayoutModel",
      "state": {}
     },
     "23e28f1f8b2c4edb84542e5481ac1ef6": {
      "model_module": "@jupyter-widgets/base",
      "model_module_version": "1.2.0",
      "model_name": "LayoutModel",
      "state": {
       "border": "1px solid black",
       "margin": "10px 5px 10px 5px",
       "max_width": "70%",
       "padding": "5px"
      }
     },
     "242e33fd9de74885a4f196b33fadd6f2": {
      "model_module": "@jupyter-widgets/controls",
      "model_module_version": "1.5.0",
      "model_name": "DescriptionStyleModel",
      "state": {
       "description_width": ""
      }
     },
     "24e5acbe090240448c8ed144effc4d6d": {
      "model_module": "@jupyter-widgets/base",
      "model_module_version": "1.2.0",
      "model_name": "LayoutModel",
      "state": {
       "justify_content": "flex-end"
      }
     },
     "25292ceb134b4b44858cba133ef3893d": {
      "model_module": "@jupyter-widgets/controls",
      "model_module_version": "1.5.0",
      "model_name": "ButtonModel",
      "state": {
       "icon": "arrow-right",
       "layout": "IPY_MODEL_c7941c5f60e744308c8caf61a448934d",
       "style": "IPY_MODEL_75851eb46fe7474daa88136a93d8b4f3"
      }
     },
     "261960c3a6714cab84b23c135490354c": {
      "model_module": "@jupyter-widgets/controls",
      "model_module_version": "1.5.0",
      "model_name": "DescriptionStyleModel",
      "state": {
       "description_width": ""
      }
     },
     "26253e2a30934b4bb4a85301dccfedc1": {
      "model_module": "@jupyter-widgets/base",
      "model_module_version": "1.2.0",
      "model_name": "LayoutModel",
      "state": {
       "border": "1px solid black",
       "margin": "10px 5px 10px 5px",
       "max_width": "70%",
       "padding": "5px"
      }
     },
     "26e4a44abf6a4d12ba4713909947adb9": {
      "model_module": "@jupyter-widgets/controls",
      "model_module_version": "1.5.0",
      "model_name": "HBoxModel",
      "state": {
       "children": [
        "IPY_MODEL_8de376ee10f44d2283590e6af8d4b78a"
       ],
       "layout": "IPY_MODEL_dde956abcc6744aeacc312faf528d5f4"
      }
     },
     "27405ccbf7814daebf3beb011deb1ada": {
      "model_module": "@jupyter-widgets/controls",
      "model_module_version": "1.5.0",
      "model_name": "LabelModel",
      "state": {
       "layout": "IPY_MODEL_bc35416308b844bfb3199c03ef7d9296",
       "style": "IPY_MODEL_b9b9eafc7bd9467b9fbf365f3d942cba",
       "value": "Comment"
      }
     },
     "274babde9eaa4d69907276f50293cf5d": {
      "model_module": "@jupyter-widgets/controls",
      "model_module_version": "1.5.0",
      "model_name": "DescriptionStyleModel",
      "state": {
       "description_width": ""
      }
     },
     "27824c31182d4828986b9892c682c720": {
      "model_module": "@jupyter-widgets/base",
      "model_module_version": "1.2.0",
      "model_name": "LayoutModel",
      "state": {
       "border": "1px solid black",
       "margin": "10px 5px 10px 5px",
       "max_width": "70%",
       "padding": "5px"
      }
     },
     "2919fb4ecb8947d2b764603bae00df72": {
      "model_module": "@jupyter-widgets/controls",
      "model_module_version": "1.5.0",
      "model_name": "HBoxModel",
      "state": {
       "children": [
        "IPY_MODEL_6e0c232e1b504c7b80b6eb1d34b629e7"
       ],
       "layout": "IPY_MODEL_0f15fc8b2e20403fa710bbe2cc72f411"
      }
     },
     "295bd09c3459401e8d891f43f28e6185": {
      "model_module": "@jupyter-widgets/controls",
      "model_module_version": "1.5.0",
      "model_name": "HTMLModel",
      "state": {
       "layout": "IPY_MODEL_5cbf30753fe54c9f8167923640637902",
       "style": "IPY_MODEL_f8fb5ea2f7194b4e83b184358c92f114",
       "value": "<p>Non</p>"
      }
     },
     "296115269d174a3ea5f998a8e0c0f617": {
      "model_module": "@jupyter-widgets/base",
      "model_module_version": "1.2.0",
      "model_name": "LayoutModel",
      "state": {
       "border": "1px solid black",
       "margin": "10px 5px 10px 5px",
       "max_width": "70%",
       "padding": "5px"
      }
     },
     "29e433fc25bc4f03a3368a6007cf1df1": {
      "model_module": "@jupyter-widgets/controls",
      "model_module_version": "1.5.0",
      "model_name": "ButtonStyleModel",
      "state": {}
     },
     "2a358904c35f42c196e64e380cad6750": {
      "model_module": "@jupyter-widgets/controls",
      "model_module_version": "1.5.0",
      "model_name": "HBoxModel",
      "state": {
       "children": [
        "IPY_MODEL_3ad4d4f924be474480b74c2275116b8d"
       ],
       "layout": "IPY_MODEL_715f1a275a1f48ffbab7024817b6ab95"
      }
     },
     "2a8b9e97ecfc4c08bd3d3434cf5b3bcd": {
      "model_module": "@jupyter-widgets/controls",
      "model_module_version": "1.5.0",
      "model_name": "DescriptionStyleModel",
      "state": {
       "description_width": ""
      }
     },
     "2ace8a6da8eb4b7f8bd75958c408a6de": {
      "model_module": "@jupyter-widgets/controls",
      "model_module_version": "1.5.0",
      "model_name": "TextareaModel",
      "state": {
       "layout": "IPY_MODEL_f1ff13c6601841e68b3fda2b65408e79",
       "placeholder": "Add LUIS utterances to add to the training set.",
       "style": "IPY_MODEL_c4c30d6433dc45b0bb237299def1a92a",
       "value": "What else can I do for you?"
      }
     },
     "2ad30e4409ad47eaaa35aaaa7ad2ba72": {
      "model_module": "@jupyter-widgets/base",
      "model_module_version": "1.2.0",
      "model_name": "LayoutModel",
      "state": {
       "border": "1px solid black",
       "margin": "10px 5px 10px 5px",
       "max_width": "70%",
       "padding": "5px"
      }
     },
     "2b1ab9a652b040328e0b7443960c15ba": {
      "model_module": "@jupyter-widgets/controls",
      "model_module_version": "1.5.0",
      "model_name": "HTMLModel",
      "state": {
       "layout": "IPY_MODEL_510341c6ad4f4956aa268c9cc7a6cb98",
       "style": "IPY_MODEL_0266df6332f14548af45ce4c3f17b653",
       "value": "<p>Non</p>"
      }
     },
     "2b678b22734840988331c645874e6dce": {
      "model_module": "@jupyter-widgets/controls",
      "model_module_version": "1.5.0",
      "model_name": "HTMLModel",
      "state": {
       "layout": "IPY_MODEL_f79b4cbab4c349a887c3b39c4633cc15",
       "style": "IPY_MODEL_94801668883d4b4096b25ccf963ce317",
       "value": "<p>I want to go to Paris from London tomorrow and I will stay 3 days. I have 120 dollars</p>"
      }
     },
     "2bdcb6934ec54651a94e105666933c54": {
      "model_module": "@jupyter-widgets/base",
      "model_module_version": "1.2.0",
      "model_name": "LayoutModel",
      "state": {}
     },
     "2be1b3457b864329bfa75306a6f8606e": {
      "model_module": "@jupyter-widgets/base",
      "model_module_version": "1.2.0",
      "model_name": "LayoutModel",
      "state": {
       "display": "flex",
       "height": "300px",
       "justify_content": "space-between",
       "width": "40%"
      }
     },
     "2be59415fa8542f29389a8f81fb51a1c": {
      "model_module": "@jupyter-widgets/base",
      "model_module_version": "1.2.0",
      "model_name": "LayoutModel",
      "state": {
       "justify_content": "flex-end"
      }
     },
     "2c1fffe2352e448a840160195cf390d2": {
      "model_module": "@jupyter-widgets/controls",
      "model_module_version": "1.5.0",
      "model_name": "HBoxModel",
      "state": {
       "children": [
        "IPY_MODEL_13cbf5914d8a4e768e5002e912694c98"
       ],
       "layout": "IPY_MODEL_501c7a35f3814711bd680b46ccf5e1a5"
      }
     },
     "2c4d58fa871f48e38a018e73227d3213": {
      "model_module": "@jupyter-widgets/controls",
      "model_module_version": "1.5.0",
      "model_name": "ButtonModel",
      "state": {
       "icon": "arrow-right",
       "layout": "IPY_MODEL_fca53210b0f54eeb80f3463acfb77742",
       "style": "IPY_MODEL_98ad6d0d64114cb6b26be299584a64ee"
      }
     },
     "2c77b927bcaa47be84a4daf67a0d3bbb": {
      "model_module": "@jupyter-widgets/base",
      "model_module_version": "1.2.0",
      "model_name": "LayoutModel",
      "state": {
       "border": "1px solid black",
       "margin": "10px 5px 10px 5px",
       "max_width": "70%",
       "padding": "5px"
      }
     },
     "2c80104ea02d4f8097a4be6b21c07892": {
      "model_module": "@jupyter-widgets/controls",
      "model_module_version": "1.5.0",
      "model_name": "ButtonModel",
      "state": {
       "disabled": true,
       "icon": "arrow-left",
       "layout": "IPY_MODEL_2bdcb6934ec54651a94e105666933c54",
       "style": "IPY_MODEL_a5f310e63143423ba6b9d0eda9a396a9"
      }
     },
     "2c8761f6afcd4c928a3af2982d78385d": {
      "model_module": "@jupyter-widgets/base",
      "model_module_version": "1.2.0",
      "model_name": "LayoutModel",
      "state": {
       "justify_content": "flex-start"
      }
     },
     "2c8a4004a6ba408c9d9dec41171faade": {
      "model_module": "@jupyter-widgets/base",
      "model_module_version": "1.2.0",
      "model_name": "LayoutModel",
      "state": {
       "border": "1px solid black",
       "display": "block",
       "height": "300px",
       "overflow_y": "auto",
       "width": "60%"
      }
     },
     "2c909a76c1e340e5933dbfc5b809a24f": {
      "model_module": "@jupyter-widgets/base",
      "model_module_version": "1.2.0",
      "model_name": "LayoutModel",
      "state": {
       "justify_content": "flex-end"
      }
     },
     "2c9e9f8e5f754e449d48ffc715004f3e": {
      "model_module": "@jupyter-widgets/base",
      "model_module_version": "1.2.0",
      "model_name": "LayoutModel",
      "state": {}
     },
     "2d105e7161a44914850e8eb5f90ffee8": {
      "model_module": "@jupyter-widgets/controls",
      "model_module_version": "1.5.0",
      "model_name": "DescriptionStyleModel",
      "state": {
       "description_width": ""
      }
     },
     "2deba3ce2331457c82e91579006a1191": {
      "model_module": "@jupyter-widgets/base",
      "model_module_version": "1.2.0",
      "model_name": "LayoutModel",
      "state": {
       "border": "1px solid black",
       "margin": "10px 5px 10px 5px",
       "max_width": "70%",
       "padding": "5px"
      }
     },
     "2e22d14cf7494eea8491be3ccc9e11af": {
      "model_module": "@jupyter-widgets/base",
      "model_module_version": "1.2.0",
      "model_name": "LayoutModel",
      "state": {}
     },
     "2f38ded7328645a4a9aa3d8e75a3627a": {
      "model_module": "@jupyter-widgets/controls",
      "model_module_version": "1.5.0",
      "model_name": "HBoxModel",
      "state": {
       "children": [
        "IPY_MODEL_8f060f8bd52b4d0fac2165780e1e27c1"
       ],
       "layout": "IPY_MODEL_6f73aa5738d94a0693c1d085bec764c6"
      }
     },
     "2f41c7876e46461a9e9afc27925493af": {
      "model_module": "@jupyter-widgets/controls",
      "model_module_version": "1.5.0",
      "model_name": "HBoxModel",
      "state": {
       "children": [
        "IPY_MODEL_d6664cb856d14c889a703ffa504f9231"
       ],
       "layout": "IPY_MODEL_3bf7affe815b43458ae01773676bc6b8"
      }
     },
     "2f496a32ed964c0e92cb61609dc7f36c": {
      "model_module": "@jupyter-widgets/controls",
      "model_module_version": "1.5.0",
      "model_name": "HTMLModel",
      "state": {
       "layout": "IPY_MODEL_cf771f68be884703a3a14798058bd1ec",
       "style": "IPY_MODEL_1d9311be535a455abd21a770914f10aa",
       "value": "<p>Non</p>"
      }
     },
     "2f65cfefbd2d4b3a9cfc3e5ecb33e91e": {
      "model_module": "@jupyter-widgets/controls",
      "model_module_version": "1.5.0",
      "model_name": "DescriptionStyleModel",
      "state": {
       "description_width": ""
      }
     },
     "2f89682aec194d3b83332e61e33304bc": {
      "model_module": "@jupyter-widgets/controls",
      "model_module_version": "1.5.0",
      "model_name": "HBoxModel",
      "state": {
       "children": [
        "IPY_MODEL_abe8e1c66d914b29b068a3ab82a29d8a"
       ],
       "layout": "IPY_MODEL_dadf41ac5d3747d09f47bb5563b598bf"
      }
     },
     "2f8d5f49c9b34149979cbaf442c36eb3": {
      "model_module": "@jupyter-widgets/base",
      "model_module_version": "1.2.0",
      "model_name": "LayoutModel",
      "state": {}
     },
     "2ffd625d3ef04d219b4a2024239910b4": {
      "model_module": "@jupyter-widgets/base",
      "model_module_version": "1.2.0",
      "model_name": "LayoutModel",
      "state": {
       "border": "1px solid black",
       "margin": "10px 5px 10px 5px",
       "max_width": "70%",
       "padding": "5px"
      }
     },
     "303dbba4e14644df90959995eda7016f": {
      "model_module": "@jupyter-widgets/controls",
      "model_module_version": "1.5.0",
      "model_name": "DescriptionStyleModel",
      "state": {
       "description_width": ""
      }
     },
     "30ea75737707481ab39ffd540016f2c2": {
      "model_module": "@jupyter-widgets/controls",
      "model_module_version": "1.5.0",
      "model_name": "ButtonModel",
      "state": {
       "icon": "arrow-right",
       "layout": "IPY_MODEL_35d5ac5568c6459abc75da3f8896312d",
       "style": "IPY_MODEL_a80d3df203f240ee9d50f5e38daac3a2"
      }
     },
     "31bbd9f857824d89a3e10308ca9202dd": {
      "model_module": "@jupyter-widgets/base",
      "model_module_version": "1.2.0",
      "model_name": "LayoutModel",
      "state": {}
     },
     "3322480744634e27850491df475e64e0": {
      "model_module": "@jupyter-widgets/base",
      "model_module_version": "1.2.0",
      "model_name": "LayoutModel",
      "state": {
       "border": "1px solid black",
       "display": "block",
       "height": "300px",
       "overflow_y": "auto",
       "width": "60%"
      }
     },
     "3347da9b879b4f2084b2e46306db67dc": {
      "model_module": "@jupyter-widgets/base",
      "model_module_version": "1.2.0",
      "model_name": "LayoutModel",
      "state": {
       "height": "95px",
       "width": "95%"
      }
     },
     "33db3b17a97f45ef9260cebfb5ead301": {
      "model_module": "@jupyter-widgets/controls",
      "model_module_version": "1.5.0",
      "model_name": "DescriptionStyleModel",
      "state": {
       "description_width": ""
      }
     },
     "3419a9db840b48e2be2cf21844990890": {
      "model_module": "@jupyter-widgets/controls",
      "model_module_version": "1.5.0",
      "model_name": "DescriptionStyleModel",
      "state": {
       "description_width": ""
      }
     },
     "3462ab7a1d0744159cc06c959ea9f509": {
      "model_module": "@jupyter-widgets/base",
      "model_module_version": "1.2.0",
      "model_name": "LayoutModel",
      "state": {
       "justify_content": "flex-end"
      }
     },
     "34fbd6ce8f1548c587784cc17324991e": {
      "model_module": "@jupyter-widgets/controls",
      "model_module_version": "1.5.0",
      "model_name": "DropdownModel",
      "state": {
       "_options_labels": [
        "unknown",
        "luis",
        "chatbot"
       ],
       "description": "Error type:",
       "index": 1,
       "layout": "IPY_MODEL_dbddc60ea51349f48b73a18e39375945",
       "style": "IPY_MODEL_35e9b80c7cc64c16bfb31db6f5d6d236"
      }
     },
     "3528697e830c4f6685244950684f1b66": {
      "model_module": "@jupyter-widgets/controls",
      "model_module_version": "1.5.0",
      "model_name": "DescriptionStyleModel",
      "state": {
       "description_width": ""
      }
     },
     "35607fc2cab145dbbe1aa1c99ddb7029": {
      "model_module": "@jupyter-widgets/base",
      "model_module_version": "1.2.0",
      "model_name": "LayoutModel",
      "state": {
       "width": "95%"
      }
     },
     "35609e20c7464b6eab3e7640d28f59f3": {
      "model_module": "@jupyter-widgets/base",
      "model_module_version": "1.2.0",
      "model_name": "LayoutModel",
      "state": {
       "justify_content": "flex-end"
      }
     },
     "3587481a53c9405e9a9531effc52cc5f": {
      "model_module": "@jupyter-widgets/controls",
      "model_module_version": "1.5.0",
      "model_name": "DescriptionStyleModel",
      "state": {
       "description_width": ""
      }
     },
     "3589eaee547c458ca77e0d75f6ed2f3a": {
      "model_module": "@jupyter-widgets/controls",
      "model_module_version": "1.5.0",
      "model_name": "HBoxModel",
      "state": {
       "children": [
        "IPY_MODEL_6524b415fcee4ab797ef39f0e9c19e61"
       ],
       "layout": "IPY_MODEL_8e14544888854287b21e94a0ca965c44"
      }
     },
     "35cd8832295345069c4b6416cee00938": {
      "model_module": "@jupyter-widgets/controls",
      "model_module_version": "1.5.0",
      "model_name": "TextareaModel",
      "state": {
       "layout": "IPY_MODEL_b1e36c22e6fa45fab4dc0701d8df3324",
       "placeholder": "Add LUIS utterances to add to the training set.",
       "style": "IPY_MODEL_e17877f4511c40cb99fef5e116448fe3"
      }
     },
     "35d5ac5568c6459abc75da3f8896312d": {
      "model_module": "@jupyter-widgets/base",
      "model_module_version": "1.2.0",
      "model_name": "LayoutModel",
      "state": {}
     },
     "35deaf58a94c4c6b8c6d188a375d932b": {
      "model_module": "@jupyter-widgets/controls",
      "model_module_version": "1.5.0",
      "model_name": "HBoxModel",
      "state": {
       "children": [
        "IPY_MODEL_040614ecb73d4f198944c5c5adf0961b"
       ],
       "layout": "IPY_MODEL_5c1cc47d0d8e432cb85f9f39684b0324"
      }
     },
     "35e35b4a0a01417cb27d4f02f171167a": {
      "model_module": "@jupyter-widgets/base",
      "model_module_version": "1.2.0",
      "model_name": "LayoutModel",
      "state": {}
     },
     "35e9b80c7cc64c16bfb31db6f5d6d236": {
      "model_module": "@jupyter-widgets/controls",
      "model_module_version": "1.5.0",
      "model_name": "DescriptionStyleModel",
      "state": {
       "description_width": ""
      }
     },
     "3619d0312e2c4415b52e8f93c114bd56": {
      "model_module": "@jupyter-widgets/controls",
      "model_module_version": "1.5.0",
      "model_name": "HBoxModel",
      "state": {
       "children": [
        "IPY_MODEL_ed8d79aeefdc40b9ba916a38fc36ffa4"
       ],
       "layout": "IPY_MODEL_0d14a8d8af8145a2be84bea815f2935b"
      }
     },
     "374be9e58c74406eb68db9f9b7333117": {
      "model_module": "@jupyter-widgets/controls",
      "model_module_version": "1.5.0",
      "model_name": "HBoxModel",
      "state": {
       "children": [
        "IPY_MODEL_99e9c9a419a842dda4be60deec082bf0"
       ],
       "layout": "IPY_MODEL_55912892010c465991eb39c5ffd75d39"
      }
     },
     "37823b7e284d4ec381dad540467d4c3c": {
      "model_module": "@jupyter-widgets/controls",
      "model_module_version": "1.5.0",
      "model_name": "HBoxModel",
      "state": {
       "children": [
        "IPY_MODEL_6ec3603724a24e699292df5c2a79da2e"
       ],
       "layout": "IPY_MODEL_dea6868b4d114799a7dacecbbf21ab13"
      }
     },
     "37863191bdee4f7fbf537d4b12346c14": {
      "model_module": "@jupyter-widgets/controls",
      "model_module_version": "1.5.0",
      "model_name": "DescriptionStyleModel",
      "state": {
       "description_width": ""
      }
     },
     "37add2926eeb47ed9c4f781ab6cd46ca": {
      "model_module": "@jupyter-widgets/controls",
      "model_module_version": "1.5.0",
      "model_name": "HBoxModel",
      "state": {
       "children": [
        "IPY_MODEL_387372e6f224456882a36d425528fad3"
       ],
       "layout": "IPY_MODEL_2be59415fa8542f29389a8f81fb51a1c"
      }
     },
     "37f1decf05ad4558a6eff0393a39dbb6": {
      "model_module": "@jupyter-widgets/base",
      "model_module_version": "1.2.0",
      "model_name": "LayoutModel",
      "state": {
       "justify_content": "flex-start"
      }
     },
     "3821e82615004905a00ad0d72e22c69d": {
      "model_module": "@jupyter-widgets/controls",
      "model_module_version": "1.5.0",
      "model_name": "HBoxModel",
      "state": {
       "children": [
        "IPY_MODEL_9f14f16cac2241f48f4472e8b44618c0"
       ],
       "layout": "IPY_MODEL_92e2fcf1519742eba5c0024b810fbe96"
      }
     },
     "38429a19b2d3490e85d9739a914eebc4": {
      "model_module": "@jupyter-widgets/controls",
      "model_module_version": "1.5.0",
      "model_name": "VBoxModel",
      "state": {
       "children": [
        "IPY_MODEL_1d1fc0b6ebce404eadd7c6ab6d82c913",
        "IPY_MODEL_66d1374068b842eaa06934c9aa63c3fa",
        "IPY_MODEL_214b923de62f47fab15b4d888062cd60",
        "IPY_MODEL_56151188390040f080d247da042a8cd2"
       ],
       "layout": "IPY_MODEL_6691140e2fa2453db4a208b4fd254949"
      }
     },
     "387372e6f224456882a36d425528fad3": {
      "model_module": "@jupyter-widgets/controls",
      "model_module_version": "1.5.0",
      "model_name": "HTMLModel",
      "state": {
       "layout": "IPY_MODEL_bb1289a599ca445aabac6c518422c69d",
       "style": "IPY_MODEL_2a8b9e97ecfc4c08bd3d3434cf5b3bcd",
       "value": "<p>Please confirm the following information:</p>\n<ul>\n<li>\n<p>You want to <strong>book a flight</strong>.</p>\n</li>\n<li>\n<p>From <strong>London</strong> to <strong>Paris</strong>.</p>\n</li>\n<li>\n<p>Between the <strong>2022-01-01</strong> and the <strong>2022-01-04</strong>.</p>\n</li>\n<li>\n<p>With a budget of <strong>120</strong>.</p>\n</li>\n</ul>"
      }
     },
     "3908104875cc42d9aa29756903c4da82": {
      "model_module": "@jupyter-widgets/base",
      "model_module_version": "1.2.0",
      "model_name": "LayoutModel",
      "state": {
       "border": "1px solid black",
       "margin": "10px 5px 10px 5px",
       "max_width": "70%",
       "padding": "5px"
      }
     },
     "3914f8cd692241e6991d7624ab181bd9": {
      "model_module": "@jupyter-widgets/base",
      "model_module_version": "1.2.0",
      "model_name": "LayoutModel",
      "state": {
       "height": "95px",
       "width": "95%"
      }
     },
     "3945f06a03e7426cb280fe7b8cb46693": {
      "model_module": "@jupyter-widgets/base",
      "model_module_version": "1.2.0",
      "model_name": "LayoutModel",
      "state": {
       "justify_content": "flex-start"
      }
     },
     "39cda7b4b596441aa1acc048420fd8eb": {
      "model_module": "@jupyter-widgets/controls",
      "model_module_version": "1.5.0",
      "model_name": "DescriptionStyleModel",
      "state": {
       "description_width": ""
      }
     },
     "39d9fd42efb249cd92d01cc4572b9a3f": {
      "model_module": "@jupyter-widgets/base",
      "model_module_version": "1.2.0",
      "model_name": "LayoutModel",
      "state": {
       "border": "1px solid black",
       "margin": "10px 5px 10px 5px",
       "max_width": "70%",
       "padding": "5px"
      }
     },
     "3a9a6f483155487580108cbb3cafe07b": {
      "model_module": "@jupyter-widgets/controls",
      "model_module_version": "1.5.0",
      "model_name": "HBoxModel",
      "state": {
       "children": [
        "IPY_MODEL_dac4cc4369bf4b0091d5781a03b94d3f"
       ],
       "layout": "IPY_MODEL_3945f06a03e7426cb280fe7b8cb46693"
      }
     },
     "3ad4d4f924be474480b74c2275116b8d": {
      "model_module": "@jupyter-widgets/controls",
      "model_module_version": "1.5.0",
      "model_name": "HTMLModel",
      "state": {
       "layout": "IPY_MODEL_075202e76bf340c08ddd1d544de28573",
       "style": "IPY_MODEL_07660e4a01e649a1abb4770a7c5fab00",
       "value": "<p>I want to go to Paris from London tomorrow and I will stay 3 days. I have 120 dollars</p>"
      }
     },
     "3b04386237d040fd834e0955d2d01f69": {
      "model_module": "@jupyter-widgets/base",
      "model_module_version": "1.2.0",
      "model_name": "LayoutModel",
      "state": {
       "border": "1px solid black",
       "margin": "10px 5px 10px 5px",
       "max_width": "70%",
       "padding": "5px"
      }
     },
     "3b3c00d549774f36b7d7c7f4bb602eab": {
      "model_module": "@jupyter-widgets/controls",
      "model_module_version": "1.5.0",
      "model_name": "TextareaModel",
      "state": {
       "layout": "IPY_MODEL_3914f8cd692241e6991d7624ab181bd9",
       "placeholder": "Add a comment, bug description or new feature request.",
       "style": "IPY_MODEL_9ed5389a0af14af5ad2d69d06c7bc045",
       "value": "sdfsdf"
      }
     },
     "3b8c5fca7bf2488199d2ba14eea22ab7": {
      "model_module": "@jupyter-widgets/controls",
      "model_module_version": "1.5.0",
      "model_name": "HBoxModel",
      "state": {
       "children": [
        "IPY_MODEL_60162c51573a4b0488d544e522b6f9ae"
       ],
       "layout": "IPY_MODEL_b9e42699fb044811bc7deee7c8e18a1e"
      }
     },
     "3b9b28556313415cae3504c67c7a208e": {
      "model_module": "@jupyter-widgets/base",
      "model_module_version": "1.2.0",
      "model_name": "LayoutModel",
      "state": {
       "justify_content": "flex-start"
      }
     },
     "3bf7affe815b43458ae01773676bc6b8": {
      "model_module": "@jupyter-widgets/base",
      "model_module_version": "1.2.0",
      "model_name": "LayoutModel",
      "state": {
       "justify_content": "flex-end"
      }
     },
     "3ccc877931814893845d1704094ca316": {
      "model_module": "@jupyter-widgets/controls",
      "model_module_version": "1.5.0",
      "model_name": "DescriptionStyleModel",
      "state": {
       "description_width": ""
      }
     },
     "3e0b4e090af246f2927100ac504549fb": {
      "model_module": "@jupyter-widgets/base",
      "model_module_version": "1.2.0",
      "model_name": "LayoutModel",
      "state": {
       "border": "1px solid black",
       "margin": "10px 5px 10px 5px",
       "max_width": "70%",
       "padding": "5px"
      }
     },
     "3e3341bd439f464b97f6c51bbcccebd8": {
      "model_module": "@jupyter-widgets/controls",
      "model_module_version": "1.5.0",
      "model_name": "DescriptionStyleModel",
      "state": {
       "description_width": ""
      }
     },
     "3ed63607e6e94eb6aef7ea1bdd2454bf": {
      "model_module": "@jupyter-widgets/controls",
      "model_module_version": "1.5.0",
      "model_name": "HBoxModel",
      "state": {
       "children": [
        "IPY_MODEL_699ce28f3603421495759f09cc13a9f3"
       ],
       "layout": "IPY_MODEL_9be4d42337f74d958b8e6f1a174ed86f"
      }
     },
     "3f68dce4cd99436cb169601189c3cc4b": {
      "model_module": "@jupyter-widgets/controls",
      "model_module_version": "1.5.0",
      "model_name": "HTMLModel",
      "state": {
       "layout": "IPY_MODEL_4163841ad35943bbad533ba1a2c63edd",
       "style": "IPY_MODEL_c4a31855e89a4296ac2c4af5f69aa7a7",
       "value": "<p>Please confirm the following information:</p>\n<ul>\n<li>\n<p>You want to <strong>book a flight</strong>.</p>\n</li>\n<li>\n<p>From <strong>London</strong> to <strong>Paris</strong>.</p>\n</li>\n<li>\n<p>Between the <strong>2022-01-01</strong> and the <strong>2022-01-04</strong>.</p>\n</li>\n<li>\n<p>With a budget of <strong>120</strong>.</p>\n</li>\n</ul>"
      }
     },
     "3ffc70e91b2249f5b38773d148892903": {
      "model_module": "@jupyter-widgets/controls",
      "model_module_version": "1.5.0",
      "model_name": "DescriptionStyleModel",
      "state": {
       "description_width": ""
      }
     },
     "407f094f92924c66b2ae6c5ffd57d3c2": {
      "model_module": "@jupyter-widgets/controls",
      "model_module_version": "1.5.0",
      "model_name": "ButtonModel",
      "state": {
       "icon": "arrow-right",
       "layout": "IPY_MODEL_53d0ac1fc923403bab50fc6f5de953ea",
       "style": "IPY_MODEL_d1d4f683ff43421b85829e42b5d69b86"
      }
     },
     "40871c95e8d140c187415a7cafa086c9": {
      "model_module": "@jupyter-widgets/controls",
      "model_module_version": "1.5.0",
      "model_name": "HTMLModel",
      "state": {
       "layout": "IPY_MODEL_2c77b927bcaa47be84a4daf67a0d3bbb",
       "style": "IPY_MODEL_303dbba4e14644df90959995eda7016f",
       "value": "<p>I want to go to Paris from London tomorrow and I will stay 3 days. I have 120 dollars</p>"
      }
     },
     "4163841ad35943bbad533ba1a2c63edd": {
      "model_module": "@jupyter-widgets/base",
      "model_module_version": "1.2.0",
      "model_name": "LayoutModel",
      "state": {
       "border": "1px solid black",
       "margin": "10px 5px 10px 5px",
       "max_width": "70%",
       "padding": "5px"
      }
     },
     "417b6d1c47d4417a99e27ab5cd1eb197": {
      "model_module": "@jupyter-widgets/controls",
      "model_module_version": "1.5.0",
      "model_name": "ButtonModel",
      "state": {
       "disabled": true,
       "icon": "arrow-left",
       "layout": "IPY_MODEL_35e35b4a0a01417cb27d4f02f171167a",
       "style": "IPY_MODEL_9e01c1d8d9b4414c977cc8f7108c5d46"
      }
     },
     "41bfa7184fe140ecbc9626f14f6d54db": {
      "model_module": "@jupyter-widgets/base",
      "model_module_version": "1.2.0",
      "model_name": "LayoutModel",
      "state": {
       "justify_content": "flex-start"
      }
     },
     "41fa52f4382f42a19accfc5f98005af8": {
      "model_module": "@jupyter-widgets/base",
      "model_module_version": "1.2.0",
      "model_name": "LayoutModel",
      "state": {
       "border": "1px solid black",
       "margin": "10px 5px 10px 5px",
       "max_width": "70%",
       "padding": "5px"
      }
     },
     "4256240a14644783998b37a7322c47c3": {
      "model_module": "@jupyter-widgets/base",
      "model_module_version": "1.2.0",
      "model_name": "LayoutModel",
      "state": {
       "border": "1px solid black",
       "margin": "10px 5px 10px 5px",
       "max_width": "70%",
       "padding": "5px"
      }
     },
     "42a1a0af66f146289679fa00ee941e9c": {
      "model_module": "@jupyter-widgets/base",
      "model_module_version": "1.2.0",
      "model_name": "LayoutModel",
      "state": {
       "justify_content": "flex-end"
      }
     },
     "42bbd033afc14e33838a9b4a88420c45": {
      "model_module": "@jupyter-widgets/base",
      "model_module_version": "1.2.0",
      "model_name": "LayoutModel",
      "state": {
       "border": "1px solid black",
       "margin": "10px 5px 10px 5px",
       "max_width": "70%",
       "padding": "5px"
      }
     },
     "42c4c44b85034f7d86f9c0f842b20027": {
      "model_module": "@jupyter-widgets/controls",
      "model_module_version": "1.5.0",
      "model_name": "VBoxModel",
      "state": {
       "children": [
        "IPY_MODEL_3619d0312e2c4415b52e8f93c114bd56",
        "IPY_MODEL_cc58e90b757f40639a5cbf8a1a1a7d2d",
        "IPY_MODEL_aa28056fd5f24928967d2e6e49ee8f7b",
        "IPY_MODEL_14bb6debe4d0452ca2e0b2ea703199c4"
       ],
       "layout": "IPY_MODEL_f6c71e1ab8c048138cdd6e244ca447b9"
      }
     },
     "432e1229892b42bda929ed185c2ce047": {
      "model_module": "@jupyter-widgets/base",
      "model_module_version": "1.2.0",
      "model_name": "LayoutModel",
      "state": {}
     },
     "438fcd94329a42f79ac93074253a2759": {
      "model_module": "@jupyter-widgets/controls",
      "model_module_version": "1.5.0",
      "model_name": "DropdownModel",
      "state": {
       "_options_labels": [
        "unknown",
        "luis",
        "chatbot"
       ],
       "description": "Error type:",
       "index": 2,
       "layout": "IPY_MODEL_a7446497158a41f9abfa28a1967ff9b0",
       "style": "IPY_MODEL_767a382a9ebc49619b064f6005fba4c0"
      }
     },
     "44388fad93c043aa908cd5be1b7402ae": {
      "model_module": "@jupyter-widgets/base",
      "model_module_version": "1.2.0",
      "model_name": "LayoutModel",
      "state": {
       "border": "1px solid black",
       "display": "block",
       "height": "300px",
       "overflow_y": "auto",
       "width": "60%"
      }
     },
     "456cded8dfee4c98ad9294f672665073": {
      "model_module": "@jupyter-widgets/base",
      "model_module_version": "1.2.0",
      "model_name": "LayoutModel",
      "state": {
       "border": "1px solid black",
       "margin": "10px 5px 10px 5px",
       "max_width": "70%",
       "padding": "5px"
      }
     },
     "4784c3463c7e4f4295d9ecfbb5a2a789": {
      "model_module": "@jupyter-widgets/controls",
      "model_module_version": "1.5.0",
      "model_name": "HTMLModel",
      "state": {
       "layout": "IPY_MODEL_fc6caa6f36ee41f2940c1a4848de751f",
       "style": "IPY_MODEL_1a1ee506bb304b679e712203b967f18a",
       "value": "<p>I want to go to Paris from London tomorrow and I will stay 3 days. I have 120 dollars</p>"
      }
     },
     "484549e9a30841628c54b4e86a0f752c": {
      "model_module": "@jupyter-widgets/controls",
      "model_module_version": "1.5.0",
      "model_name": "HTMLModel",
      "state": {
       "layout": "IPY_MODEL_41fa52f4382f42a19accfc5f98005af8",
       "style": "IPY_MODEL_b83403609d004c1ea7a6b41911c6a626",
       "value": "<p>Non</p>"
      }
     },
     "4886b6358964497d998fb19537346a4b": {
      "model_module": "@jupyter-widgets/controls",
      "model_module_version": "1.5.0",
      "model_name": "DescriptionStyleModel",
      "state": {
       "description_width": ""
      }
     },
     "48b333418d794f7c9d4873f382361484": {
      "model_module": "@jupyter-widgets/controls",
      "model_module_version": "1.5.0",
      "model_name": "HTMLModel",
      "state": {
       "layout": "IPY_MODEL_296115269d174a3ea5f998a8e0c0f617",
       "style": "IPY_MODEL_96dbf48680f4401f9f8bfa6950204040",
       "value": "<p>Please confirm the following information:</p>\n<ul>\n<li>\n<p>You want to <strong>book a flight</strong>.</p>\n</li>\n<li>\n<p>From <strong>London</strong> to <strong>Paris</strong>.</p>\n</li>\n<li>\n<p>Between the <strong>2022-01-01</strong> and the <strong>2022-01-04</strong>.</p>\n</li>\n<li>\n<p>With a budget of <strong>120</strong>.</p>\n</li>\n</ul>"
      }
     },
     "49159f37536f4fbbb55c89df5f531805": {
      "model_module": "@jupyter-widgets/base",
      "model_module_version": "1.2.0",
      "model_name": "LayoutModel",
      "state": {
       "border": "1px solid black",
       "margin": "10px 5px 10px 5px",
       "max_width": "70%",
       "padding": "5px"
      }
     },
     "4945176f6c5a486a8e644faecf66e092": {
      "model_module": "@jupyter-widgets/controls",
      "model_module_version": "1.5.0",
      "model_name": "DescriptionStyleModel",
      "state": {
       "description_width": ""
      }
     },
     "49706176d8514725ad23457de0748d43": {
      "model_module": "@jupyter-widgets/controls",
      "model_module_version": "1.5.0",
      "model_name": "HBoxModel",
      "state": {
       "children": [
        "IPY_MODEL_7b661e2209594c7a8d4f63721cc78a5e"
       ],
       "layout": "IPY_MODEL_0c7f1ac4e13046eeaa0e27bc7ca950a4"
      }
     },
     "4a0acd2696cf4bf1bff6a21f670fadba": {
      "model_module": "@jupyter-widgets/controls",
      "model_module_version": "1.5.0",
      "model_name": "DescriptionStyleModel",
      "state": {
       "description_width": ""
      }
     },
     "4afac94f0e0046a5b78d1ed364742f7f": {
      "model_module": "@jupyter-widgets/base",
      "model_module_version": "1.2.0",
      "model_name": "LayoutModel",
      "state": {
       "justify_content": "flex-start"
      }
     },
     "4b111d09db8d4a478edee7d8630bdf8e": {
      "model_module": "@jupyter-widgets/controls",
      "model_module_version": "1.5.0",
      "model_name": "HTMLModel",
      "state": {
       "layout": "IPY_MODEL_d941b72bb6294791b4c15af4c88a1214",
       "style": "IPY_MODEL_5ef3b2b9bf5441b5b14caf1e8bdde8ec",
       "value": "<p>Please confirm the following information:</p>\n<ul>\n<li>\n<p>You want to <strong>book a flight</strong>.</p>\n</li>\n<li>\n<p>From <strong>London</strong> to <strong>Paris</strong>.</p>\n</li>\n<li>\n<p>Between the <strong>2021-12-22</strong> and the <strong>2021-12-25</strong>.</p>\n</li>\n<li>\n<p>With a budget of <strong>120</strong>.</p>\n</li>\n</ul>"
      }
     },
     "4b35c48456984144bb7d81f9dd463402": {
      "model_module": "@jupyter-widgets/controls",
      "model_module_version": "1.5.0",
      "model_name": "LabelModel",
      "state": {
       "layout": "IPY_MODEL_d812bb71778448738e319887585b18f0",
       "style": "IPY_MODEL_7617d5d226cb4ce7b4250ef0a3de6dd0",
       "value": "Comment"
      }
     },
     "4b9df7cd3d79480c9dc74be4158bd99e": {
      "model_module": "@jupyter-widgets/base",
      "model_module_version": "1.2.0",
      "model_name": "LayoutModel",
      "state": {
       "height": "95px",
       "width": "95%"
      }
     },
     "4be61485672d403684903a58dd04524d": {
      "model_module": "@jupyter-widgets/controls",
      "model_module_version": "1.5.0",
      "model_name": "TextareaModel",
      "state": {
       "layout": "IPY_MODEL_ec58af095102437692756c87c3914e5f",
       "placeholder": "Add a comment, bug description or new feature request.",
       "style": "IPY_MODEL_4945176f6c5a486a8e644faecf66e092"
      }
     },
     "4c3a27558bc740b7ae805b7d32c76f8f": {
      "model_module": "@jupyter-widgets/controls",
      "model_module_version": "1.5.0",
      "model_name": "HBoxModel",
      "state": {
       "children": [
        "IPY_MODEL_87ada32eed004c11841f5371828f6203"
       ],
       "layout": "IPY_MODEL_eef2b950e4994c6893938dfc7a48d509"
      }
     },
     "4d5b1f45ed0b4c9db2f3a5b4f2601d6a": {
      "model_module": "@jupyter-widgets/base",
      "model_module_version": "1.2.0",
      "model_name": "LayoutModel",
      "state": {
       "justify_content": "flex-start"
      }
     },
     "4ddd8acc35ee44599f885fee8882caee": {
      "model_module": "@jupyter-widgets/base",
      "model_module_version": "1.2.0",
      "model_name": "LayoutModel",
      "state": {}
     },
     "4de75db3f4fe42caab808e3e26b31ef9": {
      "model_module": "@jupyter-widgets/controls",
      "model_module_version": "1.5.0",
      "model_name": "HBoxModel",
      "state": {
       "children": [
        "IPY_MODEL_c137b959e33c445c8e714a55098153b5"
       ],
       "layout": "IPY_MODEL_0a49e6e46bcb4d11bb04cdc4c1b9523f"
      }
     },
     "4ebbd1c1b18c4b429471897227552166": {
      "model_module": "@jupyter-widgets/controls",
      "model_module_version": "1.5.0",
      "model_name": "DescriptionStyleModel",
      "state": {
       "description_width": ""
      }
     },
     "4edd09d344b5405689d1242d87e552a7": {
      "model_module": "@jupyter-widgets/base",
      "model_module_version": "1.2.0",
      "model_name": "LayoutModel",
      "state": {
       "border": "1px solid black",
       "margin": "10px 5px 10px 5px",
       "max_width": "70%",
       "padding": "5px"
      }
     },
     "4ee186296a884a0d8be9323881b6def8": {
      "model_module": "@jupyter-widgets/controls",
      "model_module_version": "1.5.0",
      "model_name": "HBoxModel",
      "state": {
       "children": [
        "IPY_MODEL_54cac87185ad46e085948bc425562f32"
       ],
       "layout": "IPY_MODEL_6e9734c4790a4732872a7231551e7b43"
      }
     },
     "4f5743ea76934f8ab79fb41b1c4cefb4": {
      "model_module": "@jupyter-widgets/base",
      "model_module_version": "1.2.0",
      "model_name": "LayoutModel",
      "state": {
       "justify_content": "flex-start"
      }
     },
     "501c7a35f3814711bd680b46ccf5e1a5": {
      "model_module": "@jupyter-widgets/base",
      "model_module_version": "1.2.0",
      "model_name": "LayoutModel",
      "state": {
       "justify_content": "flex-start"
      }
     },
     "505ced4ee15049cd83504fd9fdc6cf51": {
      "model_module": "@jupyter-widgets/base",
      "model_module_version": "1.2.0",
      "model_name": "LayoutModel",
      "state": {
       "border": "1px solid black",
       "margin": "10px 5px 10px 5px",
       "max_width": "70%",
       "padding": "5px"
      }
     },
     "509afa9c0c474f39937b8cfc3dfbab3d": {
      "model_module": "@jupyter-widgets/base",
      "model_module_version": "1.2.0",
      "model_name": "LayoutModel",
      "state": {
       "border": "1px solid black",
       "margin": "10px 5px 10px 5px",
       "max_width": "70%",
       "padding": "5px"
      }
     },
     "50b6e7397fa6467c973959a2c775cd45": {
      "model_module": "@jupyter-widgets/controls",
      "model_module_version": "1.5.0",
      "model_name": "DescriptionStyleModel",
      "state": {
       "description_width": ""
      }
     },
     "510341c6ad4f4956aa268c9cc7a6cb98": {
      "model_module": "@jupyter-widgets/base",
      "model_module_version": "1.2.0",
      "model_name": "LayoutModel",
      "state": {
       "border": "1px solid black",
       "margin": "10px 5px 10px 5px",
       "max_width": "70%",
       "padding": "5px"
      }
     },
     "5129a0a422a8432ebff217f812c304a4": {
      "model_module": "@jupyter-widgets/base",
      "model_module_version": "1.2.0",
      "model_name": "LayoutModel",
      "state": {
       "border": "1px solid black",
       "margin": "10px 5px 10px 5px",
       "max_width": "70%",
       "padding": "5px"
      }
     },
     "51527223493f437aa6b3ceb5b4bcc481": {
      "model_module": "@jupyter-widgets/controls",
      "model_module_version": "1.5.0",
      "model_name": "HBoxModel",
      "state": {
       "children": [
        "IPY_MODEL_86aff0bae8ab49fe98ec65d6419177b2",
        "IPY_MODEL_6a7b1b9a87a745ff8bfa6c040c06dcc8",
        "IPY_MODEL_2c4d58fa871f48e38a018e73227d3213"
       ],
       "layout": "IPY_MODEL_176fe66601904767855c690fd02e687e"
      }
     },
     "521f906f564f479ba29c5cb1db4ce11d": {
      "model_module": "@jupyter-widgets/controls",
      "model_module_version": "1.5.0",
      "model_name": "HBoxModel",
      "state": {
       "children": [
        "IPY_MODEL_484549e9a30841628c54b4e86a0f752c"
       ],
       "layout": "IPY_MODEL_7ce79f6928814626a660f2d65f1451a5"
      }
     },
     "524cf8a899894ad9afe79b89d6b47dcf": {
      "model_module": "@jupyter-widgets/controls",
      "model_module_version": "1.5.0",
      "model_name": "DescriptionStyleModel",
      "state": {
       "description_width": ""
      }
     },
     "5258b5eaa87549a28c5994901691d0c8": {
      "model_module": "@jupyter-widgets/base",
      "model_module_version": "1.2.0",
      "model_name": "LayoutModel",
      "state": {
       "justify_content": "flex-start"
      }
     },
     "52e43dd719fb4ba8bc7c340ee8e6d526": {
      "model_module": "@jupyter-widgets/controls",
      "model_module_version": "1.5.0",
      "model_name": "VBoxModel",
      "state": {
       "children": [
        "IPY_MODEL_ba28ae6baec34c0794bde72d4a4cfbc5",
        "IPY_MODEL_11e659a172f543c7bc8180448bafcc8a",
        "IPY_MODEL_59c7d1a725a149339c42cf517a37ece0",
        "IPY_MODEL_35cd8832295345069c4b6416cee00938",
        "IPY_MODEL_54f53ca5c3ad4a4eb321d6d89232f261"
       ],
       "layout": "IPY_MODEL_e4a386eab37c4705a6996fc93189b1ad"
      }
     },
     "532d99ecf7b640e8a809e2e43d3fe9c1": {
      "model_module": "@jupyter-widgets/base",
      "model_module_version": "1.2.0",
      "model_name": "LayoutModel",
      "state": {
       "justify_content": "flex-end"
      }
     },
     "538013d057b74fec9b18ff3afc75265d": {
      "model_module": "@jupyter-widgets/controls",
      "model_module_version": "1.5.0",
      "model_name": "DescriptionStyleModel",
      "state": {
       "description_width": ""
      }
     },
     "53d0ac1fc923403bab50fc6f5de953ea": {
      "model_module": "@jupyter-widgets/base",
      "model_module_version": "1.2.0",
      "model_name": "LayoutModel",
      "state": {}
     },
     "53ea590483464c628d885f46721e7c8a": {
      "model_module": "@jupyter-widgets/base",
      "model_module_version": "1.2.0",
      "model_name": "LayoutModel",
      "state": {
       "justify_content": "flex-end"
      }
     },
     "5495257ce0f4404b9d8748251f980971": {
      "model_module": "@jupyter-widgets/controls",
      "model_module_version": "1.5.0",
      "model_name": "TextareaModel",
      "state": {
       "layout": "IPY_MODEL_549f5d30e95543b2820961e46b0ff55d",
       "placeholder": "Add a comment, bug description or new feature request.",
       "style": "IPY_MODEL_f66bf93117fc446292beefbfd39eef0a",
       "value": "LUIS has trouble to detect budgets."
      }
     },
     "549a43b9e0544077bde50fdca16047b1": {
      "model_module": "@jupyter-widgets/controls",
      "model_module_version": "1.5.0",
      "model_name": "DescriptionStyleModel",
      "state": {
       "description_width": ""
      }
     },
     "549f5d30e95543b2820961e46b0ff55d": {
      "model_module": "@jupyter-widgets/base",
      "model_module_version": "1.2.0",
      "model_name": "LayoutModel",
      "state": {
       "height": "95px",
       "width": "95%"
      }
     },
     "54c310d93d534265a4393027244d7f92": {
      "model_module": "@jupyter-widgets/controls",
      "model_module_version": "1.5.0",
      "model_name": "HTMLModel",
      "state": {
       "layout": "IPY_MODEL_2deba3ce2331457c82e91579006a1191",
       "style": "IPY_MODEL_15a053995a7a4458955e572fa2e01f4c",
       "value": "<p>What can I help you with today?</p>"
      }
     },
     "54cac87185ad46e085948bc425562f32": {
      "model_module": "@jupyter-widgets/controls",
      "model_module_version": "1.5.0",
      "model_name": "HTMLModel",
      "state": {
       "layout": "IPY_MODEL_39d9fd42efb249cd92d01cc4572b9a3f",
       "style": "IPY_MODEL_bf8cb3ecb74a4c4daeccbaffd9c8d1f6",
       "value": "<p>I want to go to Paris from London tomorrow and I will stay 3 days. I have 120 dollars</p>"
      }
     },
     "54f53ca5c3ad4a4eb321d6d89232f261": {
      "model_module": "@jupyter-widgets/controls",
      "model_module_version": "1.5.0",
      "model_name": "HBoxModel",
      "state": {
       "children": [
        "IPY_MODEL_2c80104ea02d4f8097a4be6b21c07892",
        "IPY_MODEL_8f9104d38edd447690e88bc033f4464d",
        "IPY_MODEL_25292ceb134b4b44858cba133ef3893d"
       ],
       "layout": "IPY_MODEL_f3a93db147704f5696c143483e876a24"
      }
     },
     "5589ccb0023a4446ae6ccb93c9c69827": {
      "model_module": "@jupyter-widgets/controls",
      "model_module_version": "1.5.0",
      "model_name": "DescriptionStyleModel",
      "state": {
       "description_width": ""
      }
     },
     "55912892010c465991eb39c5ffd75d39": {
      "model_module": "@jupyter-widgets/base",
      "model_module_version": "1.2.0",
      "model_name": "LayoutModel",
      "state": {
       "justify_content": "flex-end"
      }
     },
     "55a227307c444994abc3a9659ebc93f7": {
      "model_module": "@jupyter-widgets/controls",
      "model_module_version": "1.5.0",
      "model_name": "HBoxModel",
      "state": {
       "children": [
        "IPY_MODEL_4784c3463c7e4f4295d9ecfbb5a2a789"
       ],
       "layout": "IPY_MODEL_726c26b78fe44640b4321cc0f862444e"
      }
     },
     "55c4bfa62d5643f3b7f87b0794b64901": {
      "model_module": "@jupyter-widgets/base",
      "model_module_version": "1.2.0",
      "model_name": "LayoutModel",
      "state": {
       "border": "1px solid black",
       "margin": "10px 5px 10px 5px",
       "max_width": "70%",
       "padding": "5px"
      }
     },
     "55fbe614161049f7a5972835a97966c0": {
      "model_module": "@jupyter-widgets/controls",
      "model_module_version": "1.5.0",
      "model_name": "HBoxModel",
      "state": {
       "children": [
        "IPY_MODEL_59230b0b9ff24c02afcbcb08af605401"
       ],
       "layout": "IPY_MODEL_fc7fb070cf03461f889a82e78f253e68"
      }
     },
     "56151188390040f080d247da042a8cd2": {
      "model_module": "@jupyter-widgets/controls",
      "model_module_version": "1.5.0",
      "model_name": "HBoxModel",
      "state": {
       "children": [
        "IPY_MODEL_2b1ab9a652b040328e0b7443960c15ba"
       ],
       "layout": "IPY_MODEL_65d6d98f49ca4128b9cecb00998caa03"
      }
     },
     "56ecdfbcd7ad49eaa8cc85d951a69c79": {
      "model_module": "@jupyter-widgets/controls",
      "model_module_version": "1.5.0",
      "model_name": "DescriptionStyleModel",
      "state": {
       "description_width": ""
      }
     },
     "571a7c1ded79400d9bacce15f90fd97f": {
      "model_module": "@jupyter-widgets/controls",
      "model_module_version": "1.5.0",
      "model_name": "DescriptionStyleModel",
      "state": {
       "description_width": ""
      }
     },
     "58b4713fb512464b969508bb6a8fc927": {
      "model_module": "@jupyter-widgets/controls",
      "model_module_version": "1.5.0",
      "model_name": "DescriptionStyleModel",
      "state": {
       "description_width": ""
      }
     },
     "58e9c72bca224cee98d60d0905a589ca": {
      "model_module": "@jupyter-widgets/base",
      "model_module_version": "1.2.0",
      "model_name": "LayoutModel",
      "state": {
       "justify_content": "flex-start"
      }
     },
     "5917b3fa47164237ac3eb8ae31f79f00": {
      "model_module": "@jupyter-widgets/base",
      "model_module_version": "1.2.0",
      "model_name": "LayoutModel",
      "state": {
       "justify_content": "flex-start"
      }
     },
     "59230b0b9ff24c02afcbcb08af605401": {
      "model_module": "@jupyter-widgets/controls",
      "model_module_version": "1.5.0",
      "model_name": "HTMLModel",
      "state": {
       "layout": "IPY_MODEL_b017811aa3be4e4aa5fc495f8d07839a",
       "style": "IPY_MODEL_b0f5e29106a2448b96ea374c82681165",
       "value": "<p>What can I help you with today?</p>"
      }
     },
     "59c7d1a725a149339c42cf517a37ece0": {
      "model_module": "@jupyter-widgets/controls",
      "model_module_version": "1.5.0",
      "model_name": "LabelModel",
      "state": {
       "layout": "IPY_MODEL_0f01c80a519e4a3189278c95318005c2",
       "style": "IPY_MODEL_cc8ce240a8c04fd68d17ff174aed87d7",
       "value": "LUIS utterances"
      }
     },
     "59dc5693ab014db9b7b1ba05f89fc7bb": {
      "model_module": "@jupyter-widgets/base",
      "model_module_version": "1.2.0",
      "model_name": "LayoutModel",
      "state": {
       "border": "1px solid black",
       "margin": "10px 5px 10px 5px",
       "max_width": "70%",
       "padding": "5px"
      }
     },
     "5a470528bc144907b1813cd689f38cf3": {
      "model_module": "@jupyter-widgets/controls",
      "model_module_version": "1.5.0",
      "model_name": "DescriptionStyleModel",
      "state": {
       "description_width": ""
      }
     },
     "5aaf5253f1324807a02fecfa604998ec": {
      "model_module": "@jupyter-widgets/base",
      "model_module_version": "1.2.0",
      "model_name": "LayoutModel",
      "state": {
       "justify_content": "flex-end"
      }
     },
     "5b1c75006ff04e7cac3347b31b4242d8": {
      "model_module": "@jupyter-widgets/controls",
      "model_module_version": "1.5.0",
      "model_name": "DescriptionStyleModel",
      "state": {
       "description_width": ""
      }
     },
     "5ba249f8df0b4abe82906adbcb445cf7": {
      "model_module": "@jupyter-widgets/base",
      "model_module_version": "1.2.0",
      "model_name": "LayoutModel",
      "state": {
       "justify_content": "flex-start"
      }
     },
     "5c1cc47d0d8e432cb85f9f39684b0324": {
      "model_module": "@jupyter-widgets/base",
      "model_module_version": "1.2.0",
      "model_name": "LayoutModel",
      "state": {
       "justify_content": "flex-start"
      }
     },
     "5cbf30753fe54c9f8167923640637902": {
      "model_module": "@jupyter-widgets/base",
      "model_module_version": "1.2.0",
      "model_name": "LayoutModel",
      "state": {
       "border": "1px solid black",
       "margin": "10px 5px 10px 5px",
       "max_width": "70%",
       "padding": "5px"
      }
     },
     "5cd559db733c49b7834d55cf6b59b963": {
      "model_module": "@jupyter-widgets/controls",
      "model_module_version": "1.5.0",
      "model_name": "DescriptionStyleModel",
      "state": {
       "description_width": ""
      }
     },
     "5d1000c9298c40038377e3c6a13f4e47": {
      "model_module": "@jupyter-widgets/controls",
      "model_module_version": "1.5.0",
      "model_name": "DescriptionStyleModel",
      "state": {
       "description_width": ""
      }
     },
     "5d5540d8188540d1974bd225d63055ac": {
      "model_module": "@jupyter-widgets/controls",
      "model_module_version": "1.5.0",
      "model_name": "VBoxModel",
      "state": {
       "children": [
        "IPY_MODEL_0888de9078f84b619d7dfac8d12a8b67",
        "IPY_MODEL_2a358904c35f42c196e64e380cad6750",
        "IPY_MODEL_7f7655255b4e42dd8fac401f2276e203",
        "IPY_MODEL_f74809dcb1384e929ef684846765de9a"
       ],
       "layout": "IPY_MODEL_44388fad93c043aa908cd5be1b7402ae"
      }
     },
     "5d7b63e5be964fddb9b33e17fec66bae": {
      "model_module": "@jupyter-widgets/controls",
      "model_module_version": "1.5.0",
      "model_name": "DropdownModel",
      "state": {
       "_options_labels": [
        "unknown",
        "luis",
        "chatbot"
       ],
       "description": "Error type:",
       "index": 1,
       "layout": "IPY_MODEL_c0ba0ca325d64501a541f77c6c590ca0",
       "style": "IPY_MODEL_1a51bf51ca1f4193a1294e24751d900d"
      }
     },
     "5e58eb656f0541319f93e771283ba6ea": {
      "model_module": "@jupyter-widgets/base",
      "model_module_version": "1.2.0",
      "model_name": "LayoutModel",
      "state": {
       "border": "1px solid black",
       "margin": "10px 5px 10px 5px",
       "max_width": "70%",
       "padding": "5px"
      }
     },
     "5ee98c91846242e382864f89cd63f3ff": {
      "model_module": "@jupyter-widgets/controls",
      "model_module_version": "1.5.0",
      "model_name": "HBoxModel",
      "state": {
       "children": [
        "IPY_MODEL_0a72d5dc0d854510935b4a3e0e4d8af7"
       ],
       "layout": "IPY_MODEL_c8f6862c1a194e89adaa2ecba4a9e3a8"
      }
     },
     "5ef3b2b9bf5441b5b14caf1e8bdde8ec": {
      "model_module": "@jupyter-widgets/controls",
      "model_module_version": "1.5.0",
      "model_name": "DescriptionStyleModel",
      "state": {
       "description_width": ""
      }
     },
     "60162c51573a4b0488d544e522b6f9ae": {
      "model_module": "@jupyter-widgets/controls",
      "model_module_version": "1.5.0",
      "model_name": "HTMLModel",
      "state": {
       "layout": "IPY_MODEL_0b7285a226344a55a057df62e459d815",
       "style": "IPY_MODEL_524cf8a899894ad9afe79b89d6b47dcf",
       "value": "<p>Please confirm the following information:</p>\n<ul>\n<li>\n<p>You want to <strong>book a flight</strong>.</p>\n</li>\n<li>\n<p>From <strong>London</strong> to <strong>Paris</strong>.</p>\n</li>\n<li>\n<p>Between the <strong>2022-01-01</strong> and the <strong>2022-01-04</strong>.</p>\n</li>\n<li>\n<p>With a budget of <strong>120</strong>.</p>\n</li>\n</ul>"
      }
     },
     "6060c9f7313e48528f373a3f8f7390d3": {
      "model_module": "@jupyter-widgets/controls",
      "model_module_version": "1.5.0",
      "model_name": "HBoxModel",
      "state": {
       "children": [
        "IPY_MODEL_e288e92b352b4c89a3e6f7968698f896"
       ],
       "layout": "IPY_MODEL_1cfb5d7743c640788d10704a7b207dba"
      }
     },
     "60dc675e21cc4820b187418510b82865": {
      "model_module": "@jupyter-widgets/controls",
      "model_module_version": "1.5.0",
      "model_name": "DropdownModel",
      "state": {
       "_options_labels": [
        "unknown",
        "luis",
        "chatbot"
       ],
       "description": "Error type:",
       "index": 1,
       "layout": "IPY_MODEL_0cf79a6a9257455aa4625118a4dfae70",
       "style": "IPY_MODEL_f5f3fc3a0c2f40fa81a2ec60686bb4a0"
      }
     },
     "615cdae07b914ea2b4b7abc790a50209": {
      "model_module": "@jupyter-widgets/controls",
      "model_module_version": "1.5.0",
      "model_name": "HTMLModel",
      "state": {
       "layout": "IPY_MODEL_d66932bd4fce479a88b242ef378bb915",
       "style": "IPY_MODEL_72becaf845aa432cadb0ebf2ac934129",
       "value": "<p>Please confirm the following information:</p>\n<ul>\n<li>\n<p>You want to <strong>book a flight</strong>.</p>\n</li>\n<li>\n<p>From <strong>London</strong> to <strong>Paris</strong>.</p>\n</li>\n<li>\n<p>Between the <strong>2021-12-22</strong> and the <strong>2021-12-25</strong>.</p>\n</li>\n<li>\n<p>With a budget of <strong>120</strong>.</p>\n</li>\n</ul>"
      }
     },
     "61795c46569b47799f074664e7453839": {
      "model_module": "@jupyter-widgets/controls",
      "model_module_version": "1.5.0",
      "model_name": "DescriptionStyleModel",
      "state": {
       "description_width": ""
      }
     },
     "61bf05d5558d4c1bb1b3595e9a362c3f": {
      "model_module": "@jupyter-widgets/controls",
      "model_module_version": "1.5.0",
      "model_name": "HTMLModel",
      "state": {
       "layout": "IPY_MODEL_6aeaa1fd05534b2b9efa9ea5a7fdea5a",
       "style": "IPY_MODEL_cf2f4ac1c64d4ad3ba19b7f1161952e5",
       "value": "<p>I want to go to Paris from London tomorrow and I will stay 3 days. I have 120 dollars</p>"
      }
     },
     "61d4a75078464b31be07dcefffb4045c": {
      "model_module": "@jupyter-widgets/controls",
      "model_module_version": "1.5.0",
      "model_name": "DescriptionStyleModel",
      "state": {
       "description_width": ""
      }
     },
     "61fb784d211944b385c5d56d96d5aa4a": {
      "model_module": "@jupyter-widgets/controls",
      "model_module_version": "1.5.0",
      "model_name": "HBoxModel",
      "state": {
       "children": [
        "IPY_MODEL_4b111d09db8d4a478edee7d8630bdf8e"
       ],
       "layout": "IPY_MODEL_3462ab7a1d0744159cc06c959ea9f509"
      }
     },
     "62077b0c1fc6467da9d486815dd03f7d": {
      "model_module": "@jupyter-widgets/controls",
      "model_module_version": "1.5.0",
      "model_name": "ButtonModel",
      "state": {
       "icon": "arrow-right",
       "layout": "IPY_MODEL_e0d82f01eb5948ce9504fc8a512daf94",
       "style": "IPY_MODEL_bf01be71aa144597a94234fe8df778c9"
      }
     },
     "629e5390da984f6bb40e54972bd0a29c": {
      "model_module": "@jupyter-widgets/base",
      "model_module_version": "1.2.0",
      "model_name": "LayoutModel",
      "state": {
       "height": "95px",
       "width": "95%"
      }
     },
     "631ba42be70e4f20a8a839c4917d6622": {
      "model_module": "@jupyter-widgets/controls",
      "model_module_version": "1.5.0",
      "model_name": "HBoxModel",
      "state": {
       "children": [
        "IPY_MODEL_0c759f77cb29446ca89bcc862c2f6e2c"
       ],
       "layout": "IPY_MODEL_5ba249f8df0b4abe82906adbcb445cf7"
      }
     },
     "63c1c408d80b4a0ebc54eb7c9e3fa601": {
      "model_module": "@jupyter-widgets/controls",
      "model_module_version": "1.5.0",
      "model_name": "ButtonModel",
      "state": {
       "disabled": true,
       "icon": "arrow-left",
       "layout": "IPY_MODEL_7884706aef2a4355916a1e59b9ae102e",
       "style": "IPY_MODEL_1276b2cb45134c2e82a2dbe3fd41ca00"
      }
     },
     "64caf18a2c834ec5bb4a62eefbd9466f": {
      "model_module": "@jupyter-widgets/controls",
      "model_module_version": "1.5.0",
      "model_name": "HBoxModel",
      "state": {
       "children": [
        "IPY_MODEL_22255bf96f344c918d607a066e3463b6"
       ],
       "layout": "IPY_MODEL_3b9b28556313415cae3504c67c7a208e"
      }
     },
     "650d3213902849e8801dc44e0109115d": {
      "model_module": "@jupyter-widgets/controls",
      "model_module_version": "1.5.0",
      "model_name": "ButtonStyleModel",
      "state": {}
     },
     "6524b415fcee4ab797ef39f0e9c19e61": {
      "model_module": "@jupyter-widgets/controls",
      "model_module_version": "1.5.0",
      "model_name": "HTMLModel",
      "state": {
       "layout": "IPY_MODEL_eaed724669f4465f93bbda4794ae098f",
       "style": "IPY_MODEL_eb7ff19220574e15bee62b5020489be8",
       "value": "<p>What can I help you with today?</p>"
      }
     },
     "654a835a293d46789c1bedefc1857f43": {
      "model_module": "@jupyter-widgets/controls",
      "model_module_version": "1.5.0",
      "model_name": "HTMLModel",
      "state": {
       "layout": "IPY_MODEL_c952e32fbeeb4c9d862beca4ba825c9c",
       "style": "IPY_MODEL_7ced47b73c5640fc9e48dd8bb8b8e00c",
       "value": "<p>I want to go to Paris from London tomorrow and I will stay 3 days. I have 120 dollars</p>"
      }
     },
     "655bab0f607143e5b4bf3e5e3f3548df": {
      "model_module": "@jupyter-widgets/base",
      "model_module_version": "1.2.0",
      "model_name": "LayoutModel",
      "state": {
       "display": "flex",
       "height": "300px",
       "justify_content": "space-between",
       "width": "40%"
      }
     },
     "657ac08b5141463b9f50e0d20b75d7a3": {
      "model_module": "@jupyter-widgets/base",
      "model_module_version": "1.2.0",
      "model_name": "LayoutModel",
      "state": {
       "justify_content": "flex-end"
      }
     },
     "65d6d98f49ca4128b9cecb00998caa03": {
      "model_module": "@jupyter-widgets/base",
      "model_module_version": "1.2.0",
      "model_name": "LayoutModel",
      "state": {
       "justify_content": "flex-start"
      }
     },
     "6691140e2fa2453db4a208b4fd254949": {
      "model_module": "@jupyter-widgets/base",
      "model_module_version": "1.2.0",
      "model_name": "LayoutModel",
      "state": {
       "border": "1px solid black",
       "display": "block",
       "height": "300px",
       "overflow_y": "auto",
       "width": "60%"
      }
     },
     "66d1374068b842eaa06934c9aa63c3fa": {
      "model_module": "@jupyter-widgets/controls",
      "model_module_version": "1.5.0",
      "model_name": "HBoxModel",
      "state": {
       "children": [
        "IPY_MODEL_d5e08f7d439a4142b582673aef4875c1"
       ],
       "layout": "IPY_MODEL_ce94e81afcd94af483e22a82db676f4f"
      }
     },
     "6862ec7a62cd49fe8d5543d5d16bc5ad": {
      "model_module": "@jupyter-widgets/base",
      "model_module_version": "1.2.0",
      "model_name": "LayoutModel",
      "state": {
       "width": "95%"
      }
     },
     "68d013189daa4ff1bf6e876f7cdc0bc5": {
      "model_module": "@jupyter-widgets/controls",
      "model_module_version": "1.5.0",
      "model_name": "HTMLModel",
      "state": {
       "layout": "IPY_MODEL_b15c468e829541ec93a2d199747aa4a8",
       "style": "IPY_MODEL_e5c6ecc68e144050aab639b7d06ac412",
       "value": "<p>Non</p>"
      }
     },
     "698d6caa79a14a759f08d48ada5a9dd2": {
      "model_module": "@jupyter-widgets/base",
      "model_module_version": "1.2.0",
      "model_name": "LayoutModel",
      "state": {
       "border": "1px solid black",
       "margin": "10px 5px 10px 5px",
       "max_width": "70%",
       "padding": "5px"
      }
     },
     "698e9c14a3524fba85e545d9cd8b40d9": {
      "model_module": "@jupyter-widgets/base",
      "model_module_version": "1.2.0",
      "model_name": "LayoutModel",
      "state": {}
     },
     "699ce28f3603421495759f09cc13a9f3": {
      "model_module": "@jupyter-widgets/controls",
      "model_module_version": "1.5.0",
      "model_name": "HTMLModel",
      "state": {
       "layout": "IPY_MODEL_2ad30e4409ad47eaaa35aaaa7ad2ba72",
       "style": "IPY_MODEL_09628720338a47ef8262745e556e036b",
       "value": "<p>What else can I do for you?</p>"
      }
     },
     "6a02491681d84b379525ebf61232c0d6": {
      "model_module": "@jupyter-widgets/controls",
      "model_module_version": "1.5.0",
      "model_name": "DescriptionStyleModel",
      "state": {
       "description_width": ""
      }
     },
     "6a44e3786a1e4ec98cc90b5ef2fbb093": {
      "model_module": "@jupyter-widgets/base",
      "model_module_version": "1.2.0",
      "model_name": "LayoutModel",
      "state": {
       "justify_content": "flex-end"
      }
     },
     "6a7b1b9a87a745ff8bfa6c040c06dcc8": {
      "model_module": "@jupyter-widgets/controls",
      "model_module_version": "1.5.0",
      "model_name": "DropdownModel",
      "state": {
       "_options_labels": [
        "unknown",
        "luis",
        "chatbot"
       ],
       "description": "Error type:",
       "index": null,
       "layout": "IPY_MODEL_7e5fcf89df394758babc146bbeea8f0b",
       "style": "IPY_MODEL_50b6e7397fa6467c973959a2c775cd45"
      }
     },
     "6ae68111479a46c392dc89f5765b3ed2": {
      "model_module": "@jupyter-widgets/controls",
      "model_module_version": "1.5.0",
      "model_name": "HTMLModel",
      "state": {
       "layout": "IPY_MODEL_efa66a0752b1430ea8ec990599aa9004",
       "style": "IPY_MODEL_cd804e702b9f4838aa563d223c77bef0",
       "value": "<p>Please confirm the following information:</p>\n<ul>\n<li>\n<p>You want to <strong>book a flight</strong>.</p>\n</li>\n<li>\n<p>From <strong>London</strong> to <strong>Paris</strong>.</p>\n</li>\n<li>\n<p>Between the <strong>2022-01-01</strong> and the <strong>2022-01-04</strong>.</p>\n</li>\n<li>\n<p>With a budget of <strong>120</strong>.</p>\n</li>\n</ul>"
      }
     },
     "6aeaa1fd05534b2b9efa9ea5a7fdea5a": {
      "model_module": "@jupyter-widgets/base",
      "model_module_version": "1.2.0",
      "model_name": "LayoutModel",
      "state": {
       "border": "1px solid black",
       "margin": "10px 5px 10px 5px",
       "max_width": "70%",
       "padding": "5px"
      }
     },
     "6af4505449ab4ee48c44edf796d3b60f": {
      "model_module": "@jupyter-widgets/controls",
      "model_module_version": "1.5.0",
      "model_name": "DescriptionStyleModel",
      "state": {
       "description_width": ""
      }
     },
     "6b015adb9c1e400390fc91bc1f24d0f4": {
      "model_module": "@jupyter-widgets/controls",
      "model_module_version": "1.5.0",
      "model_name": "HTMLModel",
      "state": {
       "layout": "IPY_MODEL_ac52e9d67b9d4212a8c1d9bc7207e514",
       "style": "IPY_MODEL_242e33fd9de74885a4f196b33fadd6f2",
       "value": "<p>Please confirm the following information:</p>\n<ul>\n<li>\n<p>You want to <strong>book a flight</strong>.</p>\n</li>\n<li>\n<p>From <strong>London</strong> to <strong>Paris</strong>.</p>\n</li>\n<li>\n<p>Between the <strong>2021-12-22</strong> and the <strong>2021-12-25</strong>.</p>\n</li>\n<li>\n<p>With a budget of <strong>120</strong>.</p>\n</li>\n</ul>"
      }
     },
     "6b0aa919079d4ee9aba903054b66495b": {
      "model_module": "@jupyter-widgets/controls",
      "model_module_version": "1.5.0",
      "model_name": "HBoxModel",
      "state": {
       "children": [
        "IPY_MODEL_11d7f3f295fc419f8161e9369e732863"
       ],
       "layout": "IPY_MODEL_bba69dad931b42648d6f356fc9ab4f8c"
      }
     },
     "6cb1179ed0164a59a75b62ff87980586": {
      "model_module": "@jupyter-widgets/base",
      "model_module_version": "1.2.0",
      "model_name": "LayoutModel",
      "state": {
       "border": "1px solid black",
       "margin": "10px 5px 10px 5px",
       "max_width": "70%",
       "padding": "5px"
      }
     },
     "6d1f96545b8549149450289a1d4e7c94": {
      "model_module": "@jupyter-widgets/controls",
      "model_module_version": "1.5.0",
      "model_name": "TextareaModel",
      "state": {
       "layout": "IPY_MODEL_183a5c99282a4983a5075264ad7c88b9",
       "placeholder": "Add LUIS utterances to add to the training set.",
       "style": "IPY_MODEL_2f65cfefbd2d4b3a9cfc3e5ecb33e91e",
       "value": "I want to go to Paris from London tomorrow and I will stay 3 days. I have 120 dollars"
      }
     },
     "6d62795c2929416988e3484973691420": {
      "model_module": "@jupyter-widgets/controls",
      "model_module_version": "1.5.0",
      "model_name": "HTMLModel",
      "state": {
       "layout": "IPY_MODEL_fdae7afd396b430696a6e14a6afefaa0",
       "style": "IPY_MODEL_61795c46569b47799f074664e7453839",
       "value": "<p>Please confirm the following information:</p>\n<ul>\n<li>\n<p>You want to <strong>book a flight</strong>.</p>\n</li>\n<li>\n<p>From <strong>London</strong> to <strong>Paris</strong>.</p>\n</li>\n<li>\n<p>Between the <strong>2021-12-22</strong> and the <strong>2021-12-25</strong>.</p>\n</li>\n<li>\n<p>With a budget of <strong>120</strong>.</p>\n</li>\n</ul>"
      }
     },
     "6d68e6c4b45e4a1b9de58f4cc88efad2": {
      "model_module": "@jupyter-widgets/controls",
      "model_module_version": "1.5.0",
      "model_name": "DescriptionStyleModel",
      "state": {
       "description_width": ""
      }
     },
     "6e0c232e1b504c7b80b6eb1d34b629e7": {
      "model_module": "@jupyter-widgets/controls",
      "model_module_version": "1.5.0",
      "model_name": "HTMLModel",
      "state": {
       "layout": "IPY_MODEL_23e28f1f8b2c4edb84542e5481ac1ef6",
       "style": "IPY_MODEL_5d1000c9298c40038377e3c6a13f4e47",
       "value": "<p>What can I help you with today?</p>"
      }
     },
     "6e46c630c3074dc3b4de5beab8dfe2d0": {
      "model_module": "@jupyter-widgets/controls",
      "model_module_version": "1.5.0",
      "model_name": "HBoxModel",
      "state": {
       "children": [
        "IPY_MODEL_90daf2448e7641d4834ee97eaa2ecf13"
       ],
       "layout": "IPY_MODEL_c5a8575afa564bef83ca80f205a034fd"
      }
     },
     "6e9734c4790a4732872a7231551e7b43": {
      "model_module": "@jupyter-widgets/base",
      "model_module_version": "1.2.0",
      "model_name": "LayoutModel",
      "state": {
       "justify_content": "flex-start"
      }
     },
     "6ec3603724a24e699292df5c2a79da2e": {
      "model_module": "@jupyter-widgets/controls",
      "model_module_version": "1.5.0",
      "model_name": "HTMLModel",
      "state": {
       "layout": "IPY_MODEL_a6183b3da0d44c3997b1eb641fbf96c8",
       "style": "IPY_MODEL_21b51052218b4ee9b43f59568a7188be",
       "value": "<p>I want to go to Paris from London tomorrow and I will stay 3 days. I have 120 dollars</p>"
      }
     },
     "6f1eebc22f354276bec396e0d7041e6b": {
      "model_module": "@jupyter-widgets/controls",
      "model_module_version": "1.5.0",
      "model_name": "HBoxModel",
      "state": {
       "children": [
        "IPY_MODEL_5d5540d8188540d1974bd225d63055ac",
        "IPY_MODEL_03abba7f3f204213af6d819874650b1f"
       ],
       "layout": "IPY_MODEL_e87a84ec6f37421ebf63822105078349"
      }
     },
     "6f73aa5738d94a0693c1d085bec764c6": {
      "model_module": "@jupyter-widgets/base",
      "model_module_version": "1.2.0",
      "model_name": "LayoutModel",
      "state": {
       "justify_content": "flex-start"
      }
     },
     "6f8dac17414a426684ba8cbbdd4cd6f0": {
      "model_module": "@jupyter-widgets/controls",
      "model_module_version": "1.5.0",
      "model_name": "HTMLModel",
      "state": {
       "layout": "IPY_MODEL_4256240a14644783998b37a7322c47c3",
       "style": "IPY_MODEL_75a56482a332494d9dda72c71aac6594",
       "value": "<p>Please confirm the following information:</p>\n<ul>\n<li>\n<p>You want to <strong>book a flight</strong>.</p>\n</li>\n<li>\n<p>From <strong>London</strong> to <strong>Paris</strong>.</p>\n</li>\n<li>\n<p>Between the <strong>2022-01-01</strong> and the <strong>2022-01-04</strong>.</p>\n</li>\n<li>\n<p>With a budget of <strong>120</strong>.</p>\n</li>\n</ul>"
      }
     },
     "6fc0a3d43a2d47fdaf9379d612b8823b": {
      "model_module": "@jupyter-widgets/controls",
      "model_module_version": "1.5.0",
      "model_name": "HBoxModel",
      "state": {
       "children": [
        "IPY_MODEL_b68526adf6724bd4aea3f17945984341"
       ],
       "layout": "IPY_MODEL_24e5acbe090240448c8ed144effc4d6d"
      }
     },
     "7139dba38da3484fa9ecd8df86733607": {
      "model_module": "@jupyter-widgets/controls",
      "model_module_version": "1.5.0",
      "model_name": "VBoxModel",
      "state": {
       "children": [
        "IPY_MODEL_1909b46a5ec74c5caeb2b1eab9af3a6a",
        "IPY_MODEL_5495257ce0f4404b9d8748251f980971",
        "IPY_MODEL_f142f264abf445f084ca1342c83e1f5e",
        "IPY_MODEL_6d1f96545b8549149450289a1d4e7c94",
        "IPY_MODEL_077210043502406db9be3a472b450ad0"
       ],
       "layout": "IPY_MODEL_fe5986823c65446a8403804e78e4a8ae"
      }
     },
     "715d4305eea444c4bd08a7a83d3a223a": {
      "model_module": "@jupyter-widgets/base",
      "model_module_version": "1.2.0",
      "model_name": "LayoutModel",
      "state": {
       "border": "1px solid black",
       "margin": "10px 5px 10px 5px",
       "max_width": "70%",
       "padding": "5px"
      }
     },
     "715f1a275a1f48ffbab7024817b6ab95": {
      "model_module": "@jupyter-widgets/base",
      "model_module_version": "1.2.0",
      "model_name": "LayoutModel",
      "state": {
       "justify_content": "flex-start"
      }
     },
     "71dba5d4f625447bbefb41536fe22f13": {
      "model_module": "@jupyter-widgets/controls",
      "model_module_version": "1.5.0",
      "model_name": "HBoxModel",
      "state": {
       "children": [
        "IPY_MODEL_7740319db3514fec98d6d9e6b01ac5b6"
       ],
       "layout": "IPY_MODEL_ae114c07f302451682ac80322a9c2a4b"
      }
     },
     "71ea61eccf314f078e9f99923bac0978": {
      "model_module": "@jupyter-widgets/base",
      "model_module_version": "1.2.0",
      "model_name": "LayoutModel",
      "state": {
       "border": "1px solid black",
       "margin": "10px 5px 10px 5px",
       "max_width": "70%",
       "padding": "5px"
      }
     },
     "71f2e1d3952b4957af454fa5e5bbbb6b": {
      "model_module": "@jupyter-widgets/base",
      "model_module_version": "1.2.0",
      "model_name": "LayoutModel",
      "state": {
       "justify_content": "flex-end"
      }
     },
     "726ac8bc545f43e395dbaeb686db118f": {
      "model_module": "@jupyter-widgets/controls",
      "model_module_version": "1.5.0",
      "model_name": "DescriptionStyleModel",
      "state": {
       "description_width": ""
      }
     },
     "726c26b78fe44640b4321cc0f862444e": {
      "model_module": "@jupyter-widgets/base",
      "model_module_version": "1.2.0",
      "model_name": "LayoutModel",
      "state": {
       "justify_content": "flex-start"
      }
     },
     "72becaf845aa432cadb0ebf2ac934129": {
      "model_module": "@jupyter-widgets/controls",
      "model_module_version": "1.5.0",
      "model_name": "DescriptionStyleModel",
      "state": {
       "description_width": ""
      }
     },
     "7304721ef9dd45f7ab5c632d24518986": {
      "model_module": "@jupyter-widgets/controls",
      "model_module_version": "1.5.0",
      "model_name": "TextareaModel",
      "state": {
       "layout": "IPY_MODEL_032a1e2175ab41b087b810fb7855a451",
       "placeholder": "Add a comment, bug description or new feature request.",
       "style": "IPY_MODEL_b0ffc84c34394325ace8daf25b849b21",
       "value": "LUIS has trouble to detect budgets."
      }
     },
     "7337fbf3a5d54991baecfb486426830e": {
      "model_module": "@jupyter-widgets/base",
      "model_module_version": "1.2.0",
      "model_name": "LayoutModel",
      "state": {
       "justify_content": "flex-start"
      }
     },
     "736c63288d41465bb1102e014bd5297f": {
      "model_module": "@jupyter-widgets/controls",
      "model_module_version": "1.5.0",
      "model_name": "HBoxModel",
      "state": {
       "children": [
        "IPY_MODEL_e92fed91af894df2ba8ad887195b4095"
       ],
       "layout": "IPY_MODEL_c57605b45d254c349cf9bb7e04677c39"
      }
     },
     "73b3430088ab4ca59b506b02b841b4d8": {
      "model_module": "@jupyter-widgets/controls",
      "model_module_version": "1.5.0",
      "model_name": "HBoxModel",
      "state": {
       "children": [
        "IPY_MODEL_0cf4f894c4b24bb9b151bbe391177544"
       ],
       "layout": "IPY_MODEL_53ea590483464c628d885f46721e7c8a"
      }
     },
     "7463febacb1c4f219da4a0b222049841": {
      "model_module": "@jupyter-widgets/controls",
      "model_module_version": "1.5.0",
      "model_name": "HTMLModel",
      "state": {
       "layout": "IPY_MODEL_a707d147fea445648b05aac6d3acce50",
       "style": "IPY_MODEL_cc4c3defe3e746db93da94e87cc38c71",
       "value": "<p>What else can I do for you?</p>"
      }
     },
     "75851eb46fe7474daa88136a93d8b4f3": {
      "model_module": "@jupyter-widgets/controls",
      "model_module_version": "1.5.0",
      "model_name": "ButtonStyleModel",
      "state": {}
     },
     "75a4118bdd4c4172a51bc0fa83b8b58d": {
      "model_module": "@jupyter-widgets/controls",
      "model_module_version": "1.5.0",
      "model_name": "HBoxModel",
      "state": {
       "children": [
        "IPY_MODEL_7c3e9534128f44c4a794bb635a2e7932"
       ],
       "layout": "IPY_MODEL_967b756c7657403f866fba416d29d07b"
      }
     },
     "75a56482a332494d9dda72c71aac6594": {
      "model_module": "@jupyter-widgets/controls",
      "model_module_version": "1.5.0",
      "model_name": "DescriptionStyleModel",
      "state": {
       "description_width": ""
      }
     },
     "7617d5d226cb4ce7b4250ef0a3de6dd0": {
      "model_module": "@jupyter-widgets/controls",
      "model_module_version": "1.5.0",
      "model_name": "DescriptionStyleModel",
      "state": {
       "description_width": ""
      }
     },
     "762ae7867cae4602aa98061e649a5586": {
      "model_module": "@jupyter-widgets/controls",
      "model_module_version": "1.5.0",
      "model_name": "HTMLModel",
      "state": {
       "layout": "IPY_MODEL_c221ddfce828461a8ad89b7ef102251d",
       "style": "IPY_MODEL_b51afc9d649d49d083f4b09d0950843e",
       "value": "<p>What else can I do for you?</p>"
      }
     },
     "767a382a9ebc49619b064f6005fba4c0": {
      "model_module": "@jupyter-widgets/controls",
      "model_module_version": "1.5.0",
      "model_name": "DescriptionStyleModel",
      "state": {
       "description_width": ""
      }
     },
     "768c83d7b69a42fb918858450160d0e6": {
      "model_module": "@jupyter-widgets/base",
      "model_module_version": "1.2.0",
      "model_name": "LayoutModel",
      "state": {
       "border": "1px solid black",
       "margin": "10px 5px 10px 5px",
       "max_width": "70%",
       "padding": "5px"
      }
     },
     "772c2d094dd6456e9a76a59e6d18326f": {
      "model_module": "@jupyter-widgets/controls",
      "model_module_version": "1.5.0",
      "model_name": "LabelModel",
      "state": {
       "layout": "IPY_MODEL_fdfb468ce1964c72aaff0a5c02afb935",
       "style": "IPY_MODEL_93171a3f1313456b81e7f26b43d04c0d",
       "value": "Comment"
      }
     },
     "7740319db3514fec98d6d9e6b01ac5b6": {
      "model_module": "@jupyter-widgets/controls",
      "model_module_version": "1.5.0",
      "model_name": "HTMLModel",
      "state": {
       "layout": "IPY_MODEL_914bd7b0042a49f592a727cc810b386c",
       "style": "IPY_MODEL_538013d057b74fec9b18ff3afc75265d",
       "value": "<p>What can I help you with today?</p>"
      }
     },
     "7750a1b9817540ba9d8b5516b8bb3021": {
      "model_module": "@jupyter-widgets/base",
      "model_module_version": "1.2.0",
      "model_name": "LayoutModel",
      "state": {
       "justify_content": "flex-start"
      }
     },
     "7779fbc770ec465db501217e18a3af45": {
      "model_module": "@jupyter-widgets/controls",
      "model_module_version": "1.5.0",
      "model_name": "VBoxModel",
      "state": {
       "children": [
        "IPY_MODEL_9f0cd1dcd080471fb9b34971ff8a6640",
        "IPY_MODEL_2c1fffe2352e448a840160195cf390d2",
        "IPY_MODEL_97bb39d321044ed2b0309b457efc14a5",
        "IPY_MODEL_2f89682aec194d3b83332e61e33304bc"
       ],
       "layout": "IPY_MODEL_3322480744634e27850491df475e64e0"
      }
     },
     "77bf4f2ae5344e90995795f74a49f1a5": {
      "model_module": "@jupyter-widgets/controls",
      "model_module_version": "1.5.0",
      "model_name": "HTMLModel",
      "state": {
       "layout": "IPY_MODEL_9564d03cafc54845a41614f200f82675",
       "style": "IPY_MODEL_b4bc7f6ac7d04cdd992d2addb137831d",
       "value": "<p>Please confirm the following information:</p>\n<ul>\n<li>\n<p>You want to <strong>book a flight</strong>.</p>\n</li>\n<li>\n<p>From <strong>London</strong> to <strong>Paris</strong>.</p>\n</li>\n<li>\n<p>Between the <strong>2022-01-01</strong> and the <strong>2022-01-04</strong>.</p>\n</li>\n<li>\n<p>With a budget of <strong>120</strong>.</p>\n</li>\n</ul>"
      }
     },
     "77db336243c84e30a1f8b31362e8a1df": {
      "model_module": "@jupyter-widgets/base",
      "model_module_version": "1.2.0",
      "model_name": "LayoutModel",
      "state": {
       "width": "95%"
      }
     },
     "780746e3513247e6b77aefa05d5f0907": {
      "model_module": "@jupyter-widgets/controls",
      "model_module_version": "1.5.0",
      "model_name": "DescriptionStyleModel",
      "state": {
       "description_width": ""
      }
     },
     "7884706aef2a4355916a1e59b9ae102e": {
      "model_module": "@jupyter-widgets/base",
      "model_module_version": "1.2.0",
      "model_name": "LayoutModel",
      "state": {}
     },
     "789b212748904ee9aca9bad80b470406": {
      "model_module": "@jupyter-widgets/controls",
      "model_module_version": "1.5.0",
      "model_name": "DescriptionStyleModel",
      "state": {
       "description_width": ""
      }
     },
     "7968875a2c6f48b79ad9a3bf254420f5": {
      "model_module": "@jupyter-widgets/base",
      "model_module_version": "1.2.0",
      "model_name": "LayoutModel",
      "state": {
       "border": "1px solid black",
       "margin": "10px 5px 10px 5px",
       "max_width": "70%",
       "padding": "5px"
      }
     },
     "79c9c2078fff482fb110d0718766a83e": {
      "model_module": "@jupyter-widgets/controls",
      "model_module_version": "1.5.0",
      "model_name": "HBoxModel",
      "state": {
       "children": [
        "IPY_MODEL_d4358821a77f4f8e92501d3f44fb7c23"
       ],
       "layout": "IPY_MODEL_1ed33a76e9fb455ba61c06d2cb7412df"
      }
     },
     "79ffe042716e4227bc1c965df7960adc": {
      "model_module": "@jupyter-widgets/base",
      "model_module_version": "1.2.0",
      "model_name": "LayoutModel",
      "state": {
       "height": "95px",
       "width": "95%"
      }
     },
     "7a0b18e7e99b416dafae4a67aeb3c98c": {
      "model_module": "@jupyter-widgets/controls",
      "model_module_version": "1.5.0",
      "model_name": "LabelModel",
      "state": {
       "layout": "IPY_MODEL_891591fed39b45e488dfae9fba2f084c",
       "style": "IPY_MODEL_571a7c1ded79400d9bacce15f90fd97f",
       "value": "Comment"
      }
     },
     "7a6934816c46440daa6e3eafa3b10942": {
      "model_module": "@jupyter-widgets/controls",
      "model_module_version": "1.5.0",
      "model_name": "HTMLModel",
      "state": {
       "layout": "IPY_MODEL_fd188b86511d4e76adf0126f90c7242b",
       "style": "IPY_MODEL_e95125f578fd47748ebf8e3eca0feb1e",
       "value": "<p>Non</p>"
      }
     },
     "7b5017a82bcf4ee1b7f6258ed5267347": {
      "model_module": "@jupyter-widgets/controls",
      "model_module_version": "1.5.0",
      "model_name": "DescriptionStyleModel",
      "state": {
       "description_width": ""
      }
     },
     "7b661e2209594c7a8d4f63721cc78a5e": {
      "model_module": "@jupyter-widgets/controls",
      "model_module_version": "1.5.0",
      "model_name": "HTMLModel",
      "state": {
       "layout": "IPY_MODEL_1e02b285975d4126a0bbb256be9402eb",
       "style": "IPY_MODEL_109b8d16d87b4e55b61ec83447ed4b5e",
       "value": "<p>Please confirm the following information:</p>\n<ul>\n<li>\n<p>You want to <strong>book a flight</strong>.</p>\n</li>\n<li>\n<p>From <strong>London</strong> to <strong>Paris</strong>.</p>\n</li>\n<li>\n<p>Between the <strong>2022-01-01</strong> and the <strong>2022-01-04</strong>.</p>\n</li>\n<li>\n<p>With a budget of <strong>120</strong>.</p>\n</li>\n</ul>"
      }
     },
     "7c3e9534128f44c4a794bb635a2e7932": {
      "model_module": "@jupyter-widgets/controls",
      "model_module_version": "1.5.0",
      "model_name": "HTMLModel",
      "state": {
       "layout": "IPY_MODEL_c6b2e627ab2b4e20a4174cf4f2ac4884",
       "style": "IPY_MODEL_780746e3513247e6b77aefa05d5f0907",
       "value": "<p>100 dollars</p>"
      }
     },
     "7c71d496dc4e4995aae352deb6893123": {
      "model_module": "@jupyter-widgets/controls",
      "model_module_version": "1.5.0",
      "model_name": "ButtonModel",
      "state": {
       "disabled": true,
       "icon": "arrow-left",
       "layout": "IPY_MODEL_0ad0724302b84e13bab36d254fea8c86",
       "style": "IPY_MODEL_b52a22cae6fc4ad795ab76b7cdf91336"
      }
     },
     "7ce79f6928814626a660f2d65f1451a5": {
      "model_module": "@jupyter-widgets/base",
      "model_module_version": "1.2.0",
      "model_name": "LayoutModel",
      "state": {
       "justify_content": "flex-start"
      }
     },
     "7ced47b73c5640fc9e48dd8bb8b8e00c": {
      "model_module": "@jupyter-widgets/controls",
      "model_module_version": "1.5.0",
      "model_name": "DescriptionStyleModel",
      "state": {
       "description_width": ""
      }
     },
     "7d395e303c6a4fc59533814d3c45731b": {
      "model_module": "@jupyter-widgets/controls",
      "model_module_version": "1.5.0",
      "model_name": "TextareaModel",
      "state": {
       "layout": "IPY_MODEL_629e5390da984f6bb40e54972bd0a29c",
       "placeholder": "Add LUIS utterances to add to the training set.",
       "style": "IPY_MODEL_18fd780f1ee14f6da5c603070b2d6282",
       "value": "I want to go to Paris from London tomorrow and I will stay 3 days. I have 120 dollars."
      }
     },
     "7e351b515c9a4938aa8f5914a4975308": {
      "model_module": "@jupyter-widgets/controls",
      "model_module_version": "1.5.0",
      "model_name": "HBoxModel",
      "state": {
       "children": [
        "IPY_MODEL_e2819bf033b046a28fa6187e84969a22"
       ],
       "layout": "IPY_MODEL_ac0aafe3c4c94cd3a58adf76a056db7a"
      }
     },
     "7e5fcf89df394758babc146bbeea8f0b": {
      "model_module": "@jupyter-widgets/base",
      "model_module_version": "1.2.0",
      "model_name": "LayoutModel",
      "state": {}
     },
     "7eb269976fb0453cbcfe4a83ea4162bc": {
      "model_module": "@jupyter-widgets/base",
      "model_module_version": "1.2.0",
      "model_name": "LayoutModel",
      "state": {}
     },
     "7f18ef401ecf457cbd2df4146fedd835": {
      "model_module": "@jupyter-widgets/controls",
      "model_module_version": "1.5.0",
      "model_name": "HBoxModel",
      "state": {
       "children": [
        "IPY_MODEL_21b6726aec8849868314c0383313caef",
        "IPY_MODEL_fda248300cd3452db38797e69b4c09e0"
       ],
       "layout": "IPY_MODEL_31bbd9f857824d89a3e10308ca9202dd"
      }
     },
     "7f3f03e059e2437f99d1b111d79b1d95": {
      "model_module": "@jupyter-widgets/base",
      "model_module_version": "1.2.0",
      "model_name": "LayoutModel",
      "state": {
       "height": "95px",
       "width": "95%"
      }
     },
     "7f5a6da95c0247d29e78f93e2502cc78": {
      "model_module": "@jupyter-widgets/controls",
      "model_module_version": "1.5.0",
      "model_name": "HBoxModel",
      "state": {
       "children": [
        "IPY_MODEL_615cdae07b914ea2b4b7abc790a50209"
       ],
       "layout": "IPY_MODEL_e22485f110b74bb5a86e067345035a03"
      }
     },
     "7f7655255b4e42dd8fac401f2276e203": {
      "model_module": "@jupyter-widgets/controls",
      "model_module_version": "1.5.0",
      "model_name": "HBoxModel",
      "state": {
       "children": [
        "IPY_MODEL_fda95da4584d46b18cbb4f779972772d"
       ],
       "layout": "IPY_MODEL_8be2ec1433794acba5a35e995032091a"
      }
     },
     "7fdd41d62be14f28abb53a72250e8790": {
      "model_module": "@jupyter-widgets/controls",
      "model_module_version": "1.5.0",
      "model_name": "DescriptionStyleModel",
      "state": {
       "description_width": ""
      }
     },
     "80c6b073303d4a368d35eec13a8f92f8": {
      "model_module": "@jupyter-widgets/base",
      "model_module_version": "1.2.0",
      "model_name": "LayoutModel",
      "state": {
       "height": "95px",
       "width": "95%"
      }
     },
     "80dac09dca644e8388d7d1503f239fb1": {
      "model_module": "@jupyter-widgets/controls",
      "model_module_version": "1.5.0",
      "model_name": "ButtonStyleModel",
      "state": {}
     },
     "8131828dacff47e191c4e9530d32fd24": {
      "model_module": "@jupyter-widgets/base",
      "model_module_version": "1.2.0",
      "model_name": "LayoutModel",
      "state": {
       "border": "1px solid black",
       "display": "block",
       "height": "300px",
       "overflow_y": "auto",
       "width": "60%"
      }
     },
     "815bfcde3bb24b91aa2e666d7d3dd753": {
      "model_module": "@jupyter-widgets/base",
      "model_module_version": "1.2.0",
      "model_name": "LayoutModel",
      "state": {
       "border": "1px solid black",
       "margin": "10px 5px 10px 5px",
       "max_width": "70%",
       "padding": "5px"
      }
     },
     "81c7bf90240840769f3a23491265f2ee": {
      "model_module": "@jupyter-widgets/controls",
      "model_module_version": "1.5.0",
      "model_name": "DescriptionStyleModel",
      "state": {
       "description_width": ""
      }
     },
     "81dd037bf76b450daee2449f75cb16fc": {
      "model_module": "@jupyter-widgets/controls",
      "model_module_version": "1.5.0",
      "model_name": "DescriptionStyleModel",
      "state": {
       "description_width": ""
      }
     },
     "826aaef6662b418aa002e8fe9b052169": {
      "model_module": "@jupyter-widgets/base",
      "model_module_version": "1.2.0",
      "model_name": "LayoutModel",
      "state": {
       "height": "95px",
       "width": "95%"
      }
     },
     "827b79662484452aa69da63a4c37b38b": {
      "model_module": "@jupyter-widgets/controls",
      "model_module_version": "1.5.0",
      "model_name": "DescriptionStyleModel",
      "state": {
       "description_width": ""
      }
     },
     "8347712c75b744618cf22ccc4766c317": {
      "model_module": "@jupyter-widgets/controls",
      "model_module_version": "1.5.0",
      "model_name": "DescriptionStyleModel",
      "state": {
       "description_width": ""
      }
     },
     "838fdcddbbbd4805a1223472afec3e5e": {
      "model_module": "@jupyter-widgets/base",
      "model_module_version": "1.2.0",
      "model_name": "LayoutModel",
      "state": {}
     },
     "8456cb9c339a49bc8bcc49d23c747179": {
      "model_module": "@jupyter-widgets/base",
      "model_module_version": "1.2.0",
      "model_name": "LayoutModel",
      "state": {
       "border": "1px solid black",
       "margin": "10px 5px 10px 5px",
       "max_width": "70%",
       "padding": "5px"
      }
     },
     "84a787249bcf410096fe49fc9752d588": {
      "model_module": "@jupyter-widgets/base",
      "model_module_version": "1.2.0",
      "model_name": "LayoutModel",
      "state": {}
     },
     "8530915ff7024fd9bfb1a53dfdab11c8": {
      "model_module": "@jupyter-widgets/controls",
      "model_module_version": "1.5.0",
      "model_name": "DescriptionStyleModel",
      "state": {
       "description_width": ""
      }
     },
     "8669b72ad83b44e9be9784671b6a5cd9": {
      "model_module": "@jupyter-widgets/controls",
      "model_module_version": "1.5.0",
      "model_name": "DescriptionStyleModel",
      "state": {
       "description_width": ""
      }
     },
     "86aff0bae8ab49fe98ec65d6419177b2": {
      "model_module": "@jupyter-widgets/controls",
      "model_module_version": "1.5.0",
      "model_name": "ButtonModel",
      "state": {
       "disabled": true,
       "icon": "arrow-left",
       "layout": "IPY_MODEL_4ddd8acc35ee44599f885fee8882caee",
       "style": "IPY_MODEL_650d3213902849e8801dc44e0109115d"
      }
     },
     "8737577b71f447ecaa4c732da4363fbe": {
      "model_module": "@jupyter-widgets/controls",
      "model_module_version": "1.5.0",
      "model_name": "HBoxModel",
      "state": {
       "children": [
        "IPY_MODEL_e8160e34c6854cd58a8d6ca59d4c8483"
       ],
       "layout": "IPY_MODEL_5258b5eaa87549a28c5994901691d0c8"
      }
     },
     "87790441194e401aae3706c49643e583": {
      "model_module": "@jupyter-widgets/controls",
      "model_module_version": "1.5.0",
      "model_name": "HTMLModel",
      "state": {
       "layout": "IPY_MODEL_7968875a2c6f48b79ad9a3bf254420f5",
       "style": "IPY_MODEL_cc075f9bc1b94c0fa6b2b2e438b0d955",
       "value": "<p>I want to go to Paris from London tomorrow and I will stay 3 days. I have 120 dollars</p>"
      }
     },
     "87ada32eed004c11841f5371828f6203": {
      "model_module": "@jupyter-widgets/controls",
      "model_module_version": "1.5.0",
      "model_name": "HTMLModel",
      "state": {
       "layout": "IPY_MODEL_715d4305eea444c4bd08a7a83d3a223a",
       "style": "IPY_MODEL_3e3341bd439f464b97f6c51bbcccebd8",
       "value": "<p>I want to go to Paris from London tomorrow and I will stay 3 days. I have 120 dollars</p>"
      }
     },
     "882b8a002a6f405e884b7dec1066b5d6": {
      "model_module": "@jupyter-widgets/controls",
      "model_module_version": "1.5.0",
      "model_name": "HBoxModel",
      "state": {
       "children": [
        "IPY_MODEL_095a63ea68e44b598a32e513c502bd93"
       ],
       "layout": "IPY_MODEL_8d44de06410742e8b03885e630b6f46b"
      }
     },
     "891591fed39b45e488dfae9fba2f084c": {
      "model_module": "@jupyter-widgets/base",
      "model_module_version": "1.2.0",
      "model_name": "LayoutModel",
      "state": {}
     },
     "8928ccb4061d476786879b0be321b328": {
      "model_module": "@jupyter-widgets/base",
      "model_module_version": "1.2.0",
      "model_name": "LayoutModel",
      "state": {
       "justify_content": "flex-start"
      }
     },
     "892c533663a7492b920916f2470eb64c": {
      "model_module": "@jupyter-widgets/controls",
      "model_module_version": "1.5.0",
      "model_name": "HBoxModel",
      "state": {
       "children": [
        "IPY_MODEL_d500fa71eb5547bfbfdfa3931d4dc1d8"
       ],
       "layout": "IPY_MODEL_c353841ee4ca45c9ab3991a7d34316e9"
      }
     },
     "89aeb398a2b846389e1295d3cdaf9852": {
      "model_module": "@jupyter-widgets/controls",
      "model_module_version": "1.5.0",
      "model_name": "DescriptionStyleModel",
      "state": {
       "description_width": ""
      }
     },
     "8a295dc0866b442891d30f7ae2ad72e6": {
      "model_module": "@jupyter-widgets/controls",
      "model_module_version": "1.5.0",
      "model_name": "HBoxModel",
      "state": {
       "children": [
        "IPY_MODEL_03315071c55049e1b3be1481ba73ece5"
       ],
       "layout": "IPY_MODEL_d6f50f766fb74d8f93e5178f781d0cb9"
      }
     },
     "8b4f0ce8dc4e427b98428edae7b25a9b": {
      "model_module": "@jupyter-widgets/base",
      "model_module_version": "1.2.0",
      "model_name": "LayoutModel",
      "state": {
       "justify_content": "flex-start"
      }
     },
     "8ba187f6b96541738790f545be4e3cd0": {
      "model_module": "@jupyter-widgets/base",
      "model_module_version": "1.2.0",
      "model_name": "LayoutModel",
      "state": {
       "border": "1px solid black",
       "margin": "10px 5px 10px 5px",
       "max_width": "70%",
       "padding": "5px"
      }
     },
     "8bb28907a7f342379b8b3cac864ec6f3": {
      "model_module": "@jupyter-widgets/controls",
      "model_module_version": "1.5.0",
      "model_name": "DescriptionStyleModel",
      "state": {
       "description_width": ""
      }
     },
     "8bd259958a5748b29885549ded5c2d48": {
      "model_module": "@jupyter-widgets/controls",
      "model_module_version": "1.5.0",
      "model_name": "DescriptionStyleModel",
      "state": {
       "description_width": ""
      }
     },
     "8be13e8d18834fa490387c5dc24c848a": {
      "model_module": "@jupyter-widgets/controls",
      "model_module_version": "1.5.0",
      "model_name": "HBoxModel",
      "state": {
       "children": [
        "IPY_MODEL_cca3798a1bd04bdab21bfb2d3a847e67"
       ],
       "layout": "IPY_MODEL_4afac94f0e0046a5b78d1ed364742f7f"
      }
     },
     "8be2ec1433794acba5a35e995032091a": {
      "model_module": "@jupyter-widgets/base",
      "model_module_version": "1.2.0",
      "model_name": "LayoutModel",
      "state": {
       "justify_content": "flex-end"
      }
     },
     "8bfa0141545c447ebe8a8799a643b603": {
      "model_module": "@jupyter-widgets/base",
      "model_module_version": "1.2.0",
      "model_name": "LayoutModel",
      "state": {
       "justify_content": "flex-start"
      }
     },
     "8cc5192ef02f4fdaacf5a24eb543a409": {
      "model_module": "@jupyter-widgets/controls",
      "model_module_version": "1.5.0",
      "model_name": "LabelModel",
      "state": {
       "layout": "IPY_MODEL_ac5484f7be4b4ca08beee0a10e26a515",
       "style": "IPY_MODEL_827b79662484452aa69da63a4c37b38b",
       "value": "LUIS utterances"
      }
     },
     "8d44de06410742e8b03885e630b6f46b": {
      "model_module": "@jupyter-widgets/base",
      "model_module_version": "1.2.0",
      "model_name": "LayoutModel",
      "state": {
       "justify_content": "flex-end"
      }
     },
     "8d4651192e824a3586898edc99c49ab9": {
      "model_module": "@jupyter-widgets/base",
      "model_module_version": "1.2.0",
      "model_name": "LayoutModel",
      "state": {
       "border": "1px solid black",
       "margin": "10px 5px 10px 5px",
       "max_width": "70%",
       "padding": "5px"
      }
     },
     "8d8a9fd4031547849b7e4ccf5f3e7090": {
      "model_module": "@jupyter-widgets/controls",
      "model_module_version": "1.5.0",
      "model_name": "HBoxModel",
      "state": {
       "children": [
        "IPY_MODEL_10a6ec70acd94795968c78ca21d2c76c"
       ],
       "layout": "IPY_MODEL_97ce1b82ed4d4c7382414ce9742484c3"
      }
     },
     "8de376ee10f44d2283590e6af8d4b78a": {
      "model_module": "@jupyter-widgets/controls",
      "model_module_version": "1.5.0",
      "model_name": "HTMLModel",
      "state": {
       "layout": "IPY_MODEL_b5ee486238a84d22ae56d5acc029c9a5",
       "style": "IPY_MODEL_dab82b93732a4297a03616ad6e4ec6a3",
       "value": "<p>What else can I do for you?</p>"
      }
     },
     "8e14544888854287b21e94a0ca965c44": {
      "model_module": "@jupyter-widgets/base",
      "model_module_version": "1.2.0",
      "model_name": "LayoutModel",
      "state": {
       "justify_content": "flex-end"
      }
     },
     "8e318212b45e4f74b7a12d79df0e3322": {
      "model_module": "@jupyter-widgets/controls",
      "model_module_version": "1.5.0",
      "model_name": "LabelModel",
      "state": {
       "layout": "IPY_MODEL_f8ca4ed01e71427f95031ca9b2a16453",
       "style": "IPY_MODEL_f7f8648cb9b940e6864043eed2dba9b9",
       "value": "LUIS utterances"
      }
     },
     "8edd92697fa54720a2ee14365d6998bf": {
      "model_module": "@jupyter-widgets/base",
      "model_module_version": "1.2.0",
      "model_name": "LayoutModel",
      "state": {
       "justify_content": "flex-end"
      }
     },
     "8f060f8bd52b4d0fac2165780e1e27c1": {
      "model_module": "@jupyter-widgets/controls",
      "model_module_version": "1.5.0",
      "model_name": "HTMLModel",
      "state": {
       "layout": "IPY_MODEL_dbbd65ca503c4f4d910569987d9bec03",
       "style": "IPY_MODEL_5cd559db733c49b7834d55cf6b59b963",
       "value": "<p>I want to go to Paris from London tomorrow and I will stay 3 days. I have 120 dollars</p>"
      }
     },
     "8f9104d38edd447690e88bc033f4464d": {
      "model_module": "@jupyter-widgets/controls",
      "model_module_version": "1.5.0",
      "model_name": "DropdownModel",
      "state": {
       "_options_labels": [
        "unknown",
        "luis",
        "chatbot"
       ],
       "description": "Error type:",
       "index": null,
       "layout": "IPY_MODEL_1afc1a48ce144c9f9da8f12a6364d72f",
       "style": "IPY_MODEL_81c7bf90240840769f3a23491265f2ee"
      }
     },
     "8ffa90e9ace4426ba3e59268fdcac10f": {
      "model_module": "@jupyter-widgets/controls",
      "model_module_version": "1.5.0",
      "model_name": "HBoxModel",
      "state": {
       "children": [
        "IPY_MODEL_e7f2a54655614d4d84092cfeff092b35"
       ],
       "layout": "IPY_MODEL_8bfa0141545c447ebe8a8799a643b603"
      }
     },
     "90daf2448e7641d4834ee97eaa2ecf13": {
      "model_module": "@jupyter-widgets/controls",
      "model_module_version": "1.5.0",
      "model_name": "HTMLModel",
      "state": {
       "layout": "IPY_MODEL_d23d61d9199a48babc9800ddfba32f7d",
       "style": "IPY_MODEL_61d4a75078464b31be07dcefffb4045c",
       "value": "<p>What else can I do for you?</p>"
      }
     },
     "914bd7b0042a49f592a727cc810b386c": {
      "model_module": "@jupyter-widgets/base",
      "model_module_version": "1.2.0",
      "model_name": "LayoutModel",
      "state": {
       "border": "1px solid black",
       "margin": "10px 5px 10px 5px",
       "max_width": "70%",
       "padding": "5px"
      }
     },
     "917a0a7104364e168077594f0396a79e": {
      "model_module": "@jupyter-widgets/controls",
      "model_module_version": "1.5.0",
      "model_name": "HBoxModel",
      "state": {
       "children": [
        "IPY_MODEL_654a835a293d46789c1bedefc1857f43"
       ],
       "layout": "IPY_MODEL_0984511c02f147208bae3cc291c621fd"
      }
     },
     "92b632f91c934c36a8823754f0921fd5": {
      "model_module": "@jupyter-widgets/controls",
      "model_module_version": "1.5.0",
      "model_name": "DescriptionStyleModel",
      "state": {
       "description_width": ""
      }
     },
     "92e2fcf1519742eba5c0024b810fbe96": {
      "model_module": "@jupyter-widgets/base",
      "model_module_version": "1.2.0",
      "model_name": "LayoutModel",
      "state": {
       "justify_content": "flex-end"
      }
     },
     "92fee6dfb7bd4eaa85c75d6d0e73fa50": {
      "model_module": "@jupyter-widgets/controls",
      "model_module_version": "1.5.0",
      "model_name": "HBoxModel",
      "state": {
       "children": [
        "IPY_MODEL_cd2a5fa1989a44fb892fbe294752a16a"
       ],
       "layout": "IPY_MODEL_657ac08b5141463b9f50e0d20b75d7a3"
      }
     },
     "93171a3f1313456b81e7f26b43d04c0d": {
      "model_module": "@jupyter-widgets/controls",
      "model_module_version": "1.5.0",
      "model_name": "DescriptionStyleModel",
      "state": {
       "description_width": ""
      }
     },
     "93dbcae1ccc94cb9b1652431a9799485": {
      "model_module": "@jupyter-widgets/controls",
      "model_module_version": "1.5.0",
      "model_name": "DescriptionStyleModel",
      "state": {
       "description_width": ""
      }
     },
     "94801668883d4b4096b25ccf963ce317": {
      "model_module": "@jupyter-widgets/controls",
      "model_module_version": "1.5.0",
      "model_name": "DescriptionStyleModel",
      "state": {
       "description_width": ""
      }
     },
     "94e6109de4614ddc90325ab5b8a42df7": {
      "model_module": "@jupyter-widgets/controls",
      "model_module_version": "1.5.0",
      "model_name": "TextareaModel",
      "state": {
       "layout": "IPY_MODEL_79ffe042716e4227bc1c965df7960adc",
       "placeholder": "Add LUIS utterances to add to the training set.",
       "style": "IPY_MODEL_37863191bdee4f7fbf537d4b12346c14",
       "value": "I want to go to Paris from London tomorrow and I will stay 3 days. I have 120 dollars"
      }
     },
     "954311f18d2e473c95fd5bd151c55d30": {
      "model_module": "@jupyter-widgets/base",
      "model_module_version": "1.2.0",
      "model_name": "LayoutModel",
      "state": {}
     },
     "9564d03cafc54845a41614f200f82675": {
      "model_module": "@jupyter-widgets/base",
      "model_module_version": "1.2.0",
      "model_name": "LayoutModel",
      "state": {
       "border": "1px solid black",
       "margin": "10px 5px 10px 5px",
       "max_width": "70%",
       "padding": "5px"
      }
     },
     "963862c022704c29ab24e79d07699dcc": {
      "model_module": "@jupyter-widgets/controls",
      "model_module_version": "1.5.0",
      "model_name": "HTMLModel",
      "state": {
       "layout": "IPY_MODEL_768c83d7b69a42fb918858450160d0e6",
       "style": "IPY_MODEL_cbabef8bdb44403e812b9e13e8ff0c10",
       "value": "<p>Non</p>"
      }
     },
     "965fcf36e11142aabfcea70e143f063c": {
      "model_module": "@jupyter-widgets/controls",
      "model_module_version": "1.5.0",
      "model_name": "HBoxModel",
      "state": {
       "children": [
        "IPY_MODEL_e813f2f797c649d8b4d665ddd8644032"
       ],
       "layout": "IPY_MODEL_1bde627ffc5c4e618c5974c75361e3f1"
      }
     },
     "96696a02696b45f78d0752bd493278d0": {
      "model_module": "@jupyter-widgets/base",
      "model_module_version": "1.2.0",
      "model_name": "LayoutModel",
      "state": {
       "border": "1px solid black",
       "margin": "10px 5px 10px 5px",
       "max_width": "70%",
       "padding": "5px"
      }
     },
     "967b756c7657403f866fba416d29d07b": {
      "model_module": "@jupyter-widgets/base",
      "model_module_version": "1.2.0",
      "model_name": "LayoutModel",
      "state": {
       "justify_content": "flex-start"
      }
     },
     "96c8b0654cfa4dbc8bc8f4ef793b878b": {
      "model_module": "@jupyter-widgets/controls",
      "model_module_version": "1.5.0",
      "model_name": "ButtonStyleModel",
      "state": {}
     },
     "96dbf48680f4401f9f8bfa6950204040": {
      "model_module": "@jupyter-widgets/controls",
      "model_module_version": "1.5.0",
      "model_name": "DescriptionStyleModel",
      "state": {
       "description_width": ""
      }
     },
     "972be6e1828c425797d8939224484d08": {
      "model_module": "@jupyter-widgets/controls",
      "model_module_version": "1.5.0",
      "model_name": "DescriptionStyleModel",
      "state": {
       "description_width": ""
      }
     },
     "972c75d52d184aeb82aeedb7c5750ce7": {
      "model_module": "@jupyter-widgets/base",
      "model_module_version": "1.2.0",
      "model_name": "LayoutModel",
      "state": {}
     },
     "97845857794b4781a3744636f22eb837": {
      "model_module": "@jupyter-widgets/controls",
      "model_module_version": "1.5.0",
      "model_name": "HBoxModel",
      "state": {
       "children": [
        "IPY_MODEL_d4f1cae1d2fa45aa999c0f70b169f1ba"
       ],
       "layout": "IPY_MODEL_37f1decf05ad4558a6eff0393a39dbb6"
      }
     },
     "97bb39d321044ed2b0309b457efc14a5": {
      "model_module": "@jupyter-widgets/controls",
      "model_module_version": "1.5.0",
      "model_name": "HBoxModel",
      "state": {
       "children": [
        "IPY_MODEL_6d62795c2929416988e3484973691420"
       ],
       "layout": "IPY_MODEL_2c909a76c1e340e5933dbfc5b809a24f"
      }
     },
     "97ce1b82ed4d4c7382414ce9742484c3": {
      "model_module": "@jupyter-widgets/base",
      "model_module_version": "1.2.0",
      "model_name": "LayoutModel",
      "state": {
       "justify_content": "flex-start"
      }
     },
     "98ad6d0d64114cb6b26be299584a64ee": {
      "model_module": "@jupyter-widgets/controls",
      "model_module_version": "1.5.0",
      "model_name": "ButtonStyleModel",
      "state": {}
     },
     "98e67d789e204fc18c76a1e2658a830f": {
      "model_module": "@jupyter-widgets/controls",
      "model_module_version": "1.5.0",
      "model_name": "HTMLModel",
      "state": {
       "layout": "IPY_MODEL_26253e2a30934b4bb4a85301dccfedc1",
       "style": "IPY_MODEL_7b5017a82bcf4ee1b7f6258ed5267347",
       "value": "<p>Please confirm the following information:</p>\n<ul>\n<li>\n<p>You want to <strong>book a flight</strong>.</p>\n</li>\n<li>\n<p>From <strong>London</strong> to <strong>Paris</strong>.</p>\n</li>\n<li>\n<p>Between the <strong>2022-01-01</strong> and the <strong>2022-01-04</strong>.</p>\n</li>\n<li>\n<p>With a budget of <strong>120</strong>.</p>\n</li>\n</ul>"
      }
     },
     "99051a76771d49b5ae5558c78432a8af": {
      "model_module": "@jupyter-widgets/controls",
      "model_module_version": "1.5.0",
      "model_name": "HTMLModel",
      "state": {
       "layout": "IPY_MODEL_5129a0a422a8432ebff217f812c304a4",
       "style": "IPY_MODEL_9f826741662f4276bacc30bf2a3e5c21",
       "value": "<p>I want to book a flight from Paris to Berlin from tomorrow and I will stay 5 days. I have only 100 dollars.</p>"
      }
     },
     "9951913551ca471b9fe59bc090ddd5ae": {
      "model_module": "@jupyter-widgets/controls",
      "model_module_version": "1.5.0",
      "model_name": "ButtonModel",
      "state": {
       "icon": "arrow-left",
       "layout": "IPY_MODEL_052e9686477c46338baa6fb3c3de4051",
       "style": "IPY_MODEL_1f11670ac5ad4e05853d080e88283d41"
      }
     },
     "9975c42c52164c50a695427a73cbd0b3": {
      "model_module": "@jupyter-widgets/controls",
      "model_module_version": "1.5.0",
      "model_name": "HBoxModel",
      "state": {
       "children": [
        "IPY_MODEL_7463febacb1c4f219da4a0b222049841"
       ],
       "layout": "IPY_MODEL_8edd92697fa54720a2ee14365d6998bf"
      }
     },
     "99db0050f2494551a793cf5a0b73f881": {
      "model_module": "@jupyter-widgets/base",
      "model_module_version": "1.2.0",
      "model_name": "LayoutModel",
      "state": {
       "border": "1px solid black",
       "margin": "10px 5px 10px 5px",
       "max_width": "70%",
       "padding": "5px"
      }
     },
     "99e9c9a419a842dda4be60deec082bf0": {
      "model_module": "@jupyter-widgets/controls",
      "model_module_version": "1.5.0",
      "model_name": "HTMLModel",
      "state": {
       "layout": "IPY_MODEL_8d4651192e824a3586898edc99c49ab9",
       "style": "IPY_MODEL_e1ccc53165454ef1afceee5d2554b61d",
       "value": "<p>Please confirm the following information:</p>\n<ul>\n<li>\n<p>You want to <strong>book a flight</strong>.</p>\n</li>\n<li>\n<p>From <strong>London</strong> to <strong>Paris</strong>.</p>\n</li>\n<li>\n<p>Between the <strong>2021-12-22</strong> and the <strong>2021-12-25</strong>.</p>\n</li>\n<li>\n<p>With a budget of <strong>120</strong>.</p>\n</li>\n</ul>"
      }
     },
     "9b35820a12084f56b73086232ad34e89": {
      "model_module": "@jupyter-widgets/base",
      "model_module_version": "1.2.0",
      "model_name": "LayoutModel",
      "state": {
       "border": "1px solid black",
       "margin": "10px 5px 10px 5px",
       "max_width": "70%",
       "padding": "5px"
      }
     },
     "9be4d42337f74d958b8e6f1a174ed86f": {
      "model_module": "@jupyter-widgets/base",
      "model_module_version": "1.2.0",
      "model_name": "LayoutModel",
      "state": {
       "justify_content": "flex-end"
      }
     },
     "9bfb8060ca9b41608450ad6d294bc583": {
      "model_module": "@jupyter-widgets/base",
      "model_module_version": "1.2.0",
      "model_name": "LayoutModel",
      "state": {
       "border": "1px solid black",
       "margin": "10px 5px 10px 5px",
       "max_width": "70%",
       "padding": "5px"
      }
     },
     "9c0a6224d63c439da3914558d7a06de1": {
      "model_module": "@jupyter-widgets/controls",
      "model_module_version": "1.5.0",
      "model_name": "DescriptionStyleModel",
      "state": {
       "description_width": ""
      }
     },
     "9d8fc046c785482b9770b2e780f08c83": {
      "model_module": "@jupyter-widgets/controls",
      "model_module_version": "1.5.0",
      "model_name": "DescriptionStyleModel",
      "state": {
       "description_width": ""
      }
     },
     "9dca7e3291d147c4a2483a6e48a4dbbe": {
      "model_module": "@jupyter-widgets/controls",
      "model_module_version": "1.5.0",
      "model_name": "HBoxModel",
      "state": {
       "children": [
        "IPY_MODEL_3f68dce4cd99436cb169601189c3cc4b"
       ],
       "layout": "IPY_MODEL_0404477a29d6497b9d51106b62218268"
      }
     },
     "9deeb96fe36344bdaa6ad5bfb9d3d800": {
      "model_module": "@jupyter-widgets/controls",
      "model_module_version": "1.5.0",
      "model_name": "HBoxModel",
      "state": {
       "children": [
        "IPY_MODEL_d6b7647c0a184294b53e214f9762c048"
       ],
       "layout": "IPY_MODEL_5aaf5253f1324807a02fecfa604998ec"
      }
     },
     "9e01c1d8d9b4414c977cc8f7108c5d46": {
      "model_module": "@jupyter-widgets/controls",
      "model_module_version": "1.5.0",
      "model_name": "ButtonStyleModel",
      "state": {}
     },
     "9ed5389a0af14af5ad2d69d06c7bc045": {
      "model_module": "@jupyter-widgets/controls",
      "model_module_version": "1.5.0",
      "model_name": "DescriptionStyleModel",
      "state": {
       "description_width": ""
      }
     },
     "9ee3e02819fc49c2b002ba5ee210db4a": {
      "model_module": "@jupyter-widgets/controls",
      "model_module_version": "1.5.0",
      "model_name": "HBoxModel",
      "state": {
       "children": [
        "IPY_MODEL_bdfbd40526ad4aa8b59b6ccfed8db876"
       ],
       "layout": "IPY_MODEL_09d8c9bcdbac421091404214c3648b49"
      }
     },
     "9f0cd1dcd080471fb9b34971ff8a6640": {
      "model_module": "@jupyter-widgets/controls",
      "model_module_version": "1.5.0",
      "model_name": "HBoxModel",
      "state": {
       "children": [
        "IPY_MODEL_e1344bda21b5429a9a78b67e09100d86"
       ],
       "layout": "IPY_MODEL_532d99ecf7b640e8a809e2e43d3fe9c1"
      }
     },
     "9f14f16cac2241f48f4472e8b44618c0": {
      "model_module": "@jupyter-widgets/controls",
      "model_module_version": "1.5.0",
      "model_name": "HTMLModel",
      "state": {
       "layout": "IPY_MODEL_8ba187f6b96541738790f545be4e3cd0",
       "style": "IPY_MODEL_feb4a9a08dbc4d519a0565edb0af8522",
       "value": "<p>Please confirm the following information:</p>\n<ul>\n<li>\n<p>You want to <strong>book a flight</strong>.</p>\n</li>\n<li>\n<p>From <strong>London</strong> to <strong>Paris</strong>.</p>\n</li>\n<li>\n<p>Between the <strong>2022-01-01</strong> and the <strong>2022-01-04</strong>.</p>\n</li>\n<li>\n<p>With a budget of <strong>120</strong>.</p>\n</li>\n</ul>"
      }
     },
     "9f826741662f4276bacc30bf2a3e5c21": {
      "model_module": "@jupyter-widgets/controls",
      "model_module_version": "1.5.0",
      "model_name": "DescriptionStyleModel",
      "state": {
       "description_width": ""
      }
     },
     "a15d66e6dc8a43ffa5521f996abbbfc3": {
      "model_module": "@jupyter-widgets/base",
      "model_module_version": "1.2.0",
      "model_name": "LayoutModel",
      "state": {
       "border": "1px solid black",
       "margin": "10px 5px 10px 5px",
       "max_width": "70%",
       "padding": "5px"
      }
     },
     "a1e19a3f5acc44dbb05f2f85e88a8b2b": {
      "model_module": "@jupyter-widgets/controls",
      "model_module_version": "1.5.0",
      "model_name": "HTMLModel",
      "state": {
       "layout": "IPY_MODEL_3908104875cc42d9aa29756903c4da82",
       "style": "IPY_MODEL_3ffc70e91b2249f5b38773d148892903",
       "value": "<p>What else can I do for you?</p>"
      }
     },
     "a2b61ecd8b7d4f5e97d514b7001a556b": {
      "model_module": "@jupyter-widgets/controls",
      "model_module_version": "1.5.0",
      "model_name": "HBoxModel",
      "state": {
       "children": [
        "IPY_MODEL_762ae7867cae4602aa98061e649a5586"
       ],
       "layout": "IPY_MODEL_71f2e1d3952b4957af454fa5e5bbbb6b"
      }
     },
     "a3338cadf6864e1e952f36de7be37ea6": {
      "model_module": "@jupyter-widgets/controls",
      "model_module_version": "1.5.0",
      "model_name": "VBoxModel",
      "state": {
       "children": [
        "IPY_MODEL_772c2d094dd6456e9a76a59e6d18326f",
        "IPY_MODEL_b88d9d5974ff4bf6a9cae9c3b874e5e2",
        "IPY_MODEL_bdab21697e234fb6b85cb09b0bc87c32",
        "IPY_MODEL_d3b8b9a7f5844e1eac1a58613a14d5a6",
        "IPY_MODEL_51527223493f437aa6b3ceb5b4bcc481"
       ],
       "layout": "IPY_MODEL_655bab0f607143e5b4bf3e5e3f3548df"
      }
     },
     "a3523a492a80426f8cca81b5a2c797d0": {
      "model_module": "@jupyter-widgets/controls",
      "model_module_version": "1.5.0",
      "model_name": "DescriptionStyleModel",
      "state": {
       "description_width": ""
      }
     },
     "a374bc0ef20a4564a53a178a74b5203e": {
      "model_module": "@jupyter-widgets/base",
      "model_module_version": "1.2.0",
      "model_name": "LayoutModel",
      "state": {
       "border": "1px solid black",
       "display": "block",
       "height": "300px",
       "overflow_y": "auto",
       "width": "60%"
      }
     },
     "a465a599b2014dd09cb4ecdffedd8e93": {
      "model_module": "@jupyter-widgets/controls",
      "model_module_version": "1.5.0",
      "model_name": "HTMLModel",
      "state": {
       "layout": "IPY_MODEL_96696a02696b45f78d0752bd493278d0",
       "style": "IPY_MODEL_1689a3b81e7242758da4eb491dd42575",
       "value": "<p>What else can I do for you?</p>"
      }
     },
     "a48504c302184703bc16099401584578": {
      "model_module": "@jupyter-widgets/base",
      "model_module_version": "1.2.0",
      "model_name": "LayoutModel",
      "state": {
       "border": "1px solid black",
       "margin": "10px 5px 10px 5px",
       "max_width": "70%",
       "padding": "5px"
      }
     },
     "a5393627f8ae425ab64dd1fc39edfbd1": {
      "model_module": "@jupyter-widgets/controls",
      "model_module_version": "1.5.0",
      "model_name": "DescriptionStyleModel",
      "state": {
       "description_width": ""
      }
     },
     "a5f310e63143423ba6b9d0eda9a396a9": {
      "model_module": "@jupyter-widgets/controls",
      "model_module_version": "1.5.0",
      "model_name": "ButtonStyleModel",
      "state": {}
     },
     "a6183b3da0d44c3997b1eb641fbf96c8": {
      "model_module": "@jupyter-widgets/base",
      "model_module_version": "1.2.0",
      "model_name": "LayoutModel",
      "state": {
       "border": "1px solid black",
       "margin": "10px 5px 10px 5px",
       "max_width": "70%",
       "padding": "5px"
      }
     },
     "a6427fb1b5ce4598ba19f25f5bae6ea6": {
      "model_module": "@jupyter-widgets/controls",
      "model_module_version": "1.5.0",
      "model_name": "DescriptionStyleModel",
      "state": {
       "description_width": ""
      }
     },
     "a6b0bf7c5def4e2080930e82a82fcf8a": {
      "model_module": "@jupyter-widgets/controls",
      "model_module_version": "1.5.0",
      "model_name": "HBoxModel",
      "state": {
       "children": [
        "IPY_MODEL_e554776cfe3c43ca9ae1b5f07f1b2d09"
       ],
       "layout": "IPY_MODEL_4d5b1f45ed0b4c9db2f3a5b4f2601d6a"
      }
     },
     "a6d0d7bfe5094c189cd2d3ff2aa56734": {
      "model_module": "@jupyter-widgets/controls",
      "model_module_version": "1.5.0",
      "model_name": "DescriptionStyleModel",
      "state": {
       "description_width": ""
      }
     },
     "a707d147fea445648b05aac6d3acce50": {
      "model_module": "@jupyter-widgets/base",
      "model_module_version": "1.2.0",
      "model_name": "LayoutModel",
      "state": {
       "border": "1px solid black",
       "margin": "10px 5px 10px 5px",
       "max_width": "70%",
       "padding": "5px"
      }
     },
     "a737fa11b4534ceca4c4193b5ddc256c": {
      "model_module": "@jupyter-widgets/base",
      "model_module_version": "1.2.0",
      "model_name": "LayoutModel",
      "state": {
       "border": "1px solid black",
       "margin": "10px 5px 10px 5px",
       "max_width": "70%",
       "padding": "5px"
      }
     },
     "a7446497158a41f9abfa28a1967ff9b0": {
      "model_module": "@jupyter-widgets/base",
      "model_module_version": "1.2.0",
      "model_name": "LayoutModel",
      "state": {}
     },
     "a80d3df203f240ee9d50f5e38daac3a2": {
      "model_module": "@jupyter-widgets/controls",
      "model_module_version": "1.5.0",
      "model_name": "ButtonStyleModel",
      "state": {}
     },
     "a8a38e0f9da84855828f2d21898ab12e": {
      "model_module": "@jupyter-widgets/base",
      "model_module_version": "1.2.0",
      "model_name": "LayoutModel",
      "state": {
       "border": "1px solid black",
       "display": "block",
       "height": "300px",
       "overflow_y": "auto",
       "width": "60%"
      }
     },
     "a8db1d0561fb4697a70961ce43612939": {
      "model_module": "@jupyter-widgets/controls",
      "model_module_version": "1.5.0",
      "model_name": "DescriptionStyleModel",
      "state": {
       "description_width": ""
      }
     },
     "aa28056fd5f24928967d2e6e49ee8f7b": {
      "model_module": "@jupyter-widgets/controls",
      "model_module_version": "1.5.0",
      "model_name": "HBoxModel",
      "state": {
       "children": [
        "IPY_MODEL_77bf4f2ae5344e90995795f74a49f1a5"
       ],
       "layout": "IPY_MODEL_1cf95af6ad72407094306c7aa06f2e81"
      }
     },
     "ab1bfb4b46834d728261bc04dc2726ad": {
      "model_module": "@jupyter-widgets/controls",
      "model_module_version": "1.5.0",
      "model_name": "HTMLModel",
      "state": {
       "layout": "IPY_MODEL_99db0050f2494551a793cf5a0b73f881",
       "style": "IPY_MODEL_c521879a6ac449cebcb8f16663dfbefc",
       "value": "<p>What else can I do for you?</p>"
      }
     },
     "abe8e1c66d914b29b068a3ab82a29d8a": {
      "model_module": "@jupyter-widgets/controls",
      "model_module_version": "1.5.0",
      "model_name": "HTMLModel",
      "state": {
       "layout": "IPY_MODEL_a737fa11b4534ceca4c4193b5ddc256c",
       "style": "IPY_MODEL_81dd037bf76b450daee2449f75cb16fc",
       "value": "<p>Non</p>"
      }
     },
     "ac0aafe3c4c94cd3a58adf76a056db7a": {
      "model_module": "@jupyter-widgets/base",
      "model_module_version": "1.2.0",
      "model_name": "LayoutModel",
      "state": {
       "justify_content": "flex-start"
      }
     },
     "ac4ebb18340e48ea9adeeace3d4938c5": {
      "model_module": "@jupyter-widgets/controls",
      "model_module_version": "1.5.0",
      "model_name": "DescriptionStyleModel",
      "state": {
       "description_width": ""
      }
     },
     "ac52e9d67b9d4212a8c1d9bc7207e514": {
      "model_module": "@jupyter-widgets/base",
      "model_module_version": "1.2.0",
      "model_name": "LayoutModel",
      "state": {
       "border": "1px solid black",
       "margin": "10px 5px 10px 5px",
       "max_width": "70%",
       "padding": "5px"
      }
     },
     "ac5484f7be4b4ca08beee0a10e26a515": {
      "model_module": "@jupyter-widgets/base",
      "model_module_version": "1.2.0",
      "model_name": "LayoutModel",
      "state": {}
     },
     "adbccaf1bcb14537b1da4ab07ba8648c": {
      "model_module": "@jupyter-widgets/controls",
      "model_module_version": "1.5.0",
      "model_name": "DescriptionStyleModel",
      "state": {
       "description_width": ""
      }
     },
     "adf0406eb27d49bfbb058e13883e6180": {
      "model_module": "@jupyter-widgets/base",
      "model_module_version": "1.2.0",
      "model_name": "LayoutModel",
      "state": {
       "justify_content": "flex-end"
      }
     },
     "ae114c07f302451682ac80322a9c2a4b": {
      "model_module": "@jupyter-widgets/base",
      "model_module_version": "1.2.0",
      "model_name": "LayoutModel",
      "state": {
       "justify_content": "flex-end"
      }
     },
     "afe862d880f04ad584aa540117cb5a2c": {
      "model_module": "@jupyter-widgets/controls",
      "model_module_version": "1.5.0",
      "model_name": "HTMLModel",
      "state": {
       "layout": "IPY_MODEL_e4a3dc89a3fd4844b99237fe0f989427",
       "style": "IPY_MODEL_4886b6358964497d998fb19537346a4b",
       "value": "<p>I want to go to Paris from London tomorrow and I will stay 3 days. I have 120 dollars</p>"
      }
     },
     "b017811aa3be4e4aa5fc495f8d07839a": {
      "model_module": "@jupyter-widgets/base",
      "model_module_version": "1.2.0",
      "model_name": "LayoutModel",
      "state": {
       "border": "1px solid black",
       "margin": "10px 5px 10px 5px",
       "max_width": "70%",
       "padding": "5px"
      }
     },
     "b06dc74d03d84341bb4cfa384c5be974": {
      "model_module": "@jupyter-widgets/controls",
      "model_module_version": "1.5.0",
      "model_name": "TextareaModel",
      "state": {
       "layout": "IPY_MODEL_cd5c7cc46faf46e3adb421fe9f4777e8",
       "placeholder": "Add a comment, bug description or new feature request.",
       "style": "IPY_MODEL_92b632f91c934c36a8823754f0921fd5",
       "value": "sdfsdf"
      }
     },
     "b0f5e29106a2448b96ea374c82681165": {
      "model_module": "@jupyter-widgets/controls",
      "model_module_version": "1.5.0",
      "model_name": "DescriptionStyleModel",
      "state": {
       "description_width": ""
      }
     },
     "b0ffc84c34394325ace8daf25b849b21": {
      "model_module": "@jupyter-widgets/controls",
      "model_module_version": "1.5.0",
      "model_name": "DescriptionStyleModel",
      "state": {
       "description_width": ""
      }
     },
     "b15c468e829541ec93a2d199747aa4a8": {
      "model_module": "@jupyter-widgets/base",
      "model_module_version": "1.2.0",
      "model_name": "LayoutModel",
      "state": {
       "border": "1px solid black",
       "margin": "10px 5px 10px 5px",
       "max_width": "70%",
       "padding": "5px"
      }
     },
     "b1a9fd8d90a54308ae5577af9c2ea2f4": {
      "model_module": "@jupyter-widgets/controls",
      "model_module_version": "1.5.0",
      "model_name": "HBoxModel",
      "state": {
       "children": [
        "IPY_MODEL_40871c95e8d140c187415a7cafa086c9"
       ],
       "layout": "IPY_MODEL_ed602242d32544208da5406653a09660"
      }
     },
     "b1e36c22e6fa45fab4dc0701d8df3324": {
      "model_module": "@jupyter-widgets/base",
      "model_module_version": "1.2.0",
      "model_name": "LayoutModel",
      "state": {
       "height": "95px",
       "width": "95%"
      }
     },
     "b2672e3ce8284af48aa8f3044551c871": {
      "model_module": "@jupyter-widgets/controls",
      "model_module_version": "1.5.0",
      "model_name": "TextareaModel",
      "state": {
       "layout": "IPY_MODEL_3347da9b879b4f2084b2e46306db67dc",
       "placeholder": "Add LUIS utterances to add to the training set.",
       "style": "IPY_MODEL_9c0a6224d63c439da3914558d7a06de1"
      }
     },
     "b2a67c330cf44e0eb37d0ebba6238cd0": {
      "model_module": "@jupyter-widgets/controls",
      "model_module_version": "1.5.0",
      "model_name": "DescriptionStyleModel",
      "state": {
       "description_width": ""
      }
     },
     "b366915067e2484f940a2b311c535379": {
      "model_module": "@jupyter-widgets/base",
      "model_module_version": "1.2.0",
      "model_name": "LayoutModel",
      "state": {
       "border": "1px solid black",
       "margin": "10px 5px 10px 5px",
       "max_width": "70%",
       "padding": "5px"
      }
     },
     "b379b579ed3f44aca423b8311caaa8f1": {
      "model_module": "@jupyter-widgets/base",
      "model_module_version": "1.2.0",
      "model_name": "LayoutModel",
      "state": {
       "border": "1px solid black",
       "margin": "10px 5px 10px 5px",
       "max_width": "70%",
       "padding": "5px"
      }
     },
     "b4bc7f6ac7d04cdd992d2addb137831d": {
      "model_module": "@jupyter-widgets/controls",
      "model_module_version": "1.5.0",
      "model_name": "DescriptionStyleModel",
      "state": {
       "description_width": ""
      }
     },
     "b51afc9d649d49d083f4b09d0950843e": {
      "model_module": "@jupyter-widgets/controls",
      "model_module_version": "1.5.0",
      "model_name": "DescriptionStyleModel",
      "state": {
       "description_width": ""
      }
     },
     "b52a22cae6fc4ad795ab76b7cdf91336": {
      "model_module": "@jupyter-widgets/controls",
      "model_module_version": "1.5.0",
      "model_name": "ButtonStyleModel",
      "state": {}
     },
     "b5ee486238a84d22ae56d5acc029c9a5": {
      "model_module": "@jupyter-widgets/base",
      "model_module_version": "1.2.0",
      "model_name": "LayoutModel",
      "state": {
       "border": "1px solid black",
       "margin": "10px 5px 10px 5px",
       "max_width": "70%",
       "padding": "5px"
      }
     },
     "b68526adf6724bd4aea3f17945984341": {
      "model_module": "@jupyter-widgets/controls",
      "model_module_version": "1.5.0",
      "model_name": "HTMLModel",
      "state": {
       "layout": "IPY_MODEL_c7f894a2d98b45e6847b4ba67d92e54d",
       "style": "IPY_MODEL_2d105e7161a44914850e8eb5f90ffee8",
       "value": "<p>What else can I do for you?</p>"
      }
     },
     "b7581eee99a6402d9231c8785998d69e": {
      "model_module": "@jupyter-widgets/base",
      "model_module_version": "1.2.0",
      "model_name": "LayoutModel",
      "state": {
       "border": "1px solid black",
       "margin": "10px 5px 10px 5px",
       "max_width": "70%",
       "padding": "5px"
      }
     },
     "b7b3cff554de4164adb6bfc91dd64fff": {
      "model_module": "@jupyter-widgets/controls",
      "model_module_version": "1.5.0",
      "model_name": "HTMLModel",
      "state": {
       "layout": "IPY_MODEL_456cded8dfee4c98ad9294f672665073",
       "style": "IPY_MODEL_a5393627f8ae425ab64dd1fc39edfbd1",
       "value": "<p>Non</p>"
      }
     },
     "b83403609d004c1ea7a6b41911c6a626": {
      "model_module": "@jupyter-widgets/controls",
      "model_module_version": "1.5.0",
      "model_name": "DescriptionStyleModel",
      "state": {
       "description_width": ""
      }
     },
     "b88d9d5974ff4bf6a9cae9c3b874e5e2": {
      "model_module": "@jupyter-widgets/controls",
      "model_module_version": "1.5.0",
      "model_name": "TextareaModel",
      "state": {
       "layout": "IPY_MODEL_826aaef6662b418aa002e8fe9b052169",
       "placeholder": "Add a comment, bug description or new feature request.",
       "style": "IPY_MODEL_16805fa6b7954060b2da0e84faf1ed2c"
      }
     },
     "b8b092ebecb946d3870827d5ffc9acb7": {
      "model_module": "@jupyter-widgets/base",
      "model_module_version": "1.2.0",
      "model_name": "LayoutModel",
      "state": {
       "border": "1px solid black",
       "margin": "10px 5px 10px 5px",
       "max_width": "70%",
       "padding": "5px"
      }
     },
     "b9b9eafc7bd9467b9fbf365f3d942cba": {
      "model_module": "@jupyter-widgets/controls",
      "model_module_version": "1.5.0",
      "model_name": "DescriptionStyleModel",
      "state": {
       "description_width": ""
      }
     },
     "b9e42699fb044811bc7deee7c8e18a1e": {
      "model_module": "@jupyter-widgets/base",
      "model_module_version": "1.2.0",
      "model_name": "LayoutModel",
      "state": {
       "justify_content": "flex-end"
      }
     },
     "ba28ae6baec34c0794bde72d4a4cfbc5": {
      "model_module": "@jupyter-widgets/controls",
      "model_module_version": "1.5.0",
      "model_name": "LabelModel",
      "state": {
       "layout": "IPY_MODEL_017f2b3751a64983a21d5f995aaca2d5",
       "style": "IPY_MODEL_726ac8bc545f43e395dbaeb686db118f",
       "value": "Comment"
      }
     },
     "bb1289a599ca445aabac6c518422c69d": {
      "model_module": "@jupyter-widgets/base",
      "model_module_version": "1.2.0",
      "model_name": "LayoutModel",
      "state": {
       "border": "1px solid black",
       "margin": "10px 5px 10px 5px",
       "max_width": "70%",
       "padding": "5px"
      }
     },
     "bb8c6e9786dc42e4b60961c05ed21b92": {
      "model_module": "@jupyter-widgets/controls",
      "model_module_version": "1.5.0",
      "model_name": "HBoxModel",
      "state": {
       "children": [
        "IPY_MODEL_e2bd18baf31e4262b89f9a7d3c6da297"
       ],
       "layout": "IPY_MODEL_8b4f0ce8dc4e427b98428edae7b25a9b"
      }
     },
     "bba69dad931b42648d6f356fc9ab4f8c": {
      "model_module": "@jupyter-widgets/base",
      "model_module_version": "1.2.0",
      "model_name": "LayoutModel",
      "state": {
       "justify_content": "flex-start"
      }
     },
     "bc35416308b844bfb3199c03ef7d9296": {
      "model_module": "@jupyter-widgets/base",
      "model_module_version": "1.2.0",
      "model_name": "LayoutModel",
      "state": {}
     },
     "bd5487b7c03340698cfd241bce815ae5": {
      "model_module": "@jupyter-widgets/base",
      "model_module_version": "1.2.0",
      "model_name": "LayoutModel",
      "state": {
       "border": "1px solid black",
       "margin": "10px 5px 10px 5px",
       "max_width": "70%",
       "padding": "5px"
      }
     },
     "bdab21697e234fb6b85cb09b0bc87c32": {
      "model_module": "@jupyter-widgets/controls",
      "model_module_version": "1.5.0",
      "model_name": "LabelModel",
      "state": {
       "layout": "IPY_MODEL_2c9e9f8e5f754e449d48ffc715004f3e",
       "style": "IPY_MODEL_1c7455619f5648e792dfef6f67e653d2",
       "value": "LUIS utterances"
      }
     },
     "bdfbd40526ad4aa8b59b6ccfed8db876": {
      "model_module": "@jupyter-widgets/controls",
      "model_module_version": "1.5.0",
      "model_name": "HTMLModel",
      "state": {
       "layout": "IPY_MODEL_e8955f0c678d449ab4e3d9cdc1080a0e",
       "style": "IPY_MODEL_2341c139e86a4c5fb01b5524ac497a39",
       "value": "<p>Please confirm the following information:</p>\n<ul>\n<li>\n<p>You want to <strong>book a flight</strong>.</p>\n</li>\n<li>\n<p>From <strong>London</strong> to <strong>Paris</strong>.</p>\n</li>\n<li>\n<p>Between the <strong>2022-01-01</strong> and the <strong>2022-01-04</strong>.</p>\n</li>\n<li>\n<p>With a budget of <strong>120</strong>.</p>\n</li>\n</ul>"
      }
     },
     "bf01be71aa144597a94234fe8df778c9": {
      "model_module": "@jupyter-widgets/controls",
      "model_module_version": "1.5.0",
      "model_name": "ButtonStyleModel",
      "state": {}
     },
     "bf8cb3ecb74a4c4daeccbaffd9c8d1f6": {
      "model_module": "@jupyter-widgets/controls",
      "model_module_version": "1.5.0",
      "model_name": "DescriptionStyleModel",
      "state": {
       "description_width": ""
      }
     },
     "c01bbc5c5e104d838c7f60978d852a76": {
      "model_module": "@jupyter-widgets/controls",
      "model_module_version": "1.5.0",
      "model_name": "DescriptionStyleModel",
      "state": {
       "description_width": ""
      }
     },
     "c0ba0ca325d64501a541f77c6c590ca0": {
      "model_module": "@jupyter-widgets/base",
      "model_module_version": "1.2.0",
      "model_name": "LayoutModel",
      "state": {}
     },
     "c137b959e33c445c8e714a55098153b5": {
      "model_module": "@jupyter-widgets/controls",
      "model_module_version": "1.5.0",
      "model_name": "HTMLModel",
      "state": {
       "layout": "IPY_MODEL_a15d66e6dc8a43ffa5521f996abbbfc3",
       "style": "IPY_MODEL_ac4ebb18340e48ea9adeeace3d4938c5",
       "value": "<p>I want to go to Paris from London tomorrow and I will stay 3 days. I have 120 dollars</p>"
      }
     },
     "c159a48b3f184730bd5016dc2b24973d": {
      "model_module": "@jupyter-widgets/controls",
      "model_module_version": "1.5.0",
      "model_name": "HBoxModel",
      "state": {
       "children": [
        "IPY_MODEL_38429a19b2d3490e85d9739a914eebc4",
        "IPY_MODEL_7139dba38da3484fa9ecd8df86733607"
       ],
       "layout": "IPY_MODEL_84a787249bcf410096fe49fc9752d588"
      }
     },
     "c1bb62b26fa74218992e069232748c5e": {
      "model_module": "@jupyter-widgets/controls",
      "model_module_version": "1.5.0",
      "model_name": "HTMLModel",
      "state": {
       "layout": "IPY_MODEL_060a095ca7274dd9bcd5ab123b7eb1a3",
       "style": "IPY_MODEL_274babde9eaa4d69907276f50293cf5d",
       "value": "<p>I want to go to Paris from London tomorrow and I will stay 3 days. I have 120 dollars</p>"
      }
     },
     "c1bf373290b34b779cc27d52bd907733": {
      "model_module": "@jupyter-widgets/controls",
      "model_module_version": "1.5.0",
      "model_name": "DescriptionStyleModel",
      "state": {
       "description_width": ""
      }
     },
     "c221ddfce828461a8ad89b7ef102251d": {
      "model_module": "@jupyter-widgets/base",
      "model_module_version": "1.2.0",
      "model_name": "LayoutModel",
      "state": {
       "border": "1px solid black",
       "margin": "10px 5px 10px 5px",
       "max_width": "70%",
       "padding": "5px"
      }
     },
     "c23358ff074d44c0939603d44bc02972": {
      "model_module": "@jupyter-widgets/base",
      "model_module_version": "1.2.0",
      "model_name": "LayoutModel",
      "state": {
       "justify_content": "flex-start"
      }
     },
     "c290b7bdea8d4d14bdd57a94fd508937": {
      "model_module": "@jupyter-widgets/base",
      "model_module_version": "1.2.0",
      "model_name": "LayoutModel",
      "state": {
       "border": "1px solid black",
       "margin": "10px 5px 10px 5px",
       "max_width": "70%",
       "padding": "5px"
      }
     },
     "c2d588d38d71467ea977dcefc5d33126": {
      "model_module": "@jupyter-widgets/base",
      "model_module_version": "1.2.0",
      "model_name": "LayoutModel",
      "state": {}
     },
     "c353841ee4ca45c9ab3991a7d34316e9": {
      "model_module": "@jupyter-widgets/base",
      "model_module_version": "1.2.0",
      "model_name": "LayoutModel",
      "state": {
       "justify_content": "flex-end"
      }
     },
     "c4a31855e89a4296ac2c4af5f69aa7a7": {
      "model_module": "@jupyter-widgets/controls",
      "model_module_version": "1.5.0",
      "model_name": "DescriptionStyleModel",
      "state": {
       "description_width": ""
      }
     },
     "c4a690d5d5954973b0d4727aa35ab3fa": {
      "model_module": "@jupyter-widgets/controls",
      "model_module_version": "1.5.0",
      "model_name": "HBoxModel",
      "state": {
       "children": [
        "IPY_MODEL_034a56464c534903821dd77b97466f02",
        "IPY_MODEL_d8837b2bc01044249d06268605a40b1b"
       ],
       "layout": "IPY_MODEL_972c75d52d184aeb82aeedb7c5750ce7"
      }
     },
     "c4c30d6433dc45b0bb237299def1a92a": {
      "model_module": "@jupyter-widgets/controls",
      "model_module_version": "1.5.0",
      "model_name": "DescriptionStyleModel",
      "state": {
       "description_width": ""
      }
     },
     "c51f1bf27d1746a4801d3d549ae635fa": {
      "model_module": "@jupyter-widgets/controls",
      "model_module_version": "1.5.0",
      "model_name": "ButtonStyleModel",
      "state": {}
     },
     "c521879a6ac449cebcb8f16663dfbefc": {
      "model_module": "@jupyter-widgets/controls",
      "model_module_version": "1.5.0",
      "model_name": "DescriptionStyleModel",
      "state": {
       "description_width": ""
      }
     },
     "c57605b45d254c349cf9bb7e04677c39": {
      "model_module": "@jupyter-widgets/base",
      "model_module_version": "1.2.0",
      "model_name": "LayoutModel",
      "state": {
       "justify_content": "flex-start"
      }
     },
     "c5a8575afa564bef83ca80f205a034fd": {
      "model_module": "@jupyter-widgets/base",
      "model_module_version": "1.2.0",
      "model_name": "LayoutModel",
      "state": {
       "justify_content": "flex-end"
      }
     },
     "c63db461dea84c8cb9be52ec03f19df2": {
      "model_module": "@jupyter-widgets/controls",
      "model_module_version": "1.5.0",
      "model_name": "HBoxModel",
      "state": {
       "children": [
        "IPY_MODEL_6b015adb9c1e400390fc91bc1f24d0f4"
       ],
       "layout": "IPY_MODEL_ed4ee48940df479c8bf4c14132a07a5f"
      }
     },
     "c6b2e627ab2b4e20a4174cf4f2ac4884": {
      "model_module": "@jupyter-widgets/base",
      "model_module_version": "1.2.0",
      "model_name": "LayoutModel",
      "state": {
       "border": "1px solid black",
       "margin": "10px 5px 10px 5px",
       "max_width": "70%",
       "padding": "5px"
      }
     },
     "c6b9580fedb445e6b9b67abaee0ca8f4": {
      "model_module": "@jupyter-widgets/controls",
      "model_module_version": "1.5.0",
      "model_name": "HTMLModel",
      "state": {
       "layout": "IPY_MODEL_6cb1179ed0164a59a75b62ff87980586",
       "style": "IPY_MODEL_13004841638e4169ace83efddfb0d46a",
       "value": "<p>What else can I do for you?</p>"
      }
     },
     "c6c6fc67afb44d12b48c15224198f785": {
      "model_module": "@jupyter-widgets/controls",
      "model_module_version": "1.5.0",
      "model_name": "VBoxModel",
      "state": {
       "children": [
        "IPY_MODEL_dc013785dcab42b4a38047c1a0769c29",
        "IPY_MODEL_37823b7e284d4ec381dad540467d4c3c",
        "IPY_MODEL_61fb784d211944b385c5d56d96d5aa4a",
        "IPY_MODEL_631ba42be70e4f20a8a839c4917d6622"
       ],
       "layout": "IPY_MODEL_a8a38e0f9da84855828f2d21898ab12e"
      }
     },
     "c7941c5f60e744308c8caf61a448934d": {
      "model_module": "@jupyter-widgets/base",
      "model_module_version": "1.2.0",
      "model_name": "LayoutModel",
      "state": {}
     },
     "c7f894a2d98b45e6847b4ba67d92e54d": {
      "model_module": "@jupyter-widgets/base",
      "model_module_version": "1.2.0",
      "model_name": "LayoutModel",
      "state": {
       "border": "1px solid black",
       "margin": "10px 5px 10px 5px",
       "max_width": "70%",
       "padding": "5px"
      }
     },
     "c8f6862c1a194e89adaa2ecba4a9e3a8": {
      "model_module": "@jupyter-widgets/base",
      "model_module_version": "1.2.0",
      "model_name": "LayoutModel",
      "state": {
       "justify_content": "flex-start"
      }
     },
     "c952e32fbeeb4c9d862beca4ba825c9c": {
      "model_module": "@jupyter-widgets/base",
      "model_module_version": "1.2.0",
      "model_name": "LayoutModel",
      "state": {
       "border": "1px solid black",
       "margin": "10px 5px 10px 5px",
       "max_width": "70%",
       "padding": "5px"
      }
     },
     "cb636a72366e486da19c3ae4ae3c8115": {
      "model_module": "@jupyter-widgets/controls",
      "model_module_version": "1.5.0",
      "model_name": "HBoxModel",
      "state": {
       "children": [
        "IPY_MODEL_2f496a32ed964c0e92cb61609dc7f36c"
       ],
       "layout": "IPY_MODEL_4f5743ea76934f8ab79fb41b1c4cefb4"
      }
     },
     "cb67af50b5404aa4b172645b9a03054a": {
      "model_module": "@jupyter-widgets/controls",
      "model_module_version": "1.5.0",
      "model_name": "HBoxModel",
      "state": {
       "children": [
        "IPY_MODEL_7c71d496dc4e4995aae352deb6893123",
        "IPY_MODEL_5d7b63e5be964fddb9b33e17fec66bae",
        "IPY_MODEL_62077b0c1fc6467da9d486815dd03f7d"
       ],
       "layout": "IPY_MODEL_77db336243c84e30a1f8b31362e8a1df"
      }
     },
     "cbabef8bdb44403e812b9e13e8ff0c10": {
      "model_module": "@jupyter-widgets/controls",
      "model_module_version": "1.5.0",
      "model_name": "DescriptionStyleModel",
      "state": {
       "description_width": ""
      }
     },
     "cc075f9bc1b94c0fa6b2b2e438b0d955": {
      "model_module": "@jupyter-widgets/controls",
      "model_module_version": "1.5.0",
      "model_name": "DescriptionStyleModel",
      "state": {
       "description_width": ""
      }
     },
     "cc0e2648d49444ed8676f250e96652f3": {
      "model_module": "@jupyter-widgets/controls",
      "model_module_version": "1.5.0",
      "model_name": "HTMLModel",
      "state": {
       "layout": "IPY_MODEL_17f34397e8944822accbf5446f91224d",
       "style": "IPY_MODEL_dc37b9aeb6ef47528fe04fc56cc683ed",
       "value": "<p>What can I help you with today?</p>"
      }
     },
     "cc2bc9c1dac94392bdafb0bf230e714b": {
      "model_module": "@jupyter-widgets/controls",
      "model_module_version": "1.5.0",
      "model_name": "HBoxModel",
      "state": {
       "children": [
        "IPY_MODEL_87790441194e401aae3706c49643e583"
       ],
       "layout": "IPY_MODEL_8928ccb4061d476786879b0be321b328"
      }
     },
     "cc4c3defe3e746db93da94e87cc38c71": {
      "model_module": "@jupyter-widgets/controls",
      "model_module_version": "1.5.0",
      "model_name": "DescriptionStyleModel",
      "state": {
       "description_width": ""
      }
     },
     "cc58e90b757f40639a5cbf8a1a1a7d2d": {
      "model_module": "@jupyter-widgets/controls",
      "model_module_version": "1.5.0",
      "model_name": "HBoxModel",
      "state": {
       "children": [
        "IPY_MODEL_61bf05d5558d4c1bb1b3595e9a362c3f"
       ],
       "layout": "IPY_MODEL_096096b1abc64645b905fd1a127b3d22"
      }
     },
     "cc8ce240a8c04fd68d17ff174aed87d7": {
      "model_module": "@jupyter-widgets/controls",
      "model_module_version": "1.5.0",
      "model_name": "DescriptionStyleModel",
      "state": {
       "description_width": ""
      }
     },
     "cca3798a1bd04bdab21bfb2d3a847e67": {
      "model_module": "@jupyter-widgets/controls",
      "model_module_version": "1.5.0",
      "model_name": "HTMLModel",
      "state": {
       "layout": "IPY_MODEL_27824c31182d4828986b9892c682c720",
       "style": "IPY_MODEL_3587481a53c9405e9a9531effc52cc5f",
       "value": "<p>I want to go to Paris from London tomorrow and I will stay 3 days. I have 120 dollars</p>"
      }
     },
     "cce457f38c714cafab25ed901001222c": {
      "model_module": "@jupyter-widgets/controls",
      "model_module_version": "1.5.0",
      "model_name": "DropdownModel",
      "state": {
       "_options_labels": [
        "unknown",
        "luis",
        "chatbot"
       ],
       "description": "Error type:",
       "index": null,
       "layout": "IPY_MODEL_d3c3da5fe8194209b5ac9d60fc5cab1c",
       "style": "IPY_MODEL_39cda7b4b596441aa1acc048420fd8eb"
      }
     },
     "cd1818a9e27b40e2963e97683961dd1b": {
      "model_module": "@jupyter-widgets/base",
      "model_module_version": "1.2.0",
      "model_name": "LayoutModel",
      "state": {
       "border": "1px solid black",
       "margin": "10px 5px 10px 5px",
       "max_width": "70%",
       "padding": "5px"
      }
     },
     "cd2a5fa1989a44fb892fbe294752a16a": {
      "model_module": "@jupyter-widgets/controls",
      "model_module_version": "1.5.0",
      "model_name": "HTMLModel",
      "state": {
       "layout": "IPY_MODEL_49159f37536f4fbbb55c89df5f531805",
       "style": "IPY_MODEL_3ccc877931814893845d1704094ca316",
       "value": "<p>What can I help you with today?</p>"
      }
     },
     "cd5c7cc46faf46e3adb421fe9f4777e8": {
      "model_module": "@jupyter-widgets/base",
      "model_module_version": "1.2.0",
      "model_name": "LayoutModel",
      "state": {
       "height": "95px",
       "width": "95%"
      }
     },
     "cd804e702b9f4838aa563d223c77bef0": {
      "model_module": "@jupyter-widgets/controls",
      "model_module_version": "1.5.0",
      "model_name": "DescriptionStyleModel",
      "state": {
       "description_width": ""
      }
     },
     "ce5eac5a30a04856a03bd65393989514": {
      "model_module": "@jupyter-widgets/controls",
      "model_module_version": "1.5.0",
      "model_name": "DropdownModel",
      "state": {
       "_options_labels": [
        "unknown",
        "luis",
        "chatbot"
       ],
       "description": "Error type:",
       "index": 1,
       "layout": "IPY_MODEL_432e1229892b42bda929ed185c2ce047",
       "style": "IPY_MODEL_3528697e830c4f6685244950684f1b66"
      }
     },
     "ce83bd2b0efe448ebd4f6ddbc7d83a9b": {
      "model_module": "@jupyter-widgets/controls",
      "model_module_version": "1.5.0",
      "model_name": "HBoxModel",
      "state": {
       "children": [
        "IPY_MODEL_63c1c408d80b4a0ebc54eb7c9e3fa601",
        "IPY_MODEL_60dc675e21cc4820b187418510b82865",
        "IPY_MODEL_efefad1b0a664d63bbef4582d3f84f9c"
       ],
       "layout": "IPY_MODEL_d991cca56ece45bd876b31ad84b7592f"
      }
     },
     "ce94e81afcd94af483e22a82db676f4f": {
      "model_module": "@jupyter-widgets/base",
      "model_module_version": "1.2.0",
      "model_name": "LayoutModel",
      "state": {
       "justify_content": "flex-start"
      }
     },
     "cea3aa5f38004b6f94444a1085fd1be4": {
      "model_module": "@jupyter-widgets/controls",
      "model_module_version": "1.5.0",
      "model_name": "ButtonModel",
      "state": {
       "disabled": true,
       "icon": "arrow-left",
       "layout": "IPY_MODEL_2f8d5f49c9b34149979cbaf442c36eb3",
       "style": "IPY_MODEL_e109345ee8434e7ab7de29559f04f6a2"
      }
     },
     "cec31c373824495db7803ad8a6454046": {
      "model_module": "@jupyter-widgets/controls",
      "model_module_version": "1.5.0",
      "model_name": "TextareaModel",
      "state": {
       "layout": "IPY_MODEL_4b9df7cd3d79480c9dc74be4158bd99e",
       "placeholder": "Add a comment, bug description or new feature request.",
       "style": "IPY_MODEL_93dbcae1ccc94cb9b1652431a9799485",
       "value": "dsfsdf"
      }
     },
     "cec42937cf1f4622931dc80a0e126c04": {
      "model_module": "@jupyter-widgets/base",
      "model_module_version": "1.2.0",
      "model_name": "LayoutModel",
      "state": {
       "justify_content": "flex-end"
      }
     },
     "ced2a3b38243447eaee00ccbf37d5479": {
      "model_module": "@jupyter-widgets/controls",
      "model_module_version": "1.5.0",
      "model_name": "HBoxModel",
      "state": {
       "children": [
        "IPY_MODEL_01f91d3485b44340ae81d26337d76862"
       ],
       "layout": "IPY_MODEL_e0d43bf344a946198ed056a7fe459193"
      }
     },
     "cf2f4ac1c64d4ad3ba19b7f1161952e5": {
      "model_module": "@jupyter-widgets/controls",
      "model_module_version": "1.5.0",
      "model_name": "DescriptionStyleModel",
      "state": {
       "description_width": ""
      }
     },
     "cf327866ca9847daa893250d9357e244": {
      "model_module": "@jupyter-widgets/controls",
      "model_module_version": "1.5.0",
      "model_name": "HBoxModel",
      "state": {
       "children": [
        "IPY_MODEL_c6c6fc67afb44d12b48c15224198f785",
        "IPY_MODEL_a3338cadf6864e1e952f36de7be37ea6"
       ],
       "layout": "IPY_MODEL_2373896d11ea4dbf864f0c2c4ffef0f5"
      }
     },
     "cf771f68be884703a3a14798058bd1ec": {
      "model_module": "@jupyter-widgets/base",
      "model_module_version": "1.2.0",
      "model_name": "LayoutModel",
      "state": {
       "border": "1px solid black",
       "margin": "10px 5px 10px 5px",
       "max_width": "70%",
       "padding": "5px"
      }
     },
     "d00912a218f64fd18aa592cbaef0ddea": {
      "model_module": "@jupyter-widgets/base",
      "model_module_version": "1.2.0",
      "model_name": "LayoutModel",
      "state": {
       "justify_content": "flex-start"
      }
     },
     "d030932564d74a7393a0175c124cd284": {
      "model_module": "@jupyter-widgets/controls",
      "model_module_version": "1.5.0",
      "model_name": "VBoxModel",
      "state": {
       "children": [
        "IPY_MODEL_4b35c48456984144bb7d81f9dd463402",
        "IPY_MODEL_3b3c00d549774f36b7d7c7f4bb602eab",
        "IPY_MODEL_8e318212b45e4f74b7a12d79df0e3322",
        "IPY_MODEL_7d395e303c6a4fc59533814d3c45731b",
        "IPY_MODEL_1ab3e1e7a76b4ab1916f933a747f11a0"
       ],
       "layout": "IPY_MODEL_f31d0c3838f944ca93fe61a8cefce675"
      }
     },
     "d0f7fe9614eb4f53b1b72ba16dc60a3b": {
      "model_module": "@jupyter-widgets/base",
      "model_module_version": "1.2.0",
      "model_name": "LayoutModel",
      "state": {}
     },
     "d181bc06aeba42e084945c62a57dabca": {
      "model_module": "@jupyter-widgets/controls",
      "model_module_version": "1.5.0",
      "model_name": "HBoxModel",
      "state": {
       "children": [
        "IPY_MODEL_c6b9580fedb445e6b9b67abaee0ca8f4"
       ],
       "layout": "IPY_MODEL_06d385de07ba4415a0a61c8f2d8637d5"
      }
     },
     "d1d4f683ff43421b85829e42b5d69b86": {
      "model_module": "@jupyter-widgets/controls",
      "model_module_version": "1.5.0",
      "model_name": "ButtonStyleModel",
      "state": {}
     },
     "d20040176c384bcdae579980baa314f1": {
      "model_module": "@jupyter-widgets/controls",
      "model_module_version": "1.5.0",
      "model_name": "HBoxModel",
      "state": {
       "children": [
        "IPY_MODEL_99051a76771d49b5ae5558c78432a8af"
       ],
       "layout": "IPY_MODEL_7750a1b9817540ba9d8b5516b8bb3021"
      }
     },
     "d23d61d9199a48babc9800ddfba32f7d": {
      "model_module": "@jupyter-widgets/base",
      "model_module_version": "1.2.0",
      "model_name": "LayoutModel",
      "state": {
       "border": "1px solid black",
       "margin": "10px 5px 10px 5px",
       "max_width": "70%",
       "padding": "5px"
      }
     },
     "d275f9bd7d8f4074a36559572fb2ee09": {
      "model_module": "@jupyter-widgets/controls",
      "model_module_version": "1.5.0",
      "model_name": "HBoxModel",
      "state": {
       "children": [
        "IPY_MODEL_7779fbc770ec465db501217e18a3af45",
        "IPY_MODEL_d030932564d74a7393a0175c124cd284"
       ],
       "layout": "IPY_MODEL_7eb269976fb0453cbcfe4a83ea4162bc"
      }
     },
     "d2bd4f0c8214459c90f1a028251d1de8": {
      "model_module": "@jupyter-widgets/controls",
      "model_module_version": "1.5.0",
      "model_name": "VBoxModel",
      "state": {
       "children": [
        "IPY_MODEL_27405ccbf7814daebf3beb011deb1ada",
        "IPY_MODEL_7304721ef9dd45f7ab5c632d24518986",
        "IPY_MODEL_0b5c426f5c3848daa1e849c645d0b2e3",
        "IPY_MODEL_94e6109de4614ddc90325ab5b8a42df7",
        "IPY_MODEL_ce83bd2b0efe448ebd4f6ddbc7d83a9b"
       ],
       "layout": "IPY_MODEL_2be1b3457b864329bfa75306a6f8606e"
      }
     },
     "d30c9b1459904a1498ad28e8a590e321": {
      "model_module": "@jupyter-widgets/base",
      "model_module_version": "1.2.0",
      "model_name": "LayoutModel",
      "state": {
       "justify_content": "flex-end"
      }
     },
     "d3b8b9a7f5844e1eac1a58613a14d5a6": {
      "model_module": "@jupyter-widgets/controls",
      "model_module_version": "1.5.0",
      "model_name": "TextareaModel",
      "state": {
       "layout": "IPY_MODEL_0eded23373e2420dbea902e01b7d9f45",
       "placeholder": "Add LUIS utterances to add to the training set.",
       "style": "IPY_MODEL_12974e92ad2145138b18855e8e6de95c"
      }
     },
     "d3c3da5fe8194209b5ac9d60fc5cab1c": {
      "model_module": "@jupyter-widgets/base",
      "model_module_version": "1.2.0",
      "model_name": "LayoutModel",
      "state": {}
     },
     "d3c7063dc4264ea5922d4a632f0744bb": {
      "model_module": "@jupyter-widgets/controls",
      "model_module_version": "1.5.0",
      "model_name": "ButtonModel",
      "state": {
       "disabled": true,
       "icon": "arrow-left",
       "layout": "IPY_MODEL_d0f7fe9614eb4f53b1b72ba16dc60a3b",
       "style": "IPY_MODEL_c51f1bf27d1746a4801d3d549ae635fa"
      }
     },
     "d4358821a77f4f8e92501d3f44fb7c23": {
      "model_module": "@jupyter-widgets/controls",
      "model_module_version": "1.5.0",
      "model_name": "HTMLModel",
      "state": {
       "layout": "IPY_MODEL_18e3e82da45946359fe789aa7c500d7e",
       "style": "IPY_MODEL_33db3b17a97f45ef9260cebfb5ead301",
       "value": "<p>Non</p>"
      }
     },
     "d4f1cae1d2fa45aa999c0f70b169f1ba": {
      "model_module": "@jupyter-widgets/controls",
      "model_module_version": "1.5.0",
      "model_name": "HTMLModel",
      "state": {
       "layout": "IPY_MODEL_1ac3f0c0f1ab422b8f6f78d69c3ede61",
       "style": "IPY_MODEL_db6322fa6e944d16acbf6c1a993c5c81",
       "value": "<p>I want to go to Paris from London tomorrow and I will stay 3 days. I have 120 dollars</p>"
      }
     },
     "d500fa71eb5547bfbfdfa3931d4dc1d8": {
      "model_module": "@jupyter-widgets/controls",
      "model_module_version": "1.5.0",
      "model_name": "HTMLModel",
      "state": {
       "layout": "IPY_MODEL_5e58eb656f0541319f93e771283ba6ea",
       "style": "IPY_MODEL_8347712c75b744618cf22ccc4766c317",
       "value": "<p>What can I help you with today?</p>"
      }
     },
     "d53add2ecac3401abcc91f4fb0ea50a5": {
      "model_module": "@jupyter-widgets/base",
      "model_module_version": "1.2.0",
      "model_name": "LayoutModel",
      "state": {
       "justify_content": "flex-end"
      }
     },
     "d57c42ecece04b6bb5b5dc66a575c62e": {
      "model_module": "@jupyter-widgets/controls",
      "model_module_version": "1.5.0",
      "model_name": "DescriptionStyleModel",
      "state": {
       "description_width": ""
      }
     },
     "d5e08f7d439a4142b582673aef4875c1": {
      "model_module": "@jupyter-widgets/controls",
      "model_module_version": "1.5.0",
      "model_name": "HTMLModel",
      "state": {
       "layout": "IPY_MODEL_c290b7bdea8d4d14bdd57a94fd508937",
       "style": "IPY_MODEL_58b4713fb512464b969508bb6a8fc927",
       "value": "<p>I want to go to Paris from London tomorrow and I will stay 3 days. I have 120 dollars</p>"
      }
     },
     "d6664cb856d14c889a703ffa504f9231": {
      "model_module": "@jupyter-widgets/controls",
      "model_module_version": "1.5.0",
      "model_name": "HTMLModel",
      "state": {
       "layout": "IPY_MODEL_815bfcde3bb24b91aa2e666d7d3dd753",
       "style": "IPY_MODEL_d57c42ecece04b6bb5b5dc66a575c62e",
       "value": "<p>What can I help you with today?</p>"
      }
     },
     "d66932bd4fce479a88b242ef378bb915": {
      "model_module": "@jupyter-widgets/base",
      "model_module_version": "1.2.0",
      "model_name": "LayoutModel",
      "state": {
       "border": "1px solid black",
       "margin": "10px 5px 10px 5px",
       "max_width": "70%",
       "padding": "5px"
      }
     },
     "d68ad0f1cf364172b8a7c708904727b2": {
      "model_module": "@jupyter-widgets/controls",
      "model_module_version": "1.5.0",
      "model_name": "DescriptionStyleModel",
      "state": {
       "description_width": ""
      }
     },
     "d6b7647c0a184294b53e214f9762c048": {
      "model_module": "@jupyter-widgets/controls",
      "model_module_version": "1.5.0",
      "model_name": "HTMLModel",
      "state": {
       "layout": "IPY_MODEL_cd1818a9e27b40e2963e97683961dd1b",
       "style": "IPY_MODEL_972be6e1828c425797d8939224484d08",
       "value": "<p>Please confirm the following information:</p>\n<ul>\n<li>\n<p>You want to <strong>book a flight</strong>.</p>\n</li>\n<li>\n<p>From <strong>London</strong> to <strong>Paris</strong>.</p>\n</li>\n<li>\n<p>Between the <strong>2021-12-22</strong> and the <strong>2021-12-25</strong>.</p>\n</li>\n<li>\n<p>With a budget of <strong>120</strong>.</p>\n</li>\n</ul>"
      }
     },
     "d6f50f766fb74d8f93e5178f781d0cb9": {
      "model_module": "@jupyter-widgets/base",
      "model_module_version": "1.2.0",
      "model_name": "LayoutModel",
      "state": {
       "justify_content": "flex-end"
      }
     },
     "d767454b10ea432b87ba47e60a4e9683": {
      "model_module": "@jupyter-widgets/base",
      "model_module_version": "1.2.0",
      "model_name": "LayoutModel",
      "state": {
       "border": "1px solid black",
       "margin": "10px 5px 10px 5px",
       "max_width": "70%",
       "padding": "5px"
      }
     },
     "d812bb71778448738e319887585b18f0": {
      "model_module": "@jupyter-widgets/base",
      "model_module_version": "1.2.0",
      "model_name": "LayoutModel",
      "state": {}
     },
     "d8837b2bc01044249d06268605a40b1b": {
      "model_module": "@jupyter-widgets/controls",
      "model_module_version": "1.5.0",
      "model_name": "VBoxModel",
      "state": {
       "children": [
        "IPY_MODEL_1bc478648e434f3ca6b000ccb3685de1",
        "IPY_MODEL_cec31c373824495db7803ad8a6454046",
        "IPY_MODEL_8cc5192ef02f4fdaacf5a24eb543a409",
        "IPY_MODEL_2ace8a6da8eb4b7f8bd75958c408a6de",
        "IPY_MODEL_1c45da6034a949c5951fc560c2fd35bc"
       ],
       "layout": "IPY_MODEL_e1ce34a8f87f43f6b0035bf06977294d"
      }
     },
     "d941b72bb6294791b4c15af4c88a1214": {
      "model_module": "@jupyter-widgets/base",
      "model_module_version": "1.2.0",
      "model_name": "LayoutModel",
      "state": {
       "border": "1px solid black",
       "margin": "10px 5px 10px 5px",
       "max_width": "70%",
       "padding": "5px"
      }
     },
     "d94a5eba71e84d06b9d60d86810cb76a": {
      "model_module": "@jupyter-widgets/base",
      "model_module_version": "1.2.0",
      "model_name": "LayoutModel",
      "state": {
       "justify_content": "flex-start"
      }
     },
     "d991cca56ece45bd876b31ad84b7592f": {
      "model_module": "@jupyter-widgets/base",
      "model_module_version": "1.2.0",
      "model_name": "LayoutModel",
      "state": {
       "width": "95%"
      }
     },
     "d9b104e109ec409094dcbd0f15648274": {
      "model_module": "@jupyter-widgets/base",
      "model_module_version": "1.2.0",
      "model_name": "LayoutModel",
      "state": {
       "border": "1px solid black",
       "margin": "10px 5px 10px 5px",
       "max_width": "70%",
       "padding": "5px"
      }
     },
     "da156dc1e5e54430bff3b321ca0ef0dc": {
      "model_module": "@jupyter-widgets/controls",
      "model_module_version": "1.5.0",
      "model_name": "HBoxModel",
      "state": {
       "children": [
        "IPY_MODEL_b7b3cff554de4164adb6bfc91dd64fff"
       ],
       "layout": "IPY_MODEL_1cb945638d094576a1cf7a865837662f"
      }
     },
     "dab82b93732a4297a03616ad6e4ec6a3": {
      "model_module": "@jupyter-widgets/controls",
      "model_module_version": "1.5.0",
      "model_name": "DescriptionStyleModel",
      "state": {
       "description_width": ""
      }
     },
     "dac4cc4369bf4b0091d5781a03b94d3f": {
      "model_module": "@jupyter-widgets/controls",
      "model_module_version": "1.5.0",
      "model_name": "HTMLModel",
      "state": {
       "layout": "IPY_MODEL_d9b104e109ec409094dcbd0f15648274",
       "style": "IPY_MODEL_a3523a492a80426f8cca81b5a2c797d0",
       "value": "<p>I want to go to Paris from London tomorrow and I will stay 3 days. I have 120 dollars</p>"
      }
     },
     "dadf41ac5d3747d09f47bb5563b598bf": {
      "model_module": "@jupyter-widgets/base",
      "model_module_version": "1.2.0",
      "model_name": "LayoutModel",
      "state": {
       "justify_content": "flex-start"
      }
     },
     "db605aaadc9f46c8aaeb7fff1f8bf520": {
      "model_module": "@jupyter-widgets/controls",
      "model_module_version": "1.5.0",
      "model_name": "HTMLModel",
      "state": {
       "layout": "IPY_MODEL_8456cb9c339a49bc8bcc49d23c747179",
       "style": "IPY_MODEL_89aeb398a2b846389e1295d3cdaf9852",
       "value": "<p>Please confirm the following information:</p>\n<ul>\n<li>\n<p>You want to <strong>book a flight</strong>.</p>\n</li>\n<li>\n<p>From <strong>London</strong> to <strong>Paris</strong>.</p>\n</li>\n<li>\n<p>Between the <strong>2022-01-01</strong> and the <strong>2022-01-04</strong>.</p>\n</li>\n<li>\n<p>With a budget of <strong>120</strong>.</p>\n</li>\n</ul>"
      }
     },
     "db6322fa6e944d16acbf6c1a993c5c81": {
      "model_module": "@jupyter-widgets/controls",
      "model_module_version": "1.5.0",
      "model_name": "DescriptionStyleModel",
      "state": {
       "description_width": ""
      }
     },
     "dbbd65ca503c4f4d910569987d9bec03": {
      "model_module": "@jupyter-widgets/base",
      "model_module_version": "1.2.0",
      "model_name": "LayoutModel",
      "state": {
       "border": "1px solid black",
       "margin": "10px 5px 10px 5px",
       "max_width": "70%",
       "padding": "5px"
      }
     },
     "dbddc60ea51349f48b73a18e39375945": {
      "model_module": "@jupyter-widgets/base",
      "model_module_version": "1.2.0",
      "model_name": "LayoutModel",
      "state": {}
     },
     "dc013785dcab42b4a38047c1a0769c29": {
      "model_module": "@jupyter-widgets/controls",
      "model_module_version": "1.5.0",
      "model_name": "HBoxModel",
      "state": {
       "children": [
        "IPY_MODEL_cc0e2648d49444ed8676f250e96652f3"
       ],
       "layout": "IPY_MODEL_202817b3e65745b985f4a02a754e6559"
      }
     },
     "dc37b9aeb6ef47528fe04fc56cc683ed": {
      "model_module": "@jupyter-widgets/controls",
      "model_module_version": "1.5.0",
      "model_name": "DescriptionStyleModel",
      "state": {
       "description_width": ""
      }
     },
     "dc50557dddf945f8b27a791d25842a44": {
      "model_module": "@jupyter-widgets/controls",
      "model_module_version": "1.5.0",
      "model_name": "DescriptionStyleModel",
      "state": {
       "description_width": ""
      }
     },
     "dcff99dc99f747edbab24a3267c67e0b": {
      "model_module": "@jupyter-widgets/controls",
      "model_module_version": "1.5.0",
      "model_name": "DescriptionStyleModel",
      "state": {
       "description_width": ""
      }
     },
     "dde956abcc6744aeacc312faf528d5f4": {
      "model_module": "@jupyter-widgets/base",
      "model_module_version": "1.2.0",
      "model_name": "LayoutModel",
      "state": {
       "justify_content": "flex-end"
      }
     },
     "dea6868b4d114799a7dacecbbf21ab13": {
      "model_module": "@jupyter-widgets/base",
      "model_module_version": "1.2.0",
      "model_name": "LayoutModel",
      "state": {
       "justify_content": "flex-start"
      }
     },
     "deb69fd746d64df3bdc4f4f0327e435f": {
      "model_module": "@jupyter-widgets/base",
      "model_module_version": "1.2.0",
      "model_name": "LayoutModel",
      "state": {
       "border": "1px solid black",
       "margin": "10px 5px 10px 5px",
       "max_width": "70%",
       "padding": "5px"
      }
     },
     "df88d89763394d55abf9e639a6fb438c": {
      "model_module": "@jupyter-widgets/controls",
      "model_module_version": "1.5.0",
      "model_name": "HBoxModel",
      "state": {
       "children": [
        "IPY_MODEL_68d013189daa4ff1bf6e876f7cdc0bc5"
       ],
       "layout": "IPY_MODEL_2c8761f6afcd4c928a3af2982d78385d"
      }
     },
     "e0d43bf344a946198ed056a7fe459193": {
      "model_module": "@jupyter-widgets/base",
      "model_module_version": "1.2.0",
      "model_name": "LayoutModel",
      "state": {
       "justify_content": "flex-end"
      }
     },
     "e0d82f01eb5948ce9504fc8a512daf94": {
      "model_module": "@jupyter-widgets/base",
      "model_module_version": "1.2.0",
      "model_name": "LayoutModel",
      "state": {}
     },
     "e0e0187ab1244911bc5b5552671622d1": {
      "model_module": "@jupyter-widgets/controls",
      "model_module_version": "1.5.0",
      "model_name": "HBoxModel",
      "state": {
       "children": [
        "IPY_MODEL_f168dd6311c4417e831871196630a9b3"
       ],
       "layout": "IPY_MODEL_adf0406eb27d49bfbb058e13883e6180"
      }
     },
     "e0e7c5b85fc6450aac64f7f5d1f3e86e": {
      "model_module": "@jupyter-widgets/base",
      "model_module_version": "1.2.0",
      "model_name": "LayoutModel",
      "state": {}
     },
     "e109345ee8434e7ab7de29559f04f6a2": {
      "model_module": "@jupyter-widgets/controls",
      "model_module_version": "1.5.0",
      "model_name": "ButtonStyleModel",
      "state": {}
     },
     "e1344bda21b5429a9a78b67e09100d86": {
      "model_module": "@jupyter-widgets/controls",
      "model_module_version": "1.5.0",
      "model_name": "HTMLModel",
      "state": {
       "layout": "IPY_MODEL_a48504c302184703bc16099401584578",
       "style": "IPY_MODEL_21da156e14cc4b8ea5df9243a880a387",
       "value": "<p>What can I help you with today?</p>"
      }
     },
     "e17877f4511c40cb99fef5e116448fe3": {
      "model_module": "@jupyter-widgets/controls",
      "model_module_version": "1.5.0",
      "model_name": "DescriptionStyleModel",
      "state": {
       "description_width": ""
      }
     },
     "e1956b4ba3464a3a849fff733a3fe526": {
      "model_module": "@jupyter-widgets/controls",
      "model_module_version": "1.5.0",
      "model_name": "DescriptionStyleModel",
      "state": {
       "description_width": ""
      }
     },
     "e1ccc53165454ef1afceee5d2554b61d": {
      "model_module": "@jupyter-widgets/controls",
      "model_module_version": "1.5.0",
      "model_name": "DescriptionStyleModel",
      "state": {
       "description_width": ""
      }
     },
     "e1ce34a8f87f43f6b0035bf06977294d": {
      "model_module": "@jupyter-widgets/base",
      "model_module_version": "1.2.0",
      "model_name": "LayoutModel",
      "state": {
       "display": "flex",
       "height": "300px",
       "justify_content": "space-between",
       "width": "40%"
      }
     },
     "e22485f110b74bb5a86e067345035a03": {
      "model_module": "@jupyter-widgets/base",
      "model_module_version": "1.2.0",
      "model_name": "LayoutModel",
      "state": {
       "justify_content": "flex-end"
      }
     },
     "e2819bf033b046a28fa6187e84969a22": {
      "model_module": "@jupyter-widgets/controls",
      "model_module_version": "1.5.0",
      "model_name": "HTMLModel",
      "state": {
       "layout": "IPY_MODEL_509afa9c0c474f39937b8cfc3dfbab3d",
       "style": "IPY_MODEL_d68ad0f1cf364172b8a7c708904727b2",
       "value": "<p>Non</p>"
      }
     },
     "e288e92b352b4c89a3e6f7968698f896": {
      "model_module": "@jupyter-widgets/controls",
      "model_module_version": "1.5.0",
      "model_name": "HTMLModel",
      "state": {
       "layout": "IPY_MODEL_deb69fd746d64df3bdc4f4f0327e435f",
       "style": "IPY_MODEL_dc50557dddf945f8b27a791d25842a44",
       "value": "<p>Please confirm the following information:</p>\n<ul>\n<li>\n<p>You want to <strong>book a flight</strong>.</p>\n</li>\n<li>\n<p>From <strong>London</strong> to <strong>Paris</strong>.</p>\n</li>\n<li>\n<p>Between the <strong>2022-01-01</strong> and the <strong>2022-01-04</strong>.</p>\n</li>\n<li>\n<p>With a budget of <strong>120</strong>.</p>\n</li>\n</ul>"
      }
     },
     "e2bd18baf31e4262b89f9a7d3c6da297": {
      "model_module": "@jupyter-widgets/controls",
      "model_module_version": "1.5.0",
      "model_name": "HTMLModel",
      "state": {
       "layout": "IPY_MODEL_b7581eee99a6402d9231c8785998d69e",
       "style": "IPY_MODEL_4ebbd1c1b18c4b429471897227552166",
       "value": "<p>Non</p>"
      }
     },
     "e2ee79673a0c401ca9510864c7bf94e0": {
      "model_module": "@jupyter-widgets/base",
      "model_module_version": "1.2.0",
      "model_name": "LayoutModel",
      "state": {
       "border": "1px solid black",
       "margin": "10px 5px 10px 5px",
       "max_width": "70%",
       "padding": "5px"
      }
     },
     "e3ce54de7834462084f230a6c6c36bd4": {
      "model_module": "@jupyter-widgets/base",
      "model_module_version": "1.2.0",
      "model_name": "LayoutModel",
      "state": {
       "width": "95%"
      }
     },
     "e4a386eab37c4705a6996fc93189b1ad": {
      "model_module": "@jupyter-widgets/base",
      "model_module_version": "1.2.0",
      "model_name": "LayoutModel",
      "state": {
       "display": "flex",
       "height": "300px",
       "justify_content": "space-between",
       "width": "40%"
      }
     },
     "e4a3dc89a3fd4844b99237fe0f989427": {
      "model_module": "@jupyter-widgets/base",
      "model_module_version": "1.2.0",
      "model_name": "LayoutModel",
      "state": {
       "border": "1px solid black",
       "margin": "10px 5px 10px 5px",
       "max_width": "70%",
       "padding": "5px"
      }
     },
     "e4bd3b80d4d04e859d3903ecdd7fff8a": {
      "model_module": "@jupyter-widgets/base",
      "model_module_version": "1.2.0",
      "model_name": "LayoutModel",
      "state": {
       "justify_content": "flex-end"
      }
     },
     "e4f83d04a5d644f5b40a231c25c2ab94": {
      "model_module": "@jupyter-widgets/controls",
      "model_module_version": "1.5.0",
      "model_name": "HTMLModel",
      "state": {
       "layout": "IPY_MODEL_d767454b10ea432b87ba47e60a4e9683",
       "style": "IPY_MODEL_c01bbc5c5e104d838c7f60978d852a76",
       "value": "<p>Non</p>"
      }
     },
     "e554776cfe3c43ca9ae1b5f07f1b2d09": {
      "model_module": "@jupyter-widgets/controls",
      "model_module_version": "1.5.0",
      "model_name": "HTMLModel",
      "state": {
       "layout": "IPY_MODEL_698d6caa79a14a759f08d48ada5a9dd2",
       "style": "IPY_MODEL_8bb28907a7f342379b8b3cac864ec6f3",
       "value": "<p>I want to go to Paris from London tomorrow and I will stay 3 days. I have 120 dollars</p>"
      }
     },
     "e5c6ecc68e144050aab639b7d06ac412": {
      "model_module": "@jupyter-widgets/controls",
      "model_module_version": "1.5.0",
      "model_name": "DescriptionStyleModel",
      "state": {
       "description_width": ""
      }
     },
     "e6d1e3bb805c43d9af2347cb60dd44d0": {
      "model_module": "@jupyter-widgets/controls",
      "model_module_version": "1.5.0",
      "model_name": "LabelModel",
      "state": {
       "layout": "IPY_MODEL_698e9c14a3524fba85e545d9cd8b40d9",
       "style": "IPY_MODEL_8669b72ad83b44e9be9784671b6a5cd9",
       "value": "LUIS utterances"
      }
     },
     "e74767e951064f1b92c03a286bf58382": {
      "model_module": "@jupyter-widgets/base",
      "model_module_version": "1.2.0",
      "model_name": "LayoutModel",
      "state": {
       "justify_content": "flex-start"
      }
     },
     "e7f2a54655614d4d84092cfeff092b35": {
      "model_module": "@jupyter-widgets/controls",
      "model_module_version": "1.5.0",
      "model_name": "HTMLModel",
      "state": {
       "layout": "IPY_MODEL_9b35820a12084f56b73086232ad34e89",
       "style": "IPY_MODEL_4a0acd2696cf4bf1bff6a21f670fadba",
       "value": "<p>Non</p>"
      }
     },
     "e813f2f797c649d8b4d665ddd8644032": {
      "model_module": "@jupyter-widgets/controls",
      "model_module_version": "1.5.0",
      "model_name": "HTMLModel",
      "state": {
       "layout": "IPY_MODEL_faf9c2f22fa74f16a1a3baf12fe6c99f",
       "style": "IPY_MODEL_789b212748904ee9aca9bad80b470406",
       "value": "<p>Oui</p>"
      }
     },
     "e8160e34c6854cd58a8d6ca59d4c8483": {
      "model_module": "@jupyter-widgets/controls",
      "model_module_version": "1.5.0",
      "model_name": "HTMLModel",
      "state": {
       "layout": "IPY_MODEL_9bfb8060ca9b41608450ad6d294bc583",
       "style": "IPY_MODEL_8530915ff7024fd9bfb1a53dfdab11c8",
       "value": "<p>Non</p>"
      }
     },
     "e87a84ec6f37421ebf63822105078349": {
      "model_module": "@jupyter-widgets/base",
      "model_module_version": "1.2.0",
      "model_name": "LayoutModel",
      "state": {}
     },
     "e8955f0c678d449ab4e3d9cdc1080a0e": {
      "model_module": "@jupyter-widgets/base",
      "model_module_version": "1.2.0",
      "model_name": "LayoutModel",
      "state": {
       "border": "1px solid black",
       "margin": "10px 5px 10px 5px",
       "max_width": "70%",
       "padding": "5px"
      }
     },
     "e92fed91af894df2ba8ad887195b4095": {
      "model_module": "@jupyter-widgets/controls",
      "model_module_version": "1.5.0",
      "model_name": "HTMLModel",
      "state": {
       "layout": "IPY_MODEL_eb899a4ddc064f42b1011a74a7efa1b4",
       "style": "IPY_MODEL_6a02491681d84b379525ebf61232c0d6",
       "value": "<p>Non</p>"
      }
     },
     "e95125f578fd47748ebf8e3eca0feb1e": {
      "model_module": "@jupyter-widgets/controls",
      "model_module_version": "1.5.0",
      "model_name": "DescriptionStyleModel",
      "state": {
       "description_width": ""
      }
     },
     "ea0fc812d04045178c4d9fba18eaf7a4": {
      "model_module": "@jupyter-widgets/controls",
      "model_module_version": "1.5.0",
      "model_name": "DescriptionStyleModel",
      "state": {
       "description_width": ""
      }
     },
     "ea77b6396aa0437ca5026fa76c9b2561": {
      "model_module": "@jupyter-widgets/controls",
      "model_module_version": "1.5.0",
      "model_name": "DescriptionStyleModel",
      "state": {
       "description_width": ""
      }
     },
     "eab54d8f5d764bf19cab823bc69293f7": {
      "model_module": "@jupyter-widgets/controls",
      "model_module_version": "1.5.0",
      "model_name": "HBoxModel",
      "state": {
       "children": [
        "IPY_MODEL_48b333418d794f7c9d4873f382361484"
       ],
       "layout": "IPY_MODEL_42a1a0af66f146289679fa00ee941e9c"
      }
     },
     "eaed724669f4465f93bbda4794ae098f": {
      "model_module": "@jupyter-widgets/base",
      "model_module_version": "1.2.0",
      "model_name": "LayoutModel",
      "state": {
       "border": "1px solid black",
       "margin": "10px 5px 10px 5px",
       "max_width": "70%",
       "padding": "5px"
      }
     },
     "eb7ff19220574e15bee62b5020489be8": {
      "model_module": "@jupyter-widgets/controls",
      "model_module_version": "1.5.0",
      "model_name": "DescriptionStyleModel",
      "state": {
       "description_width": ""
      }
     },
     "eb899a4ddc064f42b1011a74a7efa1b4": {
      "model_module": "@jupyter-widgets/base",
      "model_module_version": "1.2.0",
      "model_name": "LayoutModel",
      "state": {
       "border": "1px solid black",
       "margin": "10px 5px 10px 5px",
       "max_width": "70%",
       "padding": "5px"
      }
     },
     "ec58af095102437692756c87c3914e5f": {
      "model_module": "@jupyter-widgets/base",
      "model_module_version": "1.2.0",
      "model_name": "LayoutModel",
      "state": {
       "height": "95px",
       "width": "95%"
      }
     },
     "ed05ffc8918d4efab786e1506f2f5516": {
      "model_module": "@jupyter-widgets/controls",
      "model_module_version": "1.5.0",
      "model_name": "HTMLModel",
      "state": {
       "layout": "IPY_MODEL_505ced4ee15049cd83504fd9fdc6cf51",
       "style": "IPY_MODEL_5b1c75006ff04e7cac3347b31b4242d8",
       "value": "<p>What can I help you with today?</p>"
      }
     },
     "ed4ee48940df479c8bf4c14132a07a5f": {
      "model_module": "@jupyter-widgets/base",
      "model_module_version": "1.2.0",
      "model_name": "LayoutModel",
      "state": {
       "justify_content": "flex-end"
      }
     },
     "ed602242d32544208da5406653a09660": {
      "model_module": "@jupyter-widgets/base",
      "model_module_version": "1.2.0",
      "model_name": "LayoutModel",
      "state": {
       "justify_content": "flex-start"
      }
     },
     "ed8d79aeefdc40b9ba916a38fc36ffa4": {
      "model_module": "@jupyter-widgets/controls",
      "model_module_version": "1.5.0",
      "model_name": "HTMLModel",
      "state": {
       "layout": "IPY_MODEL_71ea61eccf314f078e9f99923bac0978",
       "style": "IPY_MODEL_adbccaf1bcb14537b1da4ab07ba8648c",
       "value": "<p>What else can I do for you?</p>"
      }
     },
     "ee0ab9d7357d49adad35f3ae1a9f4480": {
      "model_module": "@jupyter-widgets/controls",
      "model_module_version": "1.5.0",
      "model_name": "VBoxModel",
      "state": {
       "children": [
        "IPY_MODEL_2f41c7876e46461a9e9afc27925493af",
        "IPY_MODEL_f2b0b1bd5f444acd9b21384cdce3a4e7",
        "IPY_MODEL_c63db461dea84c8cb9be52ec03f19df2",
        "IPY_MODEL_35deaf58a94c4c6b8c6d188a375d932b"
       ],
       "layout": "IPY_MODEL_a374bc0ef20a4564a53a178a74b5203e"
      }
     },
     "ee374dd0256c4c218d64f7c6cfd4521b": {
      "model_module": "@jupyter-widgets/base",
      "model_module_version": "1.2.0",
      "model_name": "LayoutModel",
      "state": {
       "border": "1px solid black",
       "margin": "10px 5px 10px 5px",
       "max_width": "70%",
       "padding": "5px"
      }
     },
     "ee4f8b1348bf47819840e3f451011b79": {
      "model_module": "@jupyter-widgets/base",
      "model_module_version": "1.2.0",
      "model_name": "LayoutModel",
      "state": {
       "justify_content": "flex-start"
      }
     },
     "ee6e121875b74676bea1e4177ad96245": {
      "model_module": "@jupyter-widgets/controls",
      "model_module_version": "1.5.0",
      "model_name": "HBoxModel",
      "state": {
       "children": [
        "IPY_MODEL_2b678b22734840988331c645874e6dce"
       ],
       "layout": "IPY_MODEL_e74767e951064f1b92c03a286bf58382"
      }
     },
     "eef2b950e4994c6893938dfc7a48d509": {
      "model_module": "@jupyter-widgets/base",
      "model_module_version": "1.2.0",
      "model_name": "LayoutModel",
      "state": {
       "justify_content": "flex-start"
      }
     },
     "ef52c8a1ba424b8d95ab3460fc6a2fac": {
      "model_module": "@jupyter-widgets/base",
      "model_module_version": "1.2.0",
      "model_name": "LayoutModel",
      "state": {}
     },
     "ef54eeaf06b34df6b60a8763250ba40b": {
      "model_module": "@jupyter-widgets/base",
      "model_module_version": "1.2.0",
      "model_name": "LayoutModel",
      "state": {}
     },
     "efa414cf6593467eb69208ff64714f56": {
      "model_module": "@jupyter-widgets/controls",
      "model_module_version": "1.5.0",
      "model_name": "HBoxModel",
      "state": {
       "children": [
        "IPY_MODEL_a465a599b2014dd09cb4ecdffedd8e93"
       ],
       "layout": "IPY_MODEL_1b6590c21bc648708317af278b415e75"
      }
     },
     "efa66a0752b1430ea8ec990599aa9004": {
      "model_module": "@jupyter-widgets/base",
      "model_module_version": "1.2.0",
      "model_name": "LayoutModel",
      "state": {
       "border": "1px solid black",
       "margin": "10px 5px 10px 5px",
       "max_width": "70%",
       "padding": "5px"
      }
     },
     "efefad1b0a664d63bbef4582d3f84f9c": {
      "model_module": "@jupyter-widgets/controls",
      "model_module_version": "1.5.0",
      "model_name": "ButtonModel",
      "state": {
       "icon": "arrow-right",
       "layout": "IPY_MODEL_2e22d14cf7494eea8491be3ccc9e11af",
       "style": "IPY_MODEL_80dac09dca644e8388d7d1503f239fb1"
      }
     },
     "effd04931e9d4c839c7ca6d97bbdbe98": {
      "model_module": "@jupyter-widgets/controls",
      "model_module_version": "1.5.0",
      "model_name": "HBoxModel",
      "state": {
       "children": [
        "IPY_MODEL_db605aaadc9f46c8aaeb7fff1f8bf520"
       ],
       "layout": "IPY_MODEL_120f91586953439ea95005ff2cd812dd"
      }
     },
     "f0b95cdfacd3431b8b4d0168ada8dde4": {
      "model_module": "@jupyter-widgets/controls",
      "model_module_version": "1.5.0",
      "model_name": "DescriptionStyleModel",
      "state": {
       "description_width": ""
      }
     },
     "f142f264abf445f084ca1342c83e1f5e": {
      "model_module": "@jupyter-widgets/controls",
      "model_module_version": "1.5.0",
      "model_name": "LabelModel",
      "state": {
       "layout": "IPY_MODEL_838fdcddbbbd4805a1223472afec3e5e",
       "style": "IPY_MODEL_8bd259958a5748b29885549ded5c2d48",
       "value": "LUIS utterances"
      }
     },
     "f168dd6311c4417e831871196630a9b3": {
      "model_module": "@jupyter-widgets/controls",
      "model_module_version": "1.5.0",
      "model_name": "HTMLModel",
      "state": {
       "layout": "IPY_MODEL_f3f95548dda049ddba18146348561c81",
       "style": "IPY_MODEL_5589ccb0023a4446ae6ccb93c9c69827",
       "value": "<p>What else can I do for you?</p>"
      }
     },
     "f1ff13c6601841e68b3fda2b65408e79": {
      "model_module": "@jupyter-widgets/base",
      "model_module_version": "1.2.0",
      "model_name": "LayoutModel",
      "state": {
       "height": "95px",
       "width": "95%"
      }
     },
     "f203b467ca8a448b8159b911c94c6487": {
      "model_module": "@jupyter-widgets/base",
      "model_module_version": "1.2.0",
      "model_name": "LayoutModel",
      "state": {}
     },
     "f2b0b1bd5f444acd9b21384cdce3a4e7": {
      "model_module": "@jupyter-widgets/controls",
      "model_module_version": "1.5.0",
      "model_name": "HBoxModel",
      "state": {
       "children": [
        "IPY_MODEL_c1bb62b26fa74218992e069232748c5e"
       ],
       "layout": "IPY_MODEL_d00912a218f64fd18aa592cbaef0ddea"
      }
     },
     "f31d0c3838f944ca93fe61a8cefce675": {
      "model_module": "@jupyter-widgets/base",
      "model_module_version": "1.2.0",
      "model_name": "LayoutModel",
      "state": {
       "display": "flex",
       "height": "300px",
       "justify_content": "space-between",
       "width": "40%"
      }
     },
     "f3a93db147704f5696c143483e876a24": {
      "model_module": "@jupyter-widgets/base",
      "model_module_version": "1.2.0",
      "model_name": "LayoutModel",
      "state": {
       "width": "95%"
      }
     },
     "f3f95548dda049ddba18146348561c81": {
      "model_module": "@jupyter-widgets/base",
      "model_module_version": "1.2.0",
      "model_name": "LayoutModel",
      "state": {
       "border": "1px solid black",
       "margin": "10px 5px 10px 5px",
       "max_width": "70%",
       "padding": "5px"
      }
     },
     "f57b0ac1c17d449aac128309de9646cc": {
      "model_module": "@jupyter-widgets/controls",
      "model_module_version": "1.5.0",
      "model_name": "HBoxModel",
      "state": {
       "children": [
        "IPY_MODEL_295bd09c3459401e8d891f43f28e6185"
       ],
       "layout": "IPY_MODEL_5917b3fa47164237ac3eb8ae31f79f00"
      }
     },
     "f58f0fb22c6548ccb0daf3eb4f564cd8": {
      "model_module": "@jupyter-widgets/controls",
      "model_module_version": "1.5.0",
      "model_name": "HTMLModel",
      "state": {
       "layout": "IPY_MODEL_b8b092ebecb946d3870827d5ffc9acb7",
       "style": "IPY_MODEL_5a470528bc144907b1813cd689f38cf3",
       "value": "<p>Non</p>"
      }
     },
     "f5f3fc3a0c2f40fa81a2ec60686bb4a0": {
      "model_module": "@jupyter-widgets/controls",
      "model_module_version": "1.5.0",
      "model_name": "DescriptionStyleModel",
      "state": {
       "description_width": ""
      }
     },
     "f66bf93117fc446292beefbfd39eef0a": {
      "model_module": "@jupyter-widgets/controls",
      "model_module_version": "1.5.0",
      "model_name": "DescriptionStyleModel",
      "state": {
       "description_width": ""
      }
     },
     "f6c71e1ab8c048138cdd6e244ca447b9": {
      "model_module": "@jupyter-widgets/base",
      "model_module_version": "1.2.0",
      "model_name": "LayoutModel",
      "state": {
       "border": "1px solid black",
       "display": "block",
       "height": "300px",
       "overflow_y": "auto",
       "width": "60%"
      }
     },
     "f74809dcb1384e929ef684846765de9a": {
      "model_module": "@jupyter-widgets/controls",
      "model_module_version": "1.5.0",
      "model_name": "HBoxModel",
      "state": {
       "children": [
        "IPY_MODEL_7a6934816c46440daa6e3eafa3b10942"
       ],
       "layout": "IPY_MODEL_7337fbf3a5d54991baecfb486426830e"
      }
     },
     "f79b4cbab4c349a887c3b39c4633cc15": {
      "model_module": "@jupyter-widgets/base",
      "model_module_version": "1.2.0",
      "model_name": "LayoutModel",
      "state": {
       "border": "1px solid black",
       "margin": "10px 5px 10px 5px",
       "max_width": "70%",
       "padding": "5px"
      }
     },
     "f7e2c3caf5194dac8361fb0abac14822": {
      "model_module": "@jupyter-widgets/controls",
      "model_module_version": "1.5.0",
      "model_name": "HBoxModel",
      "state": {
       "children": [
        "IPY_MODEL_a1e19a3f5acc44dbb05f2f85e88a8b2b"
       ],
       "layout": "IPY_MODEL_cec42937cf1f4622931dc80a0e126c04"
      }
     },
     "f7f8648cb9b940e6864043eed2dba9b9": {
      "model_module": "@jupyter-widgets/controls",
      "model_module_version": "1.5.0",
      "model_name": "DescriptionStyleModel",
      "state": {
       "description_width": ""
      }
     },
     "f877c824eb744824915e7d52c2705a56": {
      "model_module": "@jupyter-widgets/controls",
      "model_module_version": "1.5.0",
      "model_name": "HBoxModel",
      "state": {
       "children": [
        "IPY_MODEL_afe862d880f04ad584aa540117cb5a2c"
       ],
       "layout": "IPY_MODEL_58e9c72bca224cee98d60d0905a589ca"
      }
     },
     "f8ca4ed01e71427f95031ca9b2a16453": {
      "model_module": "@jupyter-widgets/base",
      "model_module_version": "1.2.0",
      "model_name": "LayoutModel",
      "state": {}
     },
     "f8fb5ea2f7194b4e83b184358c92f114": {
      "model_module": "@jupyter-widgets/controls",
      "model_module_version": "1.5.0",
      "model_name": "DescriptionStyleModel",
      "state": {
       "description_width": ""
      }
     },
     "f93f736eec76421297eb7c565085e149": {
      "model_module": "@jupyter-widgets/controls",
      "model_module_version": "1.5.0",
      "model_name": "HBoxModel",
      "state": {
       "children": [
        "IPY_MODEL_ed05ffc8918d4efab786e1506f2f5516"
       ],
       "layout": "IPY_MODEL_35609e20c7464b6eab3e7640d28f59f3"
      }
     },
     "faf9c2f22fa74f16a1a3baf12fe6c99f": {
      "model_module": "@jupyter-widgets/base",
      "model_module_version": "1.2.0",
      "model_name": "LayoutModel",
      "state": {
       "border": "1px solid black",
       "margin": "10px 5px 10px 5px",
       "max_width": "70%",
       "padding": "5px"
      }
     },
     "fc4ab7813f134912b7cf5da1e55ed602": {
      "model_module": "@jupyter-widgets/controls",
      "model_module_version": "1.5.0",
      "model_name": "HBoxModel",
      "state": {
       "children": [
        "IPY_MODEL_6f8dac17414a426684ba8cbbdd4cd6f0"
       ],
       "layout": "IPY_MODEL_d53add2ecac3401abcc91f4fb0ea50a5"
      }
     },
     "fc6caa6f36ee41f2940c1a4848de751f": {
      "model_module": "@jupyter-widgets/base",
      "model_module_version": "1.2.0",
      "model_name": "LayoutModel",
      "state": {
       "border": "1px solid black",
       "margin": "10px 5px 10px 5px",
       "max_width": "70%",
       "padding": "5px"
      }
     },
     "fc7fb070cf03461f889a82e78f253e68": {
      "model_module": "@jupyter-widgets/base",
      "model_module_version": "1.2.0",
      "model_name": "LayoutModel",
      "state": {
       "justify_content": "flex-end"
      }
     },
     "fca53210b0f54eeb80f3463acfb77742": {
      "model_module": "@jupyter-widgets/base",
      "model_module_version": "1.2.0",
      "model_name": "LayoutModel",
      "state": {}
     },
     "fd188b86511d4e76adf0126f90c7242b": {
      "model_module": "@jupyter-widgets/base",
      "model_module_version": "1.2.0",
      "model_name": "LayoutModel",
      "state": {
       "border": "1px solid black",
       "margin": "10px 5px 10px 5px",
       "max_width": "70%",
       "padding": "5px"
      }
     },
     "fda248300cd3452db38797e69b4c09e0": {
      "model_module": "@jupyter-widgets/controls",
      "model_module_version": "1.5.0",
      "model_name": "VBoxModel",
      "state": {
       "children": [
        "IPY_MODEL_7a0b18e7e99b416dafae4a67aeb3c98c",
        "IPY_MODEL_4be61485672d403684903a58dd04524d",
        "IPY_MODEL_e6d1e3bb805c43d9af2347cb60dd44d0",
        "IPY_MODEL_b2672e3ce8284af48aa8f3044551c871",
        "IPY_MODEL_1781626554544b298fa469a1897e4425"
       ],
       "layout": "IPY_MODEL_1179fface1184840be5dc582e6c0b958"
      }
     },
     "fda95da4584d46b18cbb4f779972772d": {
      "model_module": "@jupyter-widgets/controls",
      "model_module_version": "1.5.0",
      "model_name": "HTMLModel",
      "state": {
       "layout": "IPY_MODEL_4edd09d344b5405689d1242d87e552a7",
       "style": "IPY_MODEL_a6d0d7bfe5094c189cd2d3ff2aa56734",
       "value": "<p>Please confirm the following information:</p>\n<ul>\n<li>\n<p>You want to <strong>book a flight</strong>.</p>\n</li>\n<li>\n<p>From <strong>London</strong> to <strong>Paris</strong>.</p>\n</li>\n<li>\n<p>Between the <strong>2021-12-22</strong> and the <strong>2021-12-25</strong>.</p>\n</li>\n<li>\n<p>With a budget of <strong>120</strong>.</p>\n</li>\n</ul>"
      }
     },
     "fdae7afd396b430696a6e14a6afefaa0": {
      "model_module": "@jupyter-widgets/base",
      "model_module_version": "1.2.0",
      "model_name": "LayoutModel",
      "state": {
       "border": "1px solid black",
       "margin": "10px 5px 10px 5px",
       "max_width": "70%",
       "padding": "5px"
      }
     },
     "fded2cb076db4d1d8b1856c20112b45f": {
      "model_module": "@jupyter-widgets/controls",
      "model_module_version": "1.5.0",
      "model_name": "ButtonModel",
      "state": {
       "icon": "arrow-right",
       "layout": "IPY_MODEL_954311f18d2e473c95fd5bd151c55d30",
       "style": "IPY_MODEL_29e433fc25bc4f03a3368a6007cf1df1"
      }
     },
     "fdfb468ce1964c72aaff0a5c02afb935": {
      "model_module": "@jupyter-widgets/base",
      "model_module_version": "1.2.0",
      "model_name": "LayoutModel",
      "state": {}
     },
     "fe535dbfb7a24d0a874ec02835cdc7b8": {
      "model_module": "@jupyter-widgets/base",
      "model_module_version": "1.2.0",
      "model_name": "LayoutModel",
      "state": {
       "border": "1px solid black",
       "margin": "10px 5px 10px 5px",
       "max_width": "70%",
       "padding": "5px"
      }
     },
     "fe5986823c65446a8403804e78e4a8ae": {
      "model_module": "@jupyter-widgets/base",
      "model_module_version": "1.2.0",
      "model_name": "LayoutModel",
      "state": {
       "display": "flex",
       "height": "300px",
       "justify_content": "space-between",
       "width": "40%"
      }
     },
     "feb4a9a08dbc4d519a0565edb0af8522": {
      "model_module": "@jupyter-widgets/controls",
      "model_module_version": "1.5.0",
      "model_name": "DescriptionStyleModel",
      "state": {
       "description_width": ""
      }
     }
    },
    "version_major": 2,
    "version_minor": 0
   }
  }
 },
 "nbformat": 4,
 "nbformat_minor": 5
}
