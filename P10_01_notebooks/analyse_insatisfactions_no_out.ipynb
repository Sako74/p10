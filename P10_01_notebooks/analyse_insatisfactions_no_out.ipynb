{
 "cells": [
  {
   "cell_type": "code",
   "execution_count": 77,
   "id": "69c7ffef",
   "metadata": {},
   "outputs": [
    {
     "name": "stdout",
     "output_type": "stream",
     "text": [
      "The autoreload extension is already loaded. To reload it, use:\n",
      "  %reload_ext autoreload\n"
     ]
    }
   ],
   "source": [
    "%load_ext autoreload\n",
    "%autoreload 2\n",
    "\n",
    "from notebook import *"
   ]
  },
  {
   "cell_type": "code",
   "execution_count": 22,
   "id": "89a0975b",
   "metadata": {},
   "outputs": [],
   "source": [
    "# # Copie les notebooks et supprime les sorties.\n",
    "# copy_and_clean_notebooks()"
   ]
  },
  {
   "cell_type": "markdown",
   "id": "b61986cb",
   "metadata": {},
   "source": [
    "# Téléchargement des dialogues"
   ]
  },
  {
   "cell_type": "code",
   "execution_count": 23,
   "id": "192ce075",
   "metadata": {},
   "outputs": [
    {
     "data": {
      "text/plain": [
       "'7706f68b-7ff7-461c-86e0-f66ad9d4d030'"
      ]
     },
     "execution_count": 23,
     "metadata": {},
     "output_type": "execute_result"
    }
   ],
   "source": [
    "env = AppInsightsAPIEnv(\".env\")\n",
    "\n",
    "env.APP_INSIGHTS_API_ID"
   ]
  },
  {
   "cell_type": "code",
   "execution_count": 24,
   "id": "452e36b4",
   "metadata": {},
   "outputs": [],
   "source": [
    "start_dt = \"2021-12-21T10:54:54Z\"\n",
    "end_dt = \"2021-12-21T11:54:54Z\""
   ]
  },
  {
   "cell_type": "code",
   "execution_count": 25,
   "id": "e7a4dc50",
   "metadata": {},
   "outputs": [
    {
     "data": {
      "text/plain": [
       "(40, 5)"
      ]
     },
     "execution_count": 25,
     "metadata": {},
     "output_type": "execute_result"
    }
   ],
   "source": [
    "data = get_tn_dialogs(env, start_dt, end_dt)\n",
    "data.shape"
   ]
  },
  {
   "cell_type": "code",
   "execution_count": 26,
   "id": "ab5be7f9",
   "metadata": {},
   "outputs": [
    {
     "data": {
      "text/html": [
       "<div>\n",
       "<style scoped>\n",
       "    .dataframe tbody tr th:only-of-type {\n",
       "        vertical-align: middle;\n",
       "    }\n",
       "\n",
       "    .dataframe tbody tr th {\n",
       "        vertical-align: top;\n",
       "    }\n",
       "\n",
       "    .dataframe thead th {\n",
       "        text-align: right;\n",
       "    }\n",
       "</style>\n",
       "<table border=\"1\" class=\"dataframe\">\n",
       "  <thead>\n",
       "    <tr style=\"text-align: right;\">\n",
       "      <th></th>\n",
       "      <th>main_dialog_uuid</th>\n",
       "      <th>timestamp</th>\n",
       "      <th>author</th>\n",
       "      <th>session_id</th>\n",
       "      <th>text</th>\n",
       "    </tr>\n",
       "  </thead>\n",
       "  <tbody>\n",
       "    <tr>\n",
       "      <th>0</th>\n",
       "      <td>59c2c23c-6253-11ec-a441-72fe038a9524</td>\n",
       "      <td>2021-12-21 11:44:26.945023+00:00</td>\n",
       "      <td>p10-chatbot-bot</td>\n",
       "      <td>lmT29WsWQW9gEr/BwUm9nrvwgvdZ3IcO4Xdx94nMS5g=</td>\n",
       "      <td>What can I help you with today?</td>\n",
       "    </tr>\n",
       "    <tr>\n",
       "      <th>1</th>\n",
       "      <td>59c2c23c-6253-11ec-a441-72fe038a9524</td>\n",
       "      <td>2021-12-21 11:44:28.479733+00:00</td>\n",
       "      <td>You</td>\n",
       "      <td>lmT29WsWQW9gEr/BwUm9nrvwgvdZ3IcO4Xdx94nMS5g=</td>\n",
       "      <td>I want to go to Paris from London tomorrow and...</td>\n",
       "    </tr>\n",
       "    <tr>\n",
       "      <th>2</th>\n",
       "      <td>59c2c23c-6253-11ec-a441-72fe038a9524</td>\n",
       "      <td>2021-12-21 11:44:29.333668+00:00</td>\n",
       "      <td>p10-chatbot-bot</td>\n",
       "      <td>lmT29WsWQW9gEr/BwUm9nrvwgvdZ3IcO4Xdx94nMS5g=</td>\n",
       "      <td>Please confirm the following information:\\n- Y...</td>\n",
       "    </tr>\n",
       "    <tr>\n",
       "      <th>3</th>\n",
       "      <td>59c2c23c-6253-11ec-a441-72fe038a9524</td>\n",
       "      <td>2021-12-21 11:44:30.250325+00:00</td>\n",
       "      <td>You</td>\n",
       "      <td>lmT29WsWQW9gEr/BwUm9nrvwgvdZ3IcO4Xdx94nMS5g=</td>\n",
       "      <td>Non</td>\n",
       "    </tr>\n",
       "    <tr>\n",
       "      <th>4</th>\n",
       "      <td>5cdf2384-6253-11ec-a441-72fe038a9524</td>\n",
       "      <td>2021-12-21 11:44:32.158274+00:00</td>\n",
       "      <td>p10-chatbot-bot</td>\n",
       "      <td>lmT29WsWQW9gEr/BwUm9nrvwgvdZ3IcO4Xdx94nMS5g=</td>\n",
       "      <td>What else can I do for you?</td>\n",
       "    </tr>\n",
       "  </tbody>\n",
       "</table>\n",
       "</div>"
      ],
      "text/plain": [
       "                       main_dialog_uuid                        timestamp  \\\n",
       "0  59c2c23c-6253-11ec-a441-72fe038a9524 2021-12-21 11:44:26.945023+00:00   \n",
       "1  59c2c23c-6253-11ec-a441-72fe038a9524 2021-12-21 11:44:28.479733+00:00   \n",
       "2  59c2c23c-6253-11ec-a441-72fe038a9524 2021-12-21 11:44:29.333668+00:00   \n",
       "3  59c2c23c-6253-11ec-a441-72fe038a9524 2021-12-21 11:44:30.250325+00:00   \n",
       "4  5cdf2384-6253-11ec-a441-72fe038a9524 2021-12-21 11:44:32.158274+00:00   \n",
       "\n",
       "            author                                    session_id  \\\n",
       "0  p10-chatbot-bot  lmT29WsWQW9gEr/BwUm9nrvwgvdZ3IcO4Xdx94nMS5g=   \n",
       "1              You  lmT29WsWQW9gEr/BwUm9nrvwgvdZ3IcO4Xdx94nMS5g=   \n",
       "2  p10-chatbot-bot  lmT29WsWQW9gEr/BwUm9nrvwgvdZ3IcO4Xdx94nMS5g=   \n",
       "3              You  lmT29WsWQW9gEr/BwUm9nrvwgvdZ3IcO4Xdx94nMS5g=   \n",
       "4  p10-chatbot-bot  lmT29WsWQW9gEr/BwUm9nrvwgvdZ3IcO4Xdx94nMS5g=   \n",
       "\n",
       "                                                text  \n",
       "0                    What can I help you with today?  \n",
       "1  I want to go to Paris from London tomorrow and...  \n",
       "2  Please confirm the following information:\\n- Y...  \n",
       "3                                                Non  \n",
       "4                        What else can I do for you?  "
      ]
     },
     "execution_count": 26,
     "metadata": {},
     "output_type": "execute_result"
    }
   ],
   "source": [
    "data.head()"
   ]
  },
  {
   "cell_type": "markdown",
   "id": "2f442fb6",
   "metadata": {},
   "source": [
    "# Analyse des insatisfactions"
   ]
  },
  {
   "cell_type": "code",
   "execution_count": 27,
   "id": "724c4095",
   "metadata": {},
   "outputs": [],
   "source": [
    "analysis_name = \"2021_12_21_analysis\""
   ]
  },
  {
   "cell_type": "code",
   "execution_count": 78,
   "id": "9e5abe0b",
   "metadata": {},
   "outputs": [
    {
     "data": {
      "application/vnd.jupyter.widget-view+json": {
       "model_id": "605460a97c61402cbd64d0e4d5c3797c",
       "version_major": 2,
       "version_minor": 0
      },
      "text/plain": [
       "HBox(children=(VBox(children=(HBox(children=(HTML(value='<p>What can I help you with today?</p>', layout=Layou…"
      ]
     },
     "metadata": {},
     "output_type": "display_data"
    }
   ],
   "source": [
    "analyser = InsatisfactionsAnalyser(data)\n",
    "analyser.load(PARQUET_PATH, analysis_name)\n",
    "analyser.display()"
   ]
  },
  {
   "cell_type": "code",
   "execution_count": 55,
   "id": "081957ca",
   "metadata": {},
   "outputs": [],
   "source": [
    "analyser.save(PARQUET_PATH, analysis_name)"
   ]
  },
  {
   "cell_type": "markdown",
   "id": "3cf7e55f",
   "metadata": {},
   "source": [
    "# Enregistrement du rapport sur Github"
   ]
  },
  {
   "cell_type": "markdown",
   "id": "b8e3324f",
   "metadata": {},
   "source": [
    "## Distribution des erreurs"
   ]
  },
  {
   "cell_type": "code",
   "execution_count": 83,
   "id": "9543c3cc",
   "metadata": {},
   "outputs": [
    {
     "name": "stdout",
     "output_type": "stream",
     "text": [
      "## Distribution des erreurs\n",
      "\n",
      "<table border=\"1\" class=\"dataframe\">\n",
      "  <thead>\n",
      "    <tr style=\"text-align: right;\">\n",
      "      <th></th>\n",
      "      <th>error_nb</th>\n",
      "      <th>%</th>\n",
      "    </tr>\n",
      "    <tr>\n",
      "      <th>error_type</th>\n",
      "      <th></th>\n",
      "      <th></th>\n",
      "    </tr>\n",
      "  </thead>\n",
      "  <tbody>\n",
      "    <tr>\n",
      "      <th></th>\n",
      "      <td>7</td>\n",
      "      <td>0.78</td>\n",
      "    </tr>\n",
      "    <tr>\n",
      "      <th>luis</th>\n",
      "      <td>1</td>\n",
      "      <td>0.11</td>\n",
      "    </tr>\n",
      "    <tr>\n",
      "      <th>chatbot</th>\n",
      "      <td>1</td>\n",
      "      <td>0.11</td>\n",
      "    </tr>\n",
      "  </tbody>\n",
      "</table>\n"
     ]
    }
   ],
   "source": [
    "print(\"## Distribution des erreurs\\n\")\n",
    "\n",
    "tmp = analyser.res[\"error_type\"].value_counts().to_frame(\"error_nb\")\n",
    "tmp[\"%\"] = analyser.res[\"error_type\"].value_counts(normalize=True)\n",
    "tmp.index.name = \"error_type\"\n",
    "\n",
    "print(tmp.to_html(float_format=lambda x: f\"{x:0.2f}\"))"
   ]
  },
  {
   "cell_type": "markdown",
   "id": "fa7f44c3",
   "metadata": {},
   "source": [
    "## Commentaires"
   ]
  },
  {
   "cell_type": "code",
   "execution_count": 75,
   "id": "09b16b64",
   "metadata": {},
   "outputs": [
    {
     "name": "stdout",
     "output_type": "stream",
     "text": [
      "## Commentaires\n",
      "\n",
      "sdfsdf\n",
      "dsfsdf\n"
     ]
    }
   ],
   "source": [
    "print(\"## Commentaires\\n\")\n",
    "\n",
    "for comment in analyser.res[\"comment\"]:\n",
    "    if comment:\n",
    "        print(comment)"
   ]
  },
  {
   "cell_type": "markdown",
   "id": "9161ca87",
   "metadata": {},
   "source": [
    "## Utterrances pour LUIS"
   ]
  },
  {
   "cell_type": "code",
   "execution_count": 76,
   "id": "ab272627",
   "metadata": {},
   "outputs": [
    {
     "name": "stdout",
     "output_type": "stream",
     "text": [
      "## Utterrances pour LUIS\n",
      "\n",
      "I want to go to Paris from London tomorrow and I will stay 3 days. I have 120 dollars.\n",
      "What else can I do for you?\n"
     ]
    }
   ],
   "source": [
    "print(\"## Utterrances pour LUIS\\n\")\n",
    "\n",
    "for utterances in analyser.res[\"utterances\"]:\n",
    "    if utterances:\n",
    "        print(utterances)"
   ]
  }
 ],
 "metadata": {
  "kernelspec": {
   "display_name": "p10",
   "language": "python",
   "name": "p10"
  },
  "language_info": {
   "codemirror_mode": {
    "name": "ipython",
    "version": 3
   },
   "file_extension": ".py",
   "mimetype": "text/x-python",
   "name": "python",
   "nbconvert_exporter": "python",
   "pygments_lexer": "ipython3",
   "version": "3.8.8"
  },
  "toc": {
   "base_numbering": 1,
   "nav_menu": {},
   "number_sections": true,
   "sideBar": true,
   "skip_h1_title": false,
   "title_cell": "Table of Contents",
   "title_sidebar": "Contents",
   "toc_cell": false,
   "toc_position": {
    "height": "calc(100% - 180px)",
    "left": "10px",
    "top": "150px",
    "width": "345px"
   },
   "toc_section_display": true,
   "toc_window_display": true
  }
 },
 "nbformat": 4,
 "nbformat_minor": 5
}
