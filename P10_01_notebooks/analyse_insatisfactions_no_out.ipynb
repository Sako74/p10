{
 "cells": [
  {
   "cell_type": "code",
   "execution_count": 36,
   "id": "69c7ffef",
   "metadata": {},
   "outputs": [
    {
     "name": "stdout",
     "output_type": "stream",
     "text": [
      "The autoreload extension is already loaded. To reload it, use:\n",
      "  %reload_ext autoreload\n"
     ]
    }
   ],
   "source": [
    "%load_ext autoreload\n",
    "%autoreload 2\n",
    "\n",
    "from notebook import *"
   ]
  },
  {
   "cell_type": "code",
   "execution_count": 3,
   "id": "89a0975b",
   "metadata": {},
   "outputs": [],
   "source": [
    "# # Copie les notebooks et supprime les sorties.\n",
    "# copy_and_clean_notebooks()"
   ]
  },
  {
   "cell_type": "markdown",
   "id": "e9f75888",
   "metadata": {},
   "source": [
    "# Chargement des issues à analyser"
   ]
  },
  {
   "cell_type": "code",
   "execution_count": 4,
   "id": "7690f3f4",
   "metadata": {},
   "outputs": [],
   "source": [
    "gh_env = GithubAPIEnv(\"../P10_04_function/create_github_issue/.env\")"
   ]
  },
  {
   "cell_type": "code",
   "execution_count": 6,
   "id": "98229347",
   "metadata": {},
   "outputs": [],
   "source": [
    "# On crée le handler Github\n",
    "g = Github(gh_env.GITHUB_TOKEN)\n",
    "\n",
    "# On configure le handler pour le repo du projet\n",
    "repo = g.get_repo(gh_env.GITHUB_REPO)"
   ]
  },
  {
   "cell_type": "code",
   "execution_count": 44,
   "id": "3618beef",
   "metadata": {},
   "outputs": [
    {
     "data": {
      "text/plain": [
       "1"
      ]
     },
     "execution_count": 44,
     "metadata": {},
     "output_type": "execute_result"
    }
   ],
   "source": [
    "# On récupère les issues de type \"azure alert\"\n",
    "issues = repo.get_issues(labels=[\"azure alert\"])\n",
    "issues.totalCount"
   ]
  },
  {
   "cell_type": "code",
   "execution_count": 45,
   "id": "84873cd3",
   "metadata": {},
   "outputs": [
    {
     "name": "stdout",
     "output_type": "stream",
     "text": [
      "Voici les ids des issues que l'on va analyser :\n",
      "#37\n"
     ]
    }
   ],
   "source": [
    "issue_ids = [f\"#{i.number}\" for i in issues]\n",
    "\n",
    "print(\"Voici les ids des issues que l'on va analyser :\")\n",
    "print(\", \".join(issue_ids))"
   ]
  },
  {
   "cell_type": "markdown",
   "id": "b61986cb",
   "metadata": {},
   "source": [
    "# Chargement des dialogues"
   ]
  },
  {
   "cell_type": "code",
   "execution_count": 46,
   "id": "192ce075",
   "metadata": {},
   "outputs": [],
   "source": [
    "ai_env = AppInsightsAPIEnv(\".env\")"
   ]
  },
  {
   "cell_type": "code",
   "execution_count": 47,
   "id": "dea7c271",
   "metadata": {},
   "outputs": [],
   "source": [
    "data = []\n",
    "for issue in issues:\n",
    "    # On charge les données de l'alerte\n",
    "    issue_body = json.loads(issue.body)\n",
    "    \n",
    "    # On charge les dialogues liés à l'alerte\n",
    "    data.append(get_tn_dialogs(\n",
    "        ai_env,\n",
    "        issue_body[\"start_dt\"],\n",
    "        issue_body[\"end_dt\"]\n",
    "    ))"
   ]
  },
  {
   "cell_type": "code",
   "execution_count": 48,
   "id": "e300dcb4",
   "metadata": {},
   "outputs": [
    {
     "data": {
      "text/plain": [
       "(34, 5)"
      ]
     },
     "execution_count": 48,
     "metadata": {},
     "output_type": "execute_result"
    }
   ],
   "source": [
    "# On concatène les données\n",
    "data = pd.concat(data)\n",
    "data.shape"
   ]
  },
  {
   "cell_type": "code",
   "execution_count": 49,
   "id": "521f0b47",
   "metadata": {},
   "outputs": [
    {
     "data": {
      "text/plain": [
       "(34, 5)"
      ]
     },
     "execution_count": 49,
     "metadata": {},
     "output_type": "execute_result"
    }
   ],
   "source": [
    "# On supprime les doublons et on met en forme le dataframe\n",
    "data = data.drop_duplicates([\"main_dialog_uuid\", \"timestamp\"])\n",
    "data = data.sort_values([\"main_dialog_uuid\", \"timestamp\"])\n",
    "data = data.reset_index(drop=True)\n",
    "data.shape"
   ]
  },
  {
   "cell_type": "code",
   "execution_count": 50,
   "id": "ab5be7f9",
   "metadata": {},
   "outputs": [
    {
     "data": {
      "text/html": [
       "<div>\n",
       "<style scoped>\n",
       "    .dataframe tbody tr th:only-of-type {\n",
       "        vertical-align: middle;\n",
       "    }\n",
       "\n",
       "    .dataframe tbody tr th {\n",
       "        vertical-align: top;\n",
       "    }\n",
       "\n",
       "    .dataframe thead th {\n",
       "        text-align: right;\n",
       "    }\n",
       "</style>\n",
       "<table border=\"1\" class=\"dataframe\">\n",
       "  <thead>\n",
       "    <tr style=\"text-align: right;\">\n",
       "      <th></th>\n",
       "      <th>main_dialog_uuid</th>\n",
       "      <th>timestamp</th>\n",
       "      <th>author</th>\n",
       "      <th>session_id</th>\n",
       "      <th>text</th>\n",
       "    </tr>\n",
       "  </thead>\n",
       "  <tbody>\n",
       "    <tr>\n",
       "      <th>0</th>\n",
       "      <td>4b690144-6a3f-11ec-9134-4ae2b1217b29</td>\n",
       "      <td>2021-12-31 13:41:02.230192+00:00</td>\n",
       "      <td>p10-chatbot-bot</td>\n",
       "      <td>I1qjj6+1EFOsJHS9K65QNapgBPr978QJHxKE6iUSeXk=</td>\n",
       "      <td>What else can I do for you?</td>\n",
       "    </tr>\n",
       "    <tr>\n",
       "      <th>1</th>\n",
       "      <td>4b690144-6a3f-11ec-9134-4ae2b1217b29</td>\n",
       "      <td>2021-12-31 13:41:06.408448+00:00</td>\n",
       "      <td>You</td>\n",
       "      <td>I1qjj6+1EFOsJHS9K65QNapgBPr978QJHxKE6iUSeXk=</td>\n",
       "      <td>I want to go to Paris from London tomorrow and...</td>\n",
       "    </tr>\n",
       "    <tr>\n",
       "      <th>2</th>\n",
       "      <td>4b690144-6a3f-11ec-9134-4ae2b1217b29</td>\n",
       "      <td>2021-12-31 13:41:07.028214+00:00</td>\n",
       "      <td>p10-chatbot-bot</td>\n",
       "      <td>I1qjj6+1EFOsJHS9K65QNapgBPr978QJHxKE6iUSeXk=</td>\n",
       "      <td>Please confirm the following information:\\n- Y...</td>\n",
       "    </tr>\n",
       "    <tr>\n",
       "      <th>3</th>\n",
       "      <td>4b690144-6a3f-11ec-9134-4ae2b1217b29</td>\n",
       "      <td>2021-12-31 13:41:08.387940+00:00</td>\n",
       "      <td>You</td>\n",
       "      <td>I1qjj6+1EFOsJHS9K65QNapgBPr978QJHxKE6iUSeXk=</td>\n",
       "      <td>Non</td>\n",
       "    </tr>\n",
       "    <tr>\n",
       "      <th>4</th>\n",
       "      <td>4f4fdde6-6a3f-11ec-9134-4ae2b1217b29</td>\n",
       "      <td>2021-12-31 13:41:08.776486+00:00</td>\n",
       "      <td>p10-chatbot-bot</td>\n",
       "      <td>I1qjj6+1EFOsJHS9K65QNapgBPr978QJHxKE6iUSeXk=</td>\n",
       "      <td>What else can I do for you?</td>\n",
       "    </tr>\n",
       "  </tbody>\n",
       "</table>\n",
       "</div>"
      ],
      "text/plain": [
       "                       main_dialog_uuid                        timestamp  \\\n",
       "0  4b690144-6a3f-11ec-9134-4ae2b1217b29 2021-12-31 13:41:02.230192+00:00   \n",
       "1  4b690144-6a3f-11ec-9134-4ae2b1217b29 2021-12-31 13:41:06.408448+00:00   \n",
       "2  4b690144-6a3f-11ec-9134-4ae2b1217b29 2021-12-31 13:41:07.028214+00:00   \n",
       "3  4b690144-6a3f-11ec-9134-4ae2b1217b29 2021-12-31 13:41:08.387940+00:00   \n",
       "4  4f4fdde6-6a3f-11ec-9134-4ae2b1217b29 2021-12-31 13:41:08.776486+00:00   \n",
       "\n",
       "            author                                    session_id  \\\n",
       "0  p10-chatbot-bot  I1qjj6+1EFOsJHS9K65QNapgBPr978QJHxKE6iUSeXk=   \n",
       "1              You  I1qjj6+1EFOsJHS9K65QNapgBPr978QJHxKE6iUSeXk=   \n",
       "2  p10-chatbot-bot  I1qjj6+1EFOsJHS9K65QNapgBPr978QJHxKE6iUSeXk=   \n",
       "3              You  I1qjj6+1EFOsJHS9K65QNapgBPr978QJHxKE6iUSeXk=   \n",
       "4  p10-chatbot-bot  I1qjj6+1EFOsJHS9K65QNapgBPr978QJHxKE6iUSeXk=   \n",
       "\n",
       "                                                text  \n",
       "0                        What else can I do for you?  \n",
       "1  I want to go to Paris from London tomorrow and...  \n",
       "2  Please confirm the following information:\\n- Y...  \n",
       "3                                                Non  \n",
       "4                        What else can I do for you?  "
      ]
     },
     "execution_count": 50,
     "metadata": {},
     "output_type": "execute_result"
    }
   ],
   "source": [
    "data.head()"
   ]
  },
  {
   "cell_type": "markdown",
   "id": "2f442fb6",
   "metadata": {},
   "source": [
    "# Analyse des insatisfactions"
   ]
  },
  {
   "cell_type": "code",
   "execution_count": 51,
   "id": "724c4095",
   "metadata": {},
   "outputs": [],
   "source": [
    "analysis_name = \"2022_01_01_analysis\""
   ]
  },
  {
   "cell_type": "code",
   "execution_count": 52,
   "id": "9e5abe0b",
   "metadata": {},
   "outputs": [
    {
     "name": "stdout",
     "output_type": "stream",
     "text": [
      "Missing file: data/parquet/2022_01_01_analysis_data.parquet\n"
     ]
    },
    {
     "data": {
      "application/vnd.jupyter.widget-view+json": {
       "model_id": "c159a48b3f184730bd5016dc2b24973d",
       "version_major": 2,
       "version_minor": 0
      },
      "text/plain": [
       "HBox(children=(VBox(children=(HBox(children=(HTML(value='<p>What else can I do for you?</p>', layout=Layout(bo…"
      ]
     },
     "metadata": {},
     "output_type": "display_data"
    }
   ],
   "source": [
    "analyser = InsatisfactionsAnalyser(data)\n",
    "analyser.load(PARQUET_PATH, analysis_name)\n",
    "analyser.display()"
   ]
  },
  {
   "cell_type": "code",
   "execution_count": 53,
   "id": "081957ca",
   "metadata": {},
   "outputs": [],
   "source": [
    "analyser.save(PARQUET_PATH, analysis_name)"
   ]
  },
  {
   "cell_type": "markdown",
   "id": "3cf7e55f",
   "metadata": {},
   "source": [
    "# Enregistrement du rapport sur Github"
   ]
  },
  {
   "cell_type": "code",
   "execution_count": 54,
   "id": "9543c3cc",
   "metadata": {},
   "outputs": [],
   "source": [
    "report_title = \"Insatisfactions analysis\"\n",
    "report_body = analyser.get_report(issue_ids)"
   ]
  },
  {
   "cell_type": "code",
   "execution_count": 55,
   "id": "68b4bad0",
   "metadata": {},
   "outputs": [],
   "source": [
    "try:\n",
    "    # On récupère le tag spécial pour le rapport d'analyse\n",
    "    report_label_name = \"insatisfactions analysis\"\n",
    "    report_label = repo.get_label(report_label_name)\n",
    "except:\n",
    "    # On crée un tag spécial pour le rapport d'analyse\n",
    "    report_label = repo.create_label(\n",
    "        report_label_name,\n",
    "        color=\"0075ca\",\n",
    "        description=\"Analysis of insatisfactions\"\n",
    "    )\n",
    "\n",
    "# On enregistre le rapport dans une Github issue\n",
    "report = repo.create_issue(\n",
    "    title=report_title,\n",
    "    body=report_body,\n",
    "    labels=[report_label]\n",
    ")"
   ]
  },
  {
   "cell_type": "markdown",
   "id": "21372f56",
   "metadata": {},
   "source": [
    "# Fermeture des issues analysées"
   ]
  },
  {
   "cell_type": "code",
   "execution_count": 56,
   "id": "1df749a1",
   "metadata": {},
   "outputs": [],
   "source": [
    "for issue in issues:\n",
    "    # On ferme l'issue\n",
    "    issue.edit(state=\"closed\")"
   ]
  }
 ],
 "metadata": {
  "kernelspec": {
   "display_name": "p10",
   "language": "python",
   "name": "p10"
  },
  "language_info": {
   "codemirror_mode": {
    "name": "ipython",
    "version": 3
   },
   "file_extension": ".py",
   "mimetype": "text/x-python",
   "name": "python",
   "nbconvert_exporter": "python",
   "pygments_lexer": "ipython3",
   "version": "3.8.8"
  },
  "toc": {
   "base_numbering": 1,
   "nav_menu": {},
   "number_sections": true,
   "sideBar": true,
   "skip_h1_title": false,
   "title_cell": "Table of Contents",
   "title_sidebar": "Contents",
   "toc_cell": false,
   "toc_position": {
    "height": "calc(100% - 180px)",
    "left": "10px",
    "top": "150px",
    "width": "345px"
   },
   "toc_section_display": true,
   "toc_window_display": true
  }
 },
 "nbformat": 4,
 "nbformat_minor": 5
}
