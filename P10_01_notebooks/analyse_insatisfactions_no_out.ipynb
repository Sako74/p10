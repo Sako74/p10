{
  "cells": [
    {
      "cell_type": "code",
      "source": [
        "import requests\n",
        "\n",
        "%load_ext autoreload\n",
        "%autoreload 2\n",
        "\n",
        "from notebook import *"
      ],
      "outputs": [
        {
          "output_type": "stream",
          "name": "stdout",
          "text": "The autoreload extension is already loaded. To reload it, use:\n  %reload_ext autoreload\n"
        }
      ],
      "execution_count": 12,
      "metadata": {},
      "id": "69c7ffef"
    },
    {
      "cell_type": "code",
      "source": [
        "# # Copie les notebooks et supprime les sorties.\n",
        "# copy_and_clean_notebooks()"
      ],
      "outputs": [],
      "execution_count": 2,
      "metadata": {},
      "id": "f08f5788"
    },
    {
      "cell_type": "code",
      "source": [
        "env = AppInsightsAPIEnv(\".env\")\n",
        "\n",
        "env.APP_INSIGHTS_API_ID"
      ],
      "outputs": [
        {
          "output_type": "execute_result",
          "execution_count": 3,
          "data": {
            "text/plain": "'7706f68b-7ff7-461c-86e0-f66ad9d4d030'"
          },
          "metadata": {}
        }
      ],
      "execution_count": 3,
      "metadata": {},
      "id": "192ce075"
    },
    {
      "cell_type": "code",
      "source": [
        "start_dt = \"2021-12-21T10:54:54Z\"\n",
        "end_dt = \"2021-12-21T11:54:54Z\"\n",
        "\n",
        "data = get_tn_dialogs(env, start_dt, end_dt)\n",
        "data.shape"
      ],
      "outputs": [
        {
          "output_type": "execute_result",
          "execution_count": 5,
          "data": {
            "text/plain": "(40, 5)"
          },
          "metadata": {}
        }
      ],
      "execution_count": 5,
      "metadata": {},
      "id": "1c7bea25"
    },
    {
      "cell_type": "code",
      "source": [
        "data.head()"
      ],
      "outputs": [
        {
          "output_type": "execute_result",
          "execution_count": 6,
          "data": {
            "text/html": "<div>\n<style scoped>\n    .dataframe tbody tr th:only-of-type {\n        vertical-align: middle;\n    }\n\n    .dataframe tbody tr th {\n        vertical-align: top;\n    }\n\n    .dataframe thead th {\n        text-align: right;\n    }\n</style>\n<table border=\"1\" class=\"dataframe\">\n  <thead>\n    <tr style=\"text-align: right;\">\n      <th></th>\n      <th>main_dialog_uuid</th>\n      <th>timestamp</th>\n      <th>author</th>\n      <th>session_id</th>\n      <th>text</th>\n    </tr>\n  </thead>\n  <tbody>\n    <tr>\n      <th>0</th>\n      <td>59c2c23c-6253-11ec-a441-72fe038a9524</td>\n      <td>2021-12-21 11:44:26.945023+00:00</td>\n      <td>p10-chatbot-bot</td>\n      <td>lmT29WsWQW9gEr/BwUm9nrvwgvdZ3IcO4Xdx94nMS5g=</td>\n      <td>What can I help you with today?</td>\n    </tr>\n    <tr>\n      <th>1</th>\n      <td>59c2c23c-6253-11ec-a441-72fe038a9524</td>\n      <td>2021-12-21 11:44:28.479733+00:00</td>\n      <td>You</td>\n      <td>lmT29WsWQW9gEr/BwUm9nrvwgvdZ3IcO4Xdx94nMS5g=</td>\n      <td>I want to go to Paris from London tomorrow and...</td>\n    </tr>\n    <tr>\n      <th>2</th>\n      <td>59c2c23c-6253-11ec-a441-72fe038a9524</td>\n      <td>2021-12-21 11:44:29.333668+00:00</td>\n      <td>p10-chatbot-bot</td>\n      <td>lmT29WsWQW9gEr/BwUm9nrvwgvdZ3IcO4Xdx94nMS5g=</td>\n      <td>Please confirm the following information:\\n- Y...</td>\n    </tr>\n    <tr>\n      <th>3</th>\n      <td>59c2c23c-6253-11ec-a441-72fe038a9524</td>\n      <td>2021-12-21 11:44:30.250325+00:00</td>\n      <td>You</td>\n      <td>lmT29WsWQW9gEr/BwUm9nrvwgvdZ3IcO4Xdx94nMS5g=</td>\n      <td>Non</td>\n    </tr>\n    <tr>\n      <th>4</th>\n      <td>5cdf2384-6253-11ec-a441-72fe038a9524</td>\n      <td>2021-12-21 11:44:32.158274+00:00</td>\n      <td>p10-chatbot-bot</td>\n      <td>lmT29WsWQW9gEr/BwUm9nrvwgvdZ3IcO4Xdx94nMS5g=</td>\n      <td>What else can I do for you?</td>\n    </tr>\n  </tbody>\n</table>\n</div>",
            "text/plain": "                       main_dialog_uuid                        timestamp  \\\n0  59c2c23c-6253-11ec-a441-72fe038a9524 2021-12-21 11:44:26.945023+00:00   \n1  59c2c23c-6253-11ec-a441-72fe038a9524 2021-12-21 11:44:28.479733+00:00   \n2  59c2c23c-6253-11ec-a441-72fe038a9524 2021-12-21 11:44:29.333668+00:00   \n3  59c2c23c-6253-11ec-a441-72fe038a9524 2021-12-21 11:44:30.250325+00:00   \n4  5cdf2384-6253-11ec-a441-72fe038a9524 2021-12-21 11:44:32.158274+00:00   \n\n            author                                    session_id  \\\n0  p10-chatbot-bot  lmT29WsWQW9gEr/BwUm9nrvwgvdZ3IcO4Xdx94nMS5g=   \n1              You  lmT29WsWQW9gEr/BwUm9nrvwgvdZ3IcO4Xdx94nMS5g=   \n2  p10-chatbot-bot  lmT29WsWQW9gEr/BwUm9nrvwgvdZ3IcO4Xdx94nMS5g=   \n3              You  lmT29WsWQW9gEr/BwUm9nrvwgvdZ3IcO4Xdx94nMS5g=   \n4  p10-chatbot-bot  lmT29WsWQW9gEr/BwUm9nrvwgvdZ3IcO4Xdx94nMS5g=   \n\n                                                text  \n0                    What can I help you with today?  \n1  I want to go to Paris from London tomorrow and...  \n2  Please confirm the following information:\\n- Y...  \n3                                                Non  \n4                        What else can I do for you?  "
          },
          "metadata": {}
        }
      ],
      "execution_count": 6,
      "metadata": {},
      "id": "ab5be7f9"
    },
    {
      "cell_type": "code",
      "source": [
        "analyser = InsatisfactionsAnalyser(data)\n",
        "analyser.load(PARQUET_PATH, \"2021_12_21_analysis\")\n",
        "analyser.display()"
      ],
      "outputs": [
        {
          "output_type": "display_data",
          "data": {
            "application/vnd.jupyter.widget-view+json": {
              "model_id": "21d386df62834f3aa5f62af0ae38b545",
              "version_major": 2,
              "version_minor": 0
            },
            "text/plain": "HBox(children=(VBox(children=(HBox(children=(HTML(value='<p>What can I help you with today?</p>', layout=Layou…"
          },
          "metadata": {}
        }
      ],
      "execution_count": 13,
      "metadata": {},
      "id": "9e5abe0b"
    },
    {
      "cell_type": "code",
      "source": [
        "analyser.save(PARQUET_PATH, \"2021_12_21_analysis\")"
      ],
      "outputs": [],
      "execution_count": 35,
      "metadata": {},
      "id": "081957ca"
    },
    {
      "cell_type": "code",
      "source": [],
      "outputs": [],
      "execution_count": null,
      "metadata": {},
      "id": "80c03359"
    },
    {
      "cell_type": "code",
      "source": [],
      "outputs": [],
      "execution_count": null,
      "metadata": {},
      "id": "be7b6cc8"
    },
    {
      "cell_type": "code",
      "source": [],
      "outputs": [],
      "execution_count": null,
      "metadata": {},
      "id": "a1638c7c"
    },
    {
      "cell_type": "code",
      "source": [],
      "outputs": [],
      "execution_count": null,
      "metadata": {},
      "id": "becb1e78"
    },
    {
      "cell_type": "code",
      "source": [],
      "outputs": [],
      "execution_count": null,
      "metadata": {},
      "id": "58deb9f9"
    },
    {
      "cell_type": "code",
      "source": [],
      "outputs": [],
      "execution_count": null,
      "metadata": {},
      "id": "bdea65fa"
    },
    {
      "cell_type": "code",
      "source": [],
      "outputs": [],
      "execution_count": null,
      "metadata": {},
      "id": "609f13c4"
    },
    {
      "cell_type": "code",
      "source": [],
      "outputs": [],
      "execution_count": null,
      "metadata": {},
      "id": "b6643738"
    },
    {
      "cell_type": "code",
      "source": [],
      "outputs": [],
      "execution_count": null,
      "metadata": {},
      "id": "4cccd6df"
    },
    {
      "cell_type": "code",
      "source": [],
      "outputs": [],
      "execution_count": null,
      "metadata": {},
      "id": "beb693c3"
    },
    {
      "cell_type": "code",
      "source": [],
      "outputs": [],
      "execution_count": null,
      "metadata": {},
      "id": "93d14fd3"
    }
  ],
  "metadata": {
    "kernelspec": {
      "name": "p10",
      "language": "python",
      "display_name": "p10"
    },
    "language_info": {
      "name": "python",
      "version": "3.8.8",
      "mimetype": "text/x-python",
      "codemirror_mode": {
        "name": "ipython",
        "version": 3
      },
      "pygments_lexer": "ipython3",
      "nbconvert_exporter": "python",
      "file_extension": ".py"
    },
    "toc": {
      "toc_position": {
        "height": "calc(100% - 180px)",
        "left": "10px",
        "top": "150px",
        "width": "402px"
      },
      "skip_h1_title": false,
      "number_sections": true,
      "title_cell": "Table of Contents",
      "toc_window_display": true,
      "base_numbering": 1,
      "toc_section_display": true,
      "title_sidebar": "Contents",
      "toc_cell": false,
      "nav_menu": {},
      "sideBar": true
    },
    "kernel_info": {
      "name": "p10"
    },
    "nteract": {
      "version": "nteract-front-end@1.0.0"
    }
  },
  "nbformat": 4,
  "nbformat_minor": 5
}