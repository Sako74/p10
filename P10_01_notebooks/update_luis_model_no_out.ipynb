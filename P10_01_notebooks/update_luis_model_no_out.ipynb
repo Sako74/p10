{
 "cells": [
  {
   "cell_type": "code",
   "execution_count": 49,
   "id": "69c7ffef",
   "metadata": {},
   "outputs": [
    {
     "name": "stdout",
     "output_type": "stream",
     "text": [
      "The autoreload extension is already loaded. To reload it, use:\n",
      "  %reload_ext autoreload\n"
     ]
    }
   ],
   "source": [
    "%load_ext autoreload\n",
    "%autoreload 2\n",
    "\n",
    "from notebook import *"
   ]
  },
  {
   "cell_type": "code",
   "execution_count": null,
   "id": "89a0975b",
   "metadata": {},
   "outputs": [],
   "source": [
    "# Copie les notebooks et supprime les sorties.\n",
    "copy_and_clean_notebooks()"
   ]
  },
  {
   "cell_type": "markdown",
   "id": "6b594100",
   "metadata": {},
   "source": [
    "# Création d'une nouvelle branche"
   ]
  },
  {
   "cell_type": "markdown",
   "id": "bb1a1f1f",
   "metadata": {},
   "source": [
    "# Chargement des ressources"
   ]
  },
  {
   "cell_type": "markdown",
   "id": "a76452ce",
   "metadata": {},
   "source": [
    "## Chargement du workspace"
   ]
  },
  {
   "cell_type": "code",
   "execution_count": 10,
   "id": "de8a4ffa",
   "metadata": {},
   "outputs": [],
   "source": [
    "# On charge l’espace de travail Azure Machine Learning existant\n",
    "ws = Workspace.from_config()"
   ]
  },
  {
   "cell_type": "markdown",
   "id": "05a8cac1",
   "metadata": {},
   "source": [
    "## Chargement du magasin des données"
   ]
  },
  {
   "cell_type": "code",
   "execution_count": 73,
   "id": "1475f07f",
   "metadata": {},
   "outputs": [],
   "source": [
    "# On charge le magasin de données par défaut\n",
    "datastore = ws.get_default_datastore()"
   ]
  },
  {
   "cell_type": "markdown",
   "id": "16244190",
   "metadata": {},
   "source": [
    "## Chargement des paramètres de LUIS"
   ]
  },
  {
   "cell_type": "code",
   "execution_count": 2,
   "id": "192ce075",
   "metadata": {},
   "outputs": [],
   "source": [
    "env = LUISEnv(\"../P10_02_luis/.env\")"
   ]
  },
  {
   "cell_type": "code",
   "execution_count": 4,
   "id": "452e36b4",
   "metadata": {},
   "outputs": [],
   "source": [
    "with open(\"../P10_02_luis/params.json\") as f:\n",
    "    params = json.load(f)"
   ]
  },
  {
   "cell_type": "code",
   "execution_count": 6,
   "id": "e7a4dc50",
   "metadata": {},
   "outputs": [],
   "source": [
    "model_version = str(params[\"model\"][\"versionId\"])\n",
    "ds_name = params[\"dataset\"][\"name\"]\n",
    "ds_version = params[\"dataset\"][\"version\"]"
   ]
  },
  {
   "cell_type": "markdown",
   "id": "b61986cb",
   "metadata": {},
   "source": [
    "# Mise à jour du jeu de données"
   ]
  },
  {
   "cell_type": "markdown",
   "id": "7f87b235",
   "metadata": {},
   "source": [
    "## Chargement des nouvelles utterances"
   ]
  },
  {
   "cell_type": "markdown",
   "id": "1e057b2b",
   "metadata": {},
   "source": [
    "### Intent `book_flight`"
   ]
  },
  {
   "cell_type": "code",
   "execution_count": 34,
   "id": "b8172c91",
   "metadata": {},
   "outputs": [
    {
     "data": {
      "text/plain": [
       "1"
      ]
     },
     "execution_count": 34,
     "metadata": {},
     "output_type": "execute_result"
    }
   ],
   "source": [
    "# On colle les nouveaux textes à labelliser\n",
    "book_flight_texts = [\n",
    "    \"Book me a flight from London to Paris tomorrow. I have only 100€.\"\n",
    "]\n",
    "\n",
    "len(book_flight_texts)"
   ]
  },
  {
   "cell_type": "markdown",
   "id": "fe23052b",
   "metadata": {},
   "source": [
    "### Intent `None`"
   ]
  },
  {
   "cell_type": "code",
   "execution_count": 35,
   "id": "f71ebef8",
   "metadata": {},
   "outputs": [
    {
     "data": {
      "text/plain": [
       "1"
      ]
     },
     "execution_count": 35,
     "metadata": {},
     "output_type": "execute_result"
    }
   ],
   "source": [
    "# On colle les nouveaux textes à labelliser\n",
    "none_texts = [\n",
    "    \"Hey !!!\"\n",
    "]\n",
    "\n",
    "len(none_texts)"
   ]
  },
  {
   "cell_type": "markdown",
   "id": "0ab7033e",
   "metadata": {},
   "source": [
    "## Chargement du précédent jeu de données"
   ]
  },
  {
   "cell_type": "code",
   "execution_count": 11,
   "id": "ab5be7f9",
   "metadata": {},
   "outputs": [],
   "source": [
    "with tempfile.TemporaryDirectory() as tmp_dir_name:\n",
    "    dataset = Dataset.get_by_name(ws, **params[\"dataset\"])\n",
    "    dataset.download(target_path=tmp_dir_name, overwrite=False)\n",
    "\n",
    "    # On charge le jeu d'entrainement\n",
    "    file_path = os.path.join(tmp_dir_name, \"utterances_train.json\")\n",
    "    with open(file_path) as f:\n",
    "        utterances_train = json.load(f)\n",
    "\n",
    "    # On charge le jeu de test\n",
    "    file_path = os.path.join(tmp_dir_name, \"utterances_test.json\")\n",
    "    with open(file_path) as f:\n",
    "        utterances_test = json.load(f)"
   ]
  },
  {
   "cell_type": "code",
   "execution_count": 31,
   "id": "be1a0cd7",
   "metadata": {},
   "outputs": [],
   "source": [
    "# Extraction des textes du jeu de données pour l'intent \"book_flight\"\n",
    "old_texts = get_texts_from_dataset(\n",
    "    utterances_train,\n",
    "    utterances_test,\n",
    "    \"book_flight\"\n",
    ")\n",
    "\n",
    "# Extraction des textes du jeu de données pour l'intent \"None\"\n",
    "old_texts += get_texts_from_dataset(\n",
    "    utterances_train,\n",
    "    utterances_test,\n",
    "    \"None\"\n",
    ")"
   ]
  },
  {
   "cell_type": "markdown",
   "id": "139b0dc7",
   "metadata": {},
   "source": [
    "## Suppression des doublons"
   ]
  },
  {
   "cell_type": "markdown",
   "id": "ad284f43",
   "metadata": {},
   "source": [
    "### Intent `book_flight`"
   ]
  },
  {
   "cell_type": "code",
   "execution_count": 36,
   "id": "e7eb8634",
   "metadata": {},
   "outputs": [
    {
     "data": {
      "text/plain": [
       "1"
      ]
     },
     "execution_count": 36,
     "metadata": {},
     "output_type": "execute_result"
    }
   ],
   "source": [
    "# On supprime les doublons pour l'intent \"book_flight\"\n",
    "book_flight_texts = [i for i in book_flight_texts if i not in old_texts]\n",
    "\n",
    "len(book_flight_texts)"
   ]
  },
  {
   "cell_type": "markdown",
   "id": "122da24a",
   "metadata": {},
   "source": [
    "### Intent `None`"
   ]
  },
  {
   "cell_type": "code",
   "execution_count": 37,
   "id": "38f4513e",
   "metadata": {},
   "outputs": [
    {
     "data": {
      "text/plain": [
       "1"
      ]
     },
     "execution_count": 37,
     "metadata": {},
     "output_type": "execute_result"
    }
   ],
   "source": [
    "# On supprime les doublons pour l'intent \"None\"\n",
    "none_texts = [i for i in none_texts if i not in old_texts]\n",
    "\n",
    "len(none_texts)"
   ]
  },
  {
   "cell_type": "markdown",
   "id": "c5b642b5",
   "metadata": {},
   "source": [
    "## Transformation des données"
   ]
  },
  {
   "cell_type": "markdown",
   "id": "a8a8b0b9",
   "metadata": {},
   "source": [
    "### Intent `book_flight`"
   ]
  },
  {
   "cell_type": "code",
   "execution_count": 41,
   "id": "be89a392",
   "metadata": {},
   "outputs": [
    {
     "data": {
      "text/plain": [
       "[{'text': 'Book me a flight from London to Paris tomorrow. I have only 100€.',\n",
       "  'intent': 'book_flight',\n",
       "  'entities': []}]"
      ]
     },
     "execution_count": 41,
     "metadata": {},
     "output_type": "execute_result"
    }
   ],
   "source": [
    "# On convertit les textes au format LUIS\n",
    "new_utterances = texts_to_luis_utterances(book_flight_texts, \"book_flight\")"
   ]
  },
  {
   "cell_type": "markdown",
   "id": "0b200bb3",
   "metadata": {},
   "source": [
    "### Intent `None`"
   ]
  },
  {
   "cell_type": "code",
   "execution_count": 42,
   "id": "69bfb2a9",
   "metadata": {},
   "outputs": [],
   "source": [
    "# On convertit les textes au format LUIS\n",
    "new_utterances += texts_to_luis_utterances(none_texts, \"None\")"
   ]
  },
  {
   "cell_type": "markdown",
   "id": "74f0c81d",
   "metadata": {},
   "source": [
    "## Labellisation des utterances"
   ]
  },
  {
   "cell_type": "markdown",
   "id": "2de298bd",
   "metadata": {},
   "source": [
    "### Création d'un modèle LUIS pour la labellisation"
   ]
  },
  {
   "cell_type": "code",
   "execution_count": 44,
   "id": "adfb287f",
   "metadata": {},
   "outputs": [],
   "source": [
    "labellisation_app_version = \"labellisation\""
   ]
  },
  {
   "cell_type": "code",
   "execution_count": 45,
   "id": "5f9b95d4",
   "metadata": {},
   "outputs": [],
   "source": [
    "create_new_version(env, labellisation_app_version, params[\"model\"], new_utterances)"
   ]
  },
  {
   "cell_type": "markdown",
   "id": "9315f793",
   "metadata": {},
   "source": [
    "### Labellisation manuelle"
   ]
  },
  {
   "cell_type": "markdown",
   "id": "03b7c5cf",
   "metadata": {},
   "source": [
    "### Téléchargement des utterances labellisées"
   ]
  },
  {
   "cell_type": "code",
   "execution_count": null,
   "id": "bc4a9e63",
   "metadata": {},
   "outputs": [],
   "source": [
    "new_utterances = get_utterances(env, labellisation_app_version)"
   ]
  },
  {
   "cell_type": "code",
   "execution_count": null,
   "id": "bf5ce58b",
   "metadata": {},
   "outputs": [],
   "source": [
    "new_utterances"
   ]
  },
  {
   "cell_type": "markdown",
   "id": "38312d07",
   "metadata": {},
   "source": [
    "### Suppression du modèle LUIS"
   ]
  },
  {
   "cell_type": "code",
   "execution_count": 54,
   "id": "5423b434",
   "metadata": {},
   "outputs": [],
   "source": [
    "delete(env, labellisation_app_version)"
   ]
  },
  {
   "cell_type": "markdown",
   "id": "089d0814",
   "metadata": {},
   "source": [
    "## Split des données"
   ]
  },
  {
   "cell_type": "code",
   "execution_count": 63,
   "id": "6621d941",
   "metadata": {},
   "outputs": [
    {
     "data": {
      "text/plain": [
       "1"
      ]
     },
     "execution_count": 63,
     "metadata": {},
     "output_type": "execute_result"
    }
   ],
   "source": [
    "# On va prendre 70% des données pour le jeu d'entrainement\n",
    "train_nb = int(len(new_utterances) * 0.7)"
   ]
  },
  {
   "cell_type": "code",
   "execution_count": 61,
   "id": "16bc8026",
   "metadata": {},
   "outputs": [],
   "source": [
    "# On mélanges les utterances\n",
    "random.shuffle(new_utterances)"
   ]
  },
  {
   "cell_type": "code",
   "execution_count": 64,
   "id": "547a8ac9",
   "metadata": {},
   "outputs": [],
   "source": [
    "# On crée le jeu d'entrainement\n",
    "new_utterances_train = new_utterances[:train_nb]"
   ]
  },
  {
   "cell_type": "code",
   "execution_count": 69,
   "id": "149e8381",
   "metadata": {},
   "outputs": [],
   "source": [
    "# On crée le jeu de test\n",
    "new_utterances_test = new_utterances[train_nb:]"
   ]
  },
  {
   "cell_type": "markdown",
   "id": "cd77f903",
   "metadata": {},
   "source": [
    "## Ajout des précédentes utterances"
   ]
  },
  {
   "cell_type": "code",
   "execution_count": 68,
   "id": "6809e2c2",
   "metadata": {},
   "outputs": [],
   "source": [
    "utterances_train += new_utterances_train"
   ]
  },
  {
   "cell_type": "code",
   "execution_count": 70,
   "id": "5c602718",
   "metadata": {},
   "outputs": [],
   "source": [
    "utterances_test[\"LabeledTestSetUtterances\"] += new_utterances_test"
   ]
  },
  {
   "cell_type": "markdown",
   "id": "3fad73dd",
   "metadata": {},
   "source": [
    "## Enregistrement des datasets"
   ]
  },
  {
   "cell_type": "code",
   "execution_count": 74,
   "id": "53d749d0",
   "metadata": {},
   "outputs": [
    {
     "name": "stdout",
     "output_type": "stream",
     "text": [
      "Validating arguments.\n",
      "Arguments validated.\n",
      "Uploading file to utterances/2021_12_27\n",
      "Uploading an estimated of 2 files\n",
      "Uploading /tmp/tmp918owj52/utterances_test.json\n",
      "Uploaded /tmp/tmp918owj52/utterances_test.json, 1 files out of an estimated total of 2\n",
      "Uploading /tmp/tmp918owj52/utterances_train.json\n",
      "Uploaded /tmp/tmp918owj52/utterances_train.json, 2 files out of an estimated total of 2\n",
      "Uploaded 2 files\n",
      "Creating new dataset\n"
     ]
    }
   ],
   "source": [
    "with tempfile.TemporaryDirectory() as tmp_dir_name:\n",
    "    # On enregistre les données\n",
    "    file_path = os.path.join(tmp_dir_name, \"utterances_train.json\")\n",
    "    with open(file_path, \"w\") as f:\n",
    "        json.dump(utterances_train, f)\n",
    "        \n",
    "    file_path = os.path.join(tmp_dir_name, \"utterances_test.json\")\n",
    "    with open(file_path, \"w\") as f:\n",
    "        json.dump(utterances_test, f)\n",
    "    \n",
    "    # On upload tous les fichiers dans le datastore\n",
    "    ds = Dataset.File.upload_directory(\n",
    "        tmp_dir_name,\n",
    "        target=(datastore, \"utterances/\" + datetime.now().strftime(\"%Y_%m_%d\")),\n",
    "        overwrite=True,\n",
    "        show_progress=True\n",
    "    )"
   ]
  },
  {
   "cell_type": "code",
   "execution_count": 75,
   "id": "5baf9dd1",
   "metadata": {},
   "outputs": [],
   "source": [
    "ds = ds.register(\n",
    "    workspace=ws,\n",
    "    name=\"utterances\",\n",
    "    description=\"Train and test utterances\",\n",
    "    create_new_version=True\n",
    ")"
   ]
  },
  {
   "cell_type": "code",
   "execution_count": 76,
   "id": "ae44bb61",
   "metadata": {},
   "outputs": [
    {
     "data": {
      "text/plain": [
       "4"
      ]
     },
     "execution_count": 76,
     "metadata": {},
     "output_type": "execute_result"
    }
   ],
   "source": [
    "ds.version"
   ]
  },
  {
   "cell_type": "markdown",
   "id": "d22dad9d",
   "metadata": {},
   "source": [
    "# Enregistrement des paramètres de LUIS sur Github"
   ]
  },
  {
   "cell_type": "markdown",
   "id": "0468d392",
   "metadata": {},
   "source": [
    "## Mise à jour des paramètres de LUIS"
   ]
  },
  {
   "cell_type": "code",
   "execution_count": 86,
   "id": "c3476004",
   "metadata": {},
   "outputs": [],
   "source": [
    "new_model_version = float(model_version) + 0.1\n",
    "new_model_version = f\"{new_model_version:0.1f}\""
   ]
  },
  {
   "cell_type": "code",
   "execution_count": 87,
   "id": "2c84791b",
   "metadata": {},
   "outputs": [],
   "source": [
    "new_params = params.copy()\n",
    "\n",
    "new_params[\"model\"][\"versionId\"] = new_model_version\n",
    "new_params[\"dataset\"][\"version\"] = ds.version"
   ]
  },
  {
   "cell_type": "code",
   "execution_count": 84,
   "id": "cb438ac1",
   "metadata": {},
   "outputs": [],
   "source": [
    "file_path = os.path.join(\"../P10_02_luis\", \"params.json\")\n",
    "with open(file_path, \"w\") as f:\n",
    "    json.dump(new_params, f)"
   ]
  },
  {
   "cell_type": "markdown",
   "id": "e0612254",
   "metadata": {},
   "source": [
    "## Evaluation du nouveau modèle"
   ]
  },
  {
   "cell_type": "code",
   "execution_count": 88,
   "id": "bfeeaef4",
   "metadata": {},
   "outputs": [],
   "source": [
    "tmp_app_version = \"tmp\""
   ]
  },
  {
   "cell_type": "code",
   "execution_count": 89,
   "id": "60272980",
   "metadata": {},
   "outputs": [],
   "source": [
    "create_new_version(env, tmp_app_version, new_params[\"model\"], utterances_train)"
   ]
  },
  {
   "cell_type": "code",
   "execution_count": 92,
   "id": "30973af7",
   "metadata": {},
   "outputs": [],
   "source": [
    "train(env, tmp_app_version)"
   ]
  },
  {
   "cell_type": "code",
   "execution_count": 93,
   "id": "4eb12bb9",
   "metadata": {},
   "outputs": [],
   "source": [
    "deploy(env, tmp_app_version, \"staging\")"
   ]
  },
  {
   "cell_type": "code",
   "execution_count": 95,
   "id": "cd4e353a",
   "metadata": {},
   "outputs": [
    {
     "data": {
      "text/html": [
       "<div>\n",
       "<style scoped>\n",
       "    .dataframe tbody tr th:only-of-type {\n",
       "        vertical-align: middle;\n",
       "    }\n",
       "\n",
       "    .dataframe tbody tr th {\n",
       "        vertical-align: top;\n",
       "    }\n",
       "\n",
       "    .dataframe thead th {\n",
       "        text-align: right;\n",
       "    }\n",
       "</style>\n",
       "<table border=\"1\" class=\"dataframe\">\n",
       "  <thead>\n",
       "    <tr style=\"text-align: right;\">\n",
       "      <th></th>\n",
       "      <th>model_name</th>\n",
       "      <th>model_type</th>\n",
       "      <th>precision</th>\n",
       "      <th>recall</th>\n",
       "      <th>f_score</th>\n",
       "    </tr>\n",
       "  </thead>\n",
       "  <tbody>\n",
       "    <tr>\n",
       "      <th>0</th>\n",
       "      <td>book_flight</td>\n",
       "      <td>Intent Classifier</td>\n",
       "      <td>0.97</td>\n",
       "      <td>1.00</td>\n",
       "      <td>0.99</td>\n",
       "    </tr>\n",
       "    <tr>\n",
       "      <th>1</th>\n",
       "      <td>None</td>\n",
       "      <td>Intent Classifier</td>\n",
       "      <td>1.00</td>\n",
       "      <td>0.98</td>\n",
       "      <td>0.99</td>\n",
       "    </tr>\n",
       "    <tr>\n",
       "      <th>2</th>\n",
       "      <td>from_dt</td>\n",
       "      <td>Entity Extractor</td>\n",
       "      <td>0.89</td>\n",
       "      <td>1.00</td>\n",
       "      <td>0.94</td>\n",
       "    </tr>\n",
       "    <tr>\n",
       "      <th>3</th>\n",
       "      <td>to_dt</td>\n",
       "      <td>Entity Extractor</td>\n",
       "      <td>0.98</td>\n",
       "      <td>0.92</td>\n",
       "      <td>0.95</td>\n",
       "    </tr>\n",
       "    <tr>\n",
       "      <th>4</th>\n",
       "      <td>budget</td>\n",
       "      <td>Entity Extractor</td>\n",
       "      <td>0.50</td>\n",
       "      <td>0.93</td>\n",
       "      <td>0.65</td>\n",
       "    </tr>\n",
       "    <tr>\n",
       "      <th>5</th>\n",
       "      <td>from_city</td>\n",
       "      <td>Entity Extractor</td>\n",
       "      <td>0.54</td>\n",
       "      <td>0.95</td>\n",
       "      <td>0.69</td>\n",
       "    </tr>\n",
       "    <tr>\n",
       "      <th>6</th>\n",
       "      <td>to_city</td>\n",
       "      <td>Entity Extractor</td>\n",
       "      <td>0.69</td>\n",
       "      <td>1.00</td>\n",
       "      <td>0.81</td>\n",
       "    </tr>\n",
       "  </tbody>\n",
       "</table>\n",
       "</div>"
      ],
      "text/plain": [
       "    model_name         model_type  precision  recall  f_score\n",
       "0  book_flight  Intent Classifier       0.97    1.00     0.99\n",
       "1         None  Intent Classifier       1.00    0.98     0.99\n",
       "2      from_dt   Entity Extractor       0.89    1.00     0.94\n",
       "3        to_dt   Entity Extractor       0.98    0.92     0.95\n",
       "4       budget   Entity Extractor       0.50    0.93     0.65\n",
       "5    from_city   Entity Extractor       0.54    0.95     0.69\n",
       "6      to_city   Entity Extractor       0.69    1.00     0.81"
      ]
     },
     "execution_count": 95,
     "metadata": {},
     "output_type": "execute_result"
    }
   ],
   "source": [
    "res = evaluate(env, is_staging=True, utterances=utterances_test)\n",
    "res"
   ]
  },
  {
   "cell_type": "code",
   "execution_count": 98,
   "id": "73e47864",
   "metadata": {},
   "outputs": [
    {
     "name": "stdout",
     "output_type": "stream",
     "text": [
      "## Evaluation sur le jeu de test\n",
      "\n",
      "<table border=\"1\" class=\"dataframe\">\n",
      "  <thead>\n",
      "    <tr style=\"text-align: right;\">\n",
      "      <th></th>\n",
      "      <th>model_name</th>\n",
      "      <th>model_type</th>\n",
      "      <th>precision</th>\n",
      "      <th>recall</th>\n",
      "      <th>f_score</th>\n",
      "    </tr>\n",
      "  </thead>\n",
      "  <tbody>\n",
      "    <tr>\n",
      "      <th>0</th>\n",
      "      <td>book_flight</td>\n",
      "      <td>Intent Classifier</td>\n",
      "      <td>0.97</td>\n",
      "      <td>1.00</td>\n",
      "      <td>0.99</td>\n",
      "    </tr>\n",
      "    <tr>\n",
      "      <th>1</th>\n",
      "      <td>None</td>\n",
      "      <td>Intent Classifier</td>\n",
      "      <td>1.00</td>\n",
      "      <td>0.98</td>\n",
      "      <td>0.99</td>\n",
      "    </tr>\n",
      "    <tr>\n",
      "      <th>2</th>\n",
      "      <td>from_dt</td>\n",
      "      <td>Entity Extractor</td>\n",
      "      <td>0.89</td>\n",
      "      <td>1.00</td>\n",
      "      <td>0.94</td>\n",
      "    </tr>\n",
      "    <tr>\n",
      "      <th>3</th>\n",
      "      <td>to_dt</td>\n",
      "      <td>Entity Extractor</td>\n",
      "      <td>0.98</td>\n",
      "      <td>0.92</td>\n",
      "      <td>0.95</td>\n",
      "    </tr>\n",
      "    <tr>\n",
      "      <th>4</th>\n",
      "      <td>budget</td>\n",
      "      <td>Entity Extractor</td>\n",
      "      <td>0.50</td>\n",
      "      <td>0.93</td>\n",
      "      <td>0.65</td>\n",
      "    </tr>\n",
      "    <tr>\n",
      "      <th>5</th>\n",
      "      <td>from_city</td>\n",
      "      <td>Entity Extractor</td>\n",
      "      <td>0.54</td>\n",
      "      <td>0.95</td>\n",
      "      <td>0.69</td>\n",
      "    </tr>\n",
      "    <tr>\n",
      "      <th>6</th>\n",
      "      <td>to_city</td>\n",
      "      <td>Entity Extractor</td>\n",
      "      <td>0.69</td>\n",
      "      <td>1.00</td>\n",
      "      <td>0.81</td>\n",
      "    </tr>\n",
      "  </tbody>\n",
      "</table>\n"
     ]
    }
   ],
   "source": [
    "print(\"## Evaluation sur le jeu de test\\n\")\n",
    "\n",
    "print(res.to_html(float_format=lambda x: f\"{x:0.2f}\"))"
   ]
  },
  {
   "cell_type": "code",
   "execution_count": 97,
   "id": "9582704d",
   "metadata": {},
   "outputs": [],
   "source": [
    " delete(env, tmp_app_version)"
   ]
  },
  {
   "cell_type": "code",
   "execution_count": null,
   "id": "7ca9f60d",
   "metadata": {},
   "outputs": [],
   "source": []
  }
 ],
 "metadata": {
  "kernelspec": {
   "display_name": "p10",
   "language": "python",
   "name": "p10"
  },
  "language_info": {
   "codemirror_mode": {
    "name": "ipython",
    "version": 3
   },
   "file_extension": ".py",
   "mimetype": "text/x-python",
   "name": "python",
   "nbconvert_exporter": "python",
   "pygments_lexer": "ipython3",
   "version": "3.8.8"
  },
  "toc": {
   "base_numbering": 1,
   "nav_menu": {},
   "number_sections": true,
   "sideBar": true,
   "skip_h1_title": false,
   "title_cell": "Table of Contents",
   "title_sidebar": "Contents",
   "toc_cell": false,
   "toc_position": {
    "height": "calc(100% - 180px)",
    "left": "10px",
    "top": "150px",
    "width": "345px"
   },
   "toc_section_display": true,
   "toc_window_display": true
  }
 },
 "nbformat": 4,
 "nbformat_minor": 5
}
