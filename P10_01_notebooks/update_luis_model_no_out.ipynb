{
 "cells": [
  {
   "cell_type": "code",
   "execution_count": 49,
   "id": "69c7ffef",
   "metadata": {},
   "outputs": [
    {
     "name": "stdout",
     "output_type": "stream",
     "text": [
      "The autoreload extension is already loaded. To reload it, use:\n",
      "  %reload_ext autoreload\n"
     ]
    }
   ],
   "source": [
    "%load_ext autoreload\n",
    "%autoreload 2\n",
    "\n",
    "from notebook import *"
   ]
  },
  {
   "cell_type": "code",
   "execution_count": 99,
   "id": "89a0975b",
   "metadata": {},
   "outputs": [
    {
     "name": "stderr",
     "output_type": "stream",
     "text": [
      "[NbConvertApp] WARNING | Config option `template_path` not recognized by `NotebookExporter`.\n",
      "[NbConvertApp] Converting notebook analyse_insatisfactions.ipynb to notebook\n",
      "[NbConvertApp] Writing 11338 bytes to analyse_insatisfactions_no_out.ipynb\n",
      "[NbConvertApp] WARNING | Config option `template_path` not recognized by `NotebookExporter`.\n",
      "[NbConvertApp] Converting notebook create_luis_model.ipynb to notebook\n",
      "[NbConvertApp] Writing 33548 bytes to create_luis_model_no_out.ipynb\n",
      "[NbConvertApp] WARNING | Config option `template_path` not recognized by `NotebookExporter`.\n",
      "[NbConvertApp] Converting notebook update_luis_model.ipynb to notebook\n",
      "[NbConvertApp] Writing 23123 bytes to update_luis_model_no_out.ipynb\n"
     ]
    }
   ],
   "source": [
    "# # Copie les notebooks et supprime les sorties.\n",
    "# copy_and_clean_notebooks()"
   ]
  },
  {
   "cell_type": "markdown",
   "id": "5d57a3b1",
   "metadata": {},
   "source": [
    "# Création d'une nouvelle branche"
   ]
  },
  {
   "cell_type": "markdown",
   "id": "f3367f80",
   "metadata": {},
   "source": [
    "# Chargement des ressources"
   ]
  },
  {
   "cell_type": "markdown",
   "id": "5cab4bcd",
   "metadata": {},
   "source": [
    "## Chargement du workspace"
   ]
  },
  {
   "cell_type": "code",
   "execution_count": 10,
   "id": "27df5ae2",
   "metadata": {},
   "outputs": [],
   "source": [
    "# On charge l’espace de travail Azure Machine Learning existant\n",
    "ws = Workspace.from_config()"
   ]
  },
  {
   "cell_type": "markdown",
   "id": "833dfc16",
   "metadata": {},
   "source": [
    "## Chargement du magasin des données"
   ]
  },
  {
   "cell_type": "code",
   "execution_count": 73,
   "id": "7c3e09e3",
   "metadata": {},
   "outputs": [],
   "source": [
    "# On charge le magasin de données par défaut\n",
    "datastore = ws.get_default_datastore()"
   ]
  },
  {
   "cell_type": "markdown",
   "id": "7d77bf90",
   "metadata": {},
   "source": [
    "## Chargement des paramètres de LUIS"
   ]
  },
  {
   "cell_type": "code",
   "execution_count": 2,
   "id": "192ce075",
   "metadata": {},
   "outputs": [],
   "source": [
    "env = LUISEnv(\"../P10_02_luis/.env\")"
   ]
  },
  {
   "cell_type": "code",
   "execution_count": 4,
   "id": "452e36b4",
   "metadata": {},
   "outputs": [],
   "source": [
    "with open(\"../P10_02_luis/params.json\") as f:\n",
    "    params = json.load(f)"
   ]
  },
  {
   "cell_type": "code",
   "execution_count": 6,
   "id": "e7a4dc50",
   "metadata": {},
   "outputs": [],
   "source": [
    "model_version = str(params[\"model\"][\"versionId\"])\n",
    "ds_name = params[\"dataset\"][\"name\"]\n",
    "ds_version = params[\"dataset\"][\"version\"]"
   ]
  },
  {
   "cell_type": "markdown",
   "id": "b61986cb",
   "metadata": {},
   "source": [
    "# Mise à jour du jeu de données"
   ]
  },
  {
   "cell_type": "markdown",
   "id": "6aa0e218",
   "metadata": {},
   "source": [
    "## Chargement des nouvelles utterances"
   ]
  },
  {
   "cell_type": "markdown",
   "id": "29790bce",
   "metadata": {},
   "source": [
    "### Intent `book_flight`"
   ]
  },
  {
   "cell_type": "code",
   "execution_count": 34,
   "id": "236fcbf9",
   "metadata": {},
   "outputs": [
    {
     "data": {
      "text/plain": [
       "1"
      ]
     },
     "execution_count": 34,
     "metadata": {},
     "output_type": "execute_result"
    }
   ],
   "source": [
    "# On colle les nouveaux textes à labelliser\n",
    "book_flight_texts = [\n",
    "    \"Book me a flight from London to Paris tomorrow. I have only 100€.\"\n",
    "]\n",
    "\n",
    "len(book_flight_texts)"
   ]
  },
  {
   "cell_type": "markdown",
   "id": "f2bd46c2",
   "metadata": {},
   "source": [
    "### Intent `None`"
   ]
  },
  {
   "cell_type": "code",
   "execution_count": 35,
   "id": "036fb2f0",
   "metadata": {},
   "outputs": [
    {
     "data": {
      "text/plain": [
       "1"
      ]
     },
     "execution_count": 35,
     "metadata": {},
     "output_type": "execute_result"
    }
   ],
   "source": [
    "# On colle les nouveaux textes à labelliser\n",
    "none_texts = [\n",
    "    \"Hey !!!\"\n",
    "]\n",
    "\n",
    "len(none_texts)"
   ]
  },
  {
   "cell_type": "markdown",
   "id": "ef68a943",
   "metadata": {},
   "source": [
    "## Chargement du précédent jeu de données"
   ]
  },
  {
   "cell_type": "code",
   "execution_count": 11,
   "id": "ab5be7f9",
   "metadata": {},
   "outputs": [],
   "source": [
    "with tempfile.TemporaryDirectory() as tmp_dir_name:\n",
    "    dataset = Dataset.get_by_name(ws, **params[\"dataset\"])\n",
    "    dataset.download(target_path=tmp_dir_name, overwrite=False)\n",
    "\n",
    "    # On charge le jeu d'entrainement\n",
    "    file_path = os.path.join(tmp_dir_name, \"utterances_train.json\")\n",
    "    with open(file_path) as f:\n",
    "        utterances_train = json.load(f)\n",
    "\n",
    "    # On charge le jeu de test\n",
    "    file_path = os.path.join(tmp_dir_name, \"utterances_test.json\")\n",
    "    with open(file_path) as f:\n",
    "        utterances_test = json.load(f)"
   ]
  },
  {
   "cell_type": "code",
   "execution_count": 31,
   "id": "aa3e0b08",
   "metadata": {},
   "outputs": [],
   "source": [
    "# Extraction des textes du jeu de données pour l'intent \"book_flight\"\n",
    "old_texts = get_texts_from_dataset(\n",
    "    utterances_train,\n",
    "    utterances_test,\n",
    "    \"book_flight\"\n",
    ")\n",
    "\n",
    "# Extraction des textes du jeu de données pour l'intent \"None\"\n",
    "old_texts += get_texts_from_dataset(\n",
    "    utterances_train,\n",
    "    utterances_test,\n",
    "    \"None\"\n",
    ")"
   ]
  },
  {
   "cell_type": "markdown",
   "id": "abe9e796",
   "metadata": {},
   "source": [
    "## Suppression des doublons"
   ]
  },
  {
   "cell_type": "markdown",
   "id": "9d5cdea6",
   "metadata": {},
   "source": [
    "### Intent `book_flight`"
   ]
  },
  {
   "cell_type": "code",
   "execution_count": 36,
   "id": "57731fd1",
   "metadata": {},
   "outputs": [
    {
     "data": {
      "text/plain": [
       "1"
      ]
     },
     "execution_count": 36,
     "metadata": {},
     "output_type": "execute_result"
    }
   ],
   "source": [
    "# On supprime les doublons pour l'intent \"book_flight\"\n",
    "book_flight_texts = [i for i in book_flight_texts if i not in old_texts]\n",
    "\n",
    "len(book_flight_texts)"
   ]
  },
  {
   "cell_type": "markdown",
   "id": "8d90280a",
   "metadata": {},
   "source": [
    "### Intent `None`"
   ]
  },
  {
   "cell_type": "code",
   "execution_count": 37,
   "id": "4cc66a77",
   "metadata": {},
   "outputs": [
    {
     "data": {
      "text/plain": [
       "1"
      ]
     },
     "execution_count": 37,
     "metadata": {},
     "output_type": "execute_result"
    }
   ],
   "source": [
    "# On supprime les doublons pour l'intent \"None\"\n",
    "none_texts = [i for i in none_texts if i not in old_texts]\n",
    "\n",
    "len(none_texts)"
   ]
  },
  {
   "cell_type": "markdown",
   "id": "fac40b97",
   "metadata": {},
   "source": [
    "## Transformation des données"
   ]
  },
  {
   "cell_type": "markdown",
   "id": "acdb1f7e",
   "metadata": {},
   "source": [
    "### Intent `book_flight`"
   ]
  },
  {
   "cell_type": "code",
   "execution_count": 41,
   "id": "5112870f",
   "metadata": {},
   "outputs": [
    {
     "data": {
      "text/plain": [
       "[{'text': 'Book me a flight from London to Paris tomorrow. I have only 100€.',\n",
       "  'intent': 'book_flight',\n",
       "  'entities': []}]"
      ]
     },
     "execution_count": 41,
     "metadata": {},
     "output_type": "execute_result"
    }
   ],
   "source": [
    "# On convertit les textes au format LUIS\n",
    "new_utterances = texts_to_luis_utterances(book_flight_texts, \"book_flight\")"
   ]
  },
  {
   "cell_type": "markdown",
   "id": "9ba44514",
   "metadata": {},
   "source": [
    "### Intent `None`"
   ]
  },
  {
   "cell_type": "code",
   "execution_count": 42,
   "id": "669fb68e",
   "metadata": {},
   "outputs": [],
   "source": [
    "# On convertit les textes au format LUIS\n",
    "new_utterances += texts_to_luis_utterances(none_texts, \"None\")"
   ]
  },
  {
   "cell_type": "markdown",
   "id": "17193ae7",
   "metadata": {},
   "source": [
    "## Labellisation des utterances"
   ]
  },
  {
   "cell_type": "markdown",
   "id": "0f9d563d",
   "metadata": {},
   "source": [
    "### Création d'un modèle LUIS pour la labellisation"
   ]
  },
  {
   "cell_type": "code",
   "execution_count": 44,
   "id": "22637f44",
   "metadata": {},
   "outputs": [],
   "source": [
    "labellisation_app_version = \"labellisation\""
   ]
  },
  {
   "cell_type": "code",
   "execution_count": 45,
   "id": "e8973268",
   "metadata": {},
   "outputs": [],
   "source": [
    "create_new_version(env, labellisation_app_version, params[\"model\"], new_utterances)"
   ]
  },
  {
   "cell_type": "markdown",
   "id": "717e18b9",
   "metadata": {},
   "source": [
    "### Labellisation manuelle"
   ]
  },
  {
   "cell_type": "markdown",
   "id": "0760d58e",
   "metadata": {},
   "source": [
    "### Téléchargement des utterances labellisées"
   ]
  },
  {
   "cell_type": "code",
   "execution_count": null,
   "id": "f039721f",
   "metadata": {},
   "outputs": [],
   "source": [
    "new_utterances = get_utterances(env, labellisation_app_version)"
   ]
  },
  {
   "cell_type": "code",
   "execution_count": null,
   "id": "908cfbe8",
   "metadata": {},
   "outputs": [],
   "source": [
    "new_utterances"
   ]
  },
  {
   "cell_type": "markdown",
   "id": "62b4fdcc",
   "metadata": {},
   "source": [
    "### Suppression du modèle LUIS"
   ]
  },
  {
   "cell_type": "code",
   "execution_count": 54,
   "id": "cef55cb6",
   "metadata": {},
   "outputs": [],
   "source": [
    "delete(env, labellisation_app_version)"
   ]
  },
  {
   "cell_type": "markdown",
   "id": "65ae3c98",
   "metadata": {},
   "source": [
    "## Split des données"
   ]
  },
  {
   "cell_type": "code",
   "execution_count": 63,
   "id": "ba4435d1",
   "metadata": {},
   "outputs": [
    {
     "data": {
      "text/plain": [
       "1"
      ]
     },
     "execution_count": 63,
     "metadata": {},
     "output_type": "execute_result"
    }
   ],
   "source": [
    "# On va prendre 70% des données pour le jeu d'entrainement\n",
    "train_nb = int(len(new_utterances) * 0.7)"
   ]
  },
  {
   "cell_type": "code",
   "execution_count": 61,
   "id": "e6c514fd",
   "metadata": {},
   "outputs": [],
   "source": [
    "# On mélanges les utterances\n",
    "random.shuffle(new_utterances)"
   ]
  },
  {
   "cell_type": "code",
   "execution_count": 64,
   "id": "5ffac64f",
   "metadata": {},
   "outputs": [],
   "source": [
    "# On crée le jeu d'entrainement\n",
    "new_utterances_train = new_utterances[:train_nb]"
   ]
  },
  {
   "cell_type": "code",
   "execution_count": 69,
   "id": "4d4cfa68",
   "metadata": {},
   "outputs": [],
   "source": [
    "# On crée le jeu de test\n",
    "new_utterances_test = new_utterances[train_nb:]"
   ]
  },
  {
   "cell_type": "markdown",
   "id": "af93ff52",
   "metadata": {},
   "source": [
    "## Ajout des précédentes utterances"
   ]
  },
  {
   "cell_type": "code",
   "execution_count": 68,
   "id": "eeb845cc",
   "metadata": {},
   "outputs": [],
   "source": [
    "utterances_train += new_utterances_train"
   ]
  },
  {
   "cell_type": "code",
   "execution_count": 70,
   "id": "68fbf7ed",
   "metadata": {},
   "outputs": [],
   "source": [
    "utterances_test[\"LabeledTestSetUtterances\"] += new_utterances_test"
   ]
  },
  {
   "cell_type": "markdown",
   "id": "524445b3",
   "metadata": {},
   "source": [
    "## Enregistrement des datasets"
   ]
  },
  {
   "cell_type": "code",
   "execution_count": 74,
   "id": "b4b54db1",
   "metadata": {},
   "outputs": [
    {
     "name": "stdout",
     "output_type": "stream",
     "text": [
      "Validating arguments.\n",
      "Arguments validated.\n",
      "Uploading file to utterances/2021_12_27\n",
      "Uploading an estimated of 2 files\n",
      "Uploading /tmp/tmp918owj52/utterances_test.json\n",
      "Uploaded /tmp/tmp918owj52/utterances_test.json, 1 files out of an estimated total of 2\n",
      "Uploading /tmp/tmp918owj52/utterances_train.json\n",
      "Uploaded /tmp/tmp918owj52/utterances_train.json, 2 files out of an estimated total of 2\n",
      "Uploaded 2 files\n",
      "Creating new dataset\n"
     ]
    }
   ],
   "source": [
    "with tempfile.TemporaryDirectory() as tmp_dir_name:\n",
    "    # On enregistre les données\n",
    "    file_path = os.path.join(tmp_dir_name, \"utterances_train.json\")\n",
    "    with open(file_path, \"w\") as f:\n",
    "        json.dump(utterances_train, f)\n",
    "        \n",
    "    file_path = os.path.join(tmp_dir_name, \"utterances_test.json\")\n",
    "    with open(file_path, \"w\") as f:\n",
    "        json.dump(utterances_test, f)\n",
    "    \n",
    "    # On upload tous les fichiers dans le datastore\n",
    "    ds = Dataset.File.upload_directory(\n",
    "        tmp_dir_name,\n",
    "        target=(datastore, \"utterances/\" + datetime.now().strftime(\"%Y_%m_%d\")),\n",
    "        overwrite=True,\n",
    "        show_progress=True\n",
    "    )"
   ]
  },
  {
   "cell_type": "code",
   "execution_count": 75,
   "id": "c36f51a5",
   "metadata": {},
   "outputs": [],
   "source": [
    "ds = ds.register(\n",
    "    workspace=ws,\n",
    "    name=\"utterances\",\n",
    "    description=\"Train and test utterances\",\n",
    "    create_new_version=True\n",
    ")"
   ]
  },
  {
   "cell_type": "code",
   "execution_count": 76,
   "id": "48e42cd3",
   "metadata": {},
   "outputs": [
    {
     "data": {
      "text/plain": [
       "4"
      ]
     },
     "execution_count": 76,
     "metadata": {},
     "output_type": "execute_result"
    }
   ],
   "source": [
    "ds.version"
   ]
  },
  {
   "cell_type": "markdown",
   "id": "11957709",
   "metadata": {},
   "source": [
    "# Enregistrement des paramètres de LUIS sur Github"
   ]
  },
  {
   "cell_type": "markdown",
   "id": "a2c09f50",
   "metadata": {},
   "source": [
    "## Mise à jour des paramètres de LUIS"
   ]
  },
  {
   "cell_type": "code",
   "execution_count": null,
   "id": "132dc998",
   "metadata": {},
   "outputs": [],
   "source": [
    "new_params = params.copy()"
   ]
  },
  {
   "cell_type": "code",
   "execution_count": 106,
   "id": "d4e67b4a",
   "metadata": {},
   "outputs": [],
   "source": [
    "tmp = params.copy()\n",
    "tmp[\"model\"][\"utterances\"] = []"
   ]
  },
  {
   "cell_type": "code",
   "execution_count": 108,
   "id": "802d77a7",
   "metadata": {},
   "outputs": [
    {
     "name": "stdout",
     "output_type": "stream",
     "text": [
      "{\n",
      "  \"luis_schema_version\": \"7.0.0\",\n",
      "  \"intents\": [\n",
      "    {\n",
      "      \"name\": \"book_flight\",\n",
      "      \"features\": []\n",
      "    },\n",
      "    {\n",
      "      \"name\": \"None\",\n",
      "      \"features\": []\n",
      "    }\n",
      "  ],\n",
      "  \"entities\": [\n",
      "    {\n",
      "      \"name\": \"budget\",\n",
      "      \"children\": [],\n",
      "      \"roles\": [],\n",
      "      \"features\": [\n",
      "        {\n",
      "          \"modelName\": \"number\",\n",
      "          \"isRequired\": true\n",
      "        }\n",
      "      ]\n",
      "    },\n",
      "    {\n",
      "      \"name\": \"from_city\",\n",
      "      \"children\": [],\n",
      "      \"roles\": [],\n",
      "      \"features\": [\n",
      "        {\n",
      "          \"featureName\": \"from_phrase_list\",\n",
      "          \"isRequired\": false\n",
      "        },\n",
      "        {\n",
      "          \"modelName\": \"geographyV2\",\n",
      "          \"isRequired\": true\n",
      "        }\n",
      "      ]\n",
      "    },\n",
      "    {\n",
      "      \"name\": \"from_dt\",\n",
      "      \"children\": [],\n",
      "      \"roles\": [],\n",
      "      \"features\": []\n",
      "    },\n",
      "    {\n",
      "      \"name\": \"to_city\",\n",
      "      \"children\": [],\n",
      "      \"roles\": [],\n",
      "      \"features\": [\n",
      "        {\n",
      "          \"featureName\": \"to_phrase_list\",\n",
      "          \"isRequired\": false\n",
      "        },\n",
      "        {\n",
      "          \"modelName\": \"geographyV2\",\n",
      "          \"isRequired\": true\n",
      "        }\n",
      "      ]\n",
      "    },\n",
      "    {\n",
      "      \"name\": \"to_dt\",\n",
      "      \"children\": [],\n",
      "      \"roles\": [],\n",
      "      \"features\": []\n",
      "    }\n",
      "  ],\n",
      "  \"hierarchicals\": [],\n",
      "  \"composites\": [],\n",
      "  \"closedLists\": [],\n",
      "  \"prebuiltEntities\": [\n",
      "    {\n",
      "      \"name\": \"datetimeV2\",\n",
      "      \"roles\": []\n",
      "    },\n",
      "    {\n",
      "      \"name\": \"geographyV2\",\n",
      "      \"roles\": []\n",
      "    },\n",
      "    {\n",
      "      \"name\": \"number\",\n",
      "      \"roles\": []\n",
      "    }\n",
      "  ],\n",
      "  \"utterances\": [],\n",
      "  \"versionId\": \"0.2\",\n",
      "  \"name\": \"p10-luis-app\",\n",
      "  \"desc\": \"\",\n",
      "  \"culture\": \"en-us\",\n",
      "  \"tokenizerVersion\": \"1.0.0\",\n",
      "  \"patternAnyEntities\": [],\n",
      "  \"regex_entities\": [],\n",
      "  \"phraselists\": [\n",
      "    {\n",
      "      \"name\": \"from_phrase_list\",\n",
      "      \"mode\": true,\n",
      "      \"words\": \"from,start at,begin from,leave\",\n",
      "      \"activated\": true,\n",
      "      \"enabledForAllModels\": false\n",
      "    },\n",
      "    {\n",
      "      \"name\": \"to_phrase_list\",\n",
      "      \"mode\": true,\n",
      "      \"words\": \"to,arrive,land at,go,going,stay,heading\",\n",
      "      \"activated\": true,\n",
      "      \"enabledForAllModels\": false\n",
      "    }\n",
      "  ],\n",
      "  \"regex_features\": [],\n",
      "  \"patterns\": [],\n",
      "  \"settings\": []\n",
      "}\n"
     ]
    }
   ],
   "source": [
    "print(json.dumps(tmp[\"model\"], indent=2))"
   ]
  },
  {
   "cell_type": "code",
   "execution_count": null,
   "id": "188952ac",
   "metadata": {},
   "outputs": [],
   "source": []
  },
  {
   "cell_type": "code",
   "execution_count": null,
   "id": "262f6416",
   "metadata": {},
   "outputs": [],
   "source": []
  },
  {
   "cell_type": "code",
   "execution_count": null,
   "id": "1bbb27d7",
   "metadata": {},
   "outputs": [],
   "source": []
  },
  {
   "cell_type": "code",
   "execution_count": null,
   "id": "5aa8306e",
   "metadata": {},
   "outputs": [],
   "source": []
  },
  {
   "cell_type": "code",
   "execution_count": 86,
   "id": "385a0bac",
   "metadata": {},
   "outputs": [],
   "source": [
    "# new_model_version = float(model_version) + 0.1\n",
    "# new_model_version = f\"{new_model_version:0.1f}\"\n",
    "\n",
    "# new_params[\"model\"][\"versionId\"] = new_model_version"
   ]
  },
  {
   "cell_type": "code",
   "execution_count": 87,
   "id": "9fdae0a0",
   "metadata": {},
   "outputs": [],
   "source": [
    "new_params[\"dataset\"][\"version\"] = ds.version"
   ]
  },
  {
   "cell_type": "code",
   "execution_count": 84,
   "id": "90316403",
   "metadata": {},
   "outputs": [],
   "source": [
    "file_path = os.path.join(\"../P10_02_luis\", \"params.json\")\n",
    "with open(file_path, \"w\") as f:\n",
    "    json.dump(new_params, f)"
   ]
  },
  {
   "cell_type": "markdown",
   "id": "650cd4b9",
   "metadata": {},
   "source": [
    "## Evaluation du nouveau modèle"
   ]
  },
  {
   "cell_type": "code",
   "execution_count": 88,
   "id": "9e200445",
   "metadata": {},
   "outputs": [],
   "source": [
    "tmp_app_version = \"tmp\""
   ]
  },
  {
   "cell_type": "code",
   "execution_count": 89,
   "id": "036eb3ed",
   "metadata": {},
   "outputs": [],
   "source": [
    "create_new_version(env, tmp_app_version, new_params[\"model\"], utterances_train)"
   ]
  },
  {
   "cell_type": "code",
   "execution_count": 92,
   "id": "b43d275c",
   "metadata": {},
   "outputs": [],
   "source": [
    "train(env, tmp_app_version)"
   ]
  },
  {
   "cell_type": "code",
   "execution_count": 93,
   "id": "e4e3380b",
   "metadata": {},
   "outputs": [],
   "source": [
    "deploy(env, tmp_app_version, \"staging\")"
   ]
  },
  {
   "cell_type": "code",
   "execution_count": 95,
   "id": "604e7d24",
   "metadata": {},
   "outputs": [
    {
     "data": {
      "text/html": [
       "<div>\n",
       "<style scoped>\n",
       "    .dataframe tbody tr th:only-of-type {\n",
       "        vertical-align: middle;\n",
       "    }\n",
       "\n",
       "    .dataframe tbody tr th {\n",
       "        vertical-align: top;\n",
       "    }\n",
       "\n",
       "    .dataframe thead th {\n",
       "        text-align: right;\n",
       "    }\n",
       "</style>\n",
       "<table border=\"1\" class=\"dataframe\">\n",
       "  <thead>\n",
       "    <tr style=\"text-align: right;\">\n",
       "      <th></th>\n",
       "      <th>model_name</th>\n",
       "      <th>model_type</th>\n",
       "      <th>precision</th>\n",
       "      <th>recall</th>\n",
       "      <th>f_score</th>\n",
       "    </tr>\n",
       "  </thead>\n",
       "  <tbody>\n",
       "    <tr>\n",
       "      <th>0</th>\n",
       "      <td>book_flight</td>\n",
       "      <td>Intent Classifier</td>\n",
       "      <td>0.97</td>\n",
       "      <td>1.00</td>\n",
       "      <td>0.99</td>\n",
       "    </tr>\n",
       "    <tr>\n",
       "      <th>1</th>\n",
       "      <td>None</td>\n",
       "      <td>Intent Classifier</td>\n",
       "      <td>1.00</td>\n",
       "      <td>0.98</td>\n",
       "      <td>0.99</td>\n",
       "    </tr>\n",
       "    <tr>\n",
       "      <th>2</th>\n",
       "      <td>from_dt</td>\n",
       "      <td>Entity Extractor</td>\n",
       "      <td>0.89</td>\n",
       "      <td>1.00</td>\n",
       "      <td>0.94</td>\n",
       "    </tr>\n",
       "    <tr>\n",
       "      <th>3</th>\n",
       "      <td>to_dt</td>\n",
       "      <td>Entity Extractor</td>\n",
       "      <td>0.98</td>\n",
       "      <td>0.92</td>\n",
       "      <td>0.95</td>\n",
       "    </tr>\n",
       "    <tr>\n",
       "      <th>4</th>\n",
       "      <td>budget</td>\n",
       "      <td>Entity Extractor</td>\n",
       "      <td>0.50</td>\n",
       "      <td>0.93</td>\n",
       "      <td>0.65</td>\n",
       "    </tr>\n",
       "    <tr>\n",
       "      <th>5</th>\n",
       "      <td>from_city</td>\n",
       "      <td>Entity Extractor</td>\n",
       "      <td>0.54</td>\n",
       "      <td>0.95</td>\n",
       "      <td>0.69</td>\n",
       "    </tr>\n",
       "    <tr>\n",
       "      <th>6</th>\n",
       "      <td>to_city</td>\n",
       "      <td>Entity Extractor</td>\n",
       "      <td>0.69</td>\n",
       "      <td>1.00</td>\n",
       "      <td>0.81</td>\n",
       "    </tr>\n",
       "  </tbody>\n",
       "</table>\n",
       "</div>"
      ],
      "text/plain": [
       "    model_name         model_type  precision  recall  f_score\n",
       "0  book_flight  Intent Classifier       0.97    1.00     0.99\n",
       "1         None  Intent Classifier       1.00    0.98     0.99\n",
       "2      from_dt   Entity Extractor       0.89    1.00     0.94\n",
       "3        to_dt   Entity Extractor       0.98    0.92     0.95\n",
       "4       budget   Entity Extractor       0.50    0.93     0.65\n",
       "5    from_city   Entity Extractor       0.54    0.95     0.69\n",
       "6      to_city   Entity Extractor       0.69    1.00     0.81"
      ]
     },
     "execution_count": 95,
     "metadata": {},
     "output_type": "execute_result"
    }
   ],
   "source": [
    "res = evaluate(env, is_staging=True, utterances=utterances_test)\n",
    "res"
   ]
  },
  {
   "cell_type": "code",
   "execution_count": 98,
   "id": "54b64436",
   "metadata": {},
   "outputs": [
    {
     "name": "stdout",
     "output_type": "stream",
     "text": [
      "## Evaluation sur le jeu de test\n",
      "\n",
      "<table border=\"1\" class=\"dataframe\">\n",
      "  <thead>\n",
      "    <tr style=\"text-align: right;\">\n",
      "      <th></th>\n",
      "      <th>model_name</th>\n",
      "      <th>model_type</th>\n",
      "      <th>precision</th>\n",
      "      <th>recall</th>\n",
      "      <th>f_score</th>\n",
      "    </tr>\n",
      "  </thead>\n",
      "  <tbody>\n",
      "    <tr>\n",
      "      <th>0</th>\n",
      "      <td>book_flight</td>\n",
      "      <td>Intent Classifier</td>\n",
      "      <td>0.97</td>\n",
      "      <td>1.00</td>\n",
      "      <td>0.99</td>\n",
      "    </tr>\n",
      "    <tr>\n",
      "      <th>1</th>\n",
      "      <td>None</td>\n",
      "      <td>Intent Classifier</td>\n",
      "      <td>1.00</td>\n",
      "      <td>0.98</td>\n",
      "      <td>0.99</td>\n",
      "    </tr>\n",
      "    <tr>\n",
      "      <th>2</th>\n",
      "      <td>from_dt</td>\n",
      "      <td>Entity Extractor</td>\n",
      "      <td>0.89</td>\n",
      "      <td>1.00</td>\n",
      "      <td>0.94</td>\n",
      "    </tr>\n",
      "    <tr>\n",
      "      <th>3</th>\n",
      "      <td>to_dt</td>\n",
      "      <td>Entity Extractor</td>\n",
      "      <td>0.98</td>\n",
      "      <td>0.92</td>\n",
      "      <td>0.95</td>\n",
      "    </tr>\n",
      "    <tr>\n",
      "      <th>4</th>\n",
      "      <td>budget</td>\n",
      "      <td>Entity Extractor</td>\n",
      "      <td>0.50</td>\n",
      "      <td>0.93</td>\n",
      "      <td>0.65</td>\n",
      "    </tr>\n",
      "    <tr>\n",
      "      <th>5</th>\n",
      "      <td>from_city</td>\n",
      "      <td>Entity Extractor</td>\n",
      "      <td>0.54</td>\n",
      "      <td>0.95</td>\n",
      "      <td>0.69</td>\n",
      "    </tr>\n",
      "    <tr>\n",
      "      <th>6</th>\n",
      "      <td>to_city</td>\n",
      "      <td>Entity Extractor</td>\n",
      "      <td>0.69</td>\n",
      "      <td>1.00</td>\n",
      "      <td>0.81</td>\n",
      "    </tr>\n",
      "  </tbody>\n",
      "</table>\n"
     ]
    }
   ],
   "source": [
    "print(\"## Evaluation sur le jeu de test\\n\")\n",
    "\n",
    "print(res.to_html(float_format=lambda x: f\"{x:0.2f}\"))"
   ]
  },
  {
   "cell_type": "code",
   "execution_count": 97,
   "id": "87a6f6aa",
   "metadata": {},
   "outputs": [],
   "source": [
    " delete(env, tmp_app_version)"
   ]
  },
  {
   "cell_type": "code",
   "execution_count": null,
   "id": "eb45b40e",
   "metadata": {},
   "outputs": [],
   "source": []
  }
 ],
 "metadata": {
  "kernelspec": {
   "display_name": "p10",
   "language": "python",
   "name": "p10"
  },
  "language_info": {
   "codemirror_mode": {
    "name": "ipython",
    "version": 3
   },
   "file_extension": ".py",
   "mimetype": "text/x-python",
   "name": "python",
   "nbconvert_exporter": "python",
   "pygments_lexer": "ipython3",
   "version": "3.8.8"
  },
  "toc": {
   "base_numbering": 1,
   "nav_menu": {},
   "number_sections": true,
   "sideBar": true,
   "skip_h1_title": false,
   "title_cell": "Table of Contents",
   "title_sidebar": "Contents",
   "toc_cell": false,
   "toc_position": {
    "height": "calc(100% - 180px)",
    "left": "10px",
    "top": "150px",
    "width": "345px"
   },
   "toc_section_display": true,
   "toc_window_display": true
  }
 },
 "nbformat": 4,
 "nbformat_minor": 5
}
