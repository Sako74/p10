{
 "cells": [
  {
   "cell_type": "code",
   "execution_count": null,
   "id": "ca7fab39",
   "metadata": {
    "gather": {
     "logged": 1637586598890
    }
   },
   "outputs": [],
   "source": [
    "import json\n",
    "\n",
    "import numpy as np\n",
    "import pandas as pd"
   ]
  },
  {
   "cell_type": "code",
   "execution_count": null,
   "id": "9170bf97",
   "metadata": {},
   "outputs": [],
   "source": [
    "with open(\"data/json/frames.json\") as f:\n",
    "    tmp = json.load(f)"
   ]
  },
  {
   "cell_type": "code",
   "execution_count": null,
   "id": "5296ba84",
   "metadata": {},
   "outputs": [],
   "source": [
    "for turn in tmp[0][\"turns\"]:\n",
    "    print(\"-\" * 80)\n",
    "    print(turn[\"text\"])"
   ]
  },
  {
   "cell_type": "code",
   "execution_count": null,
   "id": "a7b12cb6",
   "metadata": {},
   "outputs": [],
   "source": [
    "for i in range(10):\n",
    "    print(tmp[i].get(\"turns\", [])[0].get(\"text\", \"\"))"
   ]
  },
  {
   "cell_type": "code",
   "execution_count": null,
   "id": "a19f35c9",
   "metadata": {},
   "outputs": [],
   "source": [
    "list(tmp[0].keys())"
   ]
  },
  {
   "cell_type": "code",
   "execution_count": null,
   "id": "dc32dfc2",
   "metadata": {},
   "outputs": [],
   "source": [
    "tmp[0][\"turns\"][0][\"text\"]"
   ]
  },
  {
   "cell_type": "code",
   "execution_count": null,
   "id": "c334b98a",
   "metadata": {},
   "outputs": [],
   "source": [
    "print(json.dumps(tmp[0], indent=2))"
   ]
  },
  {
   "cell_type": "code",
   "execution_count": null,
   "id": "0d7873b6",
   "metadata": {},
   "outputs": [],
   "source": [
    "res = []\n",
    "for i in tmp:\n",
    "    for j in i[\"turns\"][0][\"labels\"][\"acts_without_refs\"]:\n",
    "        res.append(len(j))\n",
    "\n",
    "np.min(res), np.max(res)"
   ]
  },
  {
   "cell_type": "code",
   "execution_count": null,
   "id": "dd46b59f",
   "metadata": {},
   "outputs": [],
   "source": [
    "from collections import defaultdict\n",
    "\n",
    "keys = defaultdict(set)\n",
    "for i in tmp:\n",
    "    for j in i[\"turns\"][0][\"labels\"][\"acts_without_refs\"]:\n",
    "        for k in j[\"args\"]:\n",
    "            try:\n",
    "                keys[k[\"key\"]].add(k.get(\"val\", \"\"))\n",
    "            except:\n",
    "                print(k)"
   ]
  },
  {
   "cell_type": "code",
   "execution_count": null,
   "id": "49f7b532",
   "metadata": {},
   "outputs": [],
   "source": [
    "list(keys.keys())"
   ]
  },
  {
   "cell_type": "code",
   "execution_count": null,
   "id": "6657166e",
   "metadata": {},
   "outputs": [],
   "source": [
    "print(json.dumps(tmp[0][\"turns\"][0][\"labels\"][\"acts_without_refs\"], indent=2))"
   ]
  },
  {
   "cell_type": "code",
   "execution_count": null,
   "id": "becde957",
   "metadata": {},
   "outputs": [],
   "source": [
    "label_to_entity = {\n",
    "    \"or_city\": \"from_city\",\n",
    "    \"dst_city\": \"to_city\",\n",
    "    \"str_date\": \"from_dt\",\n",
    "    \"end_date\": \"to_dt\",\n",
    "    \"budget\": \"budget\"\n",
    "}\n",
    "\n",
    "intent_name = \"book_flight\"\n",
    "\n",
    "def frame_to_utterance(turn, intent_name, label_to_entity):\n",
    "    \"\"\"\"\"\"\n",
    "    text = turn[\"text\"]\n",
    "\n",
    "    entity_labels = []\n",
    "    for i in turn[\"labels\"][\"acts_without_refs\"]:\n",
    "        for l in i[\"args\"]:\n",
    "            k = l[\"key\"]\n",
    "            v = l[\"val\"]\n",
    "\n",
    "            if k and v:\n",
    "                if k in label_to_entity.keys():\n",
    "                    start_char_index = text.lower().find(v.lower())\n",
    "                    if start_char_index == -1:\n",
    "                        continue\n",
    "                    send_char_index = start_char_index + len(v)\n",
    "\n",
    "                    entity_labels.append({\n",
    "                        \"startCharIndex\": start_char_index,\n",
    "                        \"endCharIndex\": send_char_index,\n",
    "                        \"entityName\": label_to_entity[k],\n",
    "                    })\n",
    "    \n",
    "    res = {\n",
    "        \"text\": text,\n",
    "        \"intentName\": intent_name,\n",
    "        \"entityLabels\": entity_labels,\n",
    "    }\n",
    "    return res\n",
    "\n",
    "res = frame_to_utterance(tmp[129][\"turns\"][0], intent_name, label_to_entity)\n",
    "print(json.dumps(res, indent=2))"
   ]
  },
  {
   "cell_type": "code",
   "execution_count": null,
   "id": "39c6c985",
   "metadata": {},
   "outputs": [],
   "source": [
    "text = \"I'd like to book a trip to Atlantis from Caprica on Saturday, August 13, 2016 for 8 adults. I have a tight budget of 1700.\"\n",
    "text[27:35], text[41:48], text[52:77], text[117:121]"
   ]
  },
  {
   "cell_type": "code",
   "execution_count": null,
   "id": "81bb4c23",
   "metadata": {},
   "outputs": [],
   "source": [
    "res = []\n",
    "for frame in tmp:\n",
    "    # res.append(frame_to_utterance(frame[\"turns\"][0], intent_name, label_to_entity))\n",
    "    for turn in frame[\"turns\"]:\n",
    "        if turn[\"author\"] == \"user\":\n",
    "            res.append(frame_to_utterance(turn, intent_name, label_to_entity))"
   ]
  },
  {
   "cell_type": "code",
   "execution_count": null,
   "id": "27bb9852",
   "metadata": {},
   "outputs": [],
   "source": [
    "df = pd.DataFrame(res)\n",
    "df[\"entity_total_nb\"] = df[\"entityLabels\"].apply(len)\n",
    "for entity_name in label_to_entity.values():\n",
    "    df[f\"{entity_name}_nb\"] = df[\"entityLabels\"].apply(lambda x: len(list(filter(lambda x1: x1[\"entityName\"] == entity_name, x))))\n",
    "\n",
    "df[[\"entity_total_nb\"] + [f\"{i}_nb\" for i in label_to_entity.values()]].describe().T"
   ]
  },
  {
   "cell_type": "code",
   "execution_count": null,
   "id": "e2474342",
   "metadata": {},
   "outputs": [],
   "source": [
    "utterances = list(filter(lambda x: len(x[\"entityLabels\"]) == len(label_to_entity), res))\n",
    "\n",
    "print(len(utterances))\n",
    "\n",
    "for utterance in utterances[:4]:\n",
    "    print(json.dumps(utterance, indent=2))"
   ]
  },
  {
   "cell_type": "code",
   "execution_count": null,
   "id": "f30762c9",
   "metadata": {
    "gather": {
     "logged": 1637586931448
    }
   },
   "outputs": [],
   "source": [
    "from azure.cognitiveservices.language.luis.authoring import LUISAuthoringClient\n",
    "from azure.cognitiveservices.language.luis.authoring.models import ApplicationCreateObject\n",
    "from azure.cognitiveservices.language.luis.runtime import LUISRuntimeClient\n",
    "from msrest.authentication import CognitiveServicesCredentials\n",
    "from functools import reduce\n",
    "\n",
    "import json, time, uuid"
   ]
  },
  {
   "cell_type": "code",
   "execution_count": null,
   "id": "f557be00-a7ab-4961-8302-5149906dcf62",
   "metadata": {
    "gather": {
     "logged": 1637587955118
    },
    "jupyter": {
     "outputs_hidden": false,
     "source_hidden": false
    },
    "nteract": {
     "transient": {
      "deleting": false
     }
    }
   },
   "outputs": [],
   "source": [
    "from dotenv import load_dotenv, set_key\r\n",
    "\r\n",
    "load_dotenv(\"../luis.env\")"
   ]
  },
  {
   "cell_type": "code",
   "execution_count": null,
   "id": "e1dcd58b-c244-4999-ab28-baaa8e1178ef",
   "metadata": {
    "gather": {
     "logged": 1637587429868
    },
    "jupyter": {
     "outputs_hidden": false,
     "source_hidden": false
    },
    "nteract": {
     "transient": {
      "deleting": false
     }
    }
   },
   "outputs": [],
   "source": [
    "LUIS_AUTH_KEY = os.getenv(\"LUIS_AUTH_KEY\")\r\n",
    "LUIS_AUTH_ENDPOINT = os.getenv(\"LUIS_AUTH_ENDPOINT\")\r\n",
    "\r\n",
    "LUIS_PRED_KEY = os.getenv(\"LUIS_PRED_KEY\")\r\n",
    "LUIS_PRED_ENDPOINT = os.getenv(\"LUIS_PRED_ENDPOINT\")"
   ]
  },
  {
   "cell_type": "code",
   "execution_count": null,
   "id": "6bf24bb2",
   "metadata": {
    "gather": {
     "logged": 1637587721334
    }
   },
   "outputs": [],
   "source": [
    "# On s'authentifie\n",
    "client = LUISAuthoringClient(LUIS_AUTH_ENDPOINT, CognitiveServicesCredentials(LUIS_AUTH_KEY))"
   ]
  },
  {
   "cell_type": "code",
   "execution_count": null,
   "id": "37867f01",
   "metadata": {
    "gather": {
     "logged": 1637587726036
    }
   },
   "outputs": [],
   "source": [
    "# We use a UUID to avoid name collisions.\n",
    "app_name = \"p10_flight_booking\"\n",
    "app_version = \"0.1\"\n",
    "intent_name = \"book_flight\""
   ]
  },
  {
   "cell_type": "code",
   "execution_count": null,
   "id": "59dd4588",
   "metadata": {
    "gather": {
     "logged": 1637587729812
    }
   },
   "outputs": [],
   "source": [
    "# define app basics\n",
    "app_def = ApplicationCreateObject(name=app_name, initial_version_id=app_version, culture='en-us')\n",
    "\n",
    "# create app\n",
    "app_id = client.apps.add(app_def)\n",
    "\n",
    "# get app id - necessary for all other changes\n",
    "print(\"Created LUIS app with ID {}\".format(app_id))"
   ]
  },
  {
   "cell_type": "code",
   "execution_count": null,
   "id": "dbebad99-4869-4182-b465-854f5bae0c2f",
   "metadata": {
    "gather": {
     "logged": 1637588005567
    },
    "jupyter": {
     "outputs_hidden": false,
     "source_hidden": false
    },
    "nteract": {
     "transient": {
      "deleting": false
     }
    }
   },
   "outputs": [],
   "source": [
    "set_key(\"../luis.env\", \"LUIS_APP_ID\", app_id)"
   ]
  },
  {
   "cell_type": "code",
   "execution_count": null,
   "id": "cc72b106",
   "metadata": {},
   "outputs": [],
   "source": [
    "client.model.add_intent(app_id, app_version, intent_name)"
   ]
  },
  {
   "cell_type": "code",
   "execution_count": null,
   "id": "cce3e652",
   "metadata": {},
   "outputs": [],
   "source": [
    "# Add Prebuilt entity\n",
    "client.model.add_prebuilt(app_id, app_version, prebuilt_extractor_names=[\"number\", \"datetimeV2\", \"geographyV2\"])"
   ]
  },
  {
   "cell_type": "code",
   "execution_count": null,
   "id": "b65f7117",
   "metadata": {},
   "outputs": [],
   "source": [
    "entity_to_id = {\n",
    "    \"from_city\": \"\",\n",
    "    \"to_city\": \"\",\n",
    "    \"from_dt\": \"\",\n",
    "    \"to_dt\": \"\",\n",
    "    \"budget\": \"\"\n",
    "}"
   ]
  },
  {
   "cell_type": "code",
   "execution_count": null,
   "id": "6844334b",
   "metadata": {},
   "outputs": [],
   "source": [
    "for entity_name in entity_to_id.keys():\n",
    "    # add entity to app\n",
    "    entity_to_id[entity_name] = client.model.add_entity(\n",
    "        app_id,\n",
    "        app_version,\n",
    "        name=entity_name\n",
    "    )\n",
    "\n",
    "entity_to_id"
   ]
  },
  {
   "cell_type": "code",
   "execution_count": null,
   "id": "fd87d969",
   "metadata": {},
   "outputs": [],
   "source": [
    "# add phrase list to app\n",
    "client.features.add_phrase_list(\n",
    "    app_id,\n",
    "    app_version,\n",
    "    {\n",
    "        \"enabledForAllModels\": False,\n",
    "        \"isExchangeable\": True,\n",
    "        \"name\": \"from_phrase_list\",\n",
    "        \"phrases\": \"from,start at,begin from,leave\"\n",
    "    }\n",
    ")\n",
    "\n",
    "# add phrase list to app\n",
    "client.features.add_phrase_list(\n",
    "    app_id,\n",
    "    app_version,\n",
    "    {\n",
    "        \"enabledForAllModels\": False,\n",
    "        \"isExchangeable\": True,\n",
    "        \"name\": \"to_phrase_list\",\n",
    "        \"phrases\": \"to,arrive,land at,go,going,stay,heading\"\n",
    "    }\n",
    ")"
   ]
  },
  {
   "cell_type": "code",
   "execution_count": null,
   "id": "87ed2299",
   "metadata": {},
   "outputs": [],
   "source": [
    "client.features.add_entity_feature(\n",
    "    app_id,\n",
    "    app_version,\n",
    "    entity_to_id[\"to_city\"],\n",
    "    {\"model_name\": \"geographyV2\", \"is_required\": True}\n",
    ")\n",
    "\n",
    "# add phrase list as feature to subentity model\n",
    "client.features.add_entity_feature(\n",
    "    app_id,\n",
    "    app_version,\n",
    "    entity_to_id[\"to_city\"],\n",
    "    {\"feature_name\": \"to_phrase_list\", \"model_name\": None}\n",
    ")"
   ]
  },
  {
   "cell_type": "code",
   "execution_count": null,
   "id": "914d5e16",
   "metadata": {},
   "outputs": [],
   "source": [
    "client.features.add_entity_feature(\n",
    "    app_id,\n",
    "    app_version,\n",
    "    entity_to_id[\"to_city\"],\n",
    "    {\"model_name\": \"geographyV2\", \"is_required\": True}\n",
    ")\n",
    "\n",
    "# add phrase list as feature to subentity model\n",
    "client.features.add_entity_feature(\n",
    "    app_id,\n",
    "    app_version,\n",
    "    entity_to_id[\"to_city\"],\n",
    "    {\"feature_name\": \"to_phrase_list\", \"model_name\": None}\n",
    ")"
   ]
  },
  {
   "cell_type": "code",
   "execution_count": null,
   "id": "8a13f992",
   "metadata": {},
   "outputs": [],
   "source": [
    "client.features.add_entity_feature(\n",
    "    app_id,\n",
    "    app_version,\n",
    "    entity_to_id[\"from_dt\"],\n",
    "    {\"model_name\": \"datetimeV2\", \"is_required\": True}\n",
    ")\n",
    "\n",
    "# client.features.add_entity_feature(\n",
    "#     app_id,\n",
    "#     app_version,\n",
    "#     entity_to_id[\"from_dt\"],\n",
    "#     {\"feature_name\": \"from_phrase_list\", \"model_name\": None}\n",
    "# )"
   ]
  },
  {
   "cell_type": "code",
   "execution_count": null,
   "id": "6540ca2c",
   "metadata": {},
   "outputs": [],
   "source": [
    "client.features.add_entity_feature(\n",
    "    app_id,\n",
    "    app_version,\n",
    "    entity_to_id[\"to_dt\"],\n",
    "    {\"model_name\": \"datetimeV2\", \"is_required\": True}\n",
    ")\n",
    "\n",
    "# client.features.add_entity_feature(\n",
    "#     app_id,\n",
    "#     app_version,\n",
    "#     entity_to_id[\"to_dt\"],\n",
    "#     {\"feature_name\": \"to_phrase_list\", \"model_name\": None}\n",
    "# )"
   ]
  },
  {
   "cell_type": "code",
   "execution_count": null,
   "id": "a9e87925",
   "metadata": {},
   "outputs": [],
   "source": [
    "client.features.add_entity_feature(\n",
    "    app_id,\n",
    "    app_version,\n",
    "    entity_to_id[\"budget\"],\n",
    "    {\"model_name\": \"number\", \"is_required\": True}\n",
    ")"
   ]
  },
  {
   "cell_type": "code",
   "execution_count": null,
   "id": "7cfa5681",
   "metadata": {},
   "outputs": [],
   "source": [
    "for utterance in utterances:\n",
    "    try:\n",
    "        client.examples.add(app_id, app_version, utterance, { \"enableNestedChildren\": True })\n",
    "    except:\n",
    "        print(json.dumps(utterance, indent=2))"
   ]
  },
  {
   "cell_type": "code",
   "execution_count": null,
   "id": "5153601a",
   "metadata": {},
   "outputs": [],
   "source": [
    "import time\n",
    "\n",
    "client.train.train_version(app_id, app_version)\n",
    "waiting = True\n",
    "while waiting:\n",
    "    info = client.train.get_status(app_id, app_version)\n",
    "\n",
    "    # get_status returns a list of training statuses, one for each model. Loop through them and make sure all are done.\n",
    "    waiting = any(map(lambda x: 'Queued' == x.details.status or 'InProgress' == x.details.status, info))\n",
    "    if waiting:\n",
    "        print (\"Waiting 10 seconds for training to complete...\")\n",
    "        time.sleep(10)\n",
    "    else: \n",
    "        print (\"trained\")\n",
    "        waiting = False"
   ]
  },
  {
   "cell_type": "code",
   "execution_count": null,
   "id": "ec430b4c",
   "metadata": {},
   "outputs": [],
   "source": [
    "responseEndpointInfo = client.apps.publish(app_id, app_version, is_staging=False)"
   ]
  },
  {
   "cell_type": "code",
   "execution_count": null,
   "id": "f562a87f",
   "metadata": {},
   "outputs": [],
   "source": [
    "runtime_credentials = CognitiveServicesCredentials(LUIS_PRED_KEY)\n",
    "client_runtime = LUISRuntimeClient(endpoint=LUIS_PRED_ENDPOINT, credentials=runtime_credentials)"
   ]
  },
  {
   "cell_type": "code",
   "execution_count": null,
   "id": "9dab7e51",
   "metadata": {},
   "outputs": [],
   "source": [
    "app_id = \"3cbee687-5dc7-44e0-8574-cf85d03fe0ab\""
   ]
  },
  {
   "cell_type": "code",
   "execution_count": null,
   "id": "b6f2d1e9",
   "metadata": {},
   "outputs": [],
   "source": [
    "# Production == slot name\n",
    "prediction_request = { \"query\" : \"i want to go to london the 25/12/2021 and stay one week\" }\n",
    "\n",
    "prediction_response = client_runtime.prediction.get_slot_prediction(app_id, \"Production\", prediction_request)\n",
    "print(\"Top intent: {}\".format(prediction_response.prediction.top_intent))\n",
    "print(\"Sentiment: {}\".format (prediction_response.prediction.sentiment))\n",
    "print(\"Intents: \")\n",
    "\n",
    "for intent in prediction_response.prediction.intents:\n",
    "    print(\"\\t{}\".format (json.dumps (intent)))\n",
    "print(\"Entities: {}\".format (prediction_response.prediction.entities))"
   ]
  },
  {
   "cell_type": "code",
   "execution_count": null,
   "id": "40546165",
   "metadata": {},
   "outputs": [],
   "source": []
  },
  {
   "cell_type": "code",
   "execution_count": null,
   "id": "356758d9",
   "metadata": {},
   "outputs": [],
   "source": []
  }
 ],
 "metadata": {
  "interpreter": {
   "hash": "ce05fe677a403291bdecd9c560019885a8a5167d22bb1cd60247a69b54ad2a8e"
  },
  "kernel_info": {
   "name": "p10"
  },
  "kernelspec": {
   "display_name": "p10",
   "language": "python",
   "name": "p10"
  },
  "language_info": {
   "codemirror_mode": {
    "name": "ipython",
    "version": 3
   },
   "file_extension": ".py",
   "mimetype": "text/x-python",
   "name": "python",
   "nbconvert_exporter": "python",
   "pygments_lexer": "ipython3",
   "version": "3.8.8"
  },
  "nteract": {
   "version": "nteract-front-end@1.0.0"
  }
 },
 "nbformat": 4,
 "nbformat_minor": 5
}
