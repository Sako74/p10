{
 "cells": [
  {
   "cell_type": "code",
   "execution_count": 482,
   "id": "ca7fab39",
   "metadata": {
    "gather": {
     "logged": 1638784927892
    }
   },
   "outputs": [
    {
     "name": "stdout",
     "output_type": "stream",
     "text": [
      "The autoreload extension is already loaded. To reload it, use:\n",
      "  %reload_ext autoreload\n"
     ]
    }
   ],
   "source": [
    "import os\n",
    "import sys\n",
    "import json\n",
    "import urllib\n",
    "import zipfile\n",
    "from collections import defaultdict\n",
    "from datetime import datetime\n",
    "import tempfile\n",
    "\n",
    "import numpy as np\n",
    "import pandas as pd\n",
    "\n",
    "import matplotlib.pyplot as plt\n",
    "import seaborn as sns\n",
    "\n",
    "from azureml.core import Workspace, Model, Dataset\n",
    "\n",
    "from tqdm.notebook import tqdm\n",
    "\n",
    "from IPython.display import display\n",
    "\n",
    "%load_ext autoreload\n",
    "%autoreload 2\n",
    "\n",
    "sys.path.append(\"../\")\n",
    "from P10_03_luis.utils import *"
   ]
  },
  {
   "cell_type": "code",
   "execution_count": 254,
   "id": "32e36faf",
   "metadata": {},
   "outputs": [],
   "source": [
    "# On définit les variables globales\n",
    "JSON_PATH = \"data/json/\"\n",
    "MODELS_PATH = \"data/models/\"\n",
    "\n",
    "os.makedirs(JSON_PATH, exist_ok=True)\n",
    "os.makedirs(MODELS_PATH, exist_ok=True)\n",
    "\n",
    "RANDOM_SEED = 42"
   ]
  },
  {
   "cell_type": "code",
   "execution_count": 113,
   "id": "ae17b4a2",
   "metadata": {},
   "outputs": [],
   "source": [
    "def pprint_dict(data: dict):\n",
    "    \"\"\"Pretty print a dict\"\"\"\n",
    "    print(json.dumps(data, indent=2))"
   ]
  },
  {
   "cell_type": "markdown",
   "id": "4f6823c4-8073-4aac-9b8a-70e4e2660aa1",
   "metadata": {
    "nteract": {
     "transient": {
      "deleting": false
     }
    }
   },
   "source": [
    "# Introduction"
   ]
  },
  {
   "cell_type": "markdown",
   "id": "d438c6b2",
   "metadata": {},
   "source": [
    "## Le jeu de données"
   ]
  },
  {
   "cell_type": "code",
   "execution_count": 9,
   "id": "9539db25",
   "metadata": {},
   "outputs": [
    {
     "name": "stdout",
     "output_type": "stream",
     "text": [
      "Téléchargement des données en cours...\n",
      "Téléchargement des données terminé.\n"
     ]
    }
   ],
   "source": [
    "# Lien vers le dataset\n",
    "DATASET_URL = \"https://s3-eu-west-1.amazonaws.com/static.oc-static.com/prod/courses/files/AI+Engineer/Project+10%C2%A0-+D%C3%A9veloppez+un+chatbot+pour+r%C3%A9server+des+vacances/frames.zip\"\n",
    "DATASET_FN = \"frames.json\"\n",
    "\n",
    "# On vérifie si le fichier est bien présent\n",
    "if DATASET_FN in os.listdir(JSON_PATH):\n",
    "    print(\"Tous les fichiers sont bien présents.\")\n",
    "# Sinon on télécharge et on extrait le fichier\n",
    "else:\n",
    "    print(\"Téléchargement des données en cours...\")\n",
    "\n",
    "    # On télécharge le .zip dans un fichier temporaire et on extrait les données\n",
    "    tmp, _ = urllib.request.urlretrieve(DATASET_URL)\n",
    "    with zipfile.ZipFile(tmp, \"r\") as f:\n",
    "        # On extrait le fichier json\n",
    "        f.extract(DATASET_FN, JSON_PATH)\n",
    "\n",
    "    # On supprime le fichier temporaire\n",
    "    urllib.request.urlcleanup()\n",
    "    \n",
    "    print(\"Téléchargement des données terminé.\")"
   ]
  },
  {
   "cell_type": "markdown",
   "id": "d1f35376",
   "metadata": {},
   "source": [
    "# Chargement des ressources"
   ]
  },
  {
   "cell_type": "markdown",
   "id": "fb78bda2",
   "metadata": {},
   "source": [
    "## Chargement du workspace"
   ]
  },
  {
   "cell_type": "code",
   "execution_count": 2,
   "id": "c14f6dfa",
   "metadata": {},
   "outputs": [],
   "source": [
    "# On charge l’espace de travail Azure Machine Learning existant\n",
    "ws = Workspace.from_config()"
   ]
  },
  {
   "cell_type": "markdown",
   "id": "a8670825",
   "metadata": {},
   "source": [
    "## Chargement du magasin des données"
   ]
  },
  {
   "cell_type": "code",
   "execution_count": 116,
   "id": "ac0e9b84",
   "metadata": {},
   "outputs": [],
   "source": [
    "# On charge le magasin de données par défaut\n",
    "datastore = ws.get_default_datastore()"
   ]
  },
  {
   "cell_type": "markdown",
   "id": "ed3fcb98",
   "metadata": {},
   "source": [
    "# Exploration et analyse des données"
   ]
  },
  {
   "cell_type": "markdown",
   "id": "582a3dc4",
   "metadata": {},
   "source": [
    "## Chargement du fichier"
   ]
  },
  {
   "cell_type": "code",
   "execution_count": 10,
   "id": "9170bf97",
   "metadata": {
    "gather": {
     "logged": 1638784943450
    }
   },
   "outputs": [],
   "source": [
    "# On charge les frames\n",
    "with open(\"data/json/frames.json\") as f:\n",
    "    frames = json.load(f)"
   ]
  },
  {
   "cell_type": "code",
   "execution_count": 13,
   "id": "102d647f",
   "metadata": {},
   "outputs": [
    {
     "data": {
      "text/plain": [
       "{'user_id': 'U22HTHYNP',\n",
       " 'turns': [{'text': \"I'd like to book a trip to Atlantis from Caprica on Saturday, August 13, 2016 for 8 adults. I have a tight budget of 1700.\",\n",
       "   'labels': {'acts': [{'args': [{'val': 'book', 'key': 'intent'}],\n",
       "      'name': 'inform'},\n",
       "     {'args': [{'val': 'Atlantis', 'key': 'dst_city'},\n",
       "       {'val': 'Caprica', 'key': 'or_city'},\n",
       "       {'val': 'Saturday, August 13, 2016', 'key': 'str_date'},\n",
       "       {'val': '8', 'key': 'n_adults'},\n",
       "       {'val': '1700', 'key': 'budget'}],\n",
       "      'name': 'inform'}],\n",
       "    'acts_without_refs': [{'args': [{'val': 'book', 'key': 'intent'}],\n",
       "      'name': 'inform'},\n",
       "     {'args': [{'val': 'Atlantis', 'key': 'dst_city'},\n",
       "       {'val': 'Caprica', 'key': 'or_city'},\n",
       "       {'val': 'Saturday, August 13, 2016', 'key': 'str_date'},\n",
       "       {'val': '8', 'key': 'n_adults'},\n",
       "       {'val': '1700', 'key': 'budget'}],\n",
       "      'name': 'inform'}],\n",
       "    'active_frame': 1,\n",
       "    'frames': [{'info': {'intent': [{'val': 'book', 'negated': False}],\n",
       "       'budget': [{'val': '1700.0', 'negated': False}],\n",
       "       'dst_city': [{'val': 'Atlantis', 'negated': False}],\n",
       "       'or_city': [{'val': 'Caprica', 'negated': False}],\n",
       "       'str_date': [{'val': 'august 13', 'negated': False}],\n",
       "       'n_adults': [{'val': '8', 'negated': False}]},\n",
       "      'frame_id': 1,\n",
       "      'requests': [],\n",
       "      'frame_parent_id': None,\n",
       "      'binary_questions': [],\n",
       "      'compare_requests': []}]},\n",
       "   'author': 'user',\n",
       "   'timestamp': 1471272019730.0},\n",
       "  {'db': {'result': [[{'trip': {'returning': {'duration': {'hours': 0,\n",
       "          'min': 51},\n",
       "         'arrival': {'hour': 10,\n",
       "          'year': 2016,\n",
       "          'day': 24,\n",
       "          'min': 51,\n",
       "          'month': 8},\n",
       "         'departure': {'hour': 10,\n",
       "          'year': 2016,\n",
       "          'day': 24,\n",
       "          'min': 0,\n",
       "          'month': 8}},\n",
       "        'seat': 'ECONOMY',\n",
       "        'leaving': {'duration': {'hours': 0, 'min': 51},\n",
       "         'arrival': {'hour': 0,\n",
       "          'year': 2016,\n",
       "          'day': 16,\n",
       "          'min': 51,\n",
       "          'month': 8},\n",
       "         'departure': {'hour': 0,\n",
       "          'year': 2016,\n",
       "          'day': 16,\n",
       "          'min': 0,\n",
       "          'month': 8}},\n",
       "        'or_city': 'Porto Alegre',\n",
       "        'duration_days': 9},\n",
       "       'price': 2118.81,\n",
       "       'hotel': {'gst_rating': 7.15,\n",
       "        'vicinity': [],\n",
       "        'name': 'Scarlet Palms Resort',\n",
       "        'country': 'Brazil',\n",
       "        'amenities': ['FREE_BREAKFAST', 'FREE_PARKING', 'FREE_WIFI'],\n",
       "        'dst_city': 'Goiania',\n",
       "        'category': '3.5 star hotel'}},\n",
       "      {'trip': {'returning': {'duration': {'hours': 2, 'min': 37},\n",
       "         'arrival': {'hour': 12,\n",
       "          'year': 2016,\n",
       "          'day': 10,\n",
       "          'min': 37,\n",
       "          'month': 8},\n",
       "         'departure': {'hour': 10,\n",
       "          'year': 2016,\n",
       "          'day': 10,\n",
       "          'min': 0,\n",
       "          'month': 8}},\n",
       "        'seat': 'ECONOMY',\n",
       "        'leaving': {'duration': {'hours': 2, 'min': 37},\n",
       "         'arrival': {'hour': 0, 'year': 2016, 'day': 4, 'min': 37, 'month': 8},\n",
       "         'departure': {'hour': 22,\n",
       "          'year': 2016,\n",
       "          'day': 3,\n",
       "          'min': 0,\n",
       "          'month': 8}},\n",
       "        'or_city': 'Porto Alegre',\n",
       "        'duration_days': 7},\n",
       "       'price': 2369.83,\n",
       "       'hotel': {'gst_rating': 0,\n",
       "        'vicinity': [],\n",
       "        'name': 'Sunway Hostel',\n",
       "        'country': 'Argentina',\n",
       "        'amenities': ['FREE_BREAKFAST', 'FREE_WIFI'],\n",
       "        'dst_city': 'Rosario',\n",
       "        'category': '2.0 star hotel'}},\n",
       "      {'trip': {'returning': {'duration': {'hours': 0, 'min': 51},\n",
       "         'arrival': {'hour': 10,\n",
       "          'year': 2016,\n",
       "          'day': 24,\n",
       "          'min': 51,\n",
       "          'month': 8},\n",
       "         'departure': {'hour': 10,\n",
       "          'year': 2016,\n",
       "          'day': 24,\n",
       "          'min': 0,\n",
       "          'month': 8}},\n",
       "        'seat': 'BUSINESS',\n",
       "        'leaving': {'duration': {'hours': 0, 'min': 51},\n",
       "         'arrival': {'hour': 0,\n",
       "          'year': 2016,\n",
       "          'day': 16,\n",
       "          'min': 51,\n",
       "          'month': 8},\n",
       "         'departure': {'hour': 0,\n",
       "          'year': 2016,\n",
       "          'day': 16,\n",
       "          'min': 0,\n",
       "          'month': 8}},\n",
       "        'or_city': 'Porto Alegre',\n",
       "        'duration_days': 9},\n",
       "       'price': 2375.72,\n",
       "       'hotel': {'gst_rating': 7.15,\n",
       "        'vicinity': [],\n",
       "        'name': 'Scarlet Palms Resort',\n",
       "        'country': 'Brazil',\n",
       "        'amenities': ['FREE_BREAKFAST', 'FREE_PARKING', 'FREE_WIFI'],\n",
       "        'dst_city': 'Goiania',\n",
       "        'category': '3.5 star hotel'}},\n",
       "      {'trip': {'returning': {'duration': {'hours': 1, 'min': 30},\n",
       "         'arrival': {'hour': 11,\n",
       "          'year': 2016,\n",
       "          'day': 1,\n",
       "          'min': 30,\n",
       "          'month': 9},\n",
       "         'departure': {'hour': 10,\n",
       "          'year': 2016,\n",
       "          'day': 1,\n",
       "          'min': 0,\n",
       "          'month': 9}},\n",
       "        'seat': 'BUSINESS',\n",
       "        'leaving': {'duration': {'hours': 1, 'min': 30},\n",
       "         'arrival': {'hour': 18,\n",
       "          'year': 2016,\n",
       "          'day': 19,\n",
       "          'min': 30,\n",
       "          'month': 8},\n",
       "         'departure': {'hour': 17,\n",
       "          'year': 2016,\n",
       "          'day': 19,\n",
       "          'min': 0,\n",
       "          'month': 8}},\n",
       "        'or_city': 'Porto Alegre',\n",
       "        'duration_days': 13},\n",
       "       'price': 2492.95,\n",
       "       'hotel': {'gst_rating': 0,\n",
       "        'vicinity': [],\n",
       "        'name': 'Hotel Mundo',\n",
       "        'country': 'Brazil',\n",
       "        'amenities': ['FREE_BREAKFAST', 'FREE_WIFI', 'FREE_PARKING'],\n",
       "        'dst_city': 'Manaus',\n",
       "        'category': '2.5 star hotel'}},\n",
       "      {'trip': {'returning': {'duration': {'hours': 0, 'min': 51},\n",
       "         'arrival': {'hour': 10,\n",
       "          'year': 2016,\n",
       "          'day': 31,\n",
       "          'min': 51,\n",
       "          'month': 8},\n",
       "         'departure': {'hour': 10,\n",
       "          'year': 2016,\n",
       "          'day': 31,\n",
       "          'min': 0,\n",
       "          'month': 8}},\n",
       "        'seat': 'ECONOMY',\n",
       "        'leaving': {'duration': {'hours': 0, 'min': 51},\n",
       "         'arrival': {'hour': 19,\n",
       "          'year': 2016,\n",
       "          'day': 27,\n",
       "          'min': 51,\n",
       "          'month': 8},\n",
       "         'departure': {'hour': 19,\n",
       "          'year': 2016,\n",
       "          'day': 27,\n",
       "          'min': 0,\n",
       "          'month': 8}},\n",
       "        'or_city': 'Porto Alegre',\n",
       "        'duration_days': 4},\n",
       "       'price': 2538.0,\n",
       "       'hotel': {'gst_rating': 8.22,\n",
       "        'vicinity': [],\n",
       "        'name': 'The Glee',\n",
       "        'country': 'Brazil',\n",
       "        'amenities': ['FREE_BREAKFAST', 'FREE_WIFI'],\n",
       "        'dst_city': 'Recife',\n",
       "        'category': '4.0 star hotel'}}],\n",
       "     [],\n",
       "     [],\n",
       "     [],\n",
       "     [],\n",
       "     [],\n",
       "     []],\n",
       "    'search': [{'ORIGIN_CITY': 'Porto Alegre',\n",
       "      'PRICE_MIN': '2000',\n",
       "      'NUM_ADULTS': '2',\n",
       "      'timestamp': 1471271949.995,\n",
       "      'PRICE_MAX': '3000',\n",
       "      'ARE_DATES_FLEXIBLE': 'true',\n",
       "      'NUM_CHILDREN': '5',\n",
       "      'START_TIME': '1470110400000',\n",
       "      'MAX_DURATION': 2592000000.0,\n",
       "      'DESTINATION_CITY': 'Brazil',\n",
       "      'RESULT_LIMIT': '10',\n",
       "      'END_TIME': '1472616000000'},\n",
       "     {'ORIGIN_CITY': 'Atlantis',\n",
       "      'NUM_ADULTS': '8',\n",
       "      'RESULT_LIMIT': '10',\n",
       "      'timestamp': 1471272148.124,\n",
       "      'PRICE_MAX': '1700',\n",
       "      'NUM_CHILDREN': '',\n",
       "      'ARE_DATES_FLEXIBLE': 'true',\n",
       "      'START_TIME': 'NaN',\n",
       "      'END_TIME': 'NaN'},\n",
       "     {'ORIGIN_CITY': 'Caprica',\n",
       "      'PRICE_MAX': '1700',\n",
       "      'NUM_ADULTS': '8',\n",
       "      'RESULT_LIMIT': '10',\n",
       "      'timestamp': 1471272189.07,\n",
       "      'DESTINATION_CITY': 'Atlantis',\n",
       "      'NUM_CHILDREN': '',\n",
       "      'ARE_DATES_FLEXIBLE': 'true',\n",
       "      'START_TIME': '1470715200000',\n",
       "      'END_TIME': '1472011200000'},\n",
       "     {'ORIGIN_CITY': 'Caprica',\n",
       "      'PRICE_MAX': '1700',\n",
       "      'NUM_ADULTS': '8',\n",
       "      'RESULT_LIMIT': '10',\n",
       "      'timestamp': 1471272205.436,\n",
       "      'DESTINATION_CITY': 'Atlantis',\n",
       "      'NUM_CHILDREN': '',\n",
       "      'ARE_DATES_FLEXIBLE': 'true',\n",
       "      'START_TIME': '1470715200000',\n",
       "      'END_TIME': '1472011200000'},\n",
       "     {'ORIGIN_CITY': 'Caprica',\n",
       "      'PRICE_MIN': '1700',\n",
       "      'NUM_ADULTS': '8',\n",
       "      'RESULT_LIMIT': '10',\n",
       "      'timestamp': 1471272278.72,\n",
       "      'DESTINATION_CITY': 'Atlantis',\n",
       "      'NUM_CHILDREN': '',\n",
       "      'ARE_DATES_FLEXIBLE': 'true',\n",
       "      'START_TIME': '1470715200000',\n",
       "      'END_TIME': '1472011200000'},\n",
       "     {'ORIGIN_CITY': 'Caprica',\n",
       "      'PRICE_MIN': '1700',\n",
       "      'NUM_ADULTS': '8',\n",
       "      'RESULT_LIMIT': '10',\n",
       "      'timestamp': 1471272454.542,\n",
       "      'DESTINATION_CITY': 'Atlantis',\n",
       "      'NUM_CHILDREN': '',\n",
       "      'ARE_DATES_FLEXIBLE': 'true',\n",
       "      'START_TIME': '1471060800000',\n",
       "      'END_TIME': '1472011200000'},\n",
       "     {'ORIGIN_CITY': 'Caprica',\n",
       "      'PRICE_MIN': '1700',\n",
       "      'NUM_ADULTS': '8',\n",
       "      'RESULT_LIMIT': '10',\n",
       "      'timestamp': 1471272466.008,\n",
       "      'DESTINATION_CITY': 'Atlantis',\n",
       "      'NUM_CHILDREN': '',\n",
       "      'ARE_DATES_FLEXIBLE': 'true',\n",
       "      'START_TIME': '1471060800000',\n",
       "      'END_TIME': '1472011200000'}]},\n",
       "   'text': 'Hi...I checked a few options for you, and unfortunately, we do not currently have any trips that meet this criteria.  Would you like to book an alternate travel option?',\n",
       "   'labels': {'acts': [{'args': [{'val': [{'annotations': [],\n",
       "          'frame': 1,\n",
       "          'fromrange': False}],\n",
       "        'key': 'ref'}],\n",
       "      'name': 'no_result'},\n",
       "     {'args': [{'key': 'dst_city'}], 'name': 'suggest'},\n",
       "     {'args': [], 'name': 'sorry'}],\n",
       "    'active_frame': 1,\n",
       "    'frames': [{'info': {'intent': [{'val': 'book', 'negated': False}],\n",
       "       'budget': [{'val': '1700.0', 'negated': False}],\n",
       "       'dst_city': [{'val': 'Atlantis', 'negated': False}],\n",
       "       'or_city': [{'val': 'Caprica', 'negated': False}],\n",
       "       'str_date': [{'val': 'august 13', 'negated': False}],\n",
       "       'n_adults': [{'val': '8', 'negated': False}],\n",
       "       'NO_RESULT': [{'val': True, 'negated': False}]},\n",
       "      'frame_id': 1,\n",
       "      'requests': [],\n",
       "      'frame_parent_id': None,\n",
       "      'binary_questions': [],\n",
       "      'compare_requests': []}]},\n",
       "   'author': 'wizard',\n",
       "   'timestamp': 1471272381399.0},\n",
       "  {'text': 'Yes, how about going to Neverland from Caprica on August 13, 2016 for 5 adults. For this trip, my budget would be 1900.',\n",
       "   'labels': {'acts': [{'args': [{'val': 'Neverland', 'key': 'dst_city'},\n",
       "       {'val': '5', 'key': 'n_adults'},\n",
       "       {'val': '1900', 'key': 'budget'},\n",
       "       {'val': [{'annotations': [{'val': 'Caprica', 'key': 'or_city'},\n",
       "           {'val': 'August 13, 2016', 'key': 'str_date'}],\n",
       "          'frame': 1,\n",
       "          'fromrange': False}],\n",
       "        'key': 'ref'}],\n",
       "      'name': 'inform'}],\n",
       "    'acts_without_refs': [{'args': [{'val': 'Neverland', 'key': 'dst_city'},\n",
       "       {'val': '5', 'key': 'n_adults'},\n",
       "       {'val': '1900', 'key': 'budget'},\n",
       "       {'val': 'Caprica', 'key': 'or_city'},\n",
       "       {'val': 'August 13, 2016', 'key': 'str_date'}],\n",
       "      'name': 'inform'}],\n",
       "    'active_frame': 2,\n",
       "    'frames': [{'info': {'intent': [{'val': 'book', 'negated': False}],\n",
       "       'budget': [{'val': '1700.0', 'negated': False}],\n",
       "       'dst_city': [{'val': 'Atlantis', 'negated': False}],\n",
       "       'or_city': [{'val': 'Caprica', 'negated': False}],\n",
       "       'str_date': [{'val': 'august 13', 'negated': False}],\n",
       "       'n_adults': [{'val': '8', 'negated': False}],\n",
       "       'NO_RESULT': [{'val': True, 'negated': False}]},\n",
       "      'frame_id': 1,\n",
       "      'requests': [],\n",
       "      'frame_parent_id': None,\n",
       "      'binary_questions': [],\n",
       "      'compare_requests': []},\n",
       "     {'info': {'intent': [{'val': 'book', 'negated': False}],\n",
       "       'budget': [{'val': '1900.0', 'negated': False}],\n",
       "       'dst_city': [{'val': 'Neverland', 'negated': False}],\n",
       "       'or_city': [{'val': 'Caprica', 'negated': False}],\n",
       "       'str_date': [{'val': 'august 13', 'negated': False}],\n",
       "       'n_adults': [{'val': '5', 'negated': False}]},\n",
       "      'frame_id': 2,\n",
       "      'requests': [],\n",
       "      'frame_parent_id': 1,\n",
       "      'binary_questions': [],\n",
       "      'compare_requests': []}]},\n",
       "   'author': 'user',\n",
       "   'timestamp': 1471272508882.0},\n",
       "  {'db': {'result': [[], [], [], [], [], []],\n",
       "    'search': [{'ORIGIN_CITY': 'Caprica',\n",
       "      'PRICE_MIN': '1700',\n",
       "      'NUM_ADULTS': '8',\n",
       "      'RESULT_LIMIT': '10',\n",
       "      'timestamp': 1471272454.542,\n",
       "      'DESTINATION_CITY': 'Atlantis',\n",
       "      'NUM_CHILDREN': '',\n",
       "      'ARE_DATES_FLEXIBLE': 'true',\n",
       "      'START_TIME': '1471060800000',\n",
       "      'END_TIME': '1472011200000'},\n",
       "     {'ORIGIN_CITY': 'Caprica',\n",
       "      'PRICE_MIN': '1700',\n",
       "      'NUM_ADULTS': '8',\n",
       "      'RESULT_LIMIT': '10',\n",
       "      'timestamp': 1471272466.008,\n",
       "      'DESTINATION_CITY': 'Atlantis',\n",
       "      'NUM_CHILDREN': '',\n",
       "      'ARE_DATES_FLEXIBLE': 'true',\n",
       "      'START_TIME': '1471060800000',\n",
       "      'END_TIME': '1472011200000'},\n",
       "     {'ORIGIN_CITY': 'Caprica',\n",
       "      'PRICE_MAX': '1900',\n",
       "      'NUM_ADULTS': '5',\n",
       "      'RESULT_LIMIT': '10',\n",
       "      'timestamp': 1471272562.484,\n",
       "      'DESTINATION_CITY': 'Neverland',\n",
       "      'NUM_CHILDREN': '',\n",
       "      'ARE_DATES_FLEXIBLE': 'true',\n",
       "      'START_TIME': '1471060800000',\n",
       "      'END_TIME': '1472011200000'},\n",
       "     {'ORIGIN_CITY': 'Caprica',\n",
       "      'PRICE_MAX': '1900',\n",
       "      'NUM_ADULTS': '5',\n",
       "      'RESULT_LIMIT': '10',\n",
       "      'timestamp': 1471272571.739,\n",
       "      'DESTINATION_CITY': 'Neverland',\n",
       "      'NUM_CHILDREN': '',\n",
       "      'ARE_DATES_FLEXIBLE': 'true',\n",
       "      'START_TIME': '1471060800000',\n",
       "      'END_TIME': '1472011200000'},\n",
       "     {'ORIGIN_CITY': 'Caprica',\n",
       "      'NUM_ADULTS': '5',\n",
       "      'RESULT_LIMIT': '10',\n",
       "      'timestamp': 1471272625.733,\n",
       "      'DESTINATION_CITY': 'Neverland',\n",
       "      'NUM_CHILDREN': '',\n",
       "      'ARE_DATES_FLEXIBLE': 'true',\n",
       "      'START_TIME': '1471060800000',\n",
       "      'END_TIME': 'NaN'},\n",
       "     {'ORIGIN_CITY': 'Caprica',\n",
       "      'NUM_ADULTS': '5',\n",
       "      'RESULT_LIMIT': '10',\n",
       "      'timestamp': 1471272628.27,\n",
       "      'DESTINATION_CITY': 'Neverland',\n",
       "      'NUM_CHILDREN': '',\n",
       "      'ARE_DATES_FLEXIBLE': 'true',\n",
       "      'START_TIME': '1471060800000',\n",
       "      'END_TIME': 'NaN'}]},\n",
       "   'text': 'I checked the availability for this date and there were no trips available.  Would you like to select some alternate dates?',\n",
       "   'labels': {'acts': [{'args': [{'val': [{'annotations': [{'val': None,\n",
       "            'key': 'str_date'}],\n",
       "          'frame': 2,\n",
       "          'fromrange': False}],\n",
       "        'key': 'ref'}],\n",
       "      'name': 'no_result'},\n",
       "     {'args': [{'key': 'str_date'}, {'key': 'end_date'}], 'name': 'suggest'}],\n",
       "    'active_frame': 2,\n",
       "    'frames': [{'info': {'intent': [{'val': 'book', 'negated': False}],\n",
       "       'budget': [{'val': '1700.0', 'negated': False}],\n",
       "       'dst_city': [{'val': 'Atlantis', 'negated': False}],\n",
       "       'or_city': [{'val': 'Caprica', 'negated': False}],\n",
       "       'str_date': [{'val': 'august 13', 'negated': False}],\n",
       "       'n_adults': [{'val': '8', 'negated': False}],\n",
       "       'NO_RESULT': [{'val': True, 'negated': False}]},\n",
       "      'frame_id': 1,\n",
       "      'requests': [],\n",
       "      'frame_parent_id': None,\n",
       "      'binary_questions': [],\n",
       "      'compare_requests': []},\n",
       "     {'info': {'intent': [{'val': 'book', 'negated': False}],\n",
       "       'budget': [{'val': '1900.0', 'negated': False}],\n",
       "       'dst_city': [{'val': 'Neverland', 'negated': False}],\n",
       "       'or_city': [{'val': 'Caprica', 'negated': False}],\n",
       "       'str_date': [{'val': 'august 13', 'negated': False}],\n",
       "       'n_adults': [{'val': '5', 'negated': False}],\n",
       "       'NO_RESULT': [{'val': True, 'negated': False}]},\n",
       "      'frame_id': 2,\n",
       "      'requests': [],\n",
       "      'frame_parent_id': 1,\n",
       "      'binary_questions': [],\n",
       "      'compare_requests': []}]},\n",
       "   'author': 'wizard',\n",
       "   'timestamp': 1471272800073.0},\n",
       "  {'text': 'I have no flexibility for dates... but I can leave from Atlantis rather than Caprica. How about that?',\n",
       "   'labels': {'acts': [{'args': [{'val': False, 'key': 'flex'}],\n",
       "      'name': 'inform'},\n",
       "     {'args': [{'val': 'Atlantis', 'key': 'or_city'}], 'name': 'inform'},\n",
       "     {'args': [{'val': [{'annotations': [{'val': 'Caprica', 'key': 'or_city'}],\n",
       "          'frame': 1,\n",
       "          'fromrange': False}],\n",
       "        'key': 'ref'}],\n",
       "      'name': 'negate'}],\n",
       "    'acts_without_refs': [{'args': [{'val': False, 'key': 'flex'}],\n",
       "      'name': 'inform'},\n",
       "     {'args': [{'val': 'Atlantis', 'key': 'or_city'}], 'name': 'inform'},\n",
       "     {'args': [{'val': 'Caprica', 'key': 'or_city'}], 'name': 'negate'}],\n",
       "    'active_frame': 3,\n",
       "    'frames': [{'info': {'intent': [{'val': 'book', 'negated': False}],\n",
       "       'budget': [{'val': '1700.0', 'negated': False}],\n",
       "       'dst_city': [{'val': 'Atlantis', 'negated': False}],\n",
       "       'or_city': [{'val': 'Caprica', 'negated': True}],\n",
       "       'str_date': [{'val': 'august 13', 'negated': False}],\n",
       "       'n_adults': [{'val': '8', 'negated': False}]},\n",
       "      'frame_id': 1,\n",
       "      'requests': [],\n",
       "      'frame_parent_id': None,\n",
       "      'binary_questions': [],\n",
       "      'compare_requests': []},\n",
       "     {'info': {'intent': [{'val': 'book', 'negated': False}],\n",
       "       'budget': [{'val': '1900.0', 'negated': False}],\n",
       "       'dst_city': [{'val': 'Neverland', 'negated': False}],\n",
       "       'or_city': [{'val': 'Caprica', 'negated': False}],\n",
       "       'str_date': [{'val': 'august 13', 'negated': False}],\n",
       "       'n_adults': [{'val': '5', 'negated': False}],\n",
       "       'NO_RESULT': [{'val': True, 'negated': False}]},\n",
       "      'frame_id': 2,\n",
       "      'requests': [],\n",
       "      'frame_parent_id': 1,\n",
       "      'binary_questions': [],\n",
       "      'compare_requests': []},\n",
       "     {'info': {'intent': [{'val': 'book', 'negated': False}],\n",
       "       'budget': [{'val': '1700.0', 'negated': False}],\n",
       "       'flex': [{'val': False, 'negated': False}],\n",
       "       'dst_city': [{'val': 'Atlantis', 'negated': False}],\n",
       "       'or_city': [{'val': 'Atlantis', 'negated': False}],\n",
       "       'str_date': [{'val': 'august 13', 'negated': False}],\n",
       "       'n_adults': [{'val': '8', 'negated': False}]},\n",
       "      'frame_id': 3,\n",
       "      'requests': [],\n",
       "      'frame_parent_id': 1,\n",
       "      'binary_questions': [],\n",
       "      'compare_requests': []}]},\n",
       "   'author': 'user',\n",
       "   'timestamp': 1471272833774.0},\n",
       "  {'db': {'result': [[]],\n",
       "    'search': [{'ORIGIN_CITY': 'Atlantis',\n",
       "      'PRICE_MAX': '1900',\n",
       "      'NUM_ADULTS': '5',\n",
       "      'RESULT_LIMIT': '10',\n",
       "      'timestamp': 1471272866.853,\n",
       "      'DESTINATION_CITY': 'Neverland',\n",
       "      'NUM_CHILDREN': '',\n",
       "      'ARE_DATES_FLEXIBLE': 'true',\n",
       "      'START_TIME': '1471060800000',\n",
       "      'END_TIME': 'NaN'}]},\n",
       "   'text': 'I checked the availability for that date and there were no trips available.  Would you like to select some alternate dates?',\n",
       "   'labels': {'acts': [{'args': [{'val': [{'annotations': [{'val': None,\n",
       "            'key': 'str_date'}],\n",
       "          'frame': 3,\n",
       "          'fromrange': False}],\n",
       "        'key': 'ref'}],\n",
       "      'name': 'no_result'},\n",
       "     {'args': [{'key': 'str_date'}, {'key': 'end_date'}], 'name': 'suggest'}],\n",
       "    'active_frame': 3,\n",
       "    'frames': [{'info': {'intent': [{'val': 'book', 'negated': False}],\n",
       "       'budget': [{'val': '1700.0', 'negated': False}],\n",
       "       'dst_city': [{'val': 'Atlantis', 'negated': False}],\n",
       "       'or_city': [{'val': 'Caprica', 'negated': True}],\n",
       "       'str_date': [{'val': 'august 13', 'negated': False}],\n",
       "       'n_adults': [{'val': '8', 'negated': False}]},\n",
       "      'frame_id': 1,\n",
       "      'requests': [],\n",
       "      'frame_parent_id': None,\n",
       "      'binary_questions': [],\n",
       "      'compare_requests': []},\n",
       "     {'info': {'intent': [{'val': 'book', 'negated': False}],\n",
       "       'budget': [{'val': '1900.0', 'negated': False}],\n",
       "       'dst_city': [{'val': 'Neverland', 'negated': False}],\n",
       "       'or_city': [{'val': 'Caprica', 'negated': False}],\n",
       "       'str_date': [{'val': 'august 13', 'negated': False}],\n",
       "       'n_adults': [{'val': '5', 'negated': False}],\n",
       "       'NO_RESULT': [{'val': True, 'negated': False}]},\n",
       "      'frame_id': 2,\n",
       "      'requests': [],\n",
       "      'frame_parent_id': 1,\n",
       "      'binary_questions': [],\n",
       "      'compare_requests': []},\n",
       "     {'info': {'intent': [{'val': 'book', 'negated': False}],\n",
       "       'budget': [{'val': '1700.0', 'negated': False}],\n",
       "       'flex': [{'val': False, 'negated': False}],\n",
       "       'dst_city': [{'val': 'Atlantis', 'negated': False}],\n",
       "       'or_city': [{'val': 'Atlantis', 'negated': False}],\n",
       "       'str_date': [{'val': 'august 13', 'negated': False}],\n",
       "       'n_adults': [{'val': '8', 'negated': False}],\n",
       "       'NO_RESULT': [{'val': True, 'negated': False}]},\n",
       "      'frame_id': 3,\n",
       "      'requests': [],\n",
       "      'frame_parent_id': 1,\n",
       "      'binary_questions': [],\n",
       "      'compare_requests': []}]},\n",
       "   'author': 'wizard',\n",
       "   'timestamp': 1471273283370},\n",
       "  {'text': \"I suppose I'll speak with my husband to see if we can choose other dates, and then I'll come back to you.Thanks for your help\",\n",
       "   'labels': {'acts': [{'args': [], 'name': 'thankyou'}],\n",
       "    'acts_without_refs': [{'args': [], 'name': 'thankyou'}],\n",
       "    'active_frame': 3,\n",
       "    'frames': [{'info': {'intent': [{'val': 'book', 'negated': False}],\n",
       "       'budget': [{'val': '1700.0', 'negated': False}],\n",
       "       'dst_city': [{'val': 'Atlantis', 'negated': False}],\n",
       "       'or_city': [{'val': 'Caprica', 'negated': True}],\n",
       "       'str_date': [{'val': 'august 13', 'negated': False}],\n",
       "       'n_adults': [{'val': '8', 'negated': False}]},\n",
       "      'frame_id': 1,\n",
       "      'requests': [],\n",
       "      'frame_parent_id': None,\n",
       "      'binary_questions': [],\n",
       "      'compare_requests': []},\n",
       "     {'info': {'intent': [{'val': 'book', 'negated': False}],\n",
       "       'budget': [{'val': '1900.0', 'negated': False}],\n",
       "       'dst_city': [{'val': 'Neverland', 'negated': False}],\n",
       "       'or_city': [{'val': 'Caprica', 'negated': False}],\n",
       "       'str_date': [{'val': 'august 13', 'negated': False}],\n",
       "       'n_adults': [{'val': '5', 'negated': False}],\n",
       "       'NO_RESULT': [{'val': True, 'negated': False}]},\n",
       "      'frame_id': 2,\n",
       "      'requests': [],\n",
       "      'frame_parent_id': 1,\n",
       "      'binary_questions': [],\n",
       "      'compare_requests': []},\n",
       "     {'info': {'intent': [{'val': 'book', 'negated': False}],\n",
       "       'budget': [{'val': '1700.0', 'negated': False}],\n",
       "       'flex': [{'val': False, 'negated': False}],\n",
       "       'dst_city': [{'val': 'Atlantis', 'negated': False}],\n",
       "       'or_city': [{'val': 'Atlantis', 'negated': False}],\n",
       "       'str_date': [{'val': 'august 13', 'negated': False}],\n",
       "       'n_adults': [{'val': '8', 'negated': False}],\n",
       "       'NO_RESULT': [{'val': True, 'negated': False}]},\n",
       "      'frame_id': 3,\n",
       "      'requests': [],\n",
       "      'frame_parent_id': 1,\n",
       "      'binary_questions': [],\n",
       "      'compare_requests': []}]},\n",
       "   'author': 'user',\n",
       "   'timestamp': 1471273458251}],\n",
       " 'wizard_id': 'U21DKG18C',\n",
       " 'id': 'e2c0fc6c-2134-4891-8353-ef16d8412c9a',\n",
       " 'labels': {'userSurveyRating': 4.0, 'wizardSurveyTaskSuccessful': True}}"
      ]
     },
     "execution_count": 13,
     "metadata": {},
     "output_type": "execute_result"
    }
   ],
   "source": [
    "frames[0]"
   ]
  },
  {
   "cell_type": "code",
   "execution_count": 15,
   "id": "431edb7b",
   "metadata": {},
   "outputs": [
    {
     "data": {
      "text/plain": [
       "['user_id', 'turns', 'wizard_id', 'id', 'labels']"
      ]
     },
     "execution_count": 15,
     "metadata": {},
     "output_type": "execute_result"
    }
   ],
   "source": [
    "list(frames[0].keys())"
   ]
  },
  {
   "cell_type": "code",
   "execution_count": 18,
   "id": "55ed93d5",
   "metadata": {},
   "outputs": [
    {
     "data": {
      "text/plain": [
       "['text', 'labels', 'author', 'timestamp']"
      ]
     },
     "execution_count": 18,
     "metadata": {},
     "output_type": "execute_result"
    }
   ],
   "source": [
    "list(frames[0][\"turns\"][0].keys())"
   ]
  },
  {
   "cell_type": "markdown",
   "id": "86a6f725",
   "metadata": {},
   "source": [
    "## Analyse des textes"
   ]
  },
  {
   "cell_type": "code",
   "execution_count": 330,
   "id": "5296ba84",
   "metadata": {
    "gather": {
     "logged": 1638784944004
    }
   },
   "outputs": [
    {
     "name": "stdout",
     "output_type": "stream",
     "text": [
      "--------------------------------------------------------------------------------\n",
      "I'd like to book a trip to Atlantis from Caprica on Saturday, August 13, 2016 for 8 adults. I have a tight budget of 1700.\n",
      "--------------------------------------------------------------------------------\n",
      "Hi...I checked a few options for you, and unfortunately, we do not currently have any trips that meet this criteria.  Would you like to book an alternate travel option?\n",
      "--------------------------------------------------------------------------------\n",
      "Yes, how about going to Neverland from Caprica on August 13, 2016 for 5 adults. For this trip, my budget would be 1900.\n",
      "--------------------------------------------------------------------------------\n",
      "I checked the availability for this date and there were no trips available.  Would you like to select some alternate dates?\n",
      "--------------------------------------------------------------------------------\n",
      "I have no flexibility for dates... but I can leave from Atlantis rather than Caprica. How about that?\n",
      "--------------------------------------------------------------------------------\n",
      "I checked the availability for that date and there were no trips available.  Would you like to select some alternate dates?\n",
      "--------------------------------------------------------------------------------\n",
      "I suppose I'll speak with my husband to see if we can choose other dates, and then I'll come back to you.Thanks for your help\n"
     ]
    }
   ],
   "source": [
    "# On affiche le premier dialogue\n",
    "for turn in frames[0][\"turns\"]:\n",
    "    print(\"-\" * 80)\n",
    "    print(turn.get(\"text\", \"\"))"
   ]
  },
  {
   "cell_type": "code",
   "execution_count": 12,
   "id": "a7b12cb6",
   "metadata": {
    "gather": {
     "logged": 1638784944820
    },
    "scrolled": false
   },
   "outputs": [
    {
     "name": "stdout",
     "output_type": "stream",
     "text": [
      "I'd like to book a trip to Atlantis from Caprica on Saturday, August 13, 2016 for 8 adults. I have a tight budget of 1700.\n",
      "Hello, I am looking to book a vacation from Gotham City to Mos Eisley for $2100.\n",
      "Hello there i am looking to go on a vacation with my family to Gotham City, can you help me?\n",
      "Hi I'd like to go to Caprica from Busan, between Sunday August 21, 2016 and Wednesday August 31, 2016\n",
      "Hello, I am looking to book a trip for 2 adults and 6 children for $21,300 or less. We are departing from Kochi for Denver.\n",
      "Hey, i Want to go to St. Louis on the 17th of August\n",
      "I'm looking for a trip to Gotham City leaving from Kakariko Village on Saturday, August 13, 2016. 3 adults for no more than $2400 USD.\n",
      "Hello, I would like to book a 2-week trip leaving from Melbourne on August 27. I would like to go to Mannheim.\n",
      "Hello, I am planning to book a trip to pittsborgh\n",
      "Hi, I need to go to Mos Eisley for a wedding, leaving on Saturday, August 13, 2016 and returning on Tuesday, August 16, 2016. Preferably for $3700.\n"
     ]
    }
   ],
   "source": [
    "# On affiche les premières utterances des 10 premiers dialogues\n",
    "for i in range(10):\n",
    "    print(frames[i].get(\"turns\", [])[0].get(\"text\", \"\"))"
   ]
  },
  {
   "cell_type": "markdown",
   "id": "5e78f031",
   "metadata": {},
   "source": [
    "## Analyse des labels"
   ]
  },
  {
   "cell_type": "code",
   "execution_count": 34,
   "id": "6657166e",
   "metadata": {
    "gather": {
     "logged": 1638784950900
    },
    "scrolled": false
   },
   "outputs": [
    {
     "name": "stdout",
     "output_type": "stream",
     "text": [
      "[\n",
      "  {\n",
      "    \"args\": [\n",
      "      {\n",
      "        \"val\": \"book\",\n",
      "        \"key\": \"intent\"\n",
      "      }\n",
      "    ],\n",
      "    \"name\": \"inform\"\n",
      "  },\n",
      "  {\n",
      "    \"args\": [\n",
      "      {\n",
      "        \"val\": \"Atlantis\",\n",
      "        \"key\": \"dst_city\"\n",
      "      },\n",
      "      {\n",
      "        \"val\": \"Caprica\",\n",
      "        \"key\": \"or_city\"\n",
      "      },\n",
      "      {\n",
      "        \"val\": \"Saturday, August 13, 2016\",\n",
      "        \"key\": \"str_date\"\n",
      "      },\n",
      "      {\n",
      "        \"val\": \"8\",\n",
      "        \"key\": \"n_adults\"\n",
      "      },\n",
      "      {\n",
      "        \"val\": \"1700\",\n",
      "        \"key\": \"budget\"\n",
      "      }\n",
      "    ],\n",
      "    \"name\": \"inform\"\n",
      "  }\n",
      "]\n"
     ]
    }
   ],
   "source": [
    "pprint_dict(frames[0][\"turns\"][0][\"labels\"][\"acts_without_refs\"])"
   ]
  },
  {
   "cell_type": "code",
   "execution_count": 25,
   "id": "dd46b59f",
   "metadata": {
    "gather": {
     "logged": 1638784949025
    }
   },
   "outputs": [],
   "source": [
    "keys = defaultdict(set)\n",
    "for i in frames:\n",
    "    for j in i[\"turns\"][0][\"labels\"][\"acts_without_refs\"]:\n",
    "        for k in j[\"args\"]:\n",
    "            try:\n",
    "                keys[k[\"key\"]].add(k.get(\"val\", \"\"))\n",
    "            except:\n",
    "                print(k)"
   ]
  },
  {
   "cell_type": "code",
   "execution_count": 30,
   "id": "4d0cca73",
   "metadata": {},
   "outputs": [
    {
     "data": {
      "text/plain": [
       "{'intent': 1,\n",
       " 'dst_city': 245,\n",
       " 'or_city': 254,\n",
       " 'str_date': 211,\n",
       " 'n_adults': 139,\n",
       " 'budget': 118,\n",
       " 'end_date': 149,\n",
       " 'n_children': 35,\n",
       " 'max_duration': 42,\n",
       " 'breakfast': 1,\n",
       " 'flex': 2,\n",
       " 'price': 1,\n",
       " 'name': 1,\n",
       " 'beach': 1,\n",
       " 'seat': 3,\n",
       " 'category': 14,\n",
       " 'min_duration': 2,\n",
       " 'park': 1,\n",
       " 'count_dst_city': 1,\n",
       " 'university': 1}"
      ]
     },
     "execution_count": 30,
     "metadata": {},
     "output_type": "execute_result"
    }
   ],
   "source": [
    "{k: len(v) for k, v in keys.items()}"
   ]
  },
  {
   "cell_type": "code",
   "execution_count": 27,
   "id": "e51a5215",
   "metadata": {},
   "outputs": [
    {
     "data": {
      "text/plain": [
       "{'book'}"
      ]
     },
     "execution_count": 27,
     "metadata": {},
     "output_type": "execute_result"
    }
   ],
   "source": [
    "keys[\"intent\"]"
   ]
  },
  {
   "cell_type": "markdown",
   "id": "c40eb5bd",
   "metadata": {},
   "source": [
    "## Transformation des données"
   ]
  },
  {
   "cell_type": "code",
   "execution_count": 331,
   "id": "becde957",
   "metadata": {
    "gather": {
     "logged": 1638784951811
    }
   },
   "outputs": [
    {
     "name": "stdout",
     "output_type": "stream",
     "text": [
      "{\n",
      "  \"text\": \"I'd like to book a trip to Atlantis from Caprica on Saturday, August 13, 2016 for 8 adults. I have a tight budget of 1700.\",\n",
      "  \"intentName\": \"book_flight\",\n",
      "  \"entityLabels\": [\n",
      "    {\n",
      "      \"startCharIndex\": 27,\n",
      "      \"endCharIndex\": 34,\n",
      "      \"entityName\": \"to_city\"\n",
      "    },\n",
      "    {\n",
      "      \"startCharIndex\": 41,\n",
      "      \"endCharIndex\": 47,\n",
      "      \"entityName\": \"from_city\"\n",
      "    },\n",
      "    {\n",
      "      \"startCharIndex\": 52,\n",
      "      \"endCharIndex\": 76,\n",
      "      \"entityName\": \"from_dt\"\n",
      "    },\n",
      "    {\n",
      "      \"startCharIndex\": 117,\n",
      "      \"endCharIndex\": 120,\n",
      "      \"entityName\": \"budget\"\n",
      "    }\n",
      "  ]\n",
      "}\n"
     ]
    }
   ],
   "source": [
    "label_to_entity = {\n",
    "    \"or_city\": \"from_city\",\n",
    "    \"dst_city\": \"to_city\",\n",
    "    \"str_date\": \"from_dt\",\n",
    "    \"end_date\": \"to_dt\",\n",
    "    \"budget\": \"budget\"\n",
    "}\n",
    "\n",
    "intent_name = \"book_flight\"\n",
    "\n",
    "def turn_to_luis_utterance(turn, intent_name, label_to_entity):\n",
    "    \"\"\"\"\"\"\n",
    "    text = turn[\"text\"]\n",
    "\n",
    "    entity_labels = []\n",
    "    for i in turn[\"labels\"][\"acts_without_refs\"]:\n",
    "        for l in i[\"args\"]:\n",
    "            k = l[\"key\"]\n",
    "            v = l[\"val\"]\n",
    "\n",
    "            if k and v:\n",
    "                if k in label_to_entity.keys():\n",
    "                    start_char_index = text.lower().find(v.lower())\n",
    "                    if start_char_index == -1:\n",
    "                        continue\n",
    "                    \n",
    "                    end_char_index = start_char_index + len(v) - 1\n",
    "\n",
    "                    entity_labels.append({\n",
    "                        \"startCharIndex\": start_char_index,\n",
    "                        \"endCharIndex\": end_char_index,\n",
    "                        \"entityName\": label_to_entity[k],\n",
    "                    })\n",
    "    \n",
    "    res = {\n",
    "        \"text\": text,\n",
    "        \"intentName\": intent_name,\n",
    "        \"entityLabels\": entity_labels,\n",
    "    }\n",
    "    return res\n",
    "\n",
    "res = turn_to_luis_utterance(frames[0][\"turns\"][0], intent_name, label_to_entity)\n",
    "pprint_dict(res)"
   ]
  },
  {
   "cell_type": "code",
   "execution_count": 332,
   "id": "81bb4c23",
   "metadata": {
    "gather": {
     "logged": 1638784953301
    }
   },
   "outputs": [],
   "source": [
    "res = []\n",
    "for frame in frames:\n",
    "    user_turn_id = 0\n",
    "    for turn in frame[\"turns\"]:\n",
    "        if turn[\"author\"] == \"user\":\n",
    "            row = {\"user_turn_id\": user_turn_id}\n",
    "            user_turn_id += 1\n",
    "            \n",
    "            row.update(turn_to_luis_utterance(turn, intent_name, label_to_entity))\n",
    "        \n",
    "            res.append(row)"
   ]
  },
  {
   "cell_type": "code",
   "execution_count": 333,
   "id": "27bb9852",
   "metadata": {
    "gather": {
     "logged": 1638784954127
    }
   },
   "outputs": [
    {
     "data": {
      "text/plain": [
       "(10407, 11)"
      ]
     },
     "execution_count": 333,
     "metadata": {},
     "output_type": "execute_result"
    }
   ],
   "source": [
    "df = pd.DataFrame(res)\n",
    "df[\"entity_total_nb\"] = df[\"entityLabels\"].apply(len)\n",
    "\n",
    "for entity_name in label_to_entity.values():\n",
    "    df[f\"{entity_name}_nb\"] = df[\"entityLabels\"].apply(\n",
    "        lambda x: len(list(\n",
    "            filter(lambda x1: x1[\"entityName\"] == entity_name, x)\n",
    "        ))\n",
    "    )\n",
    "\n",
    "df[\"text_word_nb\"] = df[\"text\"].apply(lambda x: len(x.split()))\n",
    "\n",
    "none_intent_mask = df[\"entity_total_nb\"] == 0\n",
    "df.loc[none_intent_mask, \"intentName\"] = \"None\"\n",
    "    \n",
    "df.shape"
   ]
  },
  {
   "cell_type": "code",
   "execution_count": 334,
   "id": "4bf4e3bc",
   "metadata": {},
   "outputs": [
    {
     "data": {
      "text/html": [
       "<div>\n",
       "<style scoped>\n",
       "    .dataframe tbody tr th:only-of-type {\n",
       "        vertical-align: middle;\n",
       "    }\n",
       "\n",
       "    .dataframe tbody tr th {\n",
       "        vertical-align: top;\n",
       "    }\n",
       "\n",
       "    .dataframe thead th {\n",
       "        text-align: right;\n",
       "    }\n",
       "</style>\n",
       "<table border=\"1\" class=\"dataframe\">\n",
       "  <thead>\n",
       "    <tr style=\"text-align: right;\">\n",
       "      <th></th>\n",
       "      <th>user_turn_id</th>\n",
       "      <th>text</th>\n",
       "      <th>intentName</th>\n",
       "      <th>entityLabels</th>\n",
       "      <th>entity_total_nb</th>\n",
       "      <th>from_city_nb</th>\n",
       "      <th>to_city_nb</th>\n",
       "      <th>from_dt_nb</th>\n",
       "      <th>to_dt_nb</th>\n",
       "      <th>budget_nb</th>\n",
       "      <th>text_word_nb</th>\n",
       "    </tr>\n",
       "  </thead>\n",
       "  <tbody>\n",
       "    <tr>\n",
       "      <th>0</th>\n",
       "      <td>0</td>\n",
       "      <td>I'd like to book a trip to Atlantis from Capri...</td>\n",
       "      <td>book_flight</td>\n",
       "      <td>[{'startCharIndex': 27, 'endCharIndex': 34, 'e...</td>\n",
       "      <td>4</td>\n",
       "      <td>1</td>\n",
       "      <td>1</td>\n",
       "      <td>1</td>\n",
       "      <td>0</td>\n",
       "      <td>1</td>\n",
       "      <td>25</td>\n",
       "    </tr>\n",
       "    <tr>\n",
       "      <th>1</th>\n",
       "      <td>1</td>\n",
       "      <td>Yes, how about going to Neverland from Caprica...</td>\n",
       "      <td>book_flight</td>\n",
       "      <td>[{'startCharIndex': 24, 'endCharIndex': 32, 'e...</td>\n",
       "      <td>4</td>\n",
       "      <td>1</td>\n",
       "      <td>1</td>\n",
       "      <td>1</td>\n",
       "      <td>0</td>\n",
       "      <td>1</td>\n",
       "      <td>23</td>\n",
       "    </tr>\n",
       "    <tr>\n",
       "      <th>2</th>\n",
       "      <td>2</td>\n",
       "      <td>I have no flexibility for dates... but I can l...</td>\n",
       "      <td>book_flight</td>\n",
       "      <td>[{'startCharIndex': 56, 'endCharIndex': 63, 'e...</td>\n",
       "      <td>2</td>\n",
       "      <td>2</td>\n",
       "      <td>0</td>\n",
       "      <td>0</td>\n",
       "      <td>0</td>\n",
       "      <td>0</td>\n",
       "      <td>18</td>\n",
       "    </tr>\n",
       "    <tr>\n",
       "      <th>3</th>\n",
       "      <td>3</td>\n",
       "      <td>I suppose I'll speak with my husband to see if...</td>\n",
       "      <td>None</td>\n",
       "      <td>[]</td>\n",
       "      <td>0</td>\n",
       "      <td>0</td>\n",
       "      <td>0</td>\n",
       "      <td>0</td>\n",
       "      <td>0</td>\n",
       "      <td>0</td>\n",
       "      <td>25</td>\n",
       "    </tr>\n",
       "    <tr>\n",
       "      <th>4</th>\n",
       "      <td>0</td>\n",
       "      <td>Hello, I am looking to book a vacation from Go...</td>\n",
       "      <td>book_flight</td>\n",
       "      <td>[{'startCharIndex': 59, 'endCharIndex': 68, 'e...</td>\n",
       "      <td>3</td>\n",
       "      <td>1</td>\n",
       "      <td>1</td>\n",
       "      <td>0</td>\n",
       "      <td>0</td>\n",
       "      <td>1</td>\n",
       "      <td>16</td>\n",
       "    </tr>\n",
       "  </tbody>\n",
       "</table>\n",
       "</div>"
      ],
      "text/plain": [
       "   user_turn_id                                               text  \\\n",
       "0             0  I'd like to book a trip to Atlantis from Capri...   \n",
       "1             1  Yes, how about going to Neverland from Caprica...   \n",
       "2             2  I have no flexibility for dates... but I can l...   \n",
       "3             3  I suppose I'll speak with my husband to see if...   \n",
       "4             0  Hello, I am looking to book a vacation from Go...   \n",
       "\n",
       "    intentName                                       entityLabels  \\\n",
       "0  book_flight  [{'startCharIndex': 27, 'endCharIndex': 34, 'e...   \n",
       "1  book_flight  [{'startCharIndex': 24, 'endCharIndex': 32, 'e...   \n",
       "2  book_flight  [{'startCharIndex': 56, 'endCharIndex': 63, 'e...   \n",
       "3         None                                                 []   \n",
       "4  book_flight  [{'startCharIndex': 59, 'endCharIndex': 68, 'e...   \n",
       "\n",
       "   entity_total_nb  from_city_nb  to_city_nb  from_dt_nb  to_dt_nb  budget_nb  \\\n",
       "0                4             1           1           1         0          1   \n",
       "1                4             1           1           1         0          1   \n",
       "2                2             2           0           0         0          0   \n",
       "3                0             0           0           0         0          0   \n",
       "4                3             1           1           0         0          1   \n",
       "\n",
       "   text_word_nb  \n",
       "0            25  \n",
       "1            23  \n",
       "2            18  \n",
       "3            25  \n",
       "4            16  "
      ]
     },
     "execution_count": 334,
     "metadata": {},
     "output_type": "execute_result"
    }
   ],
   "source": [
    "df.head()"
   ]
  },
  {
   "cell_type": "code",
   "execution_count": 335,
   "id": "e878f7db",
   "metadata": {},
   "outputs": [
    {
     "data": {
      "text/html": [
       "<div>\n",
       "<style scoped>\n",
       "    .dataframe tbody tr th:only-of-type {\n",
       "        vertical-align: middle;\n",
       "    }\n",
       "\n",
       "    .dataframe tbody tr th {\n",
       "        vertical-align: top;\n",
       "    }\n",
       "\n",
       "    .dataframe thead th {\n",
       "        text-align: right;\n",
       "    }\n",
       "</style>\n",
       "<table border=\"1\" class=\"dataframe\">\n",
       "  <thead>\n",
       "    <tr style=\"text-align: right;\">\n",
       "      <th></th>\n",
       "      <th>count</th>\n",
       "      <th>mean</th>\n",
       "      <th>std</th>\n",
       "      <th>min</th>\n",
       "      <th>25%</th>\n",
       "      <th>50%</th>\n",
       "      <th>75%</th>\n",
       "      <th>max</th>\n",
       "    </tr>\n",
       "  </thead>\n",
       "  <tbody>\n",
       "    <tr>\n",
       "      <th>text_word_nb</th>\n",
       "      <td>10407.0</td>\n",
       "      <td>10.367061</td>\n",
       "      <td>8.633925</td>\n",
       "      <td>1.0</td>\n",
       "      <td>4.0</td>\n",
       "      <td>8.0</td>\n",
       "      <td>14.0</td>\n",
       "      <td>80.0</td>\n",
       "    </tr>\n",
       "    <tr>\n",
       "      <th>entity_total_nb</th>\n",
       "      <td>10407.0</td>\n",
       "      <td>0.766311</td>\n",
       "      <td>0.965664</td>\n",
       "      <td>0.0</td>\n",
       "      <td>0.0</td>\n",
       "      <td>1.0</td>\n",
       "      <td>1.0</td>\n",
       "      <td>5.0</td>\n",
       "    </tr>\n",
       "    <tr>\n",
       "      <th>from_city_nb</th>\n",
       "      <td>10407.0</td>\n",
       "      <td>0.180263</td>\n",
       "      <td>0.386917</td>\n",
       "      <td>0.0</td>\n",
       "      <td>0.0</td>\n",
       "      <td>0.0</td>\n",
       "      <td>0.0</td>\n",
       "      <td>2.0</td>\n",
       "    </tr>\n",
       "    <tr>\n",
       "      <th>to_city_nb</th>\n",
       "      <td>10407.0</td>\n",
       "      <td>0.317863</td>\n",
       "      <td>0.477689</td>\n",
       "      <td>0.0</td>\n",
       "      <td>0.0</td>\n",
       "      <td>0.0</td>\n",
       "      <td>1.0</td>\n",
       "      <td>5.0</td>\n",
       "    </tr>\n",
       "    <tr>\n",
       "      <th>from_dt_nb</th>\n",
       "      <td>10407.0</td>\n",
       "      <td>0.109926</td>\n",
       "      <td>0.316478</td>\n",
       "      <td>0.0</td>\n",
       "      <td>0.0</td>\n",
       "      <td>0.0</td>\n",
       "      <td>0.0</td>\n",
       "      <td>3.0</td>\n",
       "    </tr>\n",
       "    <tr>\n",
       "      <th>to_dt_nb</th>\n",
       "      <td>10407.0</td>\n",
       "      <td>0.067839</td>\n",
       "      <td>0.252245</td>\n",
       "      <td>0.0</td>\n",
       "      <td>0.0</td>\n",
       "      <td>0.0</td>\n",
       "      <td>0.0</td>\n",
       "      <td>2.0</td>\n",
       "    </tr>\n",
       "    <tr>\n",
       "      <th>budget_nb</th>\n",
       "      <td>10407.0</td>\n",
       "      <td>0.090420</td>\n",
       "      <td>0.287466</td>\n",
       "      <td>0.0</td>\n",
       "      <td>0.0</td>\n",
       "      <td>0.0</td>\n",
       "      <td>0.0</td>\n",
       "      <td>2.0</td>\n",
       "    </tr>\n",
       "  </tbody>\n",
       "</table>\n",
       "</div>"
      ],
      "text/plain": [
       "                   count       mean       std  min  25%  50%   75%   max\n",
       "text_word_nb     10407.0  10.367061  8.633925  1.0  4.0  8.0  14.0  80.0\n",
       "entity_total_nb  10407.0   0.766311  0.965664  0.0  0.0  1.0   1.0   5.0\n",
       "from_city_nb     10407.0   0.180263  0.386917  0.0  0.0  0.0   0.0   2.0\n",
       "to_city_nb       10407.0   0.317863  0.477689  0.0  0.0  0.0   1.0   5.0\n",
       "from_dt_nb       10407.0   0.109926  0.316478  0.0  0.0  0.0   0.0   3.0\n",
       "to_dt_nb         10407.0   0.067839  0.252245  0.0  0.0  0.0   0.0   2.0\n",
       "budget_nb        10407.0   0.090420  0.287466  0.0  0.0  0.0   0.0   2.0"
      ]
     },
     "execution_count": 335,
     "metadata": {},
     "output_type": "execute_result"
    }
   ],
   "source": [
    "df[\n",
    "    [\"text_word_nb\", \"entity_total_nb\"] + [f\"{i}_nb\" for i in label_to_entity.values()]\n",
    "].describe().T"
   ]
  },
  {
   "cell_type": "code",
   "execution_count": 336,
   "id": "35e86731",
   "metadata": {},
   "outputs": [
    {
     "data": {
      "text/plain": [
       "128"
      ]
     },
     "execution_count": 336,
     "metadata": {},
     "output_type": "execute_result"
    }
   ],
   "source": [
    "book_flight_utterances = df[(df[\"user_turn_id\"] == 0) & (df[\"entity_total_nb\"] == len(label_to_entity) - 1)]\n",
    "len(book_flight_utterances)"
   ]
  },
  {
   "cell_type": "code",
   "execution_count": 337,
   "id": "cd331cb1",
   "metadata": {},
   "outputs": [
    {
     "data": {
      "text/plain": [
       "244"
      ]
     },
     "execution_count": 337,
     "metadata": {},
     "output_type": "execute_result"
    }
   ],
   "source": [
    "none_utterances = df[(df[\"user_turn_id\"] == 0) & (df[\"entity_total_nb\"] == 0)]\n",
    "len(none_utterances)"
   ]
  },
  {
   "cell_type": "code",
   "execution_count": 338,
   "id": "a9608032",
   "metadata": {},
   "outputs": [
    {
     "data": {
      "text/plain": [
       "128"
      ]
     },
     "execution_count": 338,
     "metadata": {},
     "output_type": "execute_result"
    }
   ],
   "source": [
    "none_utterances = none_utterances.sample(len(book_flight_utterances), random_state=RANDOM_SEED)\n",
    "len(none_utterances)"
   ]
  },
  {
   "cell_type": "code",
   "execution_count": 339,
   "id": "7b4278dd",
   "metadata": {},
   "outputs": [],
   "source": [
    "utterances = pd.concat([book_flight_utterances, none_utterances])"
   ]
  },
  {
   "cell_type": "markdown",
   "id": "7c71fb74",
   "metadata": {},
   "source": [
    "## Split des données"
   ]
  },
  {
   "cell_type": "code",
   "execution_count": 340,
   "id": "7461cef0",
   "metadata": {},
   "outputs": [],
   "source": [
    "utterances_train = utterances.sample(frac=0.7, random_state=RANDOM_SEED)"
   ]
  },
  {
   "cell_type": "code",
   "execution_count": 341,
   "id": "4c40b17b",
   "metadata": {},
   "outputs": [],
   "source": [
    "utterances_test_idx = utterances.index.difference(utterances_train.index)\n",
    "utterances_test = utterances.loc[utterances_test_idx]"
   ]
  },
  {
   "cell_type": "code",
   "execution_count": 342,
   "id": "de31754f",
   "metadata": {},
   "outputs": [
    {
     "data": {
      "text/plain": [
       "((179, 11), (77, 11))"
      ]
     },
     "execution_count": 342,
     "metadata": {},
     "output_type": "execute_result"
    }
   ],
   "source": [
    "utterances_train.shape, utterances_test.shape"
   ]
  },
  {
   "cell_type": "code",
   "execution_count": 343,
   "id": "fb5e44a6",
   "metadata": {},
   "outputs": [],
   "source": [
    "utterances_train = utterances_train[[\"text\", \"intentName\", \"entityLabels\"]].to_dict(\"records\")"
   ]
  },
  {
   "cell_type": "code",
   "execution_count": 344,
   "id": "fd0f1f0c",
   "metadata": {},
   "outputs": [
    {
     "name": "stdout",
     "output_type": "stream",
     "text": [
      "{\n",
      "  \"text\": \"I'm exhausted and I need to get away. I want to treat myself to a five day trip.\",\n",
      "  \"intentName\": \"None\",\n",
      "  \"entityLabels\": []\n",
      "}\n"
     ]
    }
   ],
   "source": [
    "pprint_dict(utterances_train[0])"
   ]
  },
  {
   "cell_type": "code",
   "execution_count": 345,
   "id": "739a36d9",
   "metadata": {},
   "outputs": [],
   "source": [
    "utterances_test = utterances_test[[\"text\", \"intentName\", \"entityLabels\"]].to_dict(\"records\")"
   ]
  },
  {
   "cell_type": "code",
   "execution_count": 346,
   "id": "f1c12276",
   "metadata": {},
   "outputs": [],
   "source": [
    "from typing import List, Dict\n",
    "\n",
    "from pydantic import BaseModel"
   ]
  },
  {
   "cell_type": "code",
   "execution_count": 347,
   "id": "56448556",
   "metadata": {},
   "outputs": [],
   "source": [
    "class EntityBaseModel(BaseModel):\n",
    "    entity: str\n",
    "    startPos: int\n",
    "    endPos: int\n",
    "    children: List[\"EntityBaseModel\"] = []\n",
    "\n",
    "    def __init__(self, **kwargs):\n",
    "        kwargs[\"entity\"] = kwargs[\"entityName\"]\n",
    "        kwargs[\"startPos\"] = kwargs[\"startCharIndex\"]\n",
    "        kwargs[\"endPos\"] = kwargs[\"endCharIndex\"]\n",
    "        super().__init__(**kwargs)\n",
    "\n",
    "class TestUterranceBaseModel(BaseModel):\n",
    "    text: str\n",
    "    intent: str\n",
    "    entities: List[EntityBaseModel]\n",
    "\n",
    "    def __init__(self, **kwargs):\n",
    "        kwargs[\"intent\"] = kwargs[\"intentName\"]\n",
    "        kwargs[\"entities\"] = kwargs[\"entityLabels\"]\n",
    "        super().__init__(**kwargs)\n",
    "        \n",
    "def conv_example_to_utterance_format(utterance):\n",
    "    \"\"\"\"\"\"\n",
    "    return TestUterranceBaseModel(**utterance).dict()"
   ]
  },
  {
   "cell_type": "code",
   "execution_count": 348,
   "id": "4dc6ed56",
   "metadata": {},
   "outputs": [],
   "source": [
    "utterances_test = {\n",
    "    \"LabeledTestSetUtterances\": list(map(conv_example_to_utterance_format, utterances_test))\n",
    "}"
   ]
  },
  {
   "cell_type": "code",
   "execution_count": 349,
   "id": "929ba6b2",
   "metadata": {},
   "outputs": [
    {
     "data": {
      "text/plain": [
       "{'text': \"Hi I'd like to go to Caprica from Busan, between Sunday August 21, 2016 and Wednesday August 31, 2016\",\n",
       " 'intent': 'book_flight',\n",
       " 'entities': [{'entity': 'to_city',\n",
       "   'startPos': 21,\n",
       "   'endPos': 27,\n",
       "   'children': []},\n",
       "  {'entity': 'from_city', 'startPos': 34, 'endPos': 38, 'children': []},\n",
       "  {'entity': 'from_dt', 'startPos': 49, 'endPos': 70, 'children': []},\n",
       "  {'entity': 'to_dt', 'startPos': 76, 'endPos': 100, 'children': []}]}"
      ]
     },
     "execution_count": 349,
     "metadata": {},
     "output_type": "execute_result"
    }
   ],
   "source": [
    "utterances_test[\"LabeledTestSetUtterances\"][0]"
   ]
  },
  {
   "cell_type": "markdown",
   "id": "1bd2cbf7",
   "metadata": {},
   "source": [
    "## Enregistrement des datasets"
   ]
  },
  {
   "cell_type": "code",
   "execution_count": 353,
   "id": "b37cacbd",
   "metadata": {},
   "outputs": [
    {
     "name": "stdout",
     "output_type": "stream",
     "text": [
      "Validating arguments.\n",
      "Arguments validated.\n",
      "Uploading file to utterances_2/2021_12_15\n",
      "Uploading an estimated of 2 files\n",
      "Uploading /tmp/tmp8tbi4wj_/utterances_test.json\n",
      "Uploaded /tmp/tmp8tbi4wj_/utterances_test.json, 1 files out of an estimated total of 2\n",
      "Uploading /tmp/tmp8tbi4wj_/utterances_train.json\n",
      "Uploaded /tmp/tmp8tbi4wj_/utterances_train.json, 2 files out of an estimated total of 2\n",
      "Uploaded 2 files\n",
      "Creating new dataset\n"
     ]
    }
   ],
   "source": [
    "with tempfile.TemporaryDirectory() as tmp_dir_name:\n",
    "    # On enregistre les données\n",
    "    file_path = os.path.join(tmp_dir_name, \"utterances_train.json\")\n",
    "    with open(file_path, \"w\") as f:\n",
    "        json.dump(utterances_train, f)\n",
    "        \n",
    "    file_path = os.path.join(tmp_dir_name, \"utterances_test.json\")\n",
    "    with open(file_path, \"w\") as f:\n",
    "        json.dump(utterances_test, f)\n",
    "    \n",
    "    # On upload tous les fichiers dans le datastore\n",
    "    ds = Dataset.File.upload_directory(\n",
    "        tmp_dir_name,\n",
    "        target=(datastore, \"utterances_2/\" + datetime.now().strftime(\"%Y_%m_%d\")),\n",
    "        overwrite=True,\n",
    "        show_progress=True\n",
    "    )"
   ]
  },
  {
   "cell_type": "code",
   "execution_count": 355,
   "id": "7e03bc4d",
   "metadata": {},
   "outputs": [],
   "source": [
    "ds = ds.register(\n",
    "    workspace=ws,\n",
    "    name=\"utterances\",\n",
    "    description=\"Train and test utterances\",\n",
    "    create_new_version=True\n",
    ")"
   ]
  },
  {
   "cell_type": "markdown",
   "id": "0b05c0bf",
   "metadata": {},
   "source": [
    "## Chargement des données"
   ]
  },
  {
   "cell_type": "code",
   "execution_count": 356,
   "id": "692d2d93",
   "metadata": {},
   "outputs": [],
   "source": [
    "with tempfile.TemporaryDirectory() as tmp_dir_name:\n",
    "    dataset = Dataset.get_by_name(ws, name='utterances')\n",
    "    dataset.download(target_path=tmp_dir_name, overwrite=False)\n",
    "    \n",
    "    file_path = os.path.join(tmp_dir_name, \"utterances_train.json\")\n",
    "    with open(file_path) as f:\n",
    "        train_json = json.load(f)\n",
    "        \n",
    "    file_path = os.path.join(tmp_dir_name, \"utterances_test.json\")\n",
    "    with open(file_path) as f:\n",
    "        test_json = json.load(f)"
   ]
  },
  {
   "cell_type": "code",
   "execution_count": 357,
   "id": "992e8a33",
   "metadata": {},
   "outputs": [
    {
     "data": {
      "text/plain": [
       "{'text': \"I'm exhausted and I need to get away. I want to treat myself to a five day trip.\",\n",
       " 'intentName': 'None',\n",
       " 'entityLabels': []}"
      ]
     },
     "execution_count": 357,
     "metadata": {},
     "output_type": "execute_result"
    }
   ],
   "source": [
    "train_json[0]"
   ]
  },
  {
   "cell_type": "code",
   "execution_count": 358,
   "id": "799b550e",
   "metadata": {},
   "outputs": [
    {
     "data": {
      "text/plain": [
       "{'text': \"Hi I'd like to go to Caprica from Busan, between Sunday August 21, 2016 and Wednesday August 31, 2016\",\n",
       " 'intent': 'book_flight',\n",
       " 'entities': [{'entity': 'to_city',\n",
       "   'startPos': 21,\n",
       "   'endPos': 27,\n",
       "   'children': []},\n",
       "  {'entity': 'from_city', 'startPos': 34, 'endPos': 38, 'children': []},\n",
       "  {'entity': 'from_dt', 'startPos': 49, 'endPos': 70, 'children': []},\n",
       "  {'entity': 'to_dt', 'startPos': 76, 'endPos': 100, 'children': []}]}"
      ]
     },
     "execution_count": 358,
     "metadata": {},
     "output_type": "execute_result"
    }
   ],
   "source": [
    "test_json[\"LabeledTestSetUtterances\"][0]"
   ]
  },
  {
   "cell_type": "markdown",
   "id": "ff069b94",
   "metadata": {},
   "source": [
    "# Création du modèle LUIS"
   ]
  },
  {
   "cell_type": "code",
   "execution_count": 199,
   "id": "f30762c9",
   "metadata": {
    "gather": {
     "logged": 1638784958139
    }
   },
   "outputs": [],
   "source": [
    "from azure.cognitiveservices.language.luis.authoring import LUISAuthoringClient\n",
    "from azure.cognitiveservices.language.luis.authoring.models import ApplicationCreateObject, AzureAccountInfoObject, LuisApp\n",
    "from azure.cognitiveservices.language.luis.runtime import LUISRuntimeClient\n",
    "from msrest.authentication import CognitiveServicesCredentials\n",
    "\n",
    "import json, time, uuid"
   ]
  },
  {
   "cell_type": "code",
   "execution_count": 200,
   "id": "f557be00-a7ab-4961-8302-5149906dcf62",
   "metadata": {
    "gather": {
     "logged": 1638785126195
    },
    "jupyter": {
     "outputs_hidden": false,
     "source_hidden": false
    },
    "nteract": {
     "transient": {
      "deleting": false
     }
    }
   },
   "outputs": [
    {
     "data": {
      "text/plain": [
       "True"
      ]
     },
     "execution_count": 200,
     "metadata": {},
     "output_type": "execute_result"
    }
   ],
   "source": [
    "from dotenv import load_dotenv, set_key\n",
    "\n",
    "load_dotenv(\"../P10_03_luis/.env\")"
   ]
  },
  {
   "cell_type": "code",
   "execution_count": 359,
   "id": "d2a4da03",
   "metadata": {
    "gather": {
     "logged": 1638785128513
    },
    "jupyter": {
     "outputs_hidden": false,
     "source_hidden": false
    },
    "nteract": {
     "transient": {
      "deleting": false
     }
    }
   },
   "outputs": [],
   "source": [
    "LUIS_AUTH_KEY = os.getenv(\"LUIS_AUTH_KEY\")\n",
    "LUIS_AUTH_ENDPOINT = os.getenv(\"LUIS_AUTH_ENDPOINT\")\n",
    "\n",
    "LUIS_PRED_KEY = os.getenv(\"LUIS_PRED_KEY\")\n",
    "LUIS_PRED_ENDPOINT = os.getenv(\"LUIS_PRED_ENDPOINT\")"
   ]
  },
  {
   "cell_type": "code",
   "execution_count": 360,
   "id": "6bf24bb2",
   "metadata": {
    "gather": {
     "logged": 1638785133099
    }
   },
   "outputs": [],
   "source": [
    "# On s'authentifie\n",
    "client = LUISAuthoringClient(LUIS_AUTH_ENDPOINT, CognitiveServicesCredentials(LUIS_AUTH_KEY))"
   ]
  },
  {
   "cell_type": "code",
   "execution_count": 361,
   "id": "37867f01",
   "metadata": {
    "gather": {
     "logged": 1638785303561
    }
   },
   "outputs": [],
   "source": [
    "# We use a UUID to avoid name collisions.\n",
    "app_name = \"p10-luis-app\"\n",
    "app_version = \"0.1\"\n",
    "intent_name = \"book_flight\""
   ]
  },
  {
   "cell_type": "code",
   "execution_count": 362,
   "id": "59dd4588",
   "metadata": {
    "gather": {
     "logged": 1638785305492
    }
   },
   "outputs": [
    {
     "name": "stdout",
     "output_type": "stream",
     "text": [
      "Created LUIS app with ID c75d938e-310d-41a1-88b5-5aad57f4cc9e\n"
     ]
    }
   ],
   "source": [
    "# define app basics\n",
    "app_def = ApplicationCreateObject(name=app_name, initial_version_id=app_version, culture='en-us')\n",
    "\n",
    "# create app\n",
    "app_id = client.apps.add(app_def)\n",
    "\n",
    "# get app id - necessary for all other changes\n",
    "print(\"Created LUIS app with ID {}\".format(app_id))"
   ]
  },
  {
   "cell_type": "code",
   "execution_count": 363,
   "id": "dbebad99-4869-4182-b465-854f5bae0c2f",
   "metadata": {
    "gather": {
     "logged": 1638785332491
    },
    "jupyter": {
     "outputs_hidden": false,
     "source_hidden": false
    },
    "nteract": {
     "transient": {
      "deleting": false
     }
    }
   },
   "outputs": [
    {
     "data": {
      "text/plain": [
       "(True, 'LUIS_APP_ID', 'c75d938e-310d-41a1-88b5-5aad57f4cc9e')"
      ]
     },
     "execution_count": 363,
     "metadata": {},
     "output_type": "execute_result"
    }
   ],
   "source": [
    "set_key(\"../P10_03_luis/.env\", \"LUIS_APP_ID\", app_id)"
   ]
  },
  {
   "cell_type": "code",
   "execution_count": 364,
   "id": "cc72b106",
   "metadata": {
    "gather": {
     "logged": 1638785336593
    }
   },
   "outputs": [
    {
     "data": {
      "text/plain": [
       "'94e02d3a-8214-4ba2-b8cc-92ea6496f0ee'"
      ]
     },
     "execution_count": 364,
     "metadata": {},
     "output_type": "execute_result"
    }
   ],
   "source": [
    "client.model.add_intent(app_id, app_version, intent_name)"
   ]
  },
  {
   "cell_type": "code",
   "execution_count": 365,
   "id": "cce3e652",
   "metadata": {
    "gather": {
     "logged": 1638785337630
    }
   },
   "outputs": [
    {
     "data": {
      "text/plain": [
       "[<azure.cognitiveservices.language.luis.authoring.models._models_py3.PrebuiltEntityExtractor at 0x7fac1cb1f5b0>,\n",
       " <azure.cognitiveservices.language.luis.authoring.models._models_py3.PrebuiltEntityExtractor at 0x7fac1cb1fa60>,\n",
       " <azure.cognitiveservices.language.luis.authoring.models._models_py3.PrebuiltEntityExtractor at 0x7fac1cca09d0>]"
      ]
     },
     "execution_count": 365,
     "metadata": {},
     "output_type": "execute_result"
    }
   ],
   "source": [
    "# Add Prebuilt entity\n",
    "client.model.add_prebuilt(\n",
    "    app_id,\n",
    "    app_version,\n",
    "    prebuilt_extractor_names=[\n",
    "        \"number\",\n",
    "        \"datetimeV2\",\n",
    "        \"geographyV2\"\n",
    "    ]\n",
    ")"
   ]
  },
  {
   "cell_type": "code",
   "execution_count": 366,
   "id": "b65f7117",
   "metadata": {
    "gather": {
     "logged": 1638785343690
    }
   },
   "outputs": [],
   "source": [
    "entity_to_id = {\n",
    "    \"from_city\": \"\",\n",
    "    \"to_city\": \"\",\n",
    "    \"from_dt\": \"\",\n",
    "    \"to_dt\": \"\",\n",
    "    \"budget\": \"\"\n",
    "}"
   ]
  },
  {
   "cell_type": "code",
   "execution_count": 367,
   "id": "6844334b",
   "metadata": {
    "gather": {
     "logged": 1638785357918
    }
   },
   "outputs": [
    {
     "data": {
      "text/plain": [
       "{'from_city': '430b9696-a1ca-4d65-a77d-c465d136298b',\n",
       " 'to_city': '955de702-2835-46f9-890e-5b971b20f07e',\n",
       " 'from_dt': '022599e0-7e84-4a19-aebb-aee9c8c46d8f',\n",
       " 'to_dt': '733f354c-ed03-4fbb-bd2c-a394f6905163',\n",
       " 'budget': '34090e7b-f387-4f33-b410-396003871b6c'}"
      ]
     },
     "execution_count": 367,
     "metadata": {},
     "output_type": "execute_result"
    }
   ],
   "source": [
    "for entity_name in entity_to_id.keys():\n",
    "    # add entity to app\n",
    "    entity_to_id[entity_name] = client.model.add_entity(\n",
    "        app_id,\n",
    "        app_version,\n",
    "        name=entity_name\n",
    "    )\n",
    "\n",
    "entity_to_id"
   ]
  },
  {
   "cell_type": "code",
   "execution_count": 368,
   "id": "fd87d969",
   "metadata": {
    "gather": {
     "logged": 1638785392840
    }
   },
   "outputs": [
    {
     "data": {
      "text/plain": [
       "5220478"
      ]
     },
     "execution_count": 368,
     "metadata": {},
     "output_type": "execute_result"
    }
   ],
   "source": [
    "# add phrase list to app\n",
    "client.features.add_phrase_list(\n",
    "    app_id,\n",
    "    app_version,\n",
    "    {\n",
    "        \"enabledForAllModels\": False,\n",
    "        \"isExchangeable\": True,\n",
    "        \"name\": \"from_phrase_list\",\n",
    "        \"phrases\": \"from,start at,begin from,leave\"\n",
    "    }\n",
    ")\n",
    "\n",
    "# add phrase list to app\n",
    "client.features.add_phrase_list(\n",
    "    app_id,\n",
    "    app_version,\n",
    "    {\n",
    "        \"enabledForAllModels\": False,\n",
    "        \"isExchangeable\": True,\n",
    "        \"name\": \"to_phrase_list\",\n",
    "        \"phrases\": \"to,arrive,land at,go,going,stay,heading\"\n",
    "    }\n",
    ")"
   ]
  },
  {
   "cell_type": "code",
   "execution_count": 369,
   "id": "87ed2299",
   "metadata": {
    "gather": {
     "logged": 1638785431446
    }
   },
   "outputs": [
    {
     "data": {
      "text/plain": [
       "<azure.cognitiveservices.language.luis.authoring.models._models_py3.OperationStatus at 0x7fac1c7c4ca0>"
      ]
     },
     "execution_count": 369,
     "metadata": {},
     "output_type": "execute_result"
    }
   ],
   "source": [
    "client.features.add_entity_feature(\n",
    "    app_id,\n",
    "    app_version,\n",
    "    entity_to_id[\"to_city\"],\n",
    "    {\"model_name\": \"geographyV2\", \"is_required\": True}\n",
    ")\n",
    "\n",
    "# add phrase list as feature to subentity model\n",
    "client.features.add_entity_feature(\n",
    "    app_id,\n",
    "    app_version,\n",
    "    entity_to_id[\"to_city\"],\n",
    "    {\"feature_name\": \"to_phrase_list\", \"model_name\": None}\n",
    ")"
   ]
  },
  {
   "cell_type": "code",
   "execution_count": 370,
   "id": "1a1fd71b",
   "metadata": {
    "gather": {
     "logged": 1638785431446
    }
   },
   "outputs": [
    {
     "data": {
      "text/plain": [
       "<azure.cognitiveservices.language.luis.authoring.models._models_py3.OperationStatus at 0x7fac1cc978b0>"
      ]
     },
     "execution_count": 370,
     "metadata": {},
     "output_type": "execute_result"
    }
   ],
   "source": [
    "client.features.add_entity_feature(\n",
    "    app_id,\n",
    "    app_version,\n",
    "    entity_to_id[\"from_city\"],\n",
    "    {\"model_name\": \"geographyV2\", \"is_required\": True}\n",
    ")\n",
    "\n",
    "# add phrase list as feature to subentity model\n",
    "client.features.add_entity_feature(\n",
    "    app_id,\n",
    "    app_version,\n",
    "    entity_to_id[\"from_city\"],\n",
    "    {\"feature_name\": \"from_phrase_list\", \"model_name\": None}\n",
    ")"
   ]
  },
  {
   "cell_type": "code",
   "execution_count": 373,
   "id": "a9e87925",
   "metadata": {
    "gather": {
     "logged": 1637600349582
    }
   },
   "outputs": [
    {
     "data": {
      "text/plain": [
       "<azure.cognitiveservices.language.luis.authoring.models._models_py3.OperationStatus at 0x7fac1cca0580>"
      ]
     },
     "execution_count": 373,
     "metadata": {},
     "output_type": "execute_result"
    }
   ],
   "source": [
    "client.features.add_entity_feature(\n",
    "    app_id,\n",
    "    app_version,\n",
    "    entity_to_id[\"budget\"],\n",
    "    {\"model_name\": \"number\", \"is_required\": True}\n",
    ")"
   ]
  },
  {
   "cell_type": "code",
   "execution_count": 484,
   "id": "5345af23",
   "metadata": {},
   "outputs": [
    {
     "data": {
      "text/plain": [
       "[{'text': \"I'm exhausted and I need to get away. I want to treat myself to a five day trip.\",\n",
       "  'intentName': 'None',\n",
       "  'entityLabels': []},\n",
       " {'text': \"Hi. I'm looking for an adventure from Thursday, August 18 to Saturday, September 3. I'm thinking of going to Fortaleza. Yes, with free breakfast of course. I'm leaving from Essen.\",\n",
       "  'intentName': 'book_flight',\n",
       "  'entityLabels': [{'startCharIndex': 38,\n",
       "    'endCharIndex': 56,\n",
       "    'entityName': 'from_dt'},\n",
       "   {'startCharIndex': 61, 'endCharIndex': 81, 'entityName': 'to_dt'},\n",
       "   {'startCharIndex': 109, 'endCharIndex': 117, 'entityName': 'to_city'},\n",
       "   {'startCharIndex': 173, 'endCharIndex': 177, 'entityName': 'from_city'}]},\n",
       " {'text': 'you can help me find a trip. from miami\\nto tijuana\\nbetween august thirtieth until september third\\none adult',\n",
       "  'intentName': 'book_flight',\n",
       "  'entityLabels': [{'startCharIndex': 34,\n",
       "    'endCharIndex': 38,\n",
       "    'entityName': 'from_city'},\n",
       "   {'startCharIndex': 43, 'endCharIndex': 49, 'entityName': 'to_city'},\n",
       "   {'startCharIndex': 59, 'endCharIndex': 74, 'entityName': 'from_dt'},\n",
       "   {'startCharIndex': 82, 'endCharIndex': 96, 'entityName': 'to_dt'}]},\n",
       " {'text': 'Hello, anybody there?', 'intentName': 'None', 'entityLabels': []},\n",
       " {'text': 'I need to find something between september 8th and 27th for under 4300 from frankfurt',\n",
       "  'intentName': 'book_flight',\n",
       "  'entityLabels': [{'startCharIndex': 33,\n",
       "    'endCharIndex': 45,\n",
       "    'entityName': 'from_dt'},\n",
       "   {'startCharIndex': 51, 'endCharIndex': 54, 'entityName': 'to_dt'},\n",
       "   {'startCharIndex': 66, 'endCharIndex': 69, 'entityName': 'budget'},\n",
       "   {'startCharIndex': 76, 'endCharIndex': 84, 'entityName': 'from_city'}]},\n",
       " {'text': \"hey, we're having a huge family trip. Think you can help us?\",\n",
       "  'intentName': 'None',\n",
       "  'entityLabels': []},\n",
       " {'text': 'Hello', 'intentName': 'None', 'entityLabels': []},\n",
       " {'text': 'My name is Stephen King and I want to book a  quiet getaway',\n",
       "  'intentName': 'None',\n",
       "  'entityLabels': []},\n",
       " {'text': \"I'd like to go to Manaus from Miami between August 19th and September 2nd.\",\n",
       "  'intentName': 'book_flight',\n",
       "  'entityLabels': [{'startCharIndex': 18,\n",
       "    'endCharIndex': 23,\n",
       "    'entityName': 'to_city'},\n",
       "   {'startCharIndex': 30, 'endCharIndex': 34, 'entityName': 'from_city'},\n",
       "   {'startCharIndex': 44, 'endCharIndex': 54, 'entityName': 'from_dt'},\n",
       "   {'startCharIndex': 60, 'endCharIndex': 72, 'entityName': 'to_dt'}]},\n",
       " {'text': 'hello, please find me a vacation between saturday august 27 2016 and wednesday september 7 2016 for under 6000$ leaving from madrid',\n",
       "  'intentName': 'book_flight',\n",
       "  'entityLabels': [{'startCharIndex': 41,\n",
       "    'endCharIndex': 63,\n",
       "    'entityName': 'from_dt'},\n",
       "   {'startCharIndex': 69, 'endCharIndex': 94, 'entityName': 'to_dt'},\n",
       "   {'startCharIndex': 106, 'endCharIndex': 110, 'entityName': 'budget'},\n",
       "   {'startCharIndex': 125, 'endCharIndex': 130, 'entityName': 'from_city'}]},\n",
       " {'text': 'Hi! I need to check out several destinations with you! Are you able to help me?',\n",
       "  'intentName': 'None',\n",
       "  'entityLabels': []},\n",
       " {'text': \"It seems that a lot of us grandmas are winning the jackpot lately haha  I guess we're the ones at the casino the most. oh yes i want to take my six bratty grandchildren with me and spoil them even more\",\n",
       "  'intentName': 'None',\n",
       "  'entityLabels': []},\n",
       " {'text': 'I have never used this chat thing before I hope I am doing it right I need to book a most awesome vacation for my grandson and I',\n",
       "  'intentName': 'None',\n",
       "  'entityLabels': []},\n",
       " {'text': 'hey', 'intentName': 'None', 'entityLabels': []},\n",
       " {'text': 'Hi im going on SPRIINGGG BREAK! can you help me and my friends book a package?',\n",
       "  'intentName': 'None',\n",
       "  'entityLabels': []},\n",
       " {'text': 'Burlington to Busan. Aug 30 to Sept 10. Got a flight dude?',\n",
       "  'intentName': 'book_flight',\n",
       "  'entityLabels': [{'startCharIndex': 0,\n",
       "    'endCharIndex': 9,\n",
       "    'entityName': 'from_city'},\n",
       "   {'startCharIndex': 14, 'endCharIndex': 18, 'entityName': 'to_city'},\n",
       "   {'startCharIndex': 21, 'endCharIndex': 26, 'entityName': 'from_dt'},\n",
       "   {'startCharIndex': 31, 'endCharIndex': 37, 'entityName': 'to_dt'}]},\n",
       " {'text': 'Hello. I have some business trips coming up',\n",
       "  'intentName': 'None',\n",
       "  'entityLabels': []},\n",
       " {'text': \"Hi. I'd like to find a trip to San Diego. I can leave from Belo Horizonte. I'd like to travel between August 27th and August 31st if possible. My dates are flexible.\",\n",
       "  'intentName': 'book_flight',\n",
       "  'entityLabels': [{'startCharIndex': 31,\n",
       "    'endCharIndex': 39,\n",
       "    'entityName': 'to_city'},\n",
       "   {'startCharIndex': 59, 'endCharIndex': 72, 'entityName': 'from_city'},\n",
       "   {'startCharIndex': 102, 'endCharIndex': 112, 'entityName': 'from_dt'},\n",
       "   {'startCharIndex': 118, 'endCharIndex': 128, 'entityName': 'to_dt'}]},\n",
       " {'text': 'San Jose to Porto Alegre please. oh it needs to be between sept 18 to 22',\n",
       "  'intentName': 'book_flight',\n",
       "  'entityLabels': [{'startCharIndex': 0,\n",
       "    'endCharIndex': 7,\n",
       "    'entityName': 'from_city'},\n",
       "   {'startCharIndex': 12, 'endCharIndex': 23, 'entityName': 'to_city'},\n",
       "   {'startCharIndex': 59, 'endCharIndex': 65, 'entityName': 'from_dt'},\n",
       "   {'startCharIndex': 70, 'endCharIndex': 71, 'entityName': 'to_dt'}]},\n",
       " {'text': \"Good day, I'm located in Kobe and I have been offered a possible internship in Baltimore at the heart of the action! I need you to book a flight and hotel package for me sometime between August 26 and September 10.\",\n",
       "  'intentName': 'book_flight',\n",
       "  'entityLabels': [{'startCharIndex': 25,\n",
       "    'endCharIndex': 28,\n",
       "    'entityName': 'from_city'},\n",
       "   {'startCharIndex': 79, 'endCharIndex': 87, 'entityName': 'to_city'},\n",
       "   {'startCharIndex': 187, 'endCharIndex': 195, 'entityName': 'from_dt'},\n",
       "   {'startCharIndex': 201, 'endCharIndex': 212, 'entityName': 'to_dt'}]},\n",
       " {'text': 'hi i have been given access to multiple intership positions\\nall abroad\\nso I want to plan a trip to which ever one has the best deal to scope it out',\n",
       "  'intentName': 'None',\n",
       "  'entityLabels': []},\n",
       " {'text': 'Good morning! I will be travelling with a colleague for business and we are thinking of tacking on a short vacation after. Do you have any flights going from Punta Cana to Cairo sometime between 26 August and 9 September?',\n",
       "  'intentName': 'book_flight',\n",
       "  'entityLabels': [{'startCharIndex': 158,\n",
       "    'endCharIndex': 167,\n",
       "    'entityName': 'from_city'},\n",
       "   {'startCharIndex': 172, 'endCharIndex': 176, 'entityName': 'to_city'},\n",
       "   {'startCharIndex': 195, 'endCharIndex': 203, 'entityName': 'from_dt'},\n",
       "   {'startCharIndex': 209, 'endCharIndex': 219, 'entityName': 'to_dt'}]},\n",
       " {'text': 'I need to find MEWTWO!!!!! I need to get to Paris from Kingston on or after the 6th. I have a friend tagging along to help me and we have 6000',\n",
       "  'intentName': 'book_flight',\n",
       "  'entityLabels': [{'startCharIndex': 44,\n",
       "    'endCharIndex': 48,\n",
       "    'entityName': 'to_city'},\n",
       "   {'startCharIndex': 55, 'endCharIndex': 62, 'entityName': 'from_city'},\n",
       "   {'startCharIndex': 80, 'endCharIndex': 82, 'entityName': 'from_dt'},\n",
       "   {'startCharIndex': 138, 'endCharIndex': 141, 'entityName': 'budget'}]},\n",
       " {'text': 'Greetings...friend', 'intentName': 'None', 'entityLabels': []},\n",
       " {'text': 'Goiania to Montreal on Sept 10 to 11th ONLY',\n",
       "  'intentName': 'book_flight',\n",
       "  'entityLabels': [{'startCharIndex': 0,\n",
       "    'endCharIndex': 6,\n",
       "    'entityName': 'from_city'},\n",
       "   {'startCharIndex': 11, 'endCharIndex': 18, 'entityName': 'to_city'},\n",
       "   {'startCharIndex': 23, 'endCharIndex': 29, 'entityName': 'from_dt'},\n",
       "   {'startCharIndex': 34, 'endCharIndex': 37, 'entityName': 'to_dt'}]},\n",
       " {'text': 'I want to go to Barcelona from anywhere between the 12th and the 28th of September. I have 2100 and my assistant will be coming along. I am specifically looking for hotels near a park or beach or both.',\n",
       "  'intentName': 'book_flight',\n",
       "  'entityLabels': [{'startCharIndex': 16,\n",
       "    'endCharIndex': 24,\n",
       "    'entityName': 'to_city'},\n",
       "   {'startCharIndex': 52, 'endCharIndex': 55, 'entityName': 'from_dt'},\n",
       "   {'startCharIndex': 65, 'endCharIndex': 81, 'entityName': 'to_dt'},\n",
       "   {'startCharIndex': 91, 'endCharIndex': 94, 'entityName': 'budget'}]},\n",
       " {'text': 'Hey', 'intentName': 'None', 'entityLabels': []},\n",
       " {'text': 'Hi!', 'intentName': 'None', 'entityLabels': []},\n",
       " {'text': 'I am one person voyaging to Tampa. I can depart from Indianapolis. Must be between 20th and 31 August.',\n",
       "  'intentName': 'book_flight',\n",
       "  'entityLabels': [{'startCharIndex': 28,\n",
       "    'endCharIndex': 32,\n",
       "    'entityName': 'to_city'},\n",
       "   {'startCharIndex': 53, 'endCharIndex': 64, 'entityName': 'from_city'},\n",
       "   {'startCharIndex': 83, 'endCharIndex': 86, 'entityName': 'from_dt'},\n",
       "   {'startCharIndex': 92, 'endCharIndex': 100, 'entityName': 'to_dt'}]},\n",
       " {'text': \"Hey there, so I've got a little bit of a dilemma on my hands..\",\n",
       "  'intentName': 'None',\n",
       "  'entityLabels': []},\n",
       " {'text': 'Hi there!', 'intentName': 'None', 'entityLabels': []},\n",
       " {'text': 'I want you to find me a package from Jerusalem to Miami between August 31st and September 3rd, if you dont find me a package i will sue',\n",
       "  'intentName': 'book_flight',\n",
       "  'entityLabels': [{'startCharIndex': 37,\n",
       "    'endCharIndex': 45,\n",
       "    'entityName': 'from_city'},\n",
       "   {'startCharIndex': 50, 'endCharIndex': 54, 'entityName': 'to_city'},\n",
       "   {'startCharIndex': 64, 'endCharIndex': 74, 'entityName': 'from_dt'},\n",
       "   {'startCharIndex': 80, 'endCharIndex': 92, 'entityName': 'to_dt'}]},\n",
       " {'text': 'Hi, I need to go somewhere warm!',\n",
       "  'intentName': 'None',\n",
       "  'entityLabels': []},\n",
       " {'text': 'You too!', 'intentName': 'None', 'entityLabels': []},\n",
       " {'text': 'helllo', 'intentName': 'None', 'entityLabels': []},\n",
       " {'text': 'i need to know how much it costs to go from ciudad juarez to la paz leaving august 22 to september 8',\n",
       "  'intentName': 'book_flight',\n",
       "  'entityLabels': [{'startCharIndex': 44,\n",
       "    'endCharIndex': 56,\n",
       "    'entityName': 'from_city'},\n",
       "   {'startCharIndex': 61, 'endCharIndex': 66, 'entityName': 'to_city'},\n",
       "   {'startCharIndex': 76, 'endCharIndex': 84, 'entityName': 'from_dt'},\n",
       "   {'startCharIndex': 89, 'endCharIndex': 99, 'entityName': 'to_dt'}]},\n",
       " {'text': 'so i need to get from Milan to Ulsan. sept 6 to 11',\n",
       "  'intentName': 'book_flight',\n",
       "  'entityLabels': [{'startCharIndex': 22,\n",
       "    'endCharIndex': 26,\n",
       "    'entityName': 'from_city'},\n",
       "   {'startCharIndex': 31, 'endCharIndex': 35, 'entityName': 'to_city'},\n",
       "   {'startCharIndex': 38, 'endCharIndex': 43, 'entityName': 'from_dt'},\n",
       "   {'startCharIndex': 48, 'endCharIndex': 49, 'entityName': 'to_dt'}]},\n",
       " {'text': \"Hi. I'd like to book a trip from Nagoya to Phoenix from August 15th to August 29th.\",\n",
       "  'intentName': 'book_flight',\n",
       "  'entityLabels': [{'startCharIndex': 33,\n",
       "    'endCharIndex': 38,\n",
       "    'entityName': 'from_city'},\n",
       "   {'startCharIndex': 43, 'endCharIndex': 49, 'entityName': 'to_city'},\n",
       "   {'startCharIndex': 56, 'endCharIndex': 66, 'entityName': 'from_dt'},\n",
       "   {'startCharIndex': 71, 'endCharIndex': 81, 'entityName': 'to_dt'}]},\n",
       " {'text': 'Hellooooo. I’m looking to get out of Valencia and check out Hiroshima\\nPlease let me know what is available between August 27 and September 14',\n",
       "  'intentName': 'book_flight',\n",
       "  'entityLabels': [{'startCharIndex': 37,\n",
       "    'endCharIndex': 44,\n",
       "    'entityName': 'from_city'},\n",
       "   {'startCharIndex': 60, 'endCharIndex': 68, 'entityName': 'to_city'},\n",
       "   {'startCharIndex': 115, 'endCharIndex': 123, 'entityName': 'from_dt'},\n",
       "   {'startCharIndex': 129, 'endCharIndex': 140, 'entityName': 'to_dt'}]},\n",
       " {'text': 'Hellllo ! I am taking a trip with my neighbour and her children',\n",
       "  'intentName': 'None',\n",
       "  'entityLabels': []},\n",
       " {'text': \"Hi I'm looking for a cool place to go to with my friends, do you think you can help me?\",\n",
       "  'intentName': 'None',\n",
       "  'entityLabels': []},\n",
       " {'text': \"Hi there, I'd love to book a vacation. I need a break!\",\n",
       "  'intentName': 'None',\n",
       "  'entityLabels': []},\n",
       " {'text': 'Hi going on vacation with my Family can you help me book a vacation?',\n",
       "  'intentName': 'None',\n",
       "  'entityLabels': []},\n",
       " {'text': 'Hey there, sooo I’m in a bit of a bind where I’m getting married next week and have yet to book a honeymoon..',\n",
       "  'intentName': 'None',\n",
       "  'entityLabels': []},\n",
       " {'text': 'I need to go to San Jose between August 27 and September 5. Leaving from Goiania',\n",
       "  'intentName': 'book_flight',\n",
       "  'entityLabels': [{'startCharIndex': 16,\n",
       "    'endCharIndex': 23,\n",
       "    'entityName': 'to_city'},\n",
       "   {'startCharIndex': 33, 'endCharIndex': 41, 'entityName': 'from_dt'},\n",
       "   {'startCharIndex': 47, 'endCharIndex': 57, 'entityName': 'to_dt'},\n",
       "   {'startCharIndex': 73, 'endCharIndex': 79, 'entityName': 'from_city'}]},\n",
       " {'text': 'Salvador to Recife, Sept 1 for 1, $1000 budget. I want the best hotel in Recife',\n",
       "  'intentName': 'book_flight',\n",
       "  'entityLabels': [{'startCharIndex': 0,\n",
       "    'endCharIndex': 7,\n",
       "    'entityName': 'from_city'},\n",
       "   {'startCharIndex': 12, 'endCharIndex': 17, 'entityName': 'to_city'},\n",
       "   {'startCharIndex': 20, 'endCharIndex': 25, 'entityName': 'from_dt'},\n",
       "   {'startCharIndex': 34, 'endCharIndex': 38, 'entityName': 'budget'}]},\n",
       " {'text': \"I'd like to book a trip from Chicago to San Diego between August 26th and September 5th.\",\n",
       "  'intentName': 'book_flight',\n",
       "  'entityLabels': [{'startCharIndex': 29,\n",
       "    'endCharIndex': 35,\n",
       "    'entityName': 'from_city'},\n",
       "   {'startCharIndex': 40, 'endCharIndex': 48, 'entityName': 'to_city'},\n",
       "   {'startCharIndex': 58, 'endCharIndex': 68, 'entityName': 'from_dt'},\n",
       "   {'startCharIndex': 74, 'endCharIndex': 86, 'entityName': 'to_dt'}]},\n",
       " {'text': \"Hey I'd like to take my wife and five kids somewhere nice, just wanted to do some research We would be leaving from San Jose, and were looking into some places\\nDo you have anything between there and Queenstown between Sept 1-16?\",\n",
       "  'intentName': 'book_flight',\n",
       "  'entityLabels': [{'startCharIndex': 116,\n",
       "    'endCharIndex': 123,\n",
       "    'entityName': 'from_city'},\n",
       "   {'startCharIndex': 199, 'endCharIndex': 208, 'entityName': 'to_city'},\n",
       "   {'startCharIndex': 218, 'endCharIndex': 223, 'entityName': 'from_dt'},\n",
       "   {'startCharIndex': 225, 'endCharIndex': 226, 'entityName': 'to_dt'}]},\n",
       " {'text': \"Hi wozbot! I'd like to book a spring break vacation for myself and 3 of my best friends\",\n",
       "  'intentName': 'None',\n",
       "  'entityLabels': []},\n",
       " {'text': 'oh man oh man\\ni am so fed up with work\\ni cant wait til 5 oclock. but i need a vacation',\n",
       "  'intentName': 'None',\n",
       "  'entityLabels': []},\n",
       " {'text': 'I have 9 days vacation', 'intentName': 'None', 'entityLabels': []},\n",
       " {'text': \"I'd like to book a trip for myself, from Tel Aviv to Tampa from, departing Aug 21, returning Aug 24. Do you have such a flight for me?\",\n",
       "  'intentName': 'book_flight',\n",
       "  'entityLabels': [{'startCharIndex': 41,\n",
       "    'endCharIndex': 48,\n",
       "    'entityName': 'from_city'},\n",
       "   {'startCharIndex': 53, 'endCharIndex': 57, 'entityName': 'to_city'},\n",
       "   {'startCharIndex': 75, 'endCharIndex': 80, 'entityName': 'from_dt'},\n",
       "   {'startCharIndex': 93, 'endCharIndex': 98, 'entityName': 'to_dt'}]},\n",
       " {'text': 'can you help me book a flight? this is my first time using this service',\n",
       "  'intentName': 'None',\n",
       "  'entityLabels': []},\n",
       " {'text': 'ok so i am free to travel from september 13 until the 23.  can you tell me my options for Sao Paulo leaving from Sapporo please',\n",
       "  'intentName': 'book_flight',\n",
       "  'entityLabels': [{'startCharIndex': 31,\n",
       "    'endCharIndex': 42,\n",
       "    'entityName': 'from_dt'},\n",
       "   {'startCharIndex': 54, 'endCharIndex': 55, 'entityName': 'to_dt'},\n",
       "   {'startCharIndex': 90, 'endCharIndex': 98, 'entityName': 'to_city'},\n",
       "   {'startCharIndex': 113, 'endCharIndex': 119, 'entityName': 'from_city'}]},\n",
       " {'text': 'PORTLAND TO ATHENS SEPT 11 TO 15 I WANT THESE EXACT DATES PLEASE',\n",
       "  'intentName': 'book_flight',\n",
       "  'entityLabels': [{'startCharIndex': 0,\n",
       "    'endCharIndex': 7,\n",
       "    'entityName': 'from_city'},\n",
       "   {'startCharIndex': 12, 'endCharIndex': 17, 'entityName': 'to_city'},\n",
       "   {'startCharIndex': 19, 'endCharIndex': 25, 'entityName': 'from_dt'},\n",
       "   {'startCharIndex': 30, 'endCharIndex': 31, 'entityName': 'to_dt'}]},\n",
       " {'text': 'back for another crazy trip here',\n",
       "  'intentName': 'None',\n",
       "  'entityLabels': []},\n",
       " {'text': \"september 6th-9th my start-up colleagues and I want to get out of Tofino and into Maceio. What's available?\",\n",
       "  'intentName': 'book_flight',\n",
       "  'entityLabels': [{'startCharIndex': 0,\n",
       "    'endCharIndex': 12,\n",
       "    'entityName': 'from_dt'},\n",
       "   {'startCharIndex': 14, 'endCharIndex': 16, 'entityName': 'to_dt'},\n",
       "   {'startCharIndex': 66, 'endCharIndex': 71, 'entityName': 'from_city'},\n",
       "   {'startCharIndex': 82, 'endCharIndex': 87, 'entityName': 'to_city'}]},\n",
       " {'text': 'I have 8 days vacation', 'intentName': 'None', 'entityLabels': []},\n",
       " {'text': 'I want to go to Leon from Nagoya between the 13th and october 2nd.',\n",
       "  'intentName': 'book_flight',\n",
       "  'entityLabels': [{'startCharIndex': 16,\n",
       "    'endCharIndex': 19,\n",
       "    'entityName': 'to_city'},\n",
       "   {'startCharIndex': 26, 'endCharIndex': 31, 'entityName': 'from_city'},\n",
       "   {'startCharIndex': 45, 'endCharIndex': 48, 'entityName': 'from_dt'},\n",
       "   {'startCharIndex': 54, 'endCharIndex': 64, 'entityName': 'to_dt'}]},\n",
       " {'text': 'You got any flights from New York to Naples departing Aug 27 returning Sep 15?',\n",
       "  'intentName': 'book_flight',\n",
       "  'entityLabels': [{'startCharIndex': 25,\n",
       "    'endCharIndex': 32,\n",
       "    'entityName': 'from_city'},\n",
       "   {'startCharIndex': 37, 'endCharIndex': 42, 'entityName': 'to_city'},\n",
       "   {'startCharIndex': 54, 'endCharIndex': 59, 'entityName': 'from_dt'},\n",
       "   {'startCharIndex': 71, 'endCharIndex': 76, 'entityName': 'to_dt'}]},\n",
       " {'text': 'essen to osaka. sept 2-16',\n",
       "  'intentName': 'book_flight',\n",
       "  'entityLabels': [{'startCharIndex': 0,\n",
       "    'endCharIndex': 4,\n",
       "    'entityName': 'from_city'},\n",
       "   {'startCharIndex': 9, 'endCharIndex': 13, 'entityName': 'to_city'},\n",
       "   {'startCharIndex': 16, 'endCharIndex': 21, 'entityName': 'from_dt'},\n",
       "   {'startCharIndex': 23, 'endCharIndex': 24, 'entityName': 'to_dt'}]},\n",
       " {'text': 'I have 14 days vacation', 'intentName': 'None', 'entityLabels': []},\n",
       " {'text': 'Hi there', 'intentName': 'None', 'entityLabels': []},\n",
       " {'text': 'I need to get out of Kabul on September 6th. Can you get me to Leon for 3200',\n",
       "  'intentName': 'book_flight',\n",
       "  'entityLabels': [{'startCharIndex': 21,\n",
       "    'endCharIndex': 25,\n",
       "    'entityName': 'from_city'},\n",
       "   {'startCharIndex': 30, 'endCharIndex': 42, 'entityName': 'from_dt'},\n",
       "   {'startCharIndex': 63, 'endCharIndex': 66, 'entityName': 'to_city'},\n",
       "   {'startCharIndex': 72, 'endCharIndex': 75, 'entityName': 'budget'}]},\n",
       " {'text': \"Hey! I'm in the search for a trip for 2.\",\n",
       "  'intentName': 'None',\n",
       "  'entityLabels': []},\n",
       " {'text': \"Hi I'd like to take a trip.\",\n",
       "  'intentName': 'None',\n",
       "  'entityLabels': []},\n",
       " {'text': 'What packages do you have available between september 7th and 13th from Columbus to Punta Cana?',\n",
       "  'intentName': 'book_flight',\n",
       "  'entityLabels': [{'startCharIndex': 44,\n",
       "    'endCharIndex': 56,\n",
       "    'entityName': 'from_dt'},\n",
       "   {'startCharIndex': 62, 'endCharIndex': 65, 'entityName': 'to_dt'},\n",
       "   {'startCharIndex': 72, 'endCharIndex': 79, 'entityName': 'from_city'},\n",
       "   {'startCharIndex': 84, 'endCharIndex': 93, 'entityName': 'to_city'}]},\n",
       " {'text': \"Hi there I'm looking for a trip for me and my assistant.\",\n",
       "  'intentName': 'None',\n",
       "  'entityLabels': []},\n",
       " {'text': 'miami to mannheim, september 4, under 3200',\n",
       "  'intentName': 'book_flight',\n",
       "  'entityLabels': [{'startCharIndex': 0,\n",
       "    'endCharIndex': 4,\n",
       "    'entityName': 'from_city'},\n",
       "   {'startCharIndex': 9, 'endCharIndex': 16, 'entityName': 'to_city'},\n",
       "   {'startCharIndex': 19, 'endCharIndex': 29, 'entityName': 'from_dt'},\n",
       "   {'startCharIndex': 38, 'endCharIndex': 41, 'entityName': 'budget'}]},\n",
       " {'text': 'ay bruh i got 3300 and some naggy ass parental figures i need out of my hair. where can u get 2 adults from maceio between like ... september 11th and 24th within my budgeT?',\n",
       "  'intentName': 'book_flight',\n",
       "  'entityLabels': [{'startCharIndex': 14,\n",
       "    'endCharIndex': 17,\n",
       "    'entityName': 'budget'},\n",
       "   {'startCharIndex': 108, 'endCharIndex': 113, 'entityName': 'from_city'},\n",
       "   {'startCharIndex': 132, 'endCharIndex': 145, 'entityName': 'from_dt'},\n",
       "   {'startCharIndex': 151, 'endCharIndex': 154, 'entityName': 'to_dt'}]},\n",
       " {'text': 'Hi', 'intentName': 'None', 'entityLabels': []},\n",
       " {'text': \"Hello, so, I need the BEST hotel in Tokyo that 6100 dollars can me. I'm taking off out of Denver, heads up, and leaving August 27th\\nOr soon after..\",\n",
       "  'intentName': 'book_flight',\n",
       "  'entityLabels': [{'startCharIndex': 36,\n",
       "    'endCharIndex': 40,\n",
       "    'entityName': 'to_city'},\n",
       "   {'startCharIndex': 47, 'endCharIndex': 58, 'entityName': 'budget'},\n",
       "   {'startCharIndex': 90, 'endCharIndex': 95, 'entityName': 'from_city'},\n",
       "   {'startCharIndex': 120, 'endCharIndex': 130, 'entityName': 'from_dt'}]},\n",
       " {'text': 'hello', 'intentName': 'None', 'entityLabels': []},\n",
       " {'text': 'Beijing to Tijuana Sept 6-Sept 9',\n",
       "  'intentName': 'book_flight',\n",
       "  'entityLabels': [{'startCharIndex': 0,\n",
       "    'endCharIndex': 6,\n",
       "    'entityName': 'from_city'},\n",
       "   {'startCharIndex': 11, 'endCharIndex': 17, 'entityName': 'to_city'},\n",
       "   {'startCharIndex': 19, 'endCharIndex': 24, 'entityName': 'from_dt'},\n",
       "   {'startCharIndex': 26, 'endCharIndex': 31, 'entityName': 'to_dt'}]},\n",
       " {'text': 'i want you to recommend me a package in rome that leaves from las vegas. i have a travel window between 20 and 26 september',\n",
       "  'intentName': 'book_flight',\n",
       "  'entityLabels': [{'startCharIndex': 40,\n",
       "    'endCharIndex': 43,\n",
       "    'entityName': 'to_city'},\n",
       "   {'startCharIndex': 62, 'endCharIndex': 70, 'entityName': 'from_city'},\n",
       "   {'startCharIndex': 104, 'endCharIndex': 105, 'entityName': 'from_dt'},\n",
       "   {'startCharIndex': 111, 'endCharIndex': 122, 'entityName': 'to_dt'}]},\n",
       " {'text': 'I am the happy father of 3 children',\n",
       "  'intentName': 'None',\n",
       "  'entityLabels': []},\n",
       " {'text': 'from 22nd-28nd of september i just wanna flee town and forget about work, family, my mortgage, responsibilities, my alcoholism, etc.. i am thinking Ciudad Juarez\\nfrom Dalle',\n",
       "  'intentName': 'book_flight',\n",
       "  'entityLabels': [{'startCharIndex': 5,\n",
       "    'endCharIndex': 8,\n",
       "    'entityName': 'from_dt'},\n",
       "   {'startCharIndex': 10, 'endCharIndex': 26, 'entityName': 'to_dt'},\n",
       "   {'startCharIndex': 148, 'endCharIndex': 160, 'entityName': 'to_city'},\n",
       "   {'startCharIndex': 167, 'endCharIndex': 171, 'entityName': 'from_city'}]},\n",
       " {'text': 'Hi there!', 'intentName': 'None', 'entityLabels': []},\n",
       " {'text': 'London to Burlington. Sept 12 to 25\\nFor one\\nGot anything?',\n",
       "  'intentName': 'book_flight',\n",
       "  'entityLabels': [{'startCharIndex': 0,\n",
       "    'endCharIndex': 5,\n",
       "    'entityName': 'from_city'},\n",
       "   {'startCharIndex': 10, 'endCharIndex': 19, 'entityName': 'to_city'},\n",
       "   {'startCharIndex': 22, 'endCharIndex': 28, 'entityName': 'from_dt'},\n",
       "   {'startCharIndex': 33, 'endCharIndex': 34, 'entityName': 'to_dt'}]},\n",
       " {'text': 'please find me a vacation between wed aug 31 and wed sept 21 for 2 adult and 2 kids for 4400$ max. leaving frmom fortaleza. if',\n",
       "  'intentName': 'book_flight',\n",
       "  'entityLabels': [{'startCharIndex': 34,\n",
       "    'endCharIndex': 43,\n",
       "    'entityName': 'from_dt'},\n",
       "   {'startCharIndex': 49, 'endCharIndex': 59, 'entityName': 'to_dt'},\n",
       "   {'startCharIndex': 88, 'endCharIndex': 92, 'entityName': 'budget'},\n",
       "   {'startCharIndex': 113, 'endCharIndex': 121, 'entityName': 'from_city'}]},\n",
       " {'text': 'i want to go somewhere', 'intentName': 'None', 'entityLabels': []},\n",
       " {'text': 'Jerusalem to Belem 2 adults 4000 dollar budget. Leave on September third',\n",
       "  'intentName': 'book_flight',\n",
       "  'entityLabels': [{'startCharIndex': 0,\n",
       "    'endCharIndex': 8,\n",
       "    'entityName': 'from_city'},\n",
       "   {'startCharIndex': 13, 'endCharIndex': 17, 'entityName': 'to_city'},\n",
       "   {'startCharIndex': 28, 'endCharIndex': 31, 'entityName': 'budget'},\n",
       "   {'startCharIndex': 57, 'endCharIndex': 71, 'entityName': 'from_dt'}]},\n",
       " {'text': 'i am travel from septeber 8 until 20. to berlin from santa cruz',\n",
       "  'intentName': 'book_flight',\n",
       "  'entityLabels': [{'startCharIndex': 17,\n",
       "    'endCharIndex': 26,\n",
       "    'entityName': 'from_dt'},\n",
       "   {'startCharIndex': 34, 'endCharIndex': 35, 'entityName': 'to_dt'},\n",
       "   {'startCharIndex': 41, 'endCharIndex': 46, 'entityName': 'from_city'},\n",
       "   {'startCharIndex': 53, 'endCharIndex': 62, 'entityName': 'to_city'}]},\n",
       " {'text': \"Hey man, imma leave from Godric's Hollow on August 27, 2016 and go to Goiania. Can't pay more than 4300USD. Watcha got?\",\n",
       "  'intentName': 'book_flight',\n",
       "  'entityLabels': [{'startCharIndex': 25,\n",
       "    'endCharIndex': 39,\n",
       "    'entityName': 'from_city'},\n",
       "   {'startCharIndex': 44, 'endCharIndex': 58, 'entityName': 'from_dt'},\n",
       "   {'startCharIndex': 70, 'endCharIndex': 76, 'entityName': 'to_city'},\n",
       "   {'startCharIndex': 99, 'endCharIndex': 105, 'entityName': 'budget'}]},\n",
       " {'text': \"You can help me by booking a flight out of Cordoba to Salvador for me and my friend. Leaving ASAP and back before September 8. Oh and I'll need the best hotels you can get\",\n",
       "  'intentName': 'book_flight',\n",
       "  'entityLabels': [{'startCharIndex': 43,\n",
       "    'endCharIndex': 49,\n",
       "    'entityName': 'from_city'},\n",
       "   {'startCharIndex': 54, 'endCharIndex': 61, 'entityName': 'to_city'},\n",
       "   {'startCharIndex': 93, 'endCharIndex': 96, 'entityName': 'from_dt'},\n",
       "   {'startCharIndex': 114, 'endCharIndex': 124, 'entityName': 'to_dt'}]},\n",
       " {'text': 'Hey there, I need to book a trip to get away!',\n",
       "  'intentName': 'None',\n",
       "  'entityLabels': []},\n",
       " {'text': \"Hi wozbot. I'd like to book a vacation for my 7 kids and myself.\",\n",
       "  'intentName': 'None',\n",
       "  'entityLabels': []},\n",
       " {'text': 'hi I am burnt out... i need a vacation',\n",
       "  'intentName': 'None',\n",
       "  'entityLabels': []},\n",
       " {'text': 'Belem to Busan. Aug 28 or later. $6200 budget. Nicest hotel you got capisci?',\n",
       "  'intentName': 'book_flight',\n",
       "  'entityLabels': [{'startCharIndex': 0,\n",
       "    'endCharIndex': 4,\n",
       "    'entityName': 'from_city'},\n",
       "   {'startCharIndex': 9, 'endCharIndex': 13, 'entityName': 'to_city'},\n",
       "   {'startCharIndex': 16, 'endCharIndex': 21, 'entityName': 'from_dt'},\n",
       "   {'startCharIndex': 33, 'endCharIndex': 37, 'entityName': 'budget'}]},\n",
       " {'text': 'hi', 'intentName': 'None', 'entityLabels': []},\n",
       " {'text': \"Hi there! My wife and I have 5 lovely children.\\nWe are free to travel between August 31 and September 18.\\nWe have a few destinations in mind, first one is Sacramento.\\nOh, and we're located in Sendai.\",\n",
       "  'intentName': 'book_flight',\n",
       "  'entityLabels': [{'startCharIndex': 78,\n",
       "    'endCharIndex': 86,\n",
       "    'entityName': 'from_dt'},\n",
       "   {'startCharIndex': 92, 'endCharIndex': 103, 'entityName': 'to_dt'},\n",
       "   {'startCharIndex': 155, 'endCharIndex': 164, 'entityName': 'to_city'},\n",
       "   {'startCharIndex': 192, 'endCharIndex': 197, 'entityName': 'from_city'}]},\n",
       " {'text': 'Hey, my buddy and I want to have the best time of our lives!',\n",
       "  'intentName': 'None',\n",
       "  'entityLabels': []},\n",
       " {'text': \"I'm good, thanks! I'm looking to book a trip for a group of children with me as their chaperone.\",\n",
       "  'intentName': 'None',\n",
       "  'entityLabels': []},\n",
       " {'text': 'Hello, book me a trip from San Antonio to Phoenix leaving September 9th and returning September 11th please.',\n",
       "  'intentName': 'book_flight',\n",
       "  'entityLabels': [{'startCharIndex': 27,\n",
       "    'endCharIndex': 37,\n",
       "    'entityName': 'from_city'},\n",
       "   {'startCharIndex': 42, 'endCharIndex': 48, 'entityName': 'to_city'},\n",
       "   {'startCharIndex': 58, 'endCharIndex': 70, 'entityName': 'from_dt'},\n",
       "   {'startCharIndex': 86, 'endCharIndex': 99, 'entityName': 'to_dt'}]},\n",
       " {'text': 'I live in Toronto, can we se what packages are available in Cairo from August 17 to September 7?',\n",
       "  'intentName': 'book_flight',\n",
       "  'entityLabels': [{'startCharIndex': 10,\n",
       "    'endCharIndex': 16,\n",
       "    'entityName': 'from_city'},\n",
       "   {'startCharIndex': 60, 'endCharIndex': 64, 'entityName': 'to_city'},\n",
       "   {'startCharIndex': 71, 'endCharIndex': 79, 'entityName': 'from_dt'},\n",
       "   {'startCharIndex': 84, 'endCharIndex': 94, 'entityName': 'to_dt'}]},\n",
       " {'text': 'Naples to Santa Cruz. Leaving Sunday Aug 21\\nBudget $2000\\nGot anything for me bot?\\nOh and this is for one person',\n",
       "  'intentName': 'book_flight',\n",
       "  'entityLabels': [{'startCharIndex': 0,\n",
       "    'endCharIndex': 5,\n",
       "    'entityName': 'from_city'},\n",
       "   {'startCharIndex': 10, 'endCharIndex': 19, 'entityName': 'to_city'},\n",
       "   {'startCharIndex': 30, 'endCharIndex': 42, 'entityName': 'from_dt'},\n",
       "   {'startCharIndex': 51, 'endCharIndex': 55, 'entityName': 'budget'}]},\n",
       " {'text': 'hi there. need to book a trip to denver\\ni live in houston\\nsept 10 to 11',\n",
       "  'intentName': 'book_flight',\n",
       "  'entityLabels': [{'startCharIndex': 33,\n",
       "    'endCharIndex': 38,\n",
       "    'entityName': 'to_city'},\n",
       "   {'startCharIndex': 50, 'endCharIndex': 56, 'entityName': 'from_city'},\n",
       "   {'startCharIndex': 58, 'endCharIndex': 64, 'entityName': 'from_dt'},\n",
       "   {'startCharIndex': 69, 'endCharIndex': 70, 'entityName': 'to_dt'}]},\n",
       " {'text': \"Hi there, I'm on vacation from Aug 30 to Sep 4 and I wanted to know where I can go on my $4600 budget. I live in Dallas btw\",\n",
       "  'intentName': 'book_flight',\n",
       "  'entityLabels': [{'startCharIndex': 113,\n",
       "    'endCharIndex': 118,\n",
       "    'entityName': 'from_city'},\n",
       "   {'startCharIndex': 31, 'endCharIndex': 36, 'entityName': 'from_dt'},\n",
       "   {'startCharIndex': 41, 'endCharIndex': 45, 'entityName': 'to_dt'},\n",
       "   {'startCharIndex': 90, 'endCharIndex': 93, 'entityName': 'budget'}]},\n",
       " {'text': 'hey... i need to get out of Jerusalem ok\\nlike now\\nlike now as in yesterday\\n3200 max - can you get me to valencia?',\n",
       "  'intentName': 'book_flight',\n",
       "  'entityLabels': [{'startCharIndex': 28,\n",
       "    'endCharIndex': 36,\n",
       "    'entityName': 'from_city'},\n",
       "   {'startCharIndex': 65, 'endCharIndex': 73, 'entityName': 'from_dt'},\n",
       "   {'startCharIndex': 75, 'endCharIndex': 78, 'entityName': 'budget'},\n",
       "   {'startCharIndex': 104, 'endCharIndex': 111, 'entityName': 'to_city'}]},\n",
       " {'text': \"So Hey, I'm an intern- it's pretty fantastic/exciting. So anyways I need to go to Monterrey between August 27 and September 15. What do you have leaving from Stuttgart?\",\n",
       "  'intentName': 'book_flight',\n",
       "  'entityLabels': [{'startCharIndex': 82,\n",
       "    'endCharIndex': 90,\n",
       "    'entityName': 'to_city'},\n",
       "   {'startCharIndex': 100, 'endCharIndex': 108, 'entityName': 'from_dt'},\n",
       "   {'startCharIndex': 114, 'endCharIndex': 125, 'entityName': 'to_dt'},\n",
       "   {'startCharIndex': 158, 'endCharIndex': 166, 'entityName': 'from_city'}]},\n",
       " {'text': 'I need to find a vacation between the 12 of september and 2nd of October for under 6500, leaving from Sydney.',\n",
       "  'intentName': 'book_flight',\n",
       "  'entityLabels': [{'startCharIndex': 38,\n",
       "    'endCharIndex': 52,\n",
       "    'entityName': 'from_dt'},\n",
       "   {'startCharIndex': 58, 'endCharIndex': 71, 'entityName': 'to_dt'},\n",
       "   {'startCharIndex': 83, 'endCharIndex': 86, 'entityName': 'budget'},\n",
       "   {'startCharIndex': 102, 'endCharIndex': 107, 'entityName': 'from_city'}]},\n",
       " {'text': 'On late nights at work, friday nights melting into Saturday mornings, I’d dream about the day I can come to you with a booking request. I have September 8 to 25 off\\nThinking of going somewhere from Belo Horizonte\\nDo you have a flight to MUnich?',\n",
       "  'intentName': 'book_flight',\n",
       "  'entityLabels': [{'startCharIndex': 198,\n",
       "    'endCharIndex': 211,\n",
       "    'entityName': 'from_city'},\n",
       "   {'startCharIndex': 237, 'endCharIndex': 242, 'entityName': 'to_city'},\n",
       "   {'startCharIndex': 143, 'endCharIndex': 153, 'entityName': 'from_dt'},\n",
       "   {'startCharIndex': 158, 'endCharIndex': 159, 'entityName': 'to_dt'}]},\n",
       " {'text': 'sup ', 'intentName': 'None', 'entityLabels': []},\n",
       " {'text': 'Hi im a failing author and i need some headspace looking to get away with my family! can you help e out?',\n",
       "  'intentName': 'None',\n",
       "  'entityLabels': []},\n",
       " {'text': 'Book me Jerusalem to Salvador, between August 24 and August 27. 12 adults',\n",
       "  'intentName': 'book_flight',\n",
       "  'entityLabels': [{'startCharIndex': 8,\n",
       "    'endCharIndex': 16,\n",
       "    'entityName': 'from_city'},\n",
       "   {'startCharIndex': 21, 'endCharIndex': 28, 'entityName': 'to_city'},\n",
       "   {'startCharIndex': 39, 'endCharIndex': 47, 'entityName': 'from_dt'},\n",
       "   {'startCharIndex': 53, 'endCharIndex': 61, 'entityName': 'to_dt'}]},\n",
       " {'text': 'Hey how are you?', 'intentName': 'None', 'entityLabels': []},\n",
       " {'text': 'I want to find a vacay between sept.12 and 19 for under 5500, leaving from Mannheim',\n",
       "  'intentName': 'book_flight',\n",
       "  'entityLabels': [{'startCharIndex': 31,\n",
       "    'endCharIndex': 37,\n",
       "    'entityName': 'from_dt'},\n",
       "   {'startCharIndex': 43, 'endCharIndex': 44, 'entityName': 'to_dt'},\n",
       "   {'startCharIndex': 56, 'endCharIndex': 59, 'entityName': 'budget'},\n",
       "   {'startCharIndex': 75, 'endCharIndex': 82, 'entityName': 'from_city'}]},\n",
       " {'text': 'Hey there!', 'intentName': 'None', 'entityLabels': []},\n",
       " {'text': 'Hi there!', 'intentName': 'None', 'entityLabels': []},\n",
       " {'text': 'hello. im getting married september 2 in Kobe and need to book a honeymoon after that\\nlooking at going to Kingston for a week\\n5000 dollars max please',\n",
       "  'intentName': 'book_flight',\n",
       "  'entityLabels': [{'startCharIndex': 26,\n",
       "    'endCharIndex': 36,\n",
       "    'entityName': 'from_dt'},\n",
       "   {'startCharIndex': 41, 'endCharIndex': 44, 'entityName': 'from_city'},\n",
       "   {'startCharIndex': 106, 'endCharIndex': 113, 'entityName': 'to_city'},\n",
       "   {'startCharIndex': 126, 'endCharIndex': 137, 'entityName': 'budget'}]},\n",
       " {'text': 'You can help me by finding me a vacation from Munich to San Juan between August 27 and September 3.',\n",
       "  'intentName': 'book_flight',\n",
       "  'entityLabels': [{'startCharIndex': 46,\n",
       "    'endCharIndex': 51,\n",
       "    'entityName': 'from_city'},\n",
       "   {'startCharIndex': 56, 'endCharIndex': 63, 'entityName': 'to_city'},\n",
       "   {'startCharIndex': 73, 'endCharIndex': 81, 'entityName': 'from_dt'},\n",
       "   {'startCharIndex': 87, 'endCharIndex': 97, 'entityName': 'to_dt'}]},\n",
       " {'text': 'Can I go to La Paz from Santos between september 12th and 27th?',\n",
       "  'intentName': 'book_flight',\n",
       "  'entityLabels': [{'startCharIndex': 12,\n",
       "    'endCharIndex': 17,\n",
       "    'entityName': 'to_city'},\n",
       "   {'startCharIndex': 24, 'endCharIndex': 29, 'entityName': 'from_city'},\n",
       "   {'startCharIndex': 39, 'endCharIndex': 52, 'entityName': 'from_dt'},\n",
       "   {'startCharIndex': 58, 'endCharIndex': 61, 'entityName': 'to_dt'}]},\n",
       " {'text': 'Yo dude.', 'intentName': 'None', 'entityLabels': []},\n",
       " {'text': 'I WANT TO GO TO CANCUN FROM TEL AVIV AUGUST 25 UNTIL AUGUST 28 9 PPL ALL ADULTS NO BUDGET',\n",
       "  'intentName': 'book_flight',\n",
       "  'entityLabels': [{'startCharIndex': 16,\n",
       "    'endCharIndex': 21,\n",
       "    'entityName': 'to_city'},\n",
       "   {'startCharIndex': 28, 'endCharIndex': 35, 'entityName': 'from_city'},\n",
       "   {'startCharIndex': 37, 'endCharIndex': 45, 'entityName': 'from_dt'},\n",
       "   {'startCharIndex': 53, 'endCharIndex': 61, 'entityName': 'to_dt'}]},\n",
       " {'text': 'hi there i want 2 search on a trip 2 go………..',\n",
       "  'intentName': 'None',\n",
       "  'entityLabels': []},\n",
       " {'text': 'Good morning! I need to book a trip for 7 of my colleagues. There are a couple possible destinations. The first one is to Cancun. The departure could be from Nagoya\\nAnd the trip would ideally be between August 24th and September 11th',\n",
       "  'intentName': 'book_flight',\n",
       "  'entityLabels': [{'startCharIndex': 122,\n",
       "    'endCharIndex': 127,\n",
       "    'entityName': 'to_city'},\n",
       "   {'startCharIndex': 158, 'endCharIndex': 163, 'entityName': 'from_city'},\n",
       "   {'startCharIndex': 203, 'endCharIndex': 213, 'entityName': 'from_dt'},\n",
       "   {'startCharIndex': 219, 'endCharIndex': 232, 'entityName': 'to_dt'}]},\n",
       " {'text': 'hello.', 'intentName': 'None', 'entityLabels': []},\n",
       " {'text': \"Howdy! So how does this work? I'm not too good with technology, I'm more of a pen and paper kind of guy\",\n",
       "  'intentName': 'None',\n",
       "  'entityLabels': []},\n",
       " {'text': 'I want to go somewhere from toronto. ideally between spt 9 and spt 24. we will be 1 adult and 4 children. we have 13700.',\n",
       "  'intentName': 'book_flight',\n",
       "  'entityLabels': [{'startCharIndex': 28,\n",
       "    'endCharIndex': 34,\n",
       "    'entityName': 'from_city'},\n",
       "   {'startCharIndex': 53, 'endCharIndex': 57, 'entityName': 'from_dt'},\n",
       "   {'startCharIndex': 63, 'endCharIndex': 68, 'entityName': 'to_dt'},\n",
       "   {'startCharIndex': 114, 'endCharIndex': 118, 'entityName': 'budget'}]},\n",
       " {'text': 'Hi hi hi', 'intentName': 'None', 'entityLabels': []},\n",
       " {'text': \"Hi there.. I need to get out of town. I've got writer's block being stuck in the house..\",\n",
       "  'intentName': 'None',\n",
       "  'entityLabels': []},\n",
       " {'text': \"I'd like to book a trip to Atlantis from Caprica on Saturday, August 13, 2016 for 8 adults. I have a tight budget of 1700.\",\n",
       "  'intentName': 'book_flight',\n",
       "  'entityLabels': [{'startCharIndex': 27,\n",
       "    'endCharIndex': 34,\n",
       "    'entityName': 'to_city'},\n",
       "   {'startCharIndex': 41, 'endCharIndex': 47, 'entityName': 'from_city'},\n",
       "   {'startCharIndex': 52, 'endCharIndex': 76, 'entityName': 'from_dt'},\n",
       "   {'startCharIndex': 117, 'endCharIndex': 120, 'entityName': 'budget'}]},\n",
       " {'text': \"I'm looking for a trip to Gotham City leaving from Kakariko Village on Saturday, August 13, 2016. 3 adults for no more than $2400 USD.\",\n",
       "  'intentName': 'book_flight',\n",
       "  'entityLabels': [{'startCharIndex': 26,\n",
       "    'endCharIndex': 36,\n",
       "    'entityName': 'to_city'},\n",
       "   {'startCharIndex': 51, 'endCharIndex': 66, 'entityName': 'from_city'},\n",
       "   {'startCharIndex': 71, 'endCharIndex': 95, 'entityName': 'from_dt'},\n",
       "   {'startCharIndex': 124, 'endCharIndex': 132, 'entityName': 'budget'}]},\n",
       " {'text': \"Hey there! I'm looking to surprise the family with a little vacay Leaving London from Sept 6, trying to be back around the 24th.\\nCan you tell me whats available for Belem?\\n2 adults 2 kids\",\n",
       "  'intentName': 'book_flight',\n",
       "  'entityLabels': [{'startCharIndex': 74,\n",
       "    'endCharIndex': 79,\n",
       "    'entityName': 'from_city'},\n",
       "   {'startCharIndex': 86, 'endCharIndex': 91, 'entityName': 'from_dt'},\n",
       "   {'startCharIndex': 123, 'endCharIndex': 126, 'entityName': 'to_dt'},\n",
       "   {'startCharIndex': 165, 'endCharIndex': 169, 'entityName': 'to_city'}]},\n",
       " {'text': 'I need to find a vacation between today and September 14th from Punta Cana to San Francisco',\n",
       "  'intentName': 'book_flight',\n",
       "  'entityLabels': [{'startCharIndex': 34,\n",
       "    'endCharIndex': 38,\n",
       "    'entityName': 'from_dt'},\n",
       "   {'startCharIndex': 44, 'endCharIndex': 57, 'entityName': 'to_dt'},\n",
       "   {'startCharIndex': 64, 'endCharIndex': 73, 'entityName': 'from_city'},\n",
       "   {'startCharIndex': 78, 'endCharIndex': 90, 'entityName': 'to_city'}]},\n",
       " {'text': 'Hi there. I have 2000 to spend on my lovely parents\\nI want to get them out of Puebla sometime this month\\nSeptember 3 to 16\\nWhats the longest trip you can book me?',\n",
       "  'intentName': 'book_flight',\n",
       "  'entityLabels': [{'startCharIndex': 17,\n",
       "    'endCharIndex': 20,\n",
       "    'entityName': 'budget'},\n",
       "   {'startCharIndex': 78, 'endCharIndex': 83, 'entityName': 'from_city'},\n",
       "   {'startCharIndex': 105, 'endCharIndex': 115, 'entityName': 'from_dt'},\n",
       "   {'startCharIndex': 120, 'endCharIndex': 121, 'entityName': 'to_dt'}]},\n",
       " {'text': \"Hi! I'd like to do some vacation shopping!\",\n",
       "  'intentName': 'None',\n",
       "  'entityLabels': []},\n",
       " {'text': 'hi', 'intentName': 'None', 'entityLabels': []},\n",
       " {'text': 'hello................', 'intentName': 'None', 'entityLabels': []},\n",
       " {'text': \"i'm going abroad to check out my options for my internship\",\n",
       "  'intentName': 'None',\n",
       "  'entityLabels': []},\n",
       " {'text': 'hi there. berlin to atlanta please\\nsometime between september 8 and 25',\n",
       "  'intentName': 'book_flight',\n",
       "  'entityLabels': [{'startCharIndex': 10,\n",
       "    'endCharIndex': 15,\n",
       "    'entityName': 'from_city'},\n",
       "   {'startCharIndex': 20, 'endCharIndex': 26, 'entityName': 'to_city'},\n",
       "   {'startCharIndex': 52, 'endCharIndex': 62, 'entityName': 'from_dt'},\n",
       "   {'startCharIndex': 68, 'endCharIndex': 69, 'entityName': 'to_dt'}]},\n",
       " {'text': \"I'm traveling alone, from Minneapolis to Ciudad Juarez. Sept 2 to Sept 22. Do you have any flights that fit?\",\n",
       "  'intentName': 'book_flight',\n",
       "  'entityLabels': [{'startCharIndex': 26,\n",
       "    'endCharIndex': 36,\n",
       "    'entityName': 'from_city'},\n",
       "   {'startCharIndex': 41, 'endCharIndex': 53, 'entityName': 'to_city'},\n",
       "   {'startCharIndex': 56, 'endCharIndex': 61, 'entityName': 'from_dt'},\n",
       "   {'startCharIndex': 66, 'endCharIndex': 72, 'entityName': 'to_dt'}]},\n",
       " {'text': 'yo. im from burlington. want to travel somewhere cool with my bro. between sept 8 and sept 18. you got flights to kingston?',\n",
       "  'intentName': 'book_flight',\n",
       "  'entityLabels': [{'startCharIndex': 12,\n",
       "    'endCharIndex': 21,\n",
       "    'entityName': 'from_city'},\n",
       "   {'startCharIndex': 75, 'endCharIndex': 80, 'entityName': 'from_dt'},\n",
       "   {'startCharIndex': 86, 'endCharIndex': 92, 'entityName': 'to_dt'},\n",
       "   {'startCharIndex': 114, 'endCharIndex': 121, 'entityName': 'to_city'}]},\n",
       " {'text': 'hello i am the happy father of 3 beautiful little angels and i would like to bring them all on the vacation of a lifetime',\n",
       "  'intentName': 'None',\n",
       "  'entityLabels': []},\n",
       " {'text': 'Hi there,', 'intentName': 'None', 'entityLabels': []},\n",
       " {'text': 'Hi. I need to book a vacation to Long Beach between August 25 and September 3. Departure is from Paris',\n",
       "  'intentName': 'book_flight',\n",
       "  'entityLabels': [{'startCharIndex': 33,\n",
       "    'endCharIndex': 42,\n",
       "    'entityName': 'to_city'},\n",
       "   {'startCharIndex': 52, 'endCharIndex': 60, 'entityName': 'from_dt'},\n",
       "   {'startCharIndex': 66, 'endCharIndex': 76, 'entityName': 'to_dt'},\n",
       "   {'startCharIndex': 97, 'endCharIndex': 101, 'entityName': 'from_city'}]},\n",
       " {'text': 'hi I’m in urgent need of a flight home!',\n",
       "  'intentName': 'None',\n",
       "  'entityLabels': []},\n",
       " {'text': \"Hi there, I'm trying to buy a nice anniversary surprise for my lovely parents.\",\n",
       "  'intentName': 'None',\n",
       "  'entityLabels': []},\n",
       " {'text': 'IM IN TIJUANA FIND ME A FLIGHT TO CURITIBA AUG 27 TO SEPT 4',\n",
       "  'intentName': 'book_flight',\n",
       "  'entityLabels': [{'startCharIndex': 6,\n",
       "    'endCharIndex': 12,\n",
       "    'entityName': 'from_city'},\n",
       "   {'startCharIndex': 34, 'endCharIndex': 41, 'entityName': 'to_city'},\n",
       "   {'startCharIndex': 43, 'endCharIndex': 48, 'entityName': 'from_dt'},\n",
       "   {'startCharIndex': 53, 'endCharIndex': 58, 'entityName': 'to_dt'}]},\n",
       " {'text': 'hi', 'intentName': 'None', 'entityLabels': []},\n",
       " {'text': \"I'd like to get away from Monday, August 15, 2016 to Wednesday, August 31, 2016. My budget is $3200 and I would leave from Detroit.\",\n",
       "  'intentName': 'book_flight',\n",
       "  'entityLabels': [{'startCharIndex': 26,\n",
       "    'endCharIndex': 48,\n",
       "    'entityName': 'from_dt'},\n",
       "   {'startCharIndex': 53, 'endCharIndex': 78, 'entityName': 'to_dt'},\n",
       "   {'startCharIndex': 94, 'endCharIndex': 98, 'entityName': 'budget'},\n",
       "   {'startCharIndex': 123, 'endCharIndex': 129, 'entityName': 'from_city'}]},\n",
       " {'text': 'I would like to take my soon to be wife on a great honeymoon, she deserves the best but we can only afford something up to 4200 for 6 days. We had discussed going to Punta Cana from Sapporo where our wedding will take place on the 17th, we can leave after that.',\n",
       "  'intentName': 'book_flight',\n",
       "  'entityLabels': [{'startCharIndex': 123,\n",
       "    'endCharIndex': 126,\n",
       "    'entityName': 'budget'},\n",
       "   {'startCharIndex': 166, 'endCharIndex': 175, 'entityName': 'to_city'},\n",
       "   {'startCharIndex': 182, 'endCharIndex': 188, 'entityName': 'from_city'},\n",
       "   {'startCharIndex': 231, 'endCharIndex': 234, 'entityName': 'from_dt'}]},\n",
       " {'text': 'Hello there, please check to see if there is a flight leaving from Toronto to Osaka on Sept 1 and returning on September 9.',\n",
       "  'intentName': 'book_flight',\n",
       "  'entityLabels': [{'startCharIndex': 67,\n",
       "    'endCharIndex': 73,\n",
       "    'entityName': 'from_city'},\n",
       "   {'startCharIndex': 78, 'endCharIndex': 82, 'entityName': 'to_city'},\n",
       "   {'startCharIndex': 87, 'endCharIndex': 92, 'entityName': 'from_dt'},\n",
       "   {'startCharIndex': 111, 'endCharIndex': 121, 'entityName': 'to_dt'}]},\n",
       " {'text': 'you do flights yea?', 'intentName': 'None', 'entityLabels': []},\n",
       " {'text': 'hi', 'intentName': 'None', 'entityLabels': []},\n",
       " {'text': 'Hi! I want to book a trip for me and four friends for spring break!',\n",
       "  'intentName': 'None',\n",
       "  'entityLabels': []},\n",
       " {'text': 'can you get me a trip to pittsburgh, from barcelona? between sep 3 and 18',\n",
       "  'intentName': 'book_flight',\n",
       "  'entityLabels': [{'startCharIndex': 25,\n",
       "    'endCharIndex': 34,\n",
       "    'entityName': 'to_city'},\n",
       "   {'startCharIndex': 42, 'endCharIndex': 50, 'entityName': 'from_city'},\n",
       "   {'startCharIndex': 61, 'endCharIndex': 65, 'entityName': 'from_dt'},\n",
       "   {'startCharIndex': 71, 'endCharIndex': 72, 'entityName': 'to_dt'}]},\n",
       " {'text': 'Good morning! Can you help me out with booking my next vacation?',\n",
       "  'intentName': 'None',\n",
       "  'entityLabels': []},\n",
       " {'text': 'HEY', 'intentName': 'None', 'entityLabels': []},\n",
       " {'text': 'hi ', 'intentName': 'None', 'entityLabels': []},\n",
       " {'text': 'spring break gurl whats up yaassss',\n",
       "  'intentName': 'None',\n",
       "  'entityLabels': []},\n",
       " {'text': 'THIS IS WHAT I NEED: TIX FOR 3 ADULTS FROM BERLIN TO SENDAI. LEAVING SEPT 2 OR SOMETIME CLOSE AFTER THAT. CAN I GET THIS DONE FOR &lt;$2400?',\n",
       "  'intentName': 'book_flight',\n",
       "  'entityLabels': [{'startCharIndex': 43,\n",
       "    'endCharIndex': 48,\n",
       "    'entityName': 'from_city'},\n",
       "   {'startCharIndex': 53, 'endCharIndex': 58, 'entityName': 'to_city'},\n",
       "   {'startCharIndex': 69, 'endCharIndex': 74, 'entityName': 'from_dt'},\n",
       "   {'startCharIndex': 134, 'endCharIndex': 138, 'entityName': 'budget'}]},\n",
       " {'text': 'hi', 'intentName': 'None', 'entityLabels': []},\n",
       " {'text': 'BRASILIA TO KYOTO, SEPT 4. $4000 Budget GOOOO',\n",
       "  'intentName': 'book_flight',\n",
       "  'entityLabels': [{'startCharIndex': 0,\n",
       "    'endCharIndex': 7,\n",
       "    'entityName': 'from_city'},\n",
       "   {'startCharIndex': 12, 'endCharIndex': 16, 'entityName': 'to_city'},\n",
       "   {'startCharIndex': 19, 'endCharIndex': 24, 'entityName': 'from_dt'},\n",
       "   {'startCharIndex': 27, 'endCharIndex': 31, 'entityName': 'budget'}]},\n",
       " {'text': 'Good afternoon! I would like to inquire about travel options between several cities. The trip would need to be between September 8th and 17th. The first option would be between Stuttgart and Baltimore.',\n",
       "  'intentName': 'book_flight',\n",
       "  'entityLabels': [{'startCharIndex': 119,\n",
       "    'endCharIndex': 131,\n",
       "    'entityName': 'from_dt'},\n",
       "   {'startCharIndex': 137, 'endCharIndex': 140, 'entityName': 'to_dt'},\n",
       "   {'startCharIndex': 177, 'endCharIndex': 185, 'entityName': 'from_city'},\n",
       "   {'startCharIndex': 191, 'endCharIndex': 199, 'entityName': 'to_city'}]},\n",
       " {'text': 'hi', 'intentName': 'None', 'entityLabels': []},\n",
       " {'text': 'Hello! I’m looking to get my parents on a nice anniversary trip',\n",
       "  'intentName': 'None',\n",
       "  'entityLabels': []},\n",
       " {'text': 'Hi. Need to get to Sapporo\\nLeaving Baltimore\\nSept 9-13\\nBetween those dates. Not flexible.',\n",
       "  'intentName': 'book_flight',\n",
       "  'entityLabels': [{'startCharIndex': 19,\n",
       "    'endCharIndex': 25,\n",
       "    'entityName': 'to_city'},\n",
       "   {'startCharIndex': 35, 'endCharIndex': 43, 'entityName': 'from_city'},\n",
       "   {'startCharIndex': 45, 'endCharIndex': 50, 'entityName': 'from_dt'},\n",
       "   {'startCharIndex': 52, 'endCharIndex': 53, 'entityName': 'to_dt'}]},\n",
       " {'text': 'I want to find a vacation between the 7th to 24 for 3100 leaving from Cordoba. Can you help me find something good?',\n",
       "  'intentName': 'book_flight',\n",
       "  'entityLabels': [{'startCharIndex': 38,\n",
       "    'endCharIndex': 40,\n",
       "    'entityName': 'from_dt'},\n",
       "   {'startCharIndex': 45, 'endCharIndex': 46, 'entityName': 'to_dt'},\n",
       "   {'startCharIndex': 52, 'endCharIndex': 55, 'entityName': 'budget'},\n",
       "   {'startCharIndex': 70, 'endCharIndex': 76, 'entityName': 'from_city'}]},\n",
       " {'text': 'Fam vacation services please',\n",
       "  'intentName': 'None',\n",
       "  'entityLabels': []},\n",
       " {'text': 'I need to get to porto alegre for 9 days from seattle. I only got 3600 dollars and need to get there september first. ',\n",
       "  'intentName': 'book_flight',\n",
       "  'entityLabels': [{'startCharIndex': 17,\n",
       "    'endCharIndex': 28,\n",
       "    'entityName': 'to_city'},\n",
       "   {'startCharIndex': 101, 'endCharIndex': 115, 'entityName': 'from_dt'},\n",
       "   {'startCharIndex': 46, 'endCharIndex': 52, 'entityName': 'from_city'},\n",
       "   {'startCharIndex': 66, 'endCharIndex': 77, 'entityName': 'budget'}]},\n",
       " {'text': \"I need your help, I'm on the edge of a burn out and if I don't get some vacation time I'm going to end up in a hospital!\",\n",
       "  'intentName': 'None',\n",
       "  'entityLabels': []},\n",
       " {'text': 'Hi there', 'intentName': 'None', 'entityLabels': []},\n",
       " {'text': 'hey so i need 2 get my parents out of town. where can u ship em between septemeber 2 and 13th for 3500 dollars?\\nleaving from montreal ',\n",
       "  'intentName': 'book_flight',\n",
       "  'entityLabels': [{'startCharIndex': 72,\n",
       "    'endCharIndex': 83,\n",
       "    'entityName': 'from_dt'},\n",
       "   {'startCharIndex': 89, 'endCharIndex': 92, 'entityName': 'to_dt'},\n",
       "   {'startCharIndex': 98, 'endCharIndex': 109, 'entityName': 'budget'},\n",
       "   {'startCharIndex': 125, 'endCharIndex': 132, 'entityName': 'from_city'}]},\n",
       " {'text': 'Portland I live I will leave August 31 be back September 17 no more than 3200 dollars go',\n",
       "  'intentName': 'book_flight',\n",
       "  'entityLabels': [{'startCharIndex': 0,\n",
       "    'endCharIndex': 7,\n",
       "    'entityName': 'from_city'},\n",
       "   {'startCharIndex': 29, 'endCharIndex': 37, 'entityName': 'from_dt'},\n",
       "   {'startCharIndex': 47, 'endCharIndex': 58, 'entityName': 'to_dt'},\n",
       "   {'startCharIndex': 73, 'endCharIndex': 76, 'entityName': 'budget'}]},\n",
       " {'text': 'I’m good, you?', 'intentName': 'None', 'entityLabels': []},\n",
       " {'text': 'I need a trip to Marseille on these exact dates: September 9 to September 13\\nFlying from Manaus',\n",
       "  'intentName': 'book_flight',\n",
       "  'entityLabels': [{'startCharIndex': 17,\n",
       "    'endCharIndex': 25,\n",
       "    'entityName': 'to_city'},\n",
       "   {'startCharIndex': 89, 'endCharIndex': 94, 'entityName': 'from_city'},\n",
       "   {'startCharIndex': 49, 'endCharIndex': 59, 'entityName': 'from_dt'},\n",
       "   {'startCharIndex': 64, 'endCharIndex': 75, 'entityName': 'to_dt'}]},\n",
       " {'text': \"I'd like to find a vacation between tomorrow and September 14th from Santos to Leon\",\n",
       "  'intentName': 'book_flight',\n",
       "  'entityLabels': [{'startCharIndex': 36,\n",
       "    'endCharIndex': 43,\n",
       "    'entityName': 'from_dt'},\n",
       "   {'startCharIndex': 49, 'endCharIndex': 62, 'entityName': 'to_dt'},\n",
       "   {'startCharIndex': 69, 'endCharIndex': 74, 'entityName': 'from_city'},\n",
       "   {'startCharIndex': 79, 'endCharIndex': 82, 'entityName': 'to_city'}]},\n",
       " {'text': 'hey there', 'intentName': 'None', 'entityLabels': []},\n",
       " {'text': 'hello', 'intentName': 'None', 'entityLabels': []},\n",
       " {'text': \"Hi My cousin is getting married so I'm looking for a place to stay in Milan from August 27th to September 1st :slightly_smiling_face: I'd be leaving from Punta Cana\",\n",
       "  'intentName': 'book_flight',\n",
       "  'entityLabels': [{'startCharIndex': 154,\n",
       "    'endCharIndex': 163,\n",
       "    'entityName': 'from_city'},\n",
       "   {'startCharIndex': 70, 'endCharIndex': 74, 'entityName': 'to_city'},\n",
       "   {'startCharIndex': 81, 'endCharIndex': 91, 'entityName': 'from_dt'},\n",
       "   {'startCharIndex': 96, 'endCharIndex': 108, 'entityName': 'to_dt'}]},\n",
       " {'text': 'Hi i need a 5 day get away!',\n",
       "  'intentName': 'None',\n",
       "  'entityLabels': []},\n",
       " {'text': 'GOINGGG ON SPRING BREAKK need to make it sweet!',\n",
       "  'intentName': 'None',\n",
       "  'entityLabels': []},\n",
       " {'text': 'Hi, I need to go to Mos Eisley for a wedding, leaving on Saturday, August 13, 2016 and returning on Tuesday, August 16, 2016. Preferably for $3700.',\n",
       "  'intentName': 'book_flight',\n",
       "  'entityLabels': [{'startCharIndex': 20,\n",
       "    'endCharIndex': 29,\n",
       "    'entityName': 'to_city'},\n",
       "   {'startCharIndex': 57, 'endCharIndex': 81, 'entityName': 'from_dt'},\n",
       "   {'startCharIndex': 100, 'endCharIndex': 123, 'entityName': 'to_dt'},\n",
       "   {'startCharIndex': 141, 'endCharIndex': 145, 'entityName': 'budget'}]},\n",
       " {'text': 'hey buddy. i have some work to do\\nlooking to domesticate a savage little tea cup yorkie in Pittsburgh\\nI am available between the 12th and 19th of September\\nI can leave from wherever, so long as it costs me under 3700 bucks',\n",
       "  'intentName': 'book_flight',\n",
       "  'entityLabels': [{'startCharIndex': 91,\n",
       "    'endCharIndex': 100,\n",
       "    'entityName': 'to_city'},\n",
       "   {'startCharIndex': 129, 'endCharIndex': 132, 'entityName': 'from_dt'},\n",
       "   {'startCharIndex': 138, 'endCharIndex': 154, 'entityName': 'to_dt'},\n",
       "   {'startCharIndex': 212, 'endCharIndex': 215, 'entityName': 'budget'}]},\n",
       " {'text': 'melbourne to fukuoka august 24 to august 27',\n",
       "  'intentName': 'book_flight',\n",
       "  'entityLabels': [{'startCharIndex': 0,\n",
       "    'endCharIndex': 8,\n",
       "    'entityName': 'from_city'},\n",
       "   {'startCharIndex': 13, 'endCharIndex': 19, 'entityName': 'to_city'},\n",
       "   {'startCharIndex': 21, 'endCharIndex': 29, 'entityName': 'from_dt'},\n",
       "   {'startCharIndex': 34, 'endCharIndex': 42, 'entityName': 'to_dt'}]},\n",
       " {'text': 'I need to impress some clients with an extravagant trip',\n",
       "  'intentName': 'None',\n",
       "  'entityLabels': []},\n",
       " {'text': 'Hi', 'intentName': 'None', 'entityLabels': []},\n",
       " {'text': 'I need to get back home asap, its an emergency',\n",
       "  'intentName': 'None',\n",
       "  'entityLabels': []}]"
      ]
     },
     "execution_count": 484,
     "metadata": {},
     "output_type": "execute_result"
    }
   ],
   "source": [
    "train_json"
   ]
  },
  {
   "cell_type": "code",
   "execution_count": 485,
   "id": "7cfa5681",
   "metadata": {
    "gather": {
     "logged": 1637600364752
    },
    "scrolled": true
   },
   "outputs": [
    {
     "ename": "ErrorResponseException",
     "evalue": "Operation returned an invalid status code 'Bad Request'",
     "output_type": "error",
     "traceback": [
      "\u001b[0;31m---------------------------------------------------------------------------\u001b[0m",
      "\u001b[0;31mErrorResponseException\u001b[0m                    Traceback (most recent call last)",
      "\u001b[0;32m/tmp/ipykernel_3795/830659552.py\u001b[0m in \u001b[0;36m<module>\u001b[0;34m\u001b[0m\n\u001b[1;32m      5\u001b[0m \u001b[0;31m#         print(json.dumps(utterance, indent=2))\u001b[0m\u001b[0;34m\u001b[0m\u001b[0;34m\u001b[0m\u001b[0;34m\u001b[0m\u001b[0m\n\u001b[1;32m      6\u001b[0m \u001b[0;34m\u001b[0m\u001b[0m\n\u001b[0;32m----> 7\u001b[0;31m client.examples.batch(\n\u001b[0m\u001b[1;32m      8\u001b[0m     \u001b[0mapp_id\u001b[0m\u001b[0;34m,\u001b[0m\u001b[0;34m\u001b[0m\u001b[0;34m\u001b[0m\u001b[0m\n\u001b[1;32m      9\u001b[0m     \u001b[0mapp_version\u001b[0m\u001b[0;34m,\u001b[0m\u001b[0;34m\u001b[0m\u001b[0;34m\u001b[0m\u001b[0m\n",
      "\u001b[0;32m/anaconda/envs/p10/lib/python3.8/site-packages/azure/cognitiveservices/language/luis/authoring/operations/_examples_operations.py\u001b[0m in \u001b[0;36mbatch\u001b[0;34m(self, app_id, version_id, example_label_object_array, enable_nested_children, custom_headers, raw, **operation_config)\u001b[0m\n\u001b[1;32m    159\u001b[0m \u001b[0;34m\u001b[0m\u001b[0m\n\u001b[1;32m    160\u001b[0m         \u001b[0;32mif\u001b[0m \u001b[0mresponse\u001b[0m\u001b[0;34m.\u001b[0m\u001b[0mstatus_code\u001b[0m \u001b[0;32mnot\u001b[0m \u001b[0;32min\u001b[0m \u001b[0;34m[\u001b[0m\u001b[0;36m201\u001b[0m\u001b[0;34m,\u001b[0m \u001b[0;36m207\u001b[0m\u001b[0;34m]\u001b[0m\u001b[0;34m:\u001b[0m\u001b[0;34m\u001b[0m\u001b[0;34m\u001b[0m\u001b[0m\n\u001b[0;32m--> 161\u001b[0;31m             \u001b[0;32mraise\u001b[0m \u001b[0mmodels\u001b[0m\u001b[0;34m.\u001b[0m\u001b[0mErrorResponseException\u001b[0m\u001b[0;34m(\u001b[0m\u001b[0mself\u001b[0m\u001b[0;34m.\u001b[0m\u001b[0m_deserialize\u001b[0m\u001b[0;34m,\u001b[0m \u001b[0mresponse\u001b[0m\u001b[0;34m)\u001b[0m\u001b[0;34m\u001b[0m\u001b[0;34m\u001b[0m\u001b[0m\n\u001b[0m\u001b[1;32m    162\u001b[0m \u001b[0;34m\u001b[0m\u001b[0m\n\u001b[1;32m    163\u001b[0m         \u001b[0mdeserialized\u001b[0m \u001b[0;34m=\u001b[0m \u001b[0;32mNone\u001b[0m\u001b[0;34m\u001b[0m\u001b[0;34m\u001b[0m\u001b[0m\n",
      "\u001b[0;31mErrorResponseException\u001b[0m: Operation returned an invalid status code 'Bad Request'"
     ]
    }
   ],
   "source": [
    "# for utterance in train_json:\n",
    "#     try:\n",
    "#         client.examples.add(app_id, app_version, utterance, { \"enableNestedChildren\": True })\n",
    "#     except:\n",
    "#         print(json.dumps(utterance, indent=2))\n",
    "        \n",
    "client.examples.batch(\n",
    "    app_id,\n",
    "    app_version,\n",
    "    train_utterances,\n",
    "    enable_nested_children=True\n",
    ")"
   ]
  },
  {
   "cell_type": "code",
   "execution_count": 375,
   "id": "5153601a",
   "metadata": {
    "gather": {
     "logged": 1637600396486
    }
   },
   "outputs": [
    {
     "name": "stdout",
     "output_type": "stream",
     "text": [
      "Waiting 10 seconds for training to complete...\n",
      "trained\n"
     ]
    }
   ],
   "source": [
    "train(app_version)"
   ]
  },
  {
   "cell_type": "code",
   "execution_count": null,
   "id": "d953e3ee",
   "metadata": {},
   "outputs": [],
   "source": [
    "deploy(app_version, is_staging=True)"
   ]
  },
  {
   "cell_type": "code",
   "execution_count": 478,
   "id": "a754b534",
   "metadata": {},
   "outputs": [],
   "source": [
    "pred = get_prediction(\n",
    "    is_staging=True,\n",
    "    utterance=\"I want to go from Paris to London the 25/12/2021 and stay one week. I have only 512€.\"\n",
    ")\n",
    "\n",
    "pprint_dict(pred)"
   ]
  },
  {
   "cell_type": "code",
   "execution_count": 378,
   "id": "16ccfa68",
   "metadata": {},
   "outputs": [],
   "source": [
    "res = evaluate(is_staging=True, utterances=test_utterances)\n",
    "res"
   ]
  },
  {
   "cell_type": "markdown",
   "id": "bd8d4433",
   "metadata": {},
   "source": [
    "## Enregistrement des paramètres du modèle"
   ]
  },
  {
   "cell_type": "code",
   "execution_count": 270,
   "id": "ab015db7",
   "metadata": {},
   "outputs": [
    {
     "data": {
      "text/plain": [
       "{\n",
       "  \"source\": [\n",
       "    \"('workspaceblobstore', 'utterances_2/2021_12_14')\"\n",
       "  ],\n",
       "  \"definition\": [\n",
       "    \"GetDatastoreFiles\"\n",
       "  ],\n",
       "  \"registration\": {\n",
       "    \"id\": \"b50dcf59-f0d2-4636-a171-1f077f37c88c\",\n",
       "    \"name\": \"utterances\",\n",
       "    \"version\": 1,\n",
       "    \"description\": \"Train and test utterances\",\n",
       "    \"workspace\": \"Workspace.create(name='p10-ml-ws', subscription_id='82f2cbcd-fb58-4d87-a682-9782dff74a97', resource_group='p10-ml-rg')\"\n",
       "  }\n",
       "}"
      ]
     },
     "execution_count": 270,
     "metadata": {},
     "output_type": "execute_result"
    }
   ],
   "source": [
    "params = get_params(app_version)"
   ]
  },
  {
   "cell_type": "code",
   "execution_count": null,
   "id": "f1b80aa6",
   "metadata": {},
   "outputs": [],
   "source": [
    "params[\"utterances\"] = []\n",
    "params[\"versionId\"] = 0.1"
   ]
  },
  {
   "cell_type": "code",
   "execution_count": 271,
   "id": "c6148868",
   "metadata": {},
   "outputs": [],
   "source": [
    "model_config = {\n",
    "    \"model\": params,\n",
    "    \"dataset\": {\n",
    "        \"name\": ds.name,\n",
    "        \"version\": ds.version,\n",
    "    }\n",
    "}"
   ]
  },
  {
   "cell_type": "code",
   "execution_count": 273,
   "id": "d0fd82dd",
   "metadata": {},
   "outputs": [],
   "source": [
    "file_path = os.path.join(\"../P10_03_luis\", \"params.json\")\n",
    "with open(file_path, \"w\") as f:\n",
    "    json.dump(model_config, f)"
   ]
  },
  {
   "cell_type": "markdown",
   "id": "9b9edd56",
   "metadata": {},
   "source": [
    "## Suppression du modèle"
   ]
  },
  {
   "cell_type": "code",
   "execution_count": 237,
   "id": "5f9cd527",
   "metadata": {},
   "outputs": [],
   "source": [
    "delete(app_version)"
   ]
  }
 ],
 "metadata": {
  "interpreter": {
   "hash": "ce05fe677a403291bdecd9c560019885a8a5167d22bb1cd60247a69b54ad2a8e"
  },
  "kernel_info": {
   "name": "p10"
  },
  "kernelspec": {
   "display_name": "p10",
   "language": "python",
   "name": "p10"
  },
  "language_info": {
   "codemirror_mode": {
    "name": "ipython",
    "version": 3
   },
   "file_extension": ".py",
   "mimetype": "text/x-python",
   "name": "python",
   "nbconvert_exporter": "python",
   "pygments_lexer": "ipython3",
   "version": "3.8.8"
  },
  "microsoft": {
   "host": {
    "AzureML": {
     "notebookHasBeenCompleted": true
    }
   }
  },
  "nteract": {
   "version": "nteract-front-end@1.0.0"
  }
 },
 "nbformat": 4,
 "nbformat_minor": 5
}
