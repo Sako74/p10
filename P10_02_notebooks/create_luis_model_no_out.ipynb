{
 "cells": [
  {
   "cell_type": "code",
   "execution_count": null,
   "id": "ca7fab39",
   "metadata": {
    "gather": {
     "logged": 1638784927892
    }
   },
   "outputs": [],
   "source": [
    "import os\n",
    "import sys\n",
    "import json\n",
    "import urllib\n",
    "import zipfile\n",
    "from collections import defaultdict\n",
    "from datetime import datetime\n",
    "import tempfile\n",
    "\n",
    "import numpy as np\n",
    "import pandas as pd\n",
    "\n",
    "import matplotlib.pyplot as plt\n",
    "import seaborn as sns\n",
    "\n",
    "from azureml.core import Workspace, Model, Dataset\n",
    "\n",
    "from tqdm.notebook import tqdm\n",
    "\n",
    "from IPython.display import display\n",
    "\n",
    "%load_ext autoreload\n",
    "%autoreload 2\n",
    "\n",
    "sys.path.append(\"../\")\n",
    "from P10_03_luis.utils import *"
   ]
  },
  {
   "cell_type": "code",
   "execution_count": null,
   "id": "fa0b0782",
   "metadata": {},
   "outputs": [],
   "source": [
    "# On définit les variables globales\n",
    "JSON_PATH = \"data/json/\"\n",
    "MODELS_PATH = \"data/models/\"\n",
    "\n",
    "os.makedirs(JSON_PATH, exist_ok=True)\n",
    "os.makedirs(MODELS_PATH, exist_ok=True)\n",
    "\n",
    "RANDOM_SEED = 42"
   ]
  },
  {
   "cell_type": "code",
   "execution_count": null,
   "id": "68ce9e8e",
   "metadata": {},
   "outputs": [],
   "source": [
    "def pprint_dict(data: dict):\n",
    "    \"\"\"Pretty print a dict\"\"\"\n",
    "    print(json.dumps(data, indent=2))"
   ]
  },
  {
   "cell_type": "markdown",
   "id": "4f6823c4-8073-4aac-9b8a-70e4e2660aa1",
   "metadata": {
    "nteract": {
     "transient": {
      "deleting": false
     }
    }
   },
   "source": [
    "# Introduction"
   ]
  },
  {
   "cell_type": "markdown",
   "id": "3894ef45",
   "metadata": {},
   "source": [
    "## Le jeu de données"
   ]
  },
  {
   "cell_type": "code",
   "execution_count": null,
   "id": "156c7624",
   "metadata": {},
   "outputs": [],
   "source": [
    "# Lien vers le dataset\n",
    "DATASET_URL = \"https://s3-eu-west-1.amazonaws.com/static.oc-static.com/prod/courses/files/AI+Engineer/Project+10%C2%A0-+D%C3%A9veloppez+un+chatbot+pour+r%C3%A9server+des+vacances/frames.zip\"\n",
    "DATASET_FN = \"frames.json\"\n",
    "\n",
    "# On vérifie si le fichier est bien présent\n",
    "if DATASET_FN in os.listdir(JSON_PATH):\n",
    "    print(\"Tous les fichiers sont bien présents.\")\n",
    "# Sinon on télécharge et on extrait le fichier\n",
    "else:\n",
    "    print(\"Téléchargement des données en cours...\")\n",
    "\n",
    "    # On télécharge le .zip dans un fichier temporaire et on extrait les données\n",
    "    tmp, _ = urllib.request.urlretrieve(DATASET_URL)\n",
    "    with zipfile.ZipFile(tmp, \"r\") as f:\n",
    "        # On extrait le fichier json\n",
    "        f.extract(DATASET_FN, JSON_PATH)\n",
    "\n",
    "    # On supprime le fichier temporaire\n",
    "    urllib.request.urlcleanup()\n",
    "    \n",
    "    print(\"Téléchargement des données terminé.\")"
   ]
  },
  {
   "cell_type": "markdown",
   "id": "ad2f9c04",
   "metadata": {},
   "source": [
    "# Chargement des ressources"
   ]
  },
  {
   "cell_type": "markdown",
   "id": "5caf4e91",
   "metadata": {},
   "source": [
    "## Chargement du workspace"
   ]
  },
  {
   "cell_type": "code",
   "execution_count": null,
   "id": "2e353ab6",
   "metadata": {},
   "outputs": [],
   "source": [
    "# On charge l’espace de travail Azure Machine Learning existant\n",
    "ws = Workspace.from_config()"
   ]
  },
  {
   "cell_type": "markdown",
   "id": "623fc8d1",
   "metadata": {},
   "source": [
    "## Chargement du magasin des données"
   ]
  },
  {
   "cell_type": "code",
   "execution_count": null,
   "id": "399a877f",
   "metadata": {},
   "outputs": [],
   "source": [
    "# On charge le magasin de données par défaut\n",
    "datastore = ws.get_default_datastore()"
   ]
  },
  {
   "cell_type": "markdown",
   "id": "ff2c947d",
   "metadata": {},
   "source": [
    "# Exploration et analyse des données"
   ]
  },
  {
   "cell_type": "markdown",
   "id": "7852a137",
   "metadata": {},
   "source": [
    "## Chargement du fichier"
   ]
  },
  {
   "cell_type": "code",
   "execution_count": null,
   "id": "9170bf97",
   "metadata": {
    "gather": {
     "logged": 1638784943450
    }
   },
   "outputs": [],
   "source": [
    "# On charge les frames\n",
    "with open(\"data/json/frames.json\") as f:\n",
    "    frames = json.load(f)"
   ]
  },
  {
   "cell_type": "code",
   "execution_count": null,
   "id": "6f8f86a5",
   "metadata": {},
   "outputs": [],
   "source": [
    "frames[0]"
   ]
  },
  {
   "cell_type": "code",
   "execution_count": null,
   "id": "26018875",
   "metadata": {},
   "outputs": [],
   "source": [
    "list(frames[0].keys())"
   ]
  },
  {
   "cell_type": "code",
   "execution_count": null,
   "id": "529cc58d",
   "metadata": {},
   "outputs": [],
   "source": [
    "list(frames[0][\"turns\"][0].keys())"
   ]
  },
  {
   "cell_type": "markdown",
   "id": "abfafbc6",
   "metadata": {},
   "source": [
    "## Analyse des textes"
   ]
  },
  {
   "cell_type": "code",
   "execution_count": null,
   "id": "5296ba84",
   "metadata": {
    "gather": {
     "logged": 1638784944004
    }
   },
   "outputs": [],
   "source": [
    "# On affiche le premier dialogue\n",
    "for turn in frames[0][\"turns\"]:\n",
    "    print(\"-\" * 80)\n",
    "    print(turn.get(\"text\", \"\"))"
   ]
  },
  {
   "cell_type": "code",
   "execution_count": null,
   "id": "a7b12cb6",
   "metadata": {
    "gather": {
     "logged": 1638784944820
    }
   },
   "outputs": [],
   "source": [
    "# On affiche les premières utterances des 10 premiers dialogues\n",
    "for i in range(10):\n",
    "    print(frames[i].get(\"turns\", [])[0].get(\"text\", \"\"))"
   ]
  },
  {
   "cell_type": "markdown",
   "id": "b893f019",
   "metadata": {},
   "source": [
    "## Analyse des labels"
   ]
  },
  {
   "cell_type": "code",
   "execution_count": null,
   "id": "6657166e",
   "metadata": {
    "gather": {
     "logged": 1638784950900
    }
   },
   "outputs": [],
   "source": [
    "pprint_dict(frames[0][\"turns\"][0][\"labels\"][\"acts_without_refs\"])"
   ]
  },
  {
   "cell_type": "code",
   "execution_count": null,
   "id": "dd46b59f",
   "metadata": {
    "gather": {
     "logged": 1638784949025
    }
   },
   "outputs": [],
   "source": [
    "keys = defaultdict(set)\n",
    "for i in frames:\n",
    "    for j in i[\"turns\"][0][\"labels\"][\"acts_without_refs\"]:\n",
    "        for k in j[\"args\"]:\n",
    "            try:\n",
    "                keys[k[\"key\"]].add(k.get(\"val\", \"\"))\n",
    "            except:\n",
    "                print(k)"
   ]
  },
  {
   "cell_type": "code",
   "execution_count": null,
   "id": "ee976d22",
   "metadata": {},
   "outputs": [],
   "source": [
    "{k: len(v) for k, v in keys.items()}"
   ]
  },
  {
   "cell_type": "code",
   "execution_count": null,
   "id": "1af66500",
   "metadata": {},
   "outputs": [],
   "source": [
    "keys[\"intent\"]"
   ]
  },
  {
   "cell_type": "markdown",
   "id": "617ea3cf",
   "metadata": {},
   "source": [
    "## Transformation des données"
   ]
  },
  {
   "cell_type": "code",
   "execution_count": null,
   "id": "becde957",
   "metadata": {
    "gather": {
     "logged": 1638784951811
    }
   },
   "outputs": [],
   "source": [
    "label_to_entity = {\n",
    "    \"or_city\": \"from_city\",\n",
    "    \"dst_city\": \"to_city\",\n",
    "    \"str_date\": \"from_dt\",\n",
    "    \"end_date\": \"to_dt\",\n",
    "    \"budget\": \"budget\"\n",
    "}\n",
    "\n",
    "intent_name = \"book_flight\"\n",
    "\n",
    "def turn_to_luis_utterance(turn, intent_name, label_to_entity):\n",
    "    \"\"\"\"\"\"\n",
    "    text = turn[\"text\"]\n",
    "\n",
    "    entity_labels = []\n",
    "    for i in turn[\"labels\"][\"acts_without_refs\"]:\n",
    "        for l in i[\"args\"]:\n",
    "            k = l[\"key\"]\n",
    "            v = l[\"val\"]\n",
    "\n",
    "            if k and v:\n",
    "                if k in label_to_entity.keys():\n",
    "                    start_char_index = text.lower().find(v.lower())\n",
    "                    if start_char_index == -1:\n",
    "                        continue\n",
    "                    \n",
    "                    end_char_index = start_char_index + len(v) - 1\n",
    "\n",
    "                    entity_labels.append({\n",
    "                        \"startCharIndex\": start_char_index,\n",
    "                        \"endCharIndex\": end_char_index,\n",
    "                        \"entityName\": label_to_entity[k],\n",
    "                    })\n",
    "    \n",
    "    res = {\n",
    "        \"text\": text,\n",
    "        \"intentName\": intent_name,\n",
    "        \"entityLabels\": entity_labels,\n",
    "    }\n",
    "    return res\n",
    "\n",
    "res = turn_to_luis_utterance(frames[0][\"turns\"][0], intent_name, label_to_entity)\n",
    "pprint_dict(res)"
   ]
  },
  {
   "cell_type": "code",
   "execution_count": null,
   "id": "81bb4c23",
   "metadata": {
    "gather": {
     "logged": 1638784953301
    }
   },
   "outputs": [],
   "source": [
    "res = []\n",
    "for frame in frames:\n",
    "    user_turn_id = 0\n",
    "    for turn in frame[\"turns\"]:\n",
    "        if turn[\"author\"] == \"user\":\n",
    "            row = {\"user_turn_id\": user_turn_id}\n",
    "            user_turn_id += 1\n",
    "            \n",
    "            row.update(turn_to_luis_utterance(turn, intent_name, label_to_entity))\n",
    "        \n",
    "            res.append(row)"
   ]
  },
  {
   "cell_type": "code",
   "execution_count": null,
   "id": "27bb9852",
   "metadata": {
    "gather": {
     "logged": 1638784954127
    }
   },
   "outputs": [],
   "source": [
    "df = pd.DataFrame(res)\n",
    "df[\"entity_total_nb\"] = df[\"entityLabels\"].apply(len)\n",
    "\n",
    "for entity_name in label_to_entity.values():\n",
    "    df[f\"{entity_name}_nb\"] = df[\"entityLabels\"].apply(\n",
    "        lambda x: len(list(\n",
    "            filter(lambda x1: x1[\"entityName\"] == entity_name, x)\n",
    "        ))\n",
    "    )\n",
    "\n",
    "df[\"text_word_nb\"] = df[\"text\"].apply(lambda x: len(x.split()))\n",
    "\n",
    "none_intent_mask = df[\"entity_total_nb\"] == 0\n",
    "df.loc[none_intent_mask, \"intentName\"] = \"None\"\n",
    "    \n",
    "df.shape"
   ]
  },
  {
   "cell_type": "code",
   "execution_count": null,
   "id": "36062bcc",
   "metadata": {},
   "outputs": [],
   "source": [
    "df.head()"
   ]
  },
  {
   "cell_type": "code",
   "execution_count": null,
   "id": "7fc93aab",
   "metadata": {},
   "outputs": [],
   "source": [
    "df[\n",
    "    [\"text_word_nb\", \"entity_total_nb\"] + [f\"{i}_nb\" for i in label_to_entity.values()]\n",
    "].describe().T"
   ]
  },
  {
   "cell_type": "code",
   "execution_count": null,
   "id": "f9559e3e",
   "metadata": {},
   "outputs": [],
   "source": [
    "book_flight_utterances = df[(df[\"user_turn_id\"] == 0) & (df[\"entity_total_nb\"] == len(label_to_entity) - 1)]\n",
    "len(book_flight_utterances)"
   ]
  },
  {
   "cell_type": "code",
   "execution_count": null,
   "id": "6d385291",
   "metadata": {},
   "outputs": [],
   "source": [
    "none_utterances = df[(df[\"user_turn_id\"] == 0) & (df[\"entity_total_nb\"] == 0)]\n",
    "len(none_utterances)"
   ]
  },
  {
   "cell_type": "code",
   "execution_count": null,
   "id": "5f3bebd2",
   "metadata": {},
   "outputs": [],
   "source": [
    "none_utterances = none_utterances.sample(len(book_flight_utterances), random_state=RANDOM_SEED)\n",
    "len(none_utterances)"
   ]
  },
  {
   "cell_type": "code",
   "execution_count": null,
   "id": "91100500",
   "metadata": {},
   "outputs": [],
   "source": [
    "utterances = pd.concat([book_flight_utterances, none_utterances])"
   ]
  },
  {
   "cell_type": "markdown",
   "id": "720ec37e",
   "metadata": {},
   "source": [
    "## Split des données"
   ]
  },
  {
   "cell_type": "code",
   "execution_count": null,
   "id": "7ad43a1b",
   "metadata": {},
   "outputs": [],
   "source": [
    "utterances_train = utterances.sample(frac=0.7, random_state=RANDOM_SEED)"
   ]
  },
  {
   "cell_type": "code",
   "execution_count": null,
   "id": "b9e18c8f",
   "metadata": {},
   "outputs": [],
   "source": [
    "utterances_test_idx = utterances.index.difference(utterances_train.index)\n",
    "utterances_test = utterances.loc[utterances_test_idx]"
   ]
  },
  {
   "cell_type": "code",
   "execution_count": null,
   "id": "1acd4a14",
   "metadata": {},
   "outputs": [],
   "source": [
    "utterances_train.shape, utterances_test.shape"
   ]
  },
  {
   "cell_type": "code",
   "execution_count": null,
   "id": "745e933c",
   "metadata": {},
   "outputs": [],
   "source": [
    "utterances_train = utterances_train[[\"text\", \"intentName\", \"entityLabels\"]].to_dict(\"records\")"
   ]
  },
  {
   "cell_type": "code",
   "execution_count": null,
   "id": "13a6987f",
   "metadata": {},
   "outputs": [],
   "source": [
    "pprint_dict(utterances_train[0])"
   ]
  },
  {
   "cell_type": "code",
   "execution_count": null,
   "id": "80541ebe",
   "metadata": {},
   "outputs": [],
   "source": [
    "utterances_test = utterances_test[[\"text\", \"intentName\", \"entityLabels\"]].to_dict(\"records\")"
   ]
  },
  {
   "cell_type": "code",
   "execution_count": null,
   "id": "682b96fa",
   "metadata": {},
   "outputs": [],
   "source": [
    "from typing import List, Dict\n",
    "\n",
    "from pydantic import BaseModel"
   ]
  },
  {
   "cell_type": "code",
   "execution_count": null,
   "id": "5cef225d",
   "metadata": {},
   "outputs": [],
   "source": [
    "class EntityBaseModel(BaseModel):\n",
    "    entity: str\n",
    "    startPos: int\n",
    "    endPos: int\n",
    "    children: List[\"EntityBaseModel\"] = []\n",
    "\n",
    "    def __init__(self, **kwargs):\n",
    "        kwargs[\"entity\"] = kwargs[\"entityName\"]\n",
    "        kwargs[\"startPos\"] = kwargs[\"startCharIndex\"]\n",
    "        kwargs[\"endPos\"] = kwargs[\"endCharIndex\"]\n",
    "        super().__init__(**kwargs)\n",
    "\n",
    "class TestUterranceBaseModel(BaseModel):\n",
    "    text: str\n",
    "    intent: str\n",
    "    entities: List[EntityBaseModel]\n",
    "\n",
    "    def __init__(self, **kwargs):\n",
    "        kwargs[\"intent\"] = kwargs[\"intentName\"]\n",
    "        kwargs[\"entities\"] = kwargs[\"entityLabels\"]\n",
    "        super().__init__(**kwargs)\n",
    "        \n",
    "def conv_example_to_utterance_format(utterance):\n",
    "    \"\"\"\"\"\"\n",
    "    return TestUterranceBaseModel(**utterance).dict()"
   ]
  },
  {
   "cell_type": "code",
   "execution_count": null,
   "id": "399421ef",
   "metadata": {},
   "outputs": [],
   "source": [
    "utterances_test = {\n",
    "    \"LabeledTestSetUtterances\": list(map(conv_example_to_utterance_format, utterances_test))\n",
    "}"
   ]
  },
  {
   "cell_type": "code",
   "execution_count": null,
   "id": "b99082b2",
   "metadata": {},
   "outputs": [],
   "source": [
    "utterances_test[\"LabeledTestSetUtterances\"][0]"
   ]
  },
  {
   "cell_type": "markdown",
   "id": "ee40e595",
   "metadata": {},
   "source": [
    "## Enregistrement des datasets"
   ]
  },
  {
   "cell_type": "code",
   "execution_count": null,
   "id": "3096b54b",
   "metadata": {},
   "outputs": [],
   "source": [
    "with tempfile.TemporaryDirectory() as tmp_dir_name:\n",
    "    # On enregistre les données\n",
    "    file_path = os.path.join(tmp_dir_name, \"utterances_train.json\")\n",
    "    with open(file_path, \"w\") as f:\n",
    "        json.dump(list(map(conv_example_to_utterance_format, utterances_train)), f)\n",
    "        \n",
    "    file_path = os.path.join(tmp_dir_name, \"utterances_test.json\")\n",
    "    with open(file_path, \"w\") as f:\n",
    "        json.dump(utterances_test, f)\n",
    "    \n",
    "    # On upload tous les fichiers dans le datastore\n",
    "    ds = Dataset.File.upload_directory(\n",
    "        tmp_dir_name,\n",
    "        target=(datastore, \"utterances/\" + datetime.now().strftime(\"%Y_%m_%d\")),\n",
    "        overwrite=True,\n",
    "        show_progress=True\n",
    "    )"
   ]
  },
  {
   "cell_type": "code",
   "execution_count": null,
   "id": "dd02a5f4",
   "metadata": {},
   "outputs": [],
   "source": [
    "ds = ds.register(\n",
    "    workspace=ws,\n",
    "    name=\"utterances\",\n",
    "    description=\"Train and test utterances\",\n",
    "    create_new_version=True\n",
    ")"
   ]
  },
  {
   "cell_type": "code",
   "execution_count": null,
   "id": "5116ecd8",
   "metadata": {},
   "outputs": [],
   "source": [
    "ds.version"
   ]
  },
  {
   "cell_type": "markdown",
   "id": "82fba883",
   "metadata": {},
   "source": [
    "## Chargement des données"
   ]
  },
  {
   "cell_type": "code",
   "execution_count": null,
   "id": "927fe8e5",
   "metadata": {},
   "outputs": [],
   "source": [
    "with tempfile.TemporaryDirectory() as tmp_dir_name:\n",
    "    dataset = Dataset.get_by_name(ws, name='utterances')\n",
    "    dataset.download(target_path=tmp_dir_name, overwrite=False)\n",
    "    \n",
    "    file_path = os.path.join(tmp_dir_name, \"utterances_train.json\")\n",
    "    with open(file_path) as f:\n",
    "        train_json = json.load(f)\n",
    "        \n",
    "    file_path = os.path.join(tmp_dir_name, \"utterances_test.json\")\n",
    "    with open(file_path) as f:\n",
    "        test_json = json.load(f)"
   ]
  },
  {
   "cell_type": "code",
   "execution_count": null,
   "id": "16131f49",
   "metadata": {},
   "outputs": [],
   "source": [
    "train_json[0]"
   ]
  },
  {
   "cell_type": "code",
   "execution_count": null,
   "id": "de4ce02b",
   "metadata": {},
   "outputs": [],
   "source": [
    "test_json[\"LabeledTestSetUtterances\"][0]"
   ]
  },
  {
   "cell_type": "markdown",
   "id": "a5bcdacf",
   "metadata": {},
   "source": [
    "# Création du modèle LUIS"
   ]
  },
  {
   "cell_type": "code",
   "execution_count": null,
   "id": "f30762c9",
   "metadata": {
    "gather": {
     "logged": 1638784958139
    }
   },
   "outputs": [],
   "source": [
    "from azure.cognitiveservices.language.luis.authoring import LUISAuthoringClient\n",
    "from azure.cognitiveservices.language.luis.authoring.models import ApplicationCreateObject, AzureAccountInfoObject, LuisApp\n",
    "from azure.cognitiveservices.language.luis.runtime import LUISRuntimeClient\n",
    "from msrest.authentication import CognitiveServicesCredentials\n",
    "\n",
    "import json, time, uuid"
   ]
  },
  {
   "cell_type": "code",
   "execution_count": null,
   "id": "f557be00-a7ab-4961-8302-5149906dcf62",
   "metadata": {
    "gather": {
     "logged": 1638785126195
    },
    "jupyter": {
     "outputs_hidden": false,
     "source_hidden": false
    },
    "nteract": {
     "transient": {
      "deleting": false
     }
    }
   },
   "outputs": [],
   "source": [
    "from dotenv import load_dotenv, set_key\n",
    "\n",
    "load_dotenv(\"../P10_03_luis/.env\")"
   ]
  },
  {
   "cell_type": "code",
   "execution_count": null,
   "id": "46c252c1",
   "metadata": {
    "gather": {
     "logged": 1638785128513
    },
    "jupyter": {
     "outputs_hidden": false,
     "source_hidden": false
    },
    "nteract": {
     "transient": {
      "deleting": false
     }
    }
   },
   "outputs": [],
   "source": [
    "LUIS_AUTH_KEY = os.getenv(\"LUIS_AUTH_KEY\")\n",
    "LUIS_AUTH_ENDPOINT = os.getenv(\"LUIS_AUTH_ENDPOINT\")\n",
    "\n",
    "LUIS_PRED_KEY = os.getenv(\"LUIS_PRED_KEY\")\n",
    "LUIS_PRED_ENDPOINT = os.getenv(\"LUIS_PRED_ENDPOINT\")"
   ]
  },
  {
   "cell_type": "code",
   "execution_count": null,
   "id": "6bf24bb2",
   "metadata": {
    "gather": {
     "logged": 1638785133099
    }
   },
   "outputs": [],
   "source": [
    "# On s'authentifie\n",
    "client = LUISAuthoringClient(LUIS_AUTH_ENDPOINT, CognitiveServicesCredentials(LUIS_AUTH_KEY))"
   ]
  },
  {
   "cell_type": "code",
   "execution_count": null,
   "id": "37867f01",
   "metadata": {
    "gather": {
     "logged": 1638785303561
    }
   },
   "outputs": [],
   "source": [
    "# We use a UUID to avoid name collisions.\n",
    "app_name = \"p10-luis-app\"\n",
    "app_version = \"0.1\"\n",
    "intent_name = \"book_flight\""
   ]
  },
  {
   "cell_type": "code",
   "execution_count": null,
   "id": "59dd4588",
   "metadata": {
    "gather": {
     "logged": 1638785305492
    }
   },
   "outputs": [],
   "source": [
    "# define app basics\n",
    "app_def = ApplicationCreateObject(name=app_name, initial_version_id=app_version, culture='en-us')\n",
    "\n",
    "# create app\n",
    "app_id = client.apps.add(app_def)\n",
    "\n",
    "# get app id - necessary for all other changes\n",
    "print(\"Created LUIS app with ID {}\".format(app_id))"
   ]
  },
  {
   "cell_type": "code",
   "execution_count": null,
   "id": "dbebad99-4869-4182-b465-854f5bae0c2f",
   "metadata": {
    "gather": {
     "logged": 1638785332491
    },
    "jupyter": {
     "outputs_hidden": false,
     "source_hidden": false
    },
    "nteract": {
     "transient": {
      "deleting": false
     }
    }
   },
   "outputs": [],
   "source": [
    "set_key(\"../P10_03_luis/.env\", \"LUIS_APP_ID\", app_id)"
   ]
  },
  {
   "cell_type": "code",
   "execution_count": null,
   "id": "cc72b106",
   "metadata": {
    "gather": {
     "logged": 1638785336593
    }
   },
   "outputs": [],
   "source": [
    "client.model.add_intent(app_id, app_version, intent_name)"
   ]
  },
  {
   "cell_type": "code",
   "execution_count": null,
   "id": "cce3e652",
   "metadata": {
    "gather": {
     "logged": 1638785337630
    }
   },
   "outputs": [],
   "source": [
    "# Add Prebuilt entity\n",
    "client.model.add_prebuilt(\n",
    "    app_id,\n",
    "    app_version,\n",
    "    prebuilt_extractor_names=[\n",
    "        \"number\",\n",
    "        \"datetimeV2\",\n",
    "        \"geographyV2\"\n",
    "    ]\n",
    ")"
   ]
  },
  {
   "cell_type": "code",
   "execution_count": null,
   "id": "b65f7117",
   "metadata": {
    "gather": {
     "logged": 1638785343690
    }
   },
   "outputs": [],
   "source": [
    "entity_to_id = {\n",
    "    \"from_city\": \"\",\n",
    "    \"to_city\": \"\",\n",
    "    \"from_dt\": \"\",\n",
    "    \"to_dt\": \"\",\n",
    "    \"budget\": \"\"\n",
    "}"
   ]
  },
  {
   "cell_type": "code",
   "execution_count": null,
   "id": "6844334b",
   "metadata": {
    "gather": {
     "logged": 1638785357918
    }
   },
   "outputs": [],
   "source": [
    "for entity_name in entity_to_id.keys():\n",
    "    # add entity to app\n",
    "    entity_to_id[entity_name] = client.model.add_entity(\n",
    "        app_id,\n",
    "        app_version,\n",
    "        name=entity_name\n",
    "    )\n",
    "\n",
    "entity_to_id"
   ]
  },
  {
   "cell_type": "code",
   "execution_count": null,
   "id": "fd87d969",
   "metadata": {
    "gather": {
     "logged": 1638785392840
    }
   },
   "outputs": [],
   "source": [
    "# add phrase list to app\n",
    "client.features.add_phrase_list(\n",
    "    app_id,\n",
    "    app_version,\n",
    "    {\n",
    "        \"enabledForAllModels\": False,\n",
    "        \"isExchangeable\": True,\n",
    "        \"name\": \"from_phrase_list\",\n",
    "        \"phrases\": \"from,start at,begin from,leave\"\n",
    "    }\n",
    ")\n",
    "\n",
    "# add phrase list to app\n",
    "client.features.add_phrase_list(\n",
    "    app_id,\n",
    "    app_version,\n",
    "    {\n",
    "        \"enabledForAllModels\": False,\n",
    "        \"isExchangeable\": True,\n",
    "        \"name\": \"to_phrase_list\",\n",
    "        \"phrases\": \"to,arrive,land at,go,going,stay,heading\"\n",
    "    }\n",
    ")"
   ]
  },
  {
   "cell_type": "code",
   "execution_count": null,
   "id": "87ed2299",
   "metadata": {
    "gather": {
     "logged": 1638785431446
    }
   },
   "outputs": [],
   "source": [
    "client.features.add_entity_feature(\n",
    "    app_id,\n",
    "    app_version,\n",
    "    entity_to_id[\"to_city\"],\n",
    "    {\"model_name\": \"geographyV2\", \"is_required\": True}\n",
    ")\n",
    "\n",
    "# add phrase list as feature to subentity model\n",
    "client.features.add_entity_feature(\n",
    "    app_id,\n",
    "    app_version,\n",
    "    entity_to_id[\"to_city\"],\n",
    "    {\"feature_name\": \"to_phrase_list\", \"model_name\": None}\n",
    ")"
   ]
  },
  {
   "cell_type": "code",
   "execution_count": null,
   "id": "1a1fd71b",
   "metadata": {
    "gather": {
     "logged": 1638785431446
    }
   },
   "outputs": [],
   "source": [
    "client.features.add_entity_feature(\n",
    "    app_id,\n",
    "    app_version,\n",
    "    entity_to_id[\"from_city\"],\n",
    "    {\"model_name\": \"geographyV2\", \"is_required\": True}\n",
    ")\n",
    "\n",
    "# add phrase list as feature to subentity model\n",
    "client.features.add_entity_feature(\n",
    "    app_id,\n",
    "    app_version,\n",
    "    entity_to_id[\"from_city\"],\n",
    "    {\"feature_name\": \"from_phrase_list\", \"model_name\": None}\n",
    ")"
   ]
  },
  {
   "cell_type": "code",
   "execution_count": null,
   "id": "a9e87925",
   "metadata": {
    "gather": {
     "logged": 1637600349582
    }
   },
   "outputs": [],
   "source": [
    "client.features.add_entity_feature(\n",
    "    app_id,\n",
    "    app_version,\n",
    "    entity_to_id[\"budget\"],\n",
    "    {\"model_name\": \"number\", \"is_required\": True}\n",
    ")"
   ]
  },
  {
   "cell_type": "code",
   "execution_count": null,
   "id": "ffa90865",
   "metadata": {},
   "outputs": [],
   "source": [
    "train_json"
   ]
  },
  {
   "cell_type": "code",
   "execution_count": null,
   "id": "7cfa5681",
   "metadata": {
    "gather": {
     "logged": 1637600364752
    }
   },
   "outputs": [],
   "source": [
    "# for utterance in train_json:\n",
    "#     try:\n",
    "#         client.examples.add(app_id, app_version, utterance, { \"enableNestedChildren\": True })\n",
    "#     except:\n",
    "#         print(json.dumps(utterance, indent=2))\n",
    "        \n",
    "client.examples.batch(\n",
    "    app_id,\n",
    "    app_version,\n",
    "    train_utterances,\n",
    "    enable_nested_children=True\n",
    ")"
   ]
  },
  {
   "cell_type": "code",
   "execution_count": null,
   "id": "5153601a",
   "metadata": {
    "gather": {
     "logged": 1637600396486
    }
   },
   "outputs": [],
   "source": [
    "train(app_version)"
   ]
  },
  {
   "cell_type": "code",
   "execution_count": null,
   "id": "2f205165",
   "metadata": {},
   "outputs": [],
   "source": [
    "deploy(app_version, is_staging=True)"
   ]
  },
  {
   "cell_type": "code",
   "execution_count": null,
   "id": "63cf76db",
   "metadata": {},
   "outputs": [],
   "source": [
    "pred = get_prediction(\n",
    "    is_staging=True,\n",
    "    utterance=\"I want to go from Paris to London the 25/12/2021 and stay one week. I have only 512€.\"\n",
    ")\n",
    "\n",
    "pprint_dict(pred)"
   ]
  },
  {
   "cell_type": "code",
   "execution_count": null,
   "id": "e45b3470",
   "metadata": {},
   "outputs": [],
   "source": [
    "res = evaluate(is_staging=True, utterances=test_utterances)\n",
    "res"
   ]
  },
  {
   "cell_type": "markdown",
   "id": "d75c5689",
   "metadata": {},
   "source": [
    "## Enregistrement des paramètres du modèle"
   ]
  },
  {
   "cell_type": "code",
   "execution_count": null,
   "id": "d68c3c34",
   "metadata": {},
   "outputs": [],
   "source": [
    "params = get_params(app_version)"
   ]
  },
  {
   "cell_type": "code",
   "execution_count": null,
   "id": "80591755",
   "metadata": {},
   "outputs": [],
   "source": [
    "params[\"utterances\"] = []\n",
    "params[\"versionId\"] = 0.1"
   ]
  },
  {
   "cell_type": "code",
   "execution_count": null,
   "id": "a8e91927",
   "metadata": {},
   "outputs": [],
   "source": [
    "model_config = {\n",
    "    \"model\": params,\n",
    "    \"dataset\": {\n",
    "        \"name\": ds.name,\n",
    "        \"version\": ds.version,\n",
    "    }\n",
    "}"
   ]
  },
  {
   "cell_type": "code",
   "execution_count": null,
   "id": "59303e0d",
   "metadata": {},
   "outputs": [],
   "source": [
    "file_path = os.path.join(\"../P10_03_luis\", \"params.json\")\n",
    "with open(file_path, \"w\") as f:\n",
    "    json.dump(model_config, f)"
   ]
  },
  {
   "cell_type": "markdown",
   "id": "9b9edd56",
   "metadata": {},
   "source": [
    "## Suppression du modèle"
   ]
  },
  {
   "cell_type": "code",
   "execution_count": null,
   "id": "5f9cd527",
   "metadata": {},
   "outputs": [],
   "source": [
    "delete(app_version)"
   ]
  },
  {
   "cell_type": "code",
   "execution_count": null,
   "id": "d4f22f1b",
   "metadata": {},
   "outputs": [],
   "source": []
  },
  {
   "cell_type": "code",
   "execution_count": null,
   "id": "c9a10421",
   "metadata": {},
   "outputs": [],
   "source": [
    "azure_workspace = {\n",
    "  \"resourceGroup\": \"p10-ml-rg\",\n",
    "  \"workspaceName\": \"p10-ml-ws\"\n",
    "}"
   ]
  },
  {
   "cell_type": "code",
   "execution_count": null,
   "id": "46d9f64e",
   "metadata": {},
   "outputs": [],
   "source": []
  }
 ],
 "metadata": {
  "interpreter": {
   "hash": "ce05fe677a403291bdecd9c560019885a8a5167d22bb1cd60247a69b54ad2a8e"
  },
  "kernel_info": {
   "name": "p10"
  },
  "kernelspec": {
   "display_name": "p10",
   "language": "python",
   "name": "p10"
  },
  "language_info": {
   "codemirror_mode": {
    "name": "ipython",
    "version": 3
   },
   "file_extension": ".py",
   "mimetype": "text/x-python",
   "name": "python",
   "nbconvert_exporter": "python",
   "pygments_lexer": "ipython3",
   "version": "3.8.8"
  },
  "microsoft": {
   "host": {
    "AzureML": {
     "notebookHasBeenCompleted": true
    }
   }
  },
  "nteract": {
   "version": "nteract-front-end@1.0.0"
  }
 },
 "nbformat": 4,
 "nbformat_minor": 5
}
